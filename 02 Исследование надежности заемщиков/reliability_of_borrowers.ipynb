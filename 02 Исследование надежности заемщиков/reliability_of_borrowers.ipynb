{
 "cells": [
  {
   "cell_type": "markdown",
   "id": "386f2ae7",
   "metadata": {
    "deletable": false,
    "editable": false,
    "id": "386f2ae7"
   },
   "source": [
    "# Исследование надежности заемщиков\n"
   ]
  },
  {
   "cell_type": "markdown",
   "id": "ffe86f65",
   "metadata": {
    "deletable": false,
    "editable": false,
    "id": "ffe86f65"
   },
   "source": [
    "Во второй части проекта вы выполните шаги 3 и 4. Их вручную проверит ревьюер.\n",
    "Чтобы вам не пришлось писать код заново для шагов 1 и 2, мы добавили авторские решения в ячейки с кодом. \n",
    "\n"
   ]
  },
  {
   "cell_type": "markdown",
   "id": "26613308",
   "metadata": {
    "deletable": false,
    "editable": false,
    "id": "26613308"
   },
   "source": [
    "## Откройте таблицу и изучите общую информацию о данных"
   ]
  },
  {
   "cell_type": "markdown",
   "id": "3c9f838e",
   "metadata": {
    "deletable": false,
    "editable": false,
    "id": "3c9f838e"
   },
   "source": [
    "**Задание 1. Импортируйте библиотеку pandas. Считайте данные из csv-файла в датафрейм и сохраните в переменную `data`. Путь к файлу:**\n",
    "\n",
    "`/datasets/data.csv`"
   ]
  },
  {
   "cell_type": "code",
   "execution_count": 1,
   "id": "77a68a90",
   "metadata": {
    "deletable": false,
    "id": "77a68a90"
   },
   "outputs": [],
   "source": [
    "import pandas as pd\n",
    "\n",
    "try:\n",
    "    data = pd.read_csv(r'C:\\Users\\user\\Desktop\\Обучение\\Яндекс\\Проекты GitHub\\2 Исследование надежности заемщиков/data.csv')\n",
    "except:\n",
    "    data = pd.read_csv('https://code.s3.yandex.net/datasets/data.csv')"
   ]
  },
  {
   "cell_type": "markdown",
   "id": "45365635",
   "metadata": {
    "deletable": false,
    "editable": false,
    "id": "45365635"
   },
   "source": [
    "**Задание 2. Выведите первые 20 строчек датафрейма `data` на экран.**"
   ]
  },
  {
   "cell_type": "code",
   "execution_count": 2,
   "id": "b0451a9a",
   "metadata": {
    "deletable": false,
    "id": "b0451a9a",
    "outputId": "1a8f3ef2-d323-4ec2-ddf7-89670b5944c4",
    "scrolled": true
   },
   "outputs": [
    {
     "data": {
      "text/html": [
       "<div>\n",
       "<style scoped>\n",
       "    .dataframe tbody tr th:only-of-type {\n",
       "        vertical-align: middle;\n",
       "    }\n",
       "\n",
       "    .dataframe tbody tr th {\n",
       "        vertical-align: top;\n",
       "    }\n",
       "\n",
       "    .dataframe thead th {\n",
       "        text-align: right;\n",
       "    }\n",
       "</style>\n",
       "<table border=\"1\" class=\"dataframe\">\n",
       "  <thead>\n",
       "    <tr style=\"text-align: right;\">\n",
       "      <th></th>\n",
       "      <th>children</th>\n",
       "      <th>days_employed</th>\n",
       "      <th>dob_years</th>\n",
       "      <th>education</th>\n",
       "      <th>education_id</th>\n",
       "      <th>family_status</th>\n",
       "      <th>family_status_id</th>\n",
       "      <th>gender</th>\n",
       "      <th>income_type</th>\n",
       "      <th>debt</th>\n",
       "      <th>total_income</th>\n",
       "      <th>purpose</th>\n",
       "    </tr>\n",
       "  </thead>\n",
       "  <tbody>\n",
       "    <tr>\n",
       "      <th>0</th>\n",
       "      <td>1</td>\n",
       "      <td>-8437.673028</td>\n",
       "      <td>42</td>\n",
       "      <td>высшее</td>\n",
       "      <td>0</td>\n",
       "      <td>женат / замужем</td>\n",
       "      <td>0</td>\n",
       "      <td>F</td>\n",
       "      <td>сотрудник</td>\n",
       "      <td>0</td>\n",
       "      <td>253875.639453</td>\n",
       "      <td>покупка жилья</td>\n",
       "    </tr>\n",
       "    <tr>\n",
       "      <th>1</th>\n",
       "      <td>1</td>\n",
       "      <td>-4024.803754</td>\n",
       "      <td>36</td>\n",
       "      <td>среднее</td>\n",
       "      <td>1</td>\n",
       "      <td>женат / замужем</td>\n",
       "      <td>0</td>\n",
       "      <td>F</td>\n",
       "      <td>сотрудник</td>\n",
       "      <td>0</td>\n",
       "      <td>112080.014102</td>\n",
       "      <td>приобретение автомобиля</td>\n",
       "    </tr>\n",
       "    <tr>\n",
       "      <th>2</th>\n",
       "      <td>0</td>\n",
       "      <td>-5623.422610</td>\n",
       "      <td>33</td>\n",
       "      <td>Среднее</td>\n",
       "      <td>1</td>\n",
       "      <td>женат / замужем</td>\n",
       "      <td>0</td>\n",
       "      <td>M</td>\n",
       "      <td>сотрудник</td>\n",
       "      <td>0</td>\n",
       "      <td>145885.952297</td>\n",
       "      <td>покупка жилья</td>\n",
       "    </tr>\n",
       "    <tr>\n",
       "      <th>3</th>\n",
       "      <td>3</td>\n",
       "      <td>-4124.747207</td>\n",
       "      <td>32</td>\n",
       "      <td>среднее</td>\n",
       "      <td>1</td>\n",
       "      <td>женат / замужем</td>\n",
       "      <td>0</td>\n",
       "      <td>M</td>\n",
       "      <td>сотрудник</td>\n",
       "      <td>0</td>\n",
       "      <td>267628.550329</td>\n",
       "      <td>дополнительное образование</td>\n",
       "    </tr>\n",
       "    <tr>\n",
       "      <th>4</th>\n",
       "      <td>0</td>\n",
       "      <td>340266.072047</td>\n",
       "      <td>53</td>\n",
       "      <td>среднее</td>\n",
       "      <td>1</td>\n",
       "      <td>гражданский брак</td>\n",
       "      <td>1</td>\n",
       "      <td>F</td>\n",
       "      <td>пенсионер</td>\n",
       "      <td>0</td>\n",
       "      <td>158616.077870</td>\n",
       "      <td>сыграть свадьбу</td>\n",
       "    </tr>\n",
       "    <tr>\n",
       "      <th>5</th>\n",
       "      <td>0</td>\n",
       "      <td>-926.185831</td>\n",
       "      <td>27</td>\n",
       "      <td>высшее</td>\n",
       "      <td>0</td>\n",
       "      <td>гражданский брак</td>\n",
       "      <td>1</td>\n",
       "      <td>M</td>\n",
       "      <td>компаньон</td>\n",
       "      <td>0</td>\n",
       "      <td>255763.565419</td>\n",
       "      <td>покупка жилья</td>\n",
       "    </tr>\n",
       "    <tr>\n",
       "      <th>6</th>\n",
       "      <td>0</td>\n",
       "      <td>-2879.202052</td>\n",
       "      <td>43</td>\n",
       "      <td>высшее</td>\n",
       "      <td>0</td>\n",
       "      <td>женат / замужем</td>\n",
       "      <td>0</td>\n",
       "      <td>F</td>\n",
       "      <td>компаньон</td>\n",
       "      <td>0</td>\n",
       "      <td>240525.971920</td>\n",
       "      <td>операции с жильем</td>\n",
       "    </tr>\n",
       "    <tr>\n",
       "      <th>7</th>\n",
       "      <td>0</td>\n",
       "      <td>-152.779569</td>\n",
       "      <td>50</td>\n",
       "      <td>СРЕДНЕЕ</td>\n",
       "      <td>1</td>\n",
       "      <td>женат / замужем</td>\n",
       "      <td>0</td>\n",
       "      <td>M</td>\n",
       "      <td>сотрудник</td>\n",
       "      <td>0</td>\n",
       "      <td>135823.934197</td>\n",
       "      <td>образование</td>\n",
       "    </tr>\n",
       "    <tr>\n",
       "      <th>8</th>\n",
       "      <td>2</td>\n",
       "      <td>-6929.865299</td>\n",
       "      <td>35</td>\n",
       "      <td>ВЫСШЕЕ</td>\n",
       "      <td>0</td>\n",
       "      <td>гражданский брак</td>\n",
       "      <td>1</td>\n",
       "      <td>F</td>\n",
       "      <td>сотрудник</td>\n",
       "      <td>0</td>\n",
       "      <td>95856.832424</td>\n",
       "      <td>на проведение свадьбы</td>\n",
       "    </tr>\n",
       "    <tr>\n",
       "      <th>9</th>\n",
       "      <td>0</td>\n",
       "      <td>-2188.756445</td>\n",
       "      <td>41</td>\n",
       "      <td>среднее</td>\n",
       "      <td>1</td>\n",
       "      <td>женат / замужем</td>\n",
       "      <td>0</td>\n",
       "      <td>M</td>\n",
       "      <td>сотрудник</td>\n",
       "      <td>0</td>\n",
       "      <td>144425.938277</td>\n",
       "      <td>покупка жилья для семьи</td>\n",
       "    </tr>\n",
       "    <tr>\n",
       "      <th>10</th>\n",
       "      <td>2</td>\n",
       "      <td>-4171.483647</td>\n",
       "      <td>36</td>\n",
       "      <td>высшее</td>\n",
       "      <td>0</td>\n",
       "      <td>женат / замужем</td>\n",
       "      <td>0</td>\n",
       "      <td>M</td>\n",
       "      <td>компаньон</td>\n",
       "      <td>0</td>\n",
       "      <td>113943.491460</td>\n",
       "      <td>покупка недвижимости</td>\n",
       "    </tr>\n",
       "    <tr>\n",
       "      <th>11</th>\n",
       "      <td>0</td>\n",
       "      <td>-792.701887</td>\n",
       "      <td>40</td>\n",
       "      <td>среднее</td>\n",
       "      <td>1</td>\n",
       "      <td>женат / замужем</td>\n",
       "      <td>0</td>\n",
       "      <td>F</td>\n",
       "      <td>сотрудник</td>\n",
       "      <td>0</td>\n",
       "      <td>77069.234271</td>\n",
       "      <td>покупка коммерческой недвижимости</td>\n",
       "    </tr>\n",
       "    <tr>\n",
       "      <th>12</th>\n",
       "      <td>0</td>\n",
       "      <td>NaN</td>\n",
       "      <td>65</td>\n",
       "      <td>среднее</td>\n",
       "      <td>1</td>\n",
       "      <td>гражданский брак</td>\n",
       "      <td>1</td>\n",
       "      <td>M</td>\n",
       "      <td>пенсионер</td>\n",
       "      <td>0</td>\n",
       "      <td>NaN</td>\n",
       "      <td>сыграть свадьбу</td>\n",
       "    </tr>\n",
       "    <tr>\n",
       "      <th>13</th>\n",
       "      <td>0</td>\n",
       "      <td>-1846.641941</td>\n",
       "      <td>54</td>\n",
       "      <td>неоконченное высшее</td>\n",
       "      <td>2</td>\n",
       "      <td>женат / замужем</td>\n",
       "      <td>0</td>\n",
       "      <td>F</td>\n",
       "      <td>сотрудник</td>\n",
       "      <td>0</td>\n",
       "      <td>130458.228857</td>\n",
       "      <td>приобретение автомобиля</td>\n",
       "    </tr>\n",
       "    <tr>\n",
       "      <th>14</th>\n",
       "      <td>0</td>\n",
       "      <td>-1844.956182</td>\n",
       "      <td>56</td>\n",
       "      <td>высшее</td>\n",
       "      <td>0</td>\n",
       "      <td>гражданский брак</td>\n",
       "      <td>1</td>\n",
       "      <td>F</td>\n",
       "      <td>компаньон</td>\n",
       "      <td>1</td>\n",
       "      <td>165127.911772</td>\n",
       "      <td>покупка жилой недвижимости</td>\n",
       "    </tr>\n",
       "    <tr>\n",
       "      <th>15</th>\n",
       "      <td>1</td>\n",
       "      <td>-972.364419</td>\n",
       "      <td>26</td>\n",
       "      <td>среднее</td>\n",
       "      <td>1</td>\n",
       "      <td>женат / замужем</td>\n",
       "      <td>0</td>\n",
       "      <td>F</td>\n",
       "      <td>сотрудник</td>\n",
       "      <td>0</td>\n",
       "      <td>116820.904450</td>\n",
       "      <td>строительство собственной недвижимости</td>\n",
       "    </tr>\n",
       "    <tr>\n",
       "      <th>16</th>\n",
       "      <td>0</td>\n",
       "      <td>-1719.934226</td>\n",
       "      <td>35</td>\n",
       "      <td>среднее</td>\n",
       "      <td>1</td>\n",
       "      <td>женат / замужем</td>\n",
       "      <td>0</td>\n",
       "      <td>F</td>\n",
       "      <td>сотрудник</td>\n",
       "      <td>0</td>\n",
       "      <td>289202.704229</td>\n",
       "      <td>недвижимость</td>\n",
       "    </tr>\n",
       "    <tr>\n",
       "      <th>17</th>\n",
       "      <td>0</td>\n",
       "      <td>-2369.999720</td>\n",
       "      <td>33</td>\n",
       "      <td>высшее</td>\n",
       "      <td>0</td>\n",
       "      <td>гражданский брак</td>\n",
       "      <td>1</td>\n",
       "      <td>M</td>\n",
       "      <td>сотрудник</td>\n",
       "      <td>0</td>\n",
       "      <td>90410.586745</td>\n",
       "      <td>строительство недвижимости</td>\n",
       "    </tr>\n",
       "    <tr>\n",
       "      <th>18</th>\n",
       "      <td>0</td>\n",
       "      <td>400281.136913</td>\n",
       "      <td>53</td>\n",
       "      <td>среднее</td>\n",
       "      <td>1</td>\n",
       "      <td>вдовец / вдова</td>\n",
       "      <td>2</td>\n",
       "      <td>F</td>\n",
       "      <td>пенсионер</td>\n",
       "      <td>0</td>\n",
       "      <td>56823.777243</td>\n",
       "      <td>на покупку подержанного автомобиля</td>\n",
       "    </tr>\n",
       "    <tr>\n",
       "      <th>19</th>\n",
       "      <td>0</td>\n",
       "      <td>-10038.818549</td>\n",
       "      <td>48</td>\n",
       "      <td>СРЕДНЕЕ</td>\n",
       "      <td>1</td>\n",
       "      <td>в разводе</td>\n",
       "      <td>3</td>\n",
       "      <td>F</td>\n",
       "      <td>сотрудник</td>\n",
       "      <td>0</td>\n",
       "      <td>242831.107982</td>\n",
       "      <td>на покупку своего автомобиля</td>\n",
       "    </tr>\n",
       "  </tbody>\n",
       "</table>\n",
       "</div>"
      ],
      "text/plain": [
       "    children  days_employed  dob_years            education  education_id  \\\n",
       "0          1   -8437.673028         42               высшее             0   \n",
       "1          1   -4024.803754         36              среднее             1   \n",
       "2          0   -5623.422610         33              Среднее             1   \n",
       "3          3   -4124.747207         32              среднее             1   \n",
       "4          0  340266.072047         53              среднее             1   \n",
       "5          0    -926.185831         27               высшее             0   \n",
       "6          0   -2879.202052         43               высшее             0   \n",
       "7          0    -152.779569         50              СРЕДНЕЕ             1   \n",
       "8          2   -6929.865299         35               ВЫСШЕЕ             0   \n",
       "9          0   -2188.756445         41              среднее             1   \n",
       "10         2   -4171.483647         36               высшее             0   \n",
       "11         0    -792.701887         40              среднее             1   \n",
       "12         0            NaN         65              среднее             1   \n",
       "13         0   -1846.641941         54  неоконченное высшее             2   \n",
       "14         0   -1844.956182         56               высшее             0   \n",
       "15         1    -972.364419         26              среднее             1   \n",
       "16         0   -1719.934226         35              среднее             1   \n",
       "17         0   -2369.999720         33               высшее             0   \n",
       "18         0  400281.136913         53              среднее             1   \n",
       "19         0  -10038.818549         48              СРЕДНЕЕ             1   \n",
       "\n",
       "       family_status  family_status_id gender income_type  debt  \\\n",
       "0    женат / замужем                 0      F   сотрудник     0   \n",
       "1    женат / замужем                 0      F   сотрудник     0   \n",
       "2    женат / замужем                 0      M   сотрудник     0   \n",
       "3    женат / замужем                 0      M   сотрудник     0   \n",
       "4   гражданский брак                 1      F   пенсионер     0   \n",
       "5   гражданский брак                 1      M   компаньон     0   \n",
       "6    женат / замужем                 0      F   компаньон     0   \n",
       "7    женат / замужем                 0      M   сотрудник     0   \n",
       "8   гражданский брак                 1      F   сотрудник     0   \n",
       "9    женат / замужем                 0      M   сотрудник     0   \n",
       "10   женат / замужем                 0      M   компаньон     0   \n",
       "11   женат / замужем                 0      F   сотрудник     0   \n",
       "12  гражданский брак                 1      M   пенсионер     0   \n",
       "13   женат / замужем                 0      F   сотрудник     0   \n",
       "14  гражданский брак                 1      F   компаньон     1   \n",
       "15   женат / замужем                 0      F   сотрудник     0   \n",
       "16   женат / замужем                 0      F   сотрудник     0   \n",
       "17  гражданский брак                 1      M   сотрудник     0   \n",
       "18    вдовец / вдова                 2      F   пенсионер     0   \n",
       "19         в разводе                 3      F   сотрудник     0   \n",
       "\n",
       "     total_income                                 purpose  \n",
       "0   253875.639453                           покупка жилья  \n",
       "1   112080.014102                 приобретение автомобиля  \n",
       "2   145885.952297                           покупка жилья  \n",
       "3   267628.550329              дополнительное образование  \n",
       "4   158616.077870                         сыграть свадьбу  \n",
       "5   255763.565419                           покупка жилья  \n",
       "6   240525.971920                       операции с жильем  \n",
       "7   135823.934197                             образование  \n",
       "8    95856.832424                   на проведение свадьбы  \n",
       "9   144425.938277                 покупка жилья для семьи  \n",
       "10  113943.491460                    покупка недвижимости  \n",
       "11   77069.234271       покупка коммерческой недвижимости  \n",
       "12            NaN                         сыграть свадьбу  \n",
       "13  130458.228857                 приобретение автомобиля  \n",
       "14  165127.911772              покупка жилой недвижимости  \n",
       "15  116820.904450  строительство собственной недвижимости  \n",
       "16  289202.704229                            недвижимость  \n",
       "17   90410.586745              строительство недвижимости  \n",
       "18   56823.777243      на покупку подержанного автомобиля  \n",
       "19  242831.107982            на покупку своего автомобиля  "
      ]
     },
     "execution_count": 2,
     "metadata": {},
     "output_type": "execute_result"
    }
   ],
   "source": [
    "data.head(20)\n"
   ]
  },
  {
   "cell_type": "markdown",
   "id": "0ed8f27f",
   "metadata": {
    "deletable": false,
    "editable": false,
    "id": "0ed8f27f"
   },
   "source": [
    "**Задание 3. Выведите основную информацию о датафрейме с помощью метода `info()`.**"
   ]
  },
  {
   "cell_type": "code",
   "execution_count": 3,
   "id": "ab3f863b",
   "metadata": {
    "deletable": false,
    "id": "ab3f863b",
    "outputId": "15376089-8dad-46c9-b520-c05248d43158"
   },
   "outputs": [
    {
     "name": "stdout",
     "output_type": "stream",
     "text": [
      "<class 'pandas.core.frame.DataFrame'>\n",
      "RangeIndex: 21525 entries, 0 to 21524\n",
      "Data columns (total 12 columns):\n",
      " #   Column            Non-Null Count  Dtype  \n",
      "---  ------            --------------  -----  \n",
      " 0   children          21525 non-null  int64  \n",
      " 1   days_employed     19351 non-null  float64\n",
      " 2   dob_years         21525 non-null  int64  \n",
      " 3   education         21525 non-null  object \n",
      " 4   education_id      21525 non-null  int64  \n",
      " 5   family_status     21525 non-null  object \n",
      " 6   family_status_id  21525 non-null  int64  \n",
      " 7   gender            21525 non-null  object \n",
      " 8   income_type       21525 non-null  object \n",
      " 9   debt              21525 non-null  int64  \n",
      " 10  total_income      19351 non-null  float64\n",
      " 11  purpose           21525 non-null  object \n",
      "dtypes: float64(2), int64(5), object(5)\n",
      "memory usage: 2.0+ MB\n"
     ]
    }
   ],
   "source": [
    "data.info()"
   ]
  },
  {
   "cell_type": "markdown",
   "id": "60e3e22d",
   "metadata": {
    "deletable": false,
    "editable": false,
    "id": "60e3e22d"
   },
   "source": [
    "## Предобработка данных"
   ]
  },
  {
   "cell_type": "markdown",
   "id": "03dc170c",
   "metadata": {
    "deletable": false,
    "editable": false,
    "id": "03dc170c"
   },
   "source": [
    "### Удаление пропусков"
   ]
  },
  {
   "cell_type": "markdown",
   "id": "a4f54eef",
   "metadata": {
    "deletable": false,
    "editable": false,
    "id": "a4f54eef"
   },
   "source": [
    "**Задание 4. Выведите количество пропущенных значений для каждого столбца. Используйте комбинацию двух методов.**"
   ]
  },
  {
   "cell_type": "code",
   "execution_count": 4,
   "id": "2dc372b2",
   "metadata": {
    "deletable": false,
    "id": "2dc372b2",
    "outputId": "81f4d817-781c-465c-ed15-91ce4446810d"
   },
   "outputs": [
    {
     "data": {
      "text/plain": [
       "children               0\n",
       "days_employed       2174\n",
       "dob_years              0\n",
       "education              0\n",
       "education_id           0\n",
       "family_status          0\n",
       "family_status_id       0\n",
       "gender                 0\n",
       "income_type            0\n",
       "debt                   0\n",
       "total_income        2174\n",
       "purpose                0\n",
       "dtype: int64"
      ]
     },
     "execution_count": 4,
     "metadata": {},
     "output_type": "execute_result"
    }
   ],
   "source": [
    "data.isna().sum()"
   ]
  },
  {
   "cell_type": "markdown",
   "id": "14f011b1",
   "metadata": {
    "deletable": false,
    "editable": false,
    "id": "14f011b1"
   },
   "source": [
    "**Задание 5. В двух столбцах есть пропущенные значения. Один из них — `days_employed`. Пропуски в этом столбце вы обработаете на следующем этапе. Другой столбец с пропущенными значениями — `total_income` — хранит данные о доходах. На сумму дохода сильнее всего влияет тип занятости, поэтому заполнить пропуски в этом столбце нужно медианным значением по каждому типу из столбца `income_type`. Например, у человека с типом занятости `сотрудник` пропуск в столбце `total_income` должен быть заполнен медианным доходом среди всех записей с тем же типом.**"
   ]
  },
  {
   "cell_type": "code",
   "execution_count": 5,
   "id": "bdabfb6e",
   "metadata": {
    "deletable": false,
    "id": "bdabfb6e"
   },
   "outputs": [],
   "source": [
    "for t in data['income_type'].unique():\n",
    "    data.loc[(data['income_type'] == t) & (data['total_income'].isna()), 'total_income'] = \\\n",
    "    data.loc[(data['income_type'] == t), 'total_income'].median()"
   ]
  },
  {
   "cell_type": "markdown",
   "id": "5be34059",
   "metadata": {
    "deletable": false,
    "editable": false,
    "id": "5be34059"
   },
   "source": [
    "### Обработка аномальных значений"
   ]
  },
  {
   "cell_type": "markdown",
   "id": "a87606cb",
   "metadata": {
    "deletable": false,
    "editable": false,
    "id": "a87606cb"
   },
   "source": [
    "**Задание 6. В данных могут встречаться артефакты (аномалии) — значения, которые не отражают действительность и появились по какой-то ошибке. таким артефактом будет отрицательное количество дней трудового стажа в столбце `days_employed`. Для реальных данных это нормально. Обработайте значения в этом столбце: замените все отрицательные значения положительными с помощью метода `abs()`.**"
   ]
  },
  {
   "cell_type": "code",
   "execution_count": 6,
   "id": "020c46cc",
   "metadata": {
    "deletable": false,
    "id": "020c46cc"
   },
   "outputs": [],
   "source": [
    "data['days_employed'] = data['days_employed'].abs()"
   ]
  },
  {
   "cell_type": "markdown",
   "id": "45538a3a",
   "metadata": {
    "deletable": false,
    "editable": false,
    "id": "45538a3a"
   },
   "source": [
    "**Задание 7. Для каждого типа занятости выведите медианное значение трудового стажа `days_employed` в днях.**"
   ]
  },
  {
   "cell_type": "code",
   "execution_count": 7,
   "id": "cd3e6328",
   "metadata": {
    "deletable": false,
    "id": "cd3e6328",
    "outputId": "801ef80e-522b-4668-f34e-565af7432bcf"
   },
   "outputs": [
    {
     "data": {
      "text/plain": [
       "income_type\n",
       "безработный        366413.652744\n",
       "в декрете            3296.759962\n",
       "госслужащий          2689.368353\n",
       "компаньон            1547.382223\n",
       "пенсионер          365213.306266\n",
       "предприниматель       520.848083\n",
       "сотрудник            1574.202821\n",
       "студент               578.751554\n",
       "Name: days_employed, dtype: float64"
      ]
     },
     "execution_count": 7,
     "metadata": {},
     "output_type": "execute_result"
    }
   ],
   "source": [
    "data.groupby('income_type')['days_employed'].agg('median')"
   ]
  },
  {
   "cell_type": "markdown",
   "id": "90c5f058",
   "metadata": {
    "deletable": false,
    "editable": false,
    "id": "90c5f058"
   },
   "source": [
    "У двух типов (безработные и пенсионеры) получатся аномально большие значения. Исправить такие значения сложно, поэтому оставьте их как есть."
   ]
  },
  {
   "cell_type": "markdown",
   "id": "9652e50d",
   "metadata": {
    "deletable": false,
    "editable": false,
    "id": "9652e50d"
   },
   "source": [
    "**Задание 8. Выведите перечень уникальных значений столбца `children`.**"
   ]
  },
  {
   "cell_type": "code",
   "execution_count": 8,
   "id": "dbb37b8e",
   "metadata": {
    "deletable": false,
    "id": "dbb37b8e",
    "outputId": "6975b15c-7f95-4697-d16d-a0c79b657b03"
   },
   "outputs": [
    {
     "data": {
      "text/plain": [
       "array([ 1,  0,  3,  2, -1,  4, 20,  5], dtype=int64)"
      ]
     },
     "execution_count": 8,
     "metadata": {},
     "output_type": "execute_result"
    }
   ],
   "source": [
    "data['children'].unique()"
   ]
  },
  {
   "cell_type": "markdown",
   "id": "2b8b0715",
   "metadata": {
    "deletable": false,
    "editable": false,
    "id": "2b8b0715"
   },
   "source": [
    "**Задание 9. В столбце `children` есть два аномальных значения. Удалите строки, в которых встречаются такие аномальные значения из датафрейма `data`.**"
   ]
  },
  {
   "cell_type": "code",
   "execution_count": 9,
   "id": "20009df8",
   "metadata": {
    "deletable": false,
    "id": "20009df8"
   },
   "outputs": [],
   "source": [
    "data = data[(data['children'] != -1) & (data['children'] != 20)]"
   ]
  },
  {
   "cell_type": "markdown",
   "id": "8c6ac9f1",
   "metadata": {
    "deletable": false,
    "editable": false,
    "id": "8c6ac9f1"
   },
   "source": [
    "**Задание 10. Ещё раз выведите перечень уникальных значений столбца `children`, чтобы убедиться, что артефакты удалены.**"
   ]
  },
  {
   "cell_type": "code",
   "execution_count": 10,
   "id": "07337b81",
   "metadata": {
    "deletable": false,
    "id": "07337b81",
    "outputId": "b2097101-d49d-44d9-901b-32a65c9463d1"
   },
   "outputs": [
    {
     "data": {
      "text/plain": [
       "array([1, 0, 3, 2, 4, 5], dtype=int64)"
      ]
     },
     "execution_count": 10,
     "metadata": {},
     "output_type": "execute_result"
    }
   ],
   "source": [
    "data['children'].unique()"
   ]
  },
  {
   "cell_type": "markdown",
   "id": "ee3f52d4",
   "metadata": {
    "deletable": false,
    "editable": false,
    "id": "ee3f52d4"
   },
   "source": [
    "### Удаление пропусков (продолжение)"
   ]
  },
  {
   "cell_type": "markdown",
   "id": "a700b0e4",
   "metadata": {
    "deletable": false,
    "editable": false,
    "id": "a700b0e4"
   },
   "source": [
    "**Задание 11. Заполните пропуски в столбце `days_employed` медианными значениями по каждого типа занятости `income_type`.**"
   ]
  },
  {
   "cell_type": "code",
   "execution_count": 11,
   "id": "61946b83",
   "metadata": {
    "deletable": false,
    "id": "61946b83"
   },
   "outputs": [],
   "source": [
    "for t in data['income_type'].unique():\n",
    "    data.loc[(data['income_type'] == t) & (data['days_employed'].isna()), 'days_employed'] = \\\n",
    "    data.loc[(data['income_type'] == t), 'days_employed'].median()"
   ]
  },
  {
   "cell_type": "markdown",
   "id": "550dcd9b",
   "metadata": {
    "deletable": false,
    "editable": false,
    "id": "550dcd9b"
   },
   "source": [
    "**Задание 12. Убедитесь, что все пропуски заполнены. Проверьте себя и ещё раз выведите количество пропущенных значений для каждого столбца с помощью двух методов.**"
   ]
  },
  {
   "cell_type": "code",
   "execution_count": 12,
   "id": "937c7014",
   "metadata": {
    "deletable": false,
    "id": "937c7014",
    "outputId": "8da1e4e1-358e-4e87-98c9-f261bce0a7b2"
   },
   "outputs": [
    {
     "data": {
      "text/plain": [
       "children            0\n",
       "days_employed       0\n",
       "dob_years           0\n",
       "education           0\n",
       "education_id        0\n",
       "family_status       0\n",
       "family_status_id    0\n",
       "gender              0\n",
       "income_type         0\n",
       "debt                0\n",
       "total_income        0\n",
       "purpose             0\n",
       "dtype: int64"
      ]
     },
     "execution_count": 12,
     "metadata": {},
     "output_type": "execute_result"
    }
   ],
   "source": [
    "data.isna().sum()"
   ]
  },
  {
   "cell_type": "markdown",
   "id": "d522e295",
   "metadata": {
    "deletable": false,
    "editable": false,
    "id": "d522e295"
   },
   "source": [
    "### Изменение типов данных"
   ]
  },
  {
   "cell_type": "markdown",
   "id": "c229c581",
   "metadata": {
    "deletable": false,
    "editable": false,
    "id": "c229c581"
   },
   "source": [
    "**Задание 13. Замените вещественный тип данных в столбце `total_income` на целочисленный с помощью метода `astype()`.**"
   ]
  },
  {
   "cell_type": "code",
   "execution_count": 13,
   "id": "31036462",
   "metadata": {
    "deletable": false,
    "id": "31036462"
   },
   "outputs": [],
   "source": [
    "data['total_income'] = data['total_income'].astype(int)"
   ]
  },
  {
   "cell_type": "markdown",
   "id": "b8e3d1d9",
   "metadata": {
    "deletable": false,
    "editable": false,
    "id": "b8e3d1d9"
   },
   "source": [
    "### Обработка дубликатов"
   ]
  },
  {
   "cell_type": "markdown",
   "id": "9be53c49",
   "metadata": {
    "deletable": false,
    "editable": false,
    "id": "9be53c49"
   },
   "source": [
    "**Задание 14. Обработайте неявные дубликаты в столбце `education`. В этом столбце есть одни и те же значения, но записанные по-разному: с использованием заглавных и строчных букв. Приведите их к нижнему регистру.**"
   ]
  },
  {
   "cell_type": "code",
   "execution_count": 14,
   "id": "d89e73e1",
   "metadata": {
    "deletable": false,
    "id": "d89e73e1"
   },
   "outputs": [],
   "source": [
    "data['education'] = data['education'].str.lower()"
   ]
  },
  {
   "cell_type": "markdown",
   "id": "01d4500e",
   "metadata": {
    "deletable": false,
    "editable": false,
    "id": "01d4500e"
   },
   "source": [
    "**Задание 15. Выведите на экран количество строк-дубликатов в данных. Если такие строки присутствуют, удалите их.**"
   ]
  },
  {
   "cell_type": "code",
   "execution_count": 15,
   "id": "e10efb23",
   "metadata": {
    "deletable": false,
    "id": "e10efb23",
    "outputId": "9684deba-1934-42d1-99e1-cda61740f822"
   },
   "outputs": [
    {
     "data": {
      "text/plain": [
       "71"
      ]
     },
     "execution_count": 15,
     "metadata": {},
     "output_type": "execute_result"
    }
   ],
   "source": [
    "data.duplicated().sum()"
   ]
  },
  {
   "cell_type": "code",
   "execution_count": 16,
   "id": "df853f20",
   "metadata": {
    "deletable": false,
    "id": "df853f20"
   },
   "outputs": [],
   "source": [
    "data = data.drop_duplicates()"
   ]
  },
  {
   "cell_type": "markdown",
   "id": "627be38f",
   "metadata": {
    "deletable": false,
    "editable": false,
    "id": "627be38f"
   },
   "source": [
    "### Категоризация данных"
   ]
  },
  {
   "cell_type": "markdown",
   "id": "4684c3e0",
   "metadata": {
    "deletable": false,
    "editable": false,
    "id": "4684c3e0"
   },
   "source": [
    "**Задание 16. На основании диапазонов, указанных ниже, создайте в датафрейме `data` столбец `total_income_category` с категориями:**\n",
    "\n",
    "- 0–30000 — `'E'`;\n",
    "- 30001–50000 — `'D'`;\n",
    "- 50001–200000 — `'C'`;\n",
    "- 200001–1000000 — `'B'`;\n",
    "- 1000001 и выше — `'A'`.\n",
    "\n",
    "\n",
    "**Например, кредитополучателю с доходом 25000 нужно назначить категорию `'E'`, а клиенту, получающему 235000, — `'B'`. Используйте собственную функцию с именем `categorize_income()` и метод `apply()`.**"
   ]
  },
  {
   "cell_type": "code",
   "execution_count": 17,
   "id": "78965238",
   "metadata": {
    "deletable": false,
    "id": "78965238"
   },
   "outputs": [],
   "source": [
    "def categorize_income(income):\n",
    "    try:\n",
    "        if 0 <= income <= 30000:\n",
    "            return 'E'\n",
    "        elif 30001 <= income <= 50000:\n",
    "            return 'D'\n",
    "        elif 50001 <= income <= 200000:\n",
    "            return 'C'\n",
    "        elif 200001 <= income <= 1000000:\n",
    "            return 'B'\n",
    "        elif income >= 1000001:\n",
    "            return 'A'\n",
    "    except:\n",
    "        pass"
   ]
  },
  {
   "cell_type": "code",
   "execution_count": 18,
   "id": "0980ada1",
   "metadata": {
    "deletable": false,
    "id": "0980ada1"
   },
   "outputs": [],
   "source": [
    "data['total_income_category'] = data['total_income'].apply(categorize_income)"
   ]
  },
  {
   "cell_type": "markdown",
   "id": "9917bba0",
   "metadata": {
    "deletable": false,
    "editable": false,
    "id": "9917bba0"
   },
   "source": [
    "**Задание 17. Выведите на экран перечень уникальных целей взятия кредита из столбца `purpose`.**"
   ]
  },
  {
   "cell_type": "code",
   "execution_count": 19,
   "id": "ee07b65e",
   "metadata": {
    "deletable": false,
    "id": "ee07b65e",
    "outputId": "673c12d9-7d7e-4ae0-9812-c622c89dd244"
   },
   "outputs": [
    {
     "data": {
      "text/plain": [
       "array(['покупка жилья', 'приобретение автомобиля',\n",
       "       'дополнительное образование', 'сыграть свадьбу',\n",
       "       'операции с жильем', 'образование', 'на проведение свадьбы',\n",
       "       'покупка жилья для семьи', 'покупка недвижимости',\n",
       "       'покупка коммерческой недвижимости', 'покупка жилой недвижимости',\n",
       "       'строительство собственной недвижимости', 'недвижимость',\n",
       "       'строительство недвижимости', 'на покупку подержанного автомобиля',\n",
       "       'на покупку своего автомобиля',\n",
       "       'операции с коммерческой недвижимостью',\n",
       "       'строительство жилой недвижимости', 'жилье',\n",
       "       'операции со своей недвижимостью', 'автомобили',\n",
       "       'заняться образованием', 'сделка с подержанным автомобилем',\n",
       "       'получение образования', 'автомобиль', 'свадьба',\n",
       "       'получение дополнительного образования', 'покупка своего жилья',\n",
       "       'операции с недвижимостью', 'получение высшего образования',\n",
       "       'свой автомобиль', 'сделка с автомобилем',\n",
       "       'профильное образование', 'высшее образование',\n",
       "       'покупка жилья для сдачи', 'на покупку автомобиля', 'ремонт жилью',\n",
       "       'заняться высшим образованием'], dtype=object)"
      ]
     },
     "execution_count": 19,
     "metadata": {},
     "output_type": "execute_result"
    }
   ],
   "source": [
    "data['purpose'].unique()"
   ]
  },
  {
   "cell_type": "markdown",
   "id": "52b79d56",
   "metadata": {
    "deletable": false,
    "editable": false,
    "id": "52b79d56"
   },
   "source": [
    "**Задание 18. Создайте функцию, которая на основании данных из столбца `purpose` сформирует новый столбец `purpose_category`, в который войдут следующие категории:**\n",
    "\n",
    "- `'операции с автомобилем'`,\n",
    "- `'операции с недвижимостью'`,\n",
    "- `'проведение свадьбы'`,\n",
    "- `'получение образования'`.\n",
    "\n",
    "**Например, если в столбце `purpose` находится подстрока `'на покупку автомобиля'`, то в столбце `purpose_category` должна появиться строка `'операции с автомобилем'`.**\n",
    "\n",
    "**Используйте собственную функцию с именем `categorize_purpose()` и метод `apply()`. Изучите данные в столбце `purpose` и определите, какие подстроки помогут вам правильно определить категорию.**"
   ]
  },
  {
   "cell_type": "code",
   "execution_count": 20,
   "id": "be41da5d",
   "metadata": {
    "deletable": false,
    "id": "be41da5d"
   },
   "outputs": [],
   "source": [
    "def categorize_purpose(row):\n",
    "    try:\n",
    "        if 'автом' in row:\n",
    "            return 'операции с автомобилем'\n",
    "        elif 'жил' in row or 'недвиж' in row:\n",
    "            return 'операции с недвижимостью'\n",
    "        elif 'свад' in row:\n",
    "            return 'проведение свадьбы'\n",
    "        elif 'образов' in row:\n",
    "            return 'получение образования'\n",
    "    except:\n",
    "        return 'нет категории'"
   ]
  },
  {
   "cell_type": "code",
   "execution_count": 21,
   "id": "94c4a19a",
   "metadata": {
    "deletable": false,
    "id": "94c4a19a"
   },
   "outputs": [],
   "source": [
    "data['purpose_category'] = data['purpose'].apply(categorize_purpose)"
   ]
  },
  {
   "cell_type": "markdown",
   "id": "3d596c34",
   "metadata": {
    "deletable": false,
    "editable": false,
    "id": "3d596c34"
   },
   "source": [
    "### Шаг 3. Исследуйте данные и ответьте на вопросы"
   ]
  },
  {
   "cell_type": "markdown",
   "id": "648db036",
   "metadata": {
    "deletable": false,
    "editable": false,
    "id": "648db036"
   },
   "source": [
    "#### 3.1 Есть ли зависимость между количеством детей и возвратом кредита в срок?"
   ]
  },
  {
   "cell_type": "code",
   "execution_count": 22,
   "id": "d30d6ec3",
   "metadata": {},
   "outputs": [
    {
     "data": {
      "text/html": [
       "<div>\n",
       "<style scoped>\n",
       "    .dataframe tbody tr th:only-of-type {\n",
       "        vertical-align: middle;\n",
       "    }\n",
       "\n",
       "    .dataframe tbody tr th {\n",
       "        vertical-align: top;\n",
       "    }\n",
       "\n",
       "    .dataframe thead th {\n",
       "        text-align: right;\n",
       "    }\n",
       "</style>\n",
       "<table border=\"1\" class=\"dataframe\">\n",
       "  <thead>\n",
       "    <tr style=\"text-align: right;\">\n",
       "      <th></th>\n",
       "      <th>children</th>\n",
       "      <th>days_employed</th>\n",
       "      <th>dob_years</th>\n",
       "      <th>education</th>\n",
       "      <th>education_id</th>\n",
       "      <th>family_status</th>\n",
       "      <th>family_status_id</th>\n",
       "      <th>gender</th>\n",
       "      <th>income_type</th>\n",
       "      <th>debt</th>\n",
       "      <th>total_income</th>\n",
       "      <th>purpose</th>\n",
       "      <th>total_income_category</th>\n",
       "      <th>purpose_category</th>\n",
       "    </tr>\n",
       "  </thead>\n",
       "  <tbody>\n",
       "    <tr>\n",
       "      <th>21515</th>\n",
       "      <td>1</td>\n",
       "      <td>467.685130</td>\n",
       "      <td>28</td>\n",
       "      <td>среднее</td>\n",
       "      <td>1</td>\n",
       "      <td>женат / замужем</td>\n",
       "      <td>0</td>\n",
       "      <td>F</td>\n",
       "      <td>сотрудник</td>\n",
       "      <td>1</td>\n",
       "      <td>109486</td>\n",
       "      <td>заняться образованием</td>\n",
       "      <td>C</td>\n",
       "      <td>получение образования</td>\n",
       "    </tr>\n",
       "    <tr>\n",
       "      <th>21516</th>\n",
       "      <td>0</td>\n",
       "      <td>914.391429</td>\n",
       "      <td>42</td>\n",
       "      <td>высшее</td>\n",
       "      <td>0</td>\n",
       "      <td>женат / замужем</td>\n",
       "      <td>0</td>\n",
       "      <td>F</td>\n",
       "      <td>компаньон</td>\n",
       "      <td>0</td>\n",
       "      <td>322807</td>\n",
       "      <td>покупка своего жилья</td>\n",
       "      <td>B</td>\n",
       "      <td>операции с недвижимостью</td>\n",
       "    </tr>\n",
       "    <tr>\n",
       "      <th>21517</th>\n",
       "      <td>0</td>\n",
       "      <td>404.679034</td>\n",
       "      <td>42</td>\n",
       "      <td>высшее</td>\n",
       "      <td>0</td>\n",
       "      <td>гражданский брак</td>\n",
       "      <td>1</td>\n",
       "      <td>F</td>\n",
       "      <td>компаньон</td>\n",
       "      <td>0</td>\n",
       "      <td>178059</td>\n",
       "      <td>на покупку своего автомобиля</td>\n",
       "      <td>C</td>\n",
       "      <td>операции с автомобилем</td>\n",
       "    </tr>\n",
       "    <tr>\n",
       "      <th>21518</th>\n",
       "      <td>0</td>\n",
       "      <td>373995.710838</td>\n",
       "      <td>59</td>\n",
       "      <td>среднее</td>\n",
       "      <td>1</td>\n",
       "      <td>женат / замужем</td>\n",
       "      <td>0</td>\n",
       "      <td>F</td>\n",
       "      <td>пенсионер</td>\n",
       "      <td>0</td>\n",
       "      <td>153864</td>\n",
       "      <td>сделка с автомобилем</td>\n",
       "      <td>C</td>\n",
       "      <td>операции с автомобилем</td>\n",
       "    </tr>\n",
       "    <tr>\n",
       "      <th>21519</th>\n",
       "      <td>1</td>\n",
       "      <td>2351.431934</td>\n",
       "      <td>37</td>\n",
       "      <td>ученая степень</td>\n",
       "      <td>4</td>\n",
       "      <td>в разводе</td>\n",
       "      <td>3</td>\n",
       "      <td>M</td>\n",
       "      <td>сотрудник</td>\n",
       "      <td>0</td>\n",
       "      <td>115949</td>\n",
       "      <td>покупка коммерческой недвижимости</td>\n",
       "      <td>C</td>\n",
       "      <td>операции с недвижимостью</td>\n",
       "    </tr>\n",
       "    <tr>\n",
       "      <th>21520</th>\n",
       "      <td>1</td>\n",
       "      <td>4529.316663</td>\n",
       "      <td>43</td>\n",
       "      <td>среднее</td>\n",
       "      <td>1</td>\n",
       "      <td>гражданский брак</td>\n",
       "      <td>1</td>\n",
       "      <td>F</td>\n",
       "      <td>компаньон</td>\n",
       "      <td>0</td>\n",
       "      <td>224791</td>\n",
       "      <td>операции с жильем</td>\n",
       "      <td>B</td>\n",
       "      <td>операции с недвижимостью</td>\n",
       "    </tr>\n",
       "    <tr>\n",
       "      <th>21521</th>\n",
       "      <td>0</td>\n",
       "      <td>343937.404131</td>\n",
       "      <td>67</td>\n",
       "      <td>среднее</td>\n",
       "      <td>1</td>\n",
       "      <td>женат / замужем</td>\n",
       "      <td>0</td>\n",
       "      <td>F</td>\n",
       "      <td>пенсионер</td>\n",
       "      <td>0</td>\n",
       "      <td>155999</td>\n",
       "      <td>сделка с автомобилем</td>\n",
       "      <td>C</td>\n",
       "      <td>операции с автомобилем</td>\n",
       "    </tr>\n",
       "    <tr>\n",
       "      <th>21522</th>\n",
       "      <td>1</td>\n",
       "      <td>2113.346888</td>\n",
       "      <td>38</td>\n",
       "      <td>среднее</td>\n",
       "      <td>1</td>\n",
       "      <td>гражданский брак</td>\n",
       "      <td>1</td>\n",
       "      <td>M</td>\n",
       "      <td>сотрудник</td>\n",
       "      <td>1</td>\n",
       "      <td>89672</td>\n",
       "      <td>недвижимость</td>\n",
       "      <td>C</td>\n",
       "      <td>операции с недвижимостью</td>\n",
       "    </tr>\n",
       "    <tr>\n",
       "      <th>21523</th>\n",
       "      <td>3</td>\n",
       "      <td>3112.481705</td>\n",
       "      <td>38</td>\n",
       "      <td>среднее</td>\n",
       "      <td>1</td>\n",
       "      <td>женат / замужем</td>\n",
       "      <td>0</td>\n",
       "      <td>M</td>\n",
       "      <td>сотрудник</td>\n",
       "      <td>1</td>\n",
       "      <td>244093</td>\n",
       "      <td>на покупку своего автомобиля</td>\n",
       "      <td>B</td>\n",
       "      <td>операции с автомобилем</td>\n",
       "    </tr>\n",
       "    <tr>\n",
       "      <th>21524</th>\n",
       "      <td>2</td>\n",
       "      <td>1984.507589</td>\n",
       "      <td>40</td>\n",
       "      <td>среднее</td>\n",
       "      <td>1</td>\n",
       "      <td>женат / замужем</td>\n",
       "      <td>0</td>\n",
       "      <td>F</td>\n",
       "      <td>сотрудник</td>\n",
       "      <td>0</td>\n",
       "      <td>82047</td>\n",
       "      <td>на покупку автомобиля</td>\n",
       "      <td>C</td>\n",
       "      <td>операции с автомобилем</td>\n",
       "    </tr>\n",
       "  </tbody>\n",
       "</table>\n",
       "</div>"
      ],
      "text/plain": [
       "       children  days_employed  dob_years       education  education_id  \\\n",
       "21515         1     467.685130         28         среднее             1   \n",
       "21516         0     914.391429         42          высшее             0   \n",
       "21517         0     404.679034         42          высшее             0   \n",
       "21518         0  373995.710838         59         среднее             1   \n",
       "21519         1    2351.431934         37  ученая степень             4   \n",
       "21520         1    4529.316663         43         среднее             1   \n",
       "21521         0  343937.404131         67         среднее             1   \n",
       "21522         1    2113.346888         38         среднее             1   \n",
       "21523         3    3112.481705         38         среднее             1   \n",
       "21524         2    1984.507589         40         среднее             1   \n",
       "\n",
       "          family_status  family_status_id gender income_type  debt  \\\n",
       "21515   женат / замужем                 0      F   сотрудник     1   \n",
       "21516   женат / замужем                 0      F   компаньон     0   \n",
       "21517  гражданский брак                 1      F   компаньон     0   \n",
       "21518   женат / замужем                 0      F   пенсионер     0   \n",
       "21519         в разводе                 3      M   сотрудник     0   \n",
       "21520  гражданский брак                 1      F   компаньон     0   \n",
       "21521   женат / замужем                 0      F   пенсионер     0   \n",
       "21522  гражданский брак                 1      M   сотрудник     1   \n",
       "21523   женат / замужем                 0      M   сотрудник     1   \n",
       "21524   женат / замужем                 0      F   сотрудник     0   \n",
       "\n",
       "       total_income                            purpose total_income_category  \\\n",
       "21515        109486              заняться образованием                     C   \n",
       "21516        322807               покупка своего жилья                     B   \n",
       "21517        178059       на покупку своего автомобиля                     C   \n",
       "21518        153864               сделка с автомобилем                     C   \n",
       "21519        115949  покупка коммерческой недвижимости                     C   \n",
       "21520        224791                  операции с жильем                     B   \n",
       "21521        155999               сделка с автомобилем                     C   \n",
       "21522         89672                       недвижимость                     C   \n",
       "21523        244093       на покупку своего автомобиля                     B   \n",
       "21524         82047              на покупку автомобиля                     C   \n",
       "\n",
       "               purpose_category  \n",
       "21515     получение образования  \n",
       "21516  операции с недвижимостью  \n",
       "21517    операции с автомобилем  \n",
       "21518    операции с автомобилем  \n",
       "21519  операции с недвижимостью  \n",
       "21520  операции с недвижимостью  \n",
       "21521    операции с автомобилем  \n",
       "21522  операции с недвижимостью  \n",
       "21523    операции с автомобилем  \n",
       "21524    операции с автомобилем  "
      ]
     },
     "execution_count": 22,
     "metadata": {},
     "output_type": "execute_result"
    }
   ],
   "source": [
    "data.tail(10)"
   ]
  },
  {
   "cell_type": "markdown",
   "id": "ffd2fa41",
   "metadata": {},
   "source": [
    "\n",
    "1.создадим новый столбец в датафрейме, в нем произведем категоризацию по количеству детей\n",
    "    \n",
    "2.создадим сводную таблицу, в которой будут данные о количестве детей и наличию задолженности\n"
   ]
  },
  {
   "cell_type": "code",
   "execution_count": 23,
   "id": "77e14f03",
   "metadata": {},
   "outputs": [
    {
     "data": {
      "text/html": [
       "<div>\n",
       "<style scoped>\n",
       "    .dataframe tbody tr th:only-of-type {\n",
       "        vertical-align: middle;\n",
       "    }\n",
       "\n",
       "    .dataframe tbody tr th {\n",
       "        vertical-align: top;\n",
       "    }\n",
       "\n",
       "    .dataframe thead th {\n",
       "        text-align: right;\n",
       "    }\n",
       "</style>\n",
       "<table border=\"1\" class=\"dataframe\">\n",
       "  <thead>\n",
       "    <tr style=\"text-align: right;\">\n",
       "      <th></th>\n",
       "      <th>children</th>\n",
       "      <th>days_employed</th>\n",
       "      <th>dob_years</th>\n",
       "      <th>education</th>\n",
       "      <th>education_id</th>\n",
       "      <th>family_status</th>\n",
       "      <th>family_status_id</th>\n",
       "      <th>gender</th>\n",
       "      <th>income_type</th>\n",
       "      <th>debt</th>\n",
       "      <th>total_income</th>\n",
       "      <th>purpose</th>\n",
       "      <th>total_income_category</th>\n",
       "      <th>purpose_category</th>\n",
       "      <th>children_rank</th>\n",
       "    </tr>\n",
       "  </thead>\n",
       "  <tbody>\n",
       "    <tr>\n",
       "      <th>21515</th>\n",
       "      <td>1</td>\n",
       "      <td>467.685130</td>\n",
       "      <td>28</td>\n",
       "      <td>среднее</td>\n",
       "      <td>1</td>\n",
       "      <td>женат / замужем</td>\n",
       "      <td>0</td>\n",
       "      <td>F</td>\n",
       "      <td>сотрудник</td>\n",
       "      <td>1</td>\n",
       "      <td>109486</td>\n",
       "      <td>заняться образованием</td>\n",
       "      <td>C</td>\n",
       "      <td>получение образования</td>\n",
       "      <td>есть дети</td>\n",
       "    </tr>\n",
       "    <tr>\n",
       "      <th>21516</th>\n",
       "      <td>0</td>\n",
       "      <td>914.391429</td>\n",
       "      <td>42</td>\n",
       "      <td>высшее</td>\n",
       "      <td>0</td>\n",
       "      <td>женат / замужем</td>\n",
       "      <td>0</td>\n",
       "      <td>F</td>\n",
       "      <td>компаньон</td>\n",
       "      <td>0</td>\n",
       "      <td>322807</td>\n",
       "      <td>покупка своего жилья</td>\n",
       "      <td>B</td>\n",
       "      <td>операции с недвижимостью</td>\n",
       "      <td>нет детей</td>\n",
       "    </tr>\n",
       "    <tr>\n",
       "      <th>21517</th>\n",
       "      <td>0</td>\n",
       "      <td>404.679034</td>\n",
       "      <td>42</td>\n",
       "      <td>высшее</td>\n",
       "      <td>0</td>\n",
       "      <td>гражданский брак</td>\n",
       "      <td>1</td>\n",
       "      <td>F</td>\n",
       "      <td>компаньон</td>\n",
       "      <td>0</td>\n",
       "      <td>178059</td>\n",
       "      <td>на покупку своего автомобиля</td>\n",
       "      <td>C</td>\n",
       "      <td>операции с автомобилем</td>\n",
       "      <td>нет детей</td>\n",
       "    </tr>\n",
       "    <tr>\n",
       "      <th>21518</th>\n",
       "      <td>0</td>\n",
       "      <td>373995.710838</td>\n",
       "      <td>59</td>\n",
       "      <td>среднее</td>\n",
       "      <td>1</td>\n",
       "      <td>женат / замужем</td>\n",
       "      <td>0</td>\n",
       "      <td>F</td>\n",
       "      <td>пенсионер</td>\n",
       "      <td>0</td>\n",
       "      <td>153864</td>\n",
       "      <td>сделка с автомобилем</td>\n",
       "      <td>C</td>\n",
       "      <td>операции с автомобилем</td>\n",
       "      <td>нет детей</td>\n",
       "    </tr>\n",
       "    <tr>\n",
       "      <th>21519</th>\n",
       "      <td>1</td>\n",
       "      <td>2351.431934</td>\n",
       "      <td>37</td>\n",
       "      <td>ученая степень</td>\n",
       "      <td>4</td>\n",
       "      <td>в разводе</td>\n",
       "      <td>3</td>\n",
       "      <td>M</td>\n",
       "      <td>сотрудник</td>\n",
       "      <td>0</td>\n",
       "      <td>115949</td>\n",
       "      <td>покупка коммерческой недвижимости</td>\n",
       "      <td>C</td>\n",
       "      <td>операции с недвижимостью</td>\n",
       "      <td>есть дети</td>\n",
       "    </tr>\n",
       "    <tr>\n",
       "      <th>21520</th>\n",
       "      <td>1</td>\n",
       "      <td>4529.316663</td>\n",
       "      <td>43</td>\n",
       "      <td>среднее</td>\n",
       "      <td>1</td>\n",
       "      <td>гражданский брак</td>\n",
       "      <td>1</td>\n",
       "      <td>F</td>\n",
       "      <td>компаньон</td>\n",
       "      <td>0</td>\n",
       "      <td>224791</td>\n",
       "      <td>операции с жильем</td>\n",
       "      <td>B</td>\n",
       "      <td>операции с недвижимостью</td>\n",
       "      <td>есть дети</td>\n",
       "    </tr>\n",
       "    <tr>\n",
       "      <th>21521</th>\n",
       "      <td>0</td>\n",
       "      <td>343937.404131</td>\n",
       "      <td>67</td>\n",
       "      <td>среднее</td>\n",
       "      <td>1</td>\n",
       "      <td>женат / замужем</td>\n",
       "      <td>0</td>\n",
       "      <td>F</td>\n",
       "      <td>пенсионер</td>\n",
       "      <td>0</td>\n",
       "      <td>155999</td>\n",
       "      <td>сделка с автомобилем</td>\n",
       "      <td>C</td>\n",
       "      <td>операции с автомобилем</td>\n",
       "      <td>нет детей</td>\n",
       "    </tr>\n",
       "    <tr>\n",
       "      <th>21522</th>\n",
       "      <td>1</td>\n",
       "      <td>2113.346888</td>\n",
       "      <td>38</td>\n",
       "      <td>среднее</td>\n",
       "      <td>1</td>\n",
       "      <td>гражданский брак</td>\n",
       "      <td>1</td>\n",
       "      <td>M</td>\n",
       "      <td>сотрудник</td>\n",
       "      <td>1</td>\n",
       "      <td>89672</td>\n",
       "      <td>недвижимость</td>\n",
       "      <td>C</td>\n",
       "      <td>операции с недвижимостью</td>\n",
       "      <td>есть дети</td>\n",
       "    </tr>\n",
       "    <tr>\n",
       "      <th>21523</th>\n",
       "      <td>3</td>\n",
       "      <td>3112.481705</td>\n",
       "      <td>38</td>\n",
       "      <td>среднее</td>\n",
       "      <td>1</td>\n",
       "      <td>женат / замужем</td>\n",
       "      <td>0</td>\n",
       "      <td>M</td>\n",
       "      <td>сотрудник</td>\n",
       "      <td>1</td>\n",
       "      <td>244093</td>\n",
       "      <td>на покупку своего автомобиля</td>\n",
       "      <td>B</td>\n",
       "      <td>операции с автомобилем</td>\n",
       "      <td>многодетный</td>\n",
       "    </tr>\n",
       "    <tr>\n",
       "      <th>21524</th>\n",
       "      <td>2</td>\n",
       "      <td>1984.507589</td>\n",
       "      <td>40</td>\n",
       "      <td>среднее</td>\n",
       "      <td>1</td>\n",
       "      <td>женат / замужем</td>\n",
       "      <td>0</td>\n",
       "      <td>F</td>\n",
       "      <td>сотрудник</td>\n",
       "      <td>0</td>\n",
       "      <td>82047</td>\n",
       "      <td>на покупку автомобиля</td>\n",
       "      <td>C</td>\n",
       "      <td>операции с автомобилем</td>\n",
       "      <td>есть дети</td>\n",
       "    </tr>\n",
       "  </tbody>\n",
       "</table>\n",
       "</div>"
      ],
      "text/plain": [
       "       children  days_employed  dob_years       education  education_id  \\\n",
       "21515         1     467.685130         28         среднее             1   \n",
       "21516         0     914.391429         42          высшее             0   \n",
       "21517         0     404.679034         42          высшее             0   \n",
       "21518         0  373995.710838         59         среднее             1   \n",
       "21519         1    2351.431934         37  ученая степень             4   \n",
       "21520         1    4529.316663         43         среднее             1   \n",
       "21521         0  343937.404131         67         среднее             1   \n",
       "21522         1    2113.346888         38         среднее             1   \n",
       "21523         3    3112.481705         38         среднее             1   \n",
       "21524         2    1984.507589         40         среднее             1   \n",
       "\n",
       "          family_status  family_status_id gender income_type  debt  \\\n",
       "21515   женат / замужем                 0      F   сотрудник     1   \n",
       "21516   женат / замужем                 0      F   компаньон     0   \n",
       "21517  гражданский брак                 1      F   компаньон     0   \n",
       "21518   женат / замужем                 0      F   пенсионер     0   \n",
       "21519         в разводе                 3      M   сотрудник     0   \n",
       "21520  гражданский брак                 1      F   компаньон     0   \n",
       "21521   женат / замужем                 0      F   пенсионер     0   \n",
       "21522  гражданский брак                 1      M   сотрудник     1   \n",
       "21523   женат / замужем                 0      M   сотрудник     1   \n",
       "21524   женат / замужем                 0      F   сотрудник     0   \n",
       "\n",
       "       total_income                            purpose total_income_category  \\\n",
       "21515        109486              заняться образованием                     C   \n",
       "21516        322807               покупка своего жилья                     B   \n",
       "21517        178059       на покупку своего автомобиля                     C   \n",
       "21518        153864               сделка с автомобилем                     C   \n",
       "21519        115949  покупка коммерческой недвижимости                     C   \n",
       "21520        224791                  операции с жильем                     B   \n",
       "21521        155999               сделка с автомобилем                     C   \n",
       "21522         89672                       недвижимость                     C   \n",
       "21523        244093       на покупку своего автомобиля                     B   \n",
       "21524         82047              на покупку автомобиля                     C   \n",
       "\n",
       "               purpose_category children_rank  \n",
       "21515     получение образования     есть дети  \n",
       "21516  операции с недвижимостью     нет детей  \n",
       "21517    операции с автомобилем     нет детей  \n",
       "21518    операции с автомобилем     нет детей  \n",
       "21519  операции с недвижимостью     есть дети  \n",
       "21520  операции с недвижимостью     есть дети  \n",
       "21521    операции с автомобилем     нет детей  \n",
       "21522  операции с недвижимостью     есть дети  \n",
       "21523    операции с автомобилем   многодетный  \n",
       "21524    операции с автомобилем     есть дети  "
      ]
     },
     "execution_count": 23,
     "metadata": {},
     "output_type": "execute_result"
    }
   ],
   "source": [
    "# Выполним п1\n",
    "\n",
    "# Для этого создадим функцию, которая произведет категоризацию по количеству детей в семье заемщика\n",
    "def children_category(children):\n",
    "    if 1 <= children <= 2:\n",
    "        return 'есть дети'\n",
    "    if children >= 3:\n",
    "        return 'многодетный'\n",
    "    return 'нет детей'\n",
    "\n",
    "# Создаем столбец children_rank\n",
    "data['children_rank'] = data['children'].apply(children_category)\n",
    "# Выведем обновленную таблицу\n",
    "data.tail(10)\n"
   ]
  },
  {
   "cell_type": "code",
   "execution_count": 24,
   "id": "de2b7dc8",
   "metadata": {},
   "outputs": [
    {
     "data": {
      "text/html": [
       "<div>\n",
       "<style scoped>\n",
       "    .dataframe tbody tr th:only-of-type {\n",
       "        vertical-align: middle;\n",
       "    }\n",
       "\n",
       "    .dataframe tbody tr th {\n",
       "        vertical-align: top;\n",
       "    }\n",
       "\n",
       "    .dataframe thead th {\n",
       "        text-align: right;\n",
       "    }\n",
       "</style>\n",
       "<table border=\"1\" class=\"dataframe\">\n",
       "  <thead>\n",
       "    <tr style=\"text-align: right;\">\n",
       "      <th>debt</th>\n",
       "      <th>0</th>\n",
       "      <th>1</th>\n",
       "    </tr>\n",
       "    <tr>\n",
       "      <th>children_rank</th>\n",
       "      <th></th>\n",
       "      <th></th>\n",
       "    </tr>\n",
       "  </thead>\n",
       "  <tbody>\n",
       "    <tr>\n",
       "      <th>есть дети</th>\n",
       "      <td>6222</td>\n",
       "      <td>638</td>\n",
       "    </tr>\n",
       "    <tr>\n",
       "      <th>многодетный</th>\n",
       "      <td>349</td>\n",
       "      <td>31</td>\n",
       "    </tr>\n",
       "    <tr>\n",
       "      <th>нет детей</th>\n",
       "      <td>13028</td>\n",
       "      <td>1063</td>\n",
       "    </tr>\n",
       "  </tbody>\n",
       "</table>\n",
       "</div>"
      ],
      "text/plain": [
       "debt               0     1\n",
       "children_rank             \n",
       "есть дети       6222   638\n",
       "многодетный      349    31\n",
       "нет детей      13028  1063"
      ]
     },
     "execution_count": 24,
     "metadata": {},
     "output_type": "execute_result"
    }
   ],
   "source": [
    "# Выполним п2\n",
    "# Создаем сводную таблицу методом pivot_table()\n",
    "debt_children = data.pivot_table(index='children_rank',columns='debt', values='gender',aggfunc='count' )\n",
    "debt_children"
   ]
  },
  {
   "cell_type": "code",
   "execution_count": 25,
   "id": "5a0f907c",
   "metadata": {},
   "outputs": [
    {
     "data": {
      "text/html": [
       "<div>\n",
       "<style scoped>\n",
       "    .dataframe tbody tr th:only-of-type {\n",
       "        vertical-align: middle;\n",
       "    }\n",
       "\n",
       "    .dataframe tbody tr th {\n",
       "        vertical-align: top;\n",
       "    }\n",
       "\n",
       "    .dataframe thead th {\n",
       "        text-align: right;\n",
       "    }\n",
       "</style>\n",
       "<table border=\"1\" class=\"dataframe\">\n",
       "  <thead>\n",
       "    <tr style=\"text-align: right;\">\n",
       "      <th></th>\n",
       "      <th>no_debt</th>\n",
       "      <th>debt</th>\n",
       "    </tr>\n",
       "    <tr>\n",
       "      <th>children_rank</th>\n",
       "      <th></th>\n",
       "      <th></th>\n",
       "    </tr>\n",
       "  </thead>\n",
       "  <tbody>\n",
       "    <tr>\n",
       "      <th>есть дети</th>\n",
       "      <td>6222</td>\n",
       "      <td>638</td>\n",
       "    </tr>\n",
       "    <tr>\n",
       "      <th>многодетный</th>\n",
       "      <td>349</td>\n",
       "      <td>31</td>\n",
       "    </tr>\n",
       "    <tr>\n",
       "      <th>нет детей</th>\n",
       "      <td>13028</td>\n",
       "      <td>1063</td>\n",
       "    </tr>\n",
       "  </tbody>\n",
       "</table>\n",
       "</div>"
      ],
      "text/plain": [
       "               no_debt  debt\n",
       "children_rank               \n",
       "есть дети         6222   638\n",
       "многодетный        349    31\n",
       "нет детей        13028  1063"
      ]
     },
     "execution_count": 25,
     "metadata": {},
     "output_type": "execute_result"
    }
   ],
   "source": [
    "# п2 продолжение\n",
    "# Создаем столбцы\n",
    "debt_children.columns = ['no_debt', 'debt']\n",
    "debt_children"
   ]
  },
  {
   "cell_type": "code",
   "execution_count": 26,
   "id": "7fcff25e",
   "metadata": {
    "deletable": false,
    "id": "7fcff25e"
   },
   "outputs": [
    {
     "data": {
      "text/html": [
       "<div>\n",
       "<style scoped>\n",
       "    .dataframe tbody tr th:only-of-type {\n",
       "        vertical-align: middle;\n",
       "    }\n",
       "\n",
       "    .dataframe tbody tr th {\n",
       "        vertical-align: top;\n",
       "    }\n",
       "\n",
       "    .dataframe thead th {\n",
       "        text-align: right;\n",
       "    }\n",
       "</style>\n",
       "<table border=\"1\" class=\"dataframe\">\n",
       "  <thead>\n",
       "    <tr style=\"text-align: right;\">\n",
       "      <th></th>\n",
       "      <th>no_debt</th>\n",
       "      <th>debt</th>\n",
       "      <th>share_of_debtors</th>\n",
       "    </tr>\n",
       "    <tr>\n",
       "      <th>children_rank</th>\n",
       "      <th></th>\n",
       "      <th></th>\n",
       "      <th></th>\n",
       "    </tr>\n",
       "  </thead>\n",
       "  <tbody>\n",
       "    <tr>\n",
       "      <th>есть дети</th>\n",
       "      <td>6222</td>\n",
       "      <td>638</td>\n",
       "      <td>0.093003</td>\n",
       "    </tr>\n",
       "    <tr>\n",
       "      <th>многодетный</th>\n",
       "      <td>349</td>\n",
       "      <td>31</td>\n",
       "      <td>0.081579</td>\n",
       "    </tr>\n",
       "    <tr>\n",
       "      <th>нет детей</th>\n",
       "      <td>13028</td>\n",
       "      <td>1063</td>\n",
       "      <td>0.075438</td>\n",
       "    </tr>\n",
       "  </tbody>\n",
       "</table>\n",
       "</div>"
      ],
      "text/plain": [
       "               no_debt  debt  share_of_debtors\n",
       "children_rank                                 \n",
       "есть дети         6222   638          0.093003\n",
       "многодетный        349    31          0.081579\n",
       "нет детей        13028  1063          0.075438"
      ]
     },
     "execution_count": 26,
     "metadata": {},
     "output_type": "execute_result"
    }
   ],
   "source": [
    "# п2 продолжение\n",
    "# Считаем долю должников\n",
    "debt_children['share_of_debtors'] = debt_children['debt'] / (debt_children['debt'] + debt_children['no_debt'])\n",
    "debt_children"
   ]
  },
  {
   "cell_type": "code",
   "execution_count": 27,
   "id": "b46a3378",
   "metadata": {},
   "outputs": [
    {
     "data": {
      "text/html": [
       "<div>\n",
       "<style scoped>\n",
       "    .dataframe tbody tr th:only-of-type {\n",
       "        vertical-align: middle;\n",
       "    }\n",
       "\n",
       "    .dataframe tbody tr th {\n",
       "        vertical-align: top;\n",
       "    }\n",
       "\n",
       "    .dataframe thead th {\n",
       "        text-align: right;\n",
       "    }\n",
       "</style>\n",
       "<table border=\"1\" class=\"dataframe\">\n",
       "  <thead>\n",
       "    <tr style=\"text-align: right;\">\n",
       "      <th></th>\n",
       "      <th>no_debt</th>\n",
       "      <th>debt</th>\n",
       "      <th>share_of_debtors</th>\n",
       "    </tr>\n",
       "    <tr>\n",
       "      <th>children_rank</th>\n",
       "      <th></th>\n",
       "      <th></th>\n",
       "      <th></th>\n",
       "    </tr>\n",
       "  </thead>\n",
       "  <tbody>\n",
       "    <tr>\n",
       "      <th>есть дети</th>\n",
       "      <td>6222</td>\n",
       "      <td>638</td>\n",
       "      <td>9.3%</td>\n",
       "    </tr>\n",
       "    <tr>\n",
       "      <th>многодетный</th>\n",
       "      <td>349</td>\n",
       "      <td>31</td>\n",
       "      <td>8.2%</td>\n",
       "    </tr>\n",
       "    <tr>\n",
       "      <th>нет детей</th>\n",
       "      <td>13028</td>\n",
       "      <td>1063</td>\n",
       "      <td>7.5%</td>\n",
       "    </tr>\n",
       "  </tbody>\n",
       "</table>\n",
       "</div>"
      ],
      "text/plain": [
       "               no_debt  debt share_of_debtors\n",
       "children_rank                                \n",
       "есть дети         6222   638             9.3%\n",
       "многодетный        349    31             8.2%\n",
       "нет детей        13028  1063             7.5%"
      ]
     },
     "execution_count": 27,
     "metadata": {},
     "output_type": "execute_result"
    }
   ],
   "source": [
    "# п2 продолжение\n",
    "# Переводим значения в столбце доля дожников в проценты\n",
    "debt_children['share_of_debtors'] = debt_children['share_of_debtors'].map('{:.1%}'.format)\n",
    "debt_children\n"
   ]
  },
  {
   "cell_type": "code",
   "execution_count": 28,
   "id": "a4e8e354",
   "metadata": {},
   "outputs": [
    {
     "data": {
      "text/html": [
       "<div>\n",
       "<style scoped>\n",
       "    .dataframe tbody tr th:only-of-type {\n",
       "        vertical-align: middle;\n",
       "    }\n",
       "\n",
       "    .dataframe tbody tr th {\n",
       "        vertical-align: top;\n",
       "    }\n",
       "\n",
       "    .dataframe thead th {\n",
       "        text-align: right;\n",
       "    }\n",
       "</style>\n",
       "<table border=\"1\" class=\"dataframe\">\n",
       "  <thead>\n",
       "    <tr style=\"text-align: right;\">\n",
       "      <th></th>\n",
       "      <th>no_debt</th>\n",
       "      <th>debt</th>\n",
       "      <th>share_of_debtors</th>\n",
       "    </tr>\n",
       "    <tr>\n",
       "      <th>children_rank</th>\n",
       "      <th></th>\n",
       "      <th></th>\n",
       "      <th></th>\n",
       "    </tr>\n",
       "  </thead>\n",
       "  <tbody>\n",
       "    <tr>\n",
       "      <th>есть дети</th>\n",
       "      <td>6222</td>\n",
       "      <td>638</td>\n",
       "      <td>9.3%</td>\n",
       "    </tr>\n",
       "    <tr>\n",
       "      <th>многодетный</th>\n",
       "      <td>349</td>\n",
       "      <td>31</td>\n",
       "      <td>8.2%</td>\n",
       "    </tr>\n",
       "    <tr>\n",
       "      <th>нет детей</th>\n",
       "      <td>13028</td>\n",
       "      <td>1063</td>\n",
       "      <td>7.5%</td>\n",
       "    </tr>\n",
       "  </tbody>\n",
       "</table>\n",
       "</div>"
      ],
      "text/plain": [
       "               no_debt  debt share_of_debtors\n",
       "children_rank                                \n",
       "есть дети         6222   638             9.3%\n",
       "многодетный        349    31             8.2%\n",
       "нет детей        13028  1063             7.5%"
      ]
     },
     "execution_count": 28,
     "metadata": {},
     "output_type": "execute_result"
    }
   ],
   "source": [
    "# п2 продолжение\n",
    "# Сортируем по столбцу доля лолжников по убыванию\n",
    "debt_children.sort_values(by='share_of_debtors', ascending=False)"
   ]
  },
  {
   "cell_type": "markdown",
   "id": "2eb9088e",
   "metadata": {
    "deletable": false,
    "id": "2eb9088e"
   },
   "source": [
    "**Вывод:** Наличие детей повышает вероятность задолжености.* Это связано с дополнительными расходами на детей. Однако, можно заметить, что в многодетных семьях уровень должников ниже (8.2%), чем в семьях с одним или двумя детьми (9.3%). Это может быть связано либо с тем, что существуют программы поддержки многодетных семей. Для категории граждан без детей самый низкий показатель должников (7.3%)."
   ]
  },
  {
   "cell_type": "markdown",
   "id": "74c9b3a7",
   "metadata": {
    "deletable": false,
    "editable": false,
    "id": "74c9b3a7"
   },
   "source": [
    "#### 3.2 Есть ли зависимость между семейным положением и возвратом кредита в срок?"
   ]
  },
  {
   "cell_type": "code",
   "execution_count": 29,
   "id": "2cfc077e",
   "metadata": {},
   "outputs": [
    {
     "data": {
      "text/html": [
       "<div>\n",
       "<style scoped>\n",
       "    .dataframe tbody tr th:only-of-type {\n",
       "        vertical-align: middle;\n",
       "    }\n",
       "\n",
       "    .dataframe tbody tr th {\n",
       "        vertical-align: top;\n",
       "    }\n",
       "\n",
       "    .dataframe thead th {\n",
       "        text-align: right;\n",
       "    }\n",
       "</style>\n",
       "<table border=\"1\" class=\"dataframe\">\n",
       "  <thead>\n",
       "    <tr style=\"text-align: right;\">\n",
       "      <th></th>\n",
       "      <th>children</th>\n",
       "      <th>days_employed</th>\n",
       "      <th>dob_years</th>\n",
       "      <th>education</th>\n",
       "      <th>education_id</th>\n",
       "      <th>family_status</th>\n",
       "      <th>family_status_id</th>\n",
       "      <th>gender</th>\n",
       "      <th>income_type</th>\n",
       "      <th>debt</th>\n",
       "      <th>total_income</th>\n",
       "      <th>purpose</th>\n",
       "      <th>total_income_category</th>\n",
       "      <th>purpose_category</th>\n",
       "      <th>children_rank</th>\n",
       "    </tr>\n",
       "  </thead>\n",
       "  <tbody>\n",
       "    <tr>\n",
       "      <th>21515</th>\n",
       "      <td>1</td>\n",
       "      <td>467.685130</td>\n",
       "      <td>28</td>\n",
       "      <td>среднее</td>\n",
       "      <td>1</td>\n",
       "      <td>женат / замужем</td>\n",
       "      <td>0</td>\n",
       "      <td>F</td>\n",
       "      <td>сотрудник</td>\n",
       "      <td>1</td>\n",
       "      <td>109486</td>\n",
       "      <td>заняться образованием</td>\n",
       "      <td>C</td>\n",
       "      <td>получение образования</td>\n",
       "      <td>есть дети</td>\n",
       "    </tr>\n",
       "    <tr>\n",
       "      <th>21516</th>\n",
       "      <td>0</td>\n",
       "      <td>914.391429</td>\n",
       "      <td>42</td>\n",
       "      <td>высшее</td>\n",
       "      <td>0</td>\n",
       "      <td>женат / замужем</td>\n",
       "      <td>0</td>\n",
       "      <td>F</td>\n",
       "      <td>компаньон</td>\n",
       "      <td>0</td>\n",
       "      <td>322807</td>\n",
       "      <td>покупка своего жилья</td>\n",
       "      <td>B</td>\n",
       "      <td>операции с недвижимостью</td>\n",
       "      <td>нет детей</td>\n",
       "    </tr>\n",
       "    <tr>\n",
       "      <th>21517</th>\n",
       "      <td>0</td>\n",
       "      <td>404.679034</td>\n",
       "      <td>42</td>\n",
       "      <td>высшее</td>\n",
       "      <td>0</td>\n",
       "      <td>гражданский брак</td>\n",
       "      <td>1</td>\n",
       "      <td>F</td>\n",
       "      <td>компаньон</td>\n",
       "      <td>0</td>\n",
       "      <td>178059</td>\n",
       "      <td>на покупку своего автомобиля</td>\n",
       "      <td>C</td>\n",
       "      <td>операции с автомобилем</td>\n",
       "      <td>нет детей</td>\n",
       "    </tr>\n",
       "    <tr>\n",
       "      <th>21518</th>\n",
       "      <td>0</td>\n",
       "      <td>373995.710838</td>\n",
       "      <td>59</td>\n",
       "      <td>среднее</td>\n",
       "      <td>1</td>\n",
       "      <td>женат / замужем</td>\n",
       "      <td>0</td>\n",
       "      <td>F</td>\n",
       "      <td>пенсионер</td>\n",
       "      <td>0</td>\n",
       "      <td>153864</td>\n",
       "      <td>сделка с автомобилем</td>\n",
       "      <td>C</td>\n",
       "      <td>операции с автомобилем</td>\n",
       "      <td>нет детей</td>\n",
       "    </tr>\n",
       "    <tr>\n",
       "      <th>21519</th>\n",
       "      <td>1</td>\n",
       "      <td>2351.431934</td>\n",
       "      <td>37</td>\n",
       "      <td>ученая степень</td>\n",
       "      <td>4</td>\n",
       "      <td>в разводе</td>\n",
       "      <td>3</td>\n",
       "      <td>M</td>\n",
       "      <td>сотрудник</td>\n",
       "      <td>0</td>\n",
       "      <td>115949</td>\n",
       "      <td>покупка коммерческой недвижимости</td>\n",
       "      <td>C</td>\n",
       "      <td>операции с недвижимостью</td>\n",
       "      <td>есть дети</td>\n",
       "    </tr>\n",
       "    <tr>\n",
       "      <th>21520</th>\n",
       "      <td>1</td>\n",
       "      <td>4529.316663</td>\n",
       "      <td>43</td>\n",
       "      <td>среднее</td>\n",
       "      <td>1</td>\n",
       "      <td>гражданский брак</td>\n",
       "      <td>1</td>\n",
       "      <td>F</td>\n",
       "      <td>компаньон</td>\n",
       "      <td>0</td>\n",
       "      <td>224791</td>\n",
       "      <td>операции с жильем</td>\n",
       "      <td>B</td>\n",
       "      <td>операции с недвижимостью</td>\n",
       "      <td>есть дети</td>\n",
       "    </tr>\n",
       "    <tr>\n",
       "      <th>21521</th>\n",
       "      <td>0</td>\n",
       "      <td>343937.404131</td>\n",
       "      <td>67</td>\n",
       "      <td>среднее</td>\n",
       "      <td>1</td>\n",
       "      <td>женат / замужем</td>\n",
       "      <td>0</td>\n",
       "      <td>F</td>\n",
       "      <td>пенсионер</td>\n",
       "      <td>0</td>\n",
       "      <td>155999</td>\n",
       "      <td>сделка с автомобилем</td>\n",
       "      <td>C</td>\n",
       "      <td>операции с автомобилем</td>\n",
       "      <td>нет детей</td>\n",
       "    </tr>\n",
       "    <tr>\n",
       "      <th>21522</th>\n",
       "      <td>1</td>\n",
       "      <td>2113.346888</td>\n",
       "      <td>38</td>\n",
       "      <td>среднее</td>\n",
       "      <td>1</td>\n",
       "      <td>гражданский брак</td>\n",
       "      <td>1</td>\n",
       "      <td>M</td>\n",
       "      <td>сотрудник</td>\n",
       "      <td>1</td>\n",
       "      <td>89672</td>\n",
       "      <td>недвижимость</td>\n",
       "      <td>C</td>\n",
       "      <td>операции с недвижимостью</td>\n",
       "      <td>есть дети</td>\n",
       "    </tr>\n",
       "    <tr>\n",
       "      <th>21523</th>\n",
       "      <td>3</td>\n",
       "      <td>3112.481705</td>\n",
       "      <td>38</td>\n",
       "      <td>среднее</td>\n",
       "      <td>1</td>\n",
       "      <td>женат / замужем</td>\n",
       "      <td>0</td>\n",
       "      <td>M</td>\n",
       "      <td>сотрудник</td>\n",
       "      <td>1</td>\n",
       "      <td>244093</td>\n",
       "      <td>на покупку своего автомобиля</td>\n",
       "      <td>B</td>\n",
       "      <td>операции с автомобилем</td>\n",
       "      <td>многодетный</td>\n",
       "    </tr>\n",
       "    <tr>\n",
       "      <th>21524</th>\n",
       "      <td>2</td>\n",
       "      <td>1984.507589</td>\n",
       "      <td>40</td>\n",
       "      <td>среднее</td>\n",
       "      <td>1</td>\n",
       "      <td>женат / замужем</td>\n",
       "      <td>0</td>\n",
       "      <td>F</td>\n",
       "      <td>сотрудник</td>\n",
       "      <td>0</td>\n",
       "      <td>82047</td>\n",
       "      <td>на покупку автомобиля</td>\n",
       "      <td>C</td>\n",
       "      <td>операции с автомобилем</td>\n",
       "      <td>есть дети</td>\n",
       "    </tr>\n",
       "  </tbody>\n",
       "</table>\n",
       "</div>"
      ],
      "text/plain": [
       "       children  days_employed  dob_years       education  education_id  \\\n",
       "21515         1     467.685130         28         среднее             1   \n",
       "21516         0     914.391429         42          высшее             0   \n",
       "21517         0     404.679034         42          высшее             0   \n",
       "21518         0  373995.710838         59         среднее             1   \n",
       "21519         1    2351.431934         37  ученая степень             4   \n",
       "21520         1    4529.316663         43         среднее             1   \n",
       "21521         0  343937.404131         67         среднее             1   \n",
       "21522         1    2113.346888         38         среднее             1   \n",
       "21523         3    3112.481705         38         среднее             1   \n",
       "21524         2    1984.507589         40         среднее             1   \n",
       "\n",
       "          family_status  family_status_id gender income_type  debt  \\\n",
       "21515   женат / замужем                 0      F   сотрудник     1   \n",
       "21516   женат / замужем                 0      F   компаньон     0   \n",
       "21517  гражданский брак                 1      F   компаньон     0   \n",
       "21518   женат / замужем                 0      F   пенсионер     0   \n",
       "21519         в разводе                 3      M   сотрудник     0   \n",
       "21520  гражданский брак                 1      F   компаньон     0   \n",
       "21521   женат / замужем                 0      F   пенсионер     0   \n",
       "21522  гражданский брак                 1      M   сотрудник     1   \n",
       "21523   женат / замужем                 0      M   сотрудник     1   \n",
       "21524   женат / замужем                 0      F   сотрудник     0   \n",
       "\n",
       "       total_income                            purpose total_income_category  \\\n",
       "21515        109486              заняться образованием                     C   \n",
       "21516        322807               покупка своего жилья                     B   \n",
       "21517        178059       на покупку своего автомобиля                     C   \n",
       "21518        153864               сделка с автомобилем                     C   \n",
       "21519        115949  покупка коммерческой недвижимости                     C   \n",
       "21520        224791                  операции с жильем                     B   \n",
       "21521        155999               сделка с автомобилем                     C   \n",
       "21522         89672                       недвижимость                     C   \n",
       "21523        244093       на покупку своего автомобиля                     B   \n",
       "21524         82047              на покупку автомобиля                     C   \n",
       "\n",
       "               purpose_category children_rank  \n",
       "21515     получение образования     есть дети  \n",
       "21516  операции с недвижимостью     нет детей  \n",
       "21517    операции с автомобилем     нет детей  \n",
       "21518    операции с автомобилем     нет детей  \n",
       "21519  операции с недвижимостью     есть дети  \n",
       "21520  операции с недвижимостью     есть дети  \n",
       "21521    операции с автомобилем     нет детей  \n",
       "21522  операции с недвижимостью     есть дети  \n",
       "21523    операции с автомобилем   многодетный  \n",
       "21524    операции с автомобилем     есть дети  "
      ]
     },
     "execution_count": 29,
     "metadata": {},
     "output_type": "execute_result"
    }
   ],
   "source": [
    "data.tail(10)"
   ]
  },
  {
   "cell_type": "code",
   "execution_count": 30,
   "id": "8098ab3b",
   "metadata": {
    "deletable": false,
    "id": "8098ab3b"
   },
   "outputs": [
    {
     "data": {
      "text/html": [
       "<div>\n",
       "<style scoped>\n",
       "    .dataframe tbody tr th:only-of-type {\n",
       "        vertical-align: middle;\n",
       "    }\n",
       "\n",
       "    .dataframe tbody tr th {\n",
       "        vertical-align: top;\n",
       "    }\n",
       "\n",
       "    .dataframe thead th {\n",
       "        text-align: right;\n",
       "    }\n",
       "</style>\n",
       "<table border=\"1\" class=\"dataframe\">\n",
       "  <thead>\n",
       "    <tr style=\"text-align: right;\">\n",
       "      <th></th>\n",
       "      <th>no_debt</th>\n",
       "      <th>debt</th>\n",
       "      <th>share_of_debtors</th>\n",
       "    </tr>\n",
       "    <tr>\n",
       "      <th>family_status</th>\n",
       "      <th></th>\n",
       "      <th></th>\n",
       "      <th></th>\n",
       "    </tr>\n",
       "  </thead>\n",
       "  <tbody>\n",
       "    <tr>\n",
       "      <th>Не женат / не замужем</th>\n",
       "      <td>2523</td>\n",
       "      <td>273</td>\n",
       "      <td>9.8%</td>\n",
       "    </tr>\n",
       "    <tr>\n",
       "      <th>гражданский брак</th>\n",
       "      <td>3749</td>\n",
       "      <td>385</td>\n",
       "      <td>9.3%</td>\n",
       "    </tr>\n",
       "    <tr>\n",
       "      <th>женат / замужем</th>\n",
       "      <td>11334</td>\n",
       "      <td>927</td>\n",
       "      <td>7.6%</td>\n",
       "    </tr>\n",
       "    <tr>\n",
       "      <th>в разводе</th>\n",
       "      <td>1105</td>\n",
       "      <td>84</td>\n",
       "      <td>7.1%</td>\n",
       "    </tr>\n",
       "    <tr>\n",
       "      <th>вдовец / вдова</th>\n",
       "      <td>888</td>\n",
       "      <td>63</td>\n",
       "      <td>6.6%</td>\n",
       "    </tr>\n",
       "  </tbody>\n",
       "</table>\n",
       "</div>"
      ],
      "text/plain": [
       "                       no_debt  debt share_of_debtors\n",
       "family_status                                        \n",
       "Не женат / не замужем     2523   273             9.8%\n",
       "гражданский брак          3749   385             9.3%\n",
       "женат / замужем          11334   927             7.6%\n",
       "в разводе                 1105    84             7.1%\n",
       "вдовец / вдова             888    63             6.6%"
      ]
     },
     "execution_count": 30,
     "metadata": {},
     "output_type": "execute_result"
    }
   ],
   "source": [
    "# Создаем таблицу методом pivot_table()\n",
    "debt_family_status = data.pivot_table(index='family_status', columns='debt', values='gender', aggfunc='count')\n",
    "# Создаем столбцы\n",
    "\n",
    "debt_family_status.columns = ['no_debt', 'debt']\n",
    "# Считаем долю должников\n",
    "debt_family_status['share_of_debtors'] = debt_family_status['debt'] / (debt_family_status['debt'] + debt_family_status['no_debt'])\n",
    "# Переводим значения в столбце доля дожников в проценты\n",
    "debt_family_status['share_of_debtors'] = debt_family_status['share_of_debtors'].map('{:.1%}'.format)\n",
    "# Сортируем по столбцу доля лолжников по убыванию\n",
    "debt_family_status.sort_values(by='share_of_debtors', ascending=False)"
   ]
  },
  {
   "cell_type": "markdown",
   "id": "c389ca63",
   "metadata": {
    "deletable": false,
    "id": "c389ca63"
   },
   "source": [
    "**Вывод:** *Холостые и живущие в граждансокм браке пары больше подвержены риску стать должниками.* Это связано с тем, что у них больше свободы действий по распоряжению своими средствами, меньшая доля ответственности как друг перед другом, так и перед кредитором. Побывавшие в браке или на текущей момент в браке имеют меньшие проценты должников. Наиболее низкий процент у категории вдовец/вдова (6.6%)."
   ]
  },
  {
   "cell_type": "markdown",
   "id": "9529de68",
   "metadata": {
    "deletable": false,
    "editable": false,
    "id": "9529de68"
   },
   "source": [
    "#### 3.3 Есть ли зависимость между уровнем дохода и возвратом кредита в срок?"
   ]
  },
  {
   "cell_type": "code",
   "execution_count": 31,
   "id": "973a0ef7",
   "metadata": {},
   "outputs": [
    {
     "data": {
      "text/html": [
       "<div>\n",
       "<style scoped>\n",
       "    .dataframe tbody tr th:only-of-type {\n",
       "        vertical-align: middle;\n",
       "    }\n",
       "\n",
       "    .dataframe tbody tr th {\n",
       "        vertical-align: top;\n",
       "    }\n",
       "\n",
       "    .dataframe thead th {\n",
       "        text-align: right;\n",
       "    }\n",
       "</style>\n",
       "<table border=\"1\" class=\"dataframe\">\n",
       "  <thead>\n",
       "    <tr style=\"text-align: right;\">\n",
       "      <th></th>\n",
       "      <th>children</th>\n",
       "      <th>days_employed</th>\n",
       "      <th>dob_years</th>\n",
       "      <th>education</th>\n",
       "      <th>education_id</th>\n",
       "      <th>family_status</th>\n",
       "      <th>family_status_id</th>\n",
       "      <th>gender</th>\n",
       "      <th>income_type</th>\n",
       "      <th>debt</th>\n",
       "      <th>total_income</th>\n",
       "      <th>purpose</th>\n",
       "      <th>total_income_category</th>\n",
       "      <th>purpose_category</th>\n",
       "      <th>children_rank</th>\n",
       "    </tr>\n",
       "  </thead>\n",
       "  <tbody>\n",
       "    <tr>\n",
       "      <th>21515</th>\n",
       "      <td>1</td>\n",
       "      <td>467.685130</td>\n",
       "      <td>28</td>\n",
       "      <td>среднее</td>\n",
       "      <td>1</td>\n",
       "      <td>женат / замужем</td>\n",
       "      <td>0</td>\n",
       "      <td>F</td>\n",
       "      <td>сотрудник</td>\n",
       "      <td>1</td>\n",
       "      <td>109486</td>\n",
       "      <td>заняться образованием</td>\n",
       "      <td>C</td>\n",
       "      <td>получение образования</td>\n",
       "      <td>есть дети</td>\n",
       "    </tr>\n",
       "    <tr>\n",
       "      <th>21516</th>\n",
       "      <td>0</td>\n",
       "      <td>914.391429</td>\n",
       "      <td>42</td>\n",
       "      <td>высшее</td>\n",
       "      <td>0</td>\n",
       "      <td>женат / замужем</td>\n",
       "      <td>0</td>\n",
       "      <td>F</td>\n",
       "      <td>компаньон</td>\n",
       "      <td>0</td>\n",
       "      <td>322807</td>\n",
       "      <td>покупка своего жилья</td>\n",
       "      <td>B</td>\n",
       "      <td>операции с недвижимостью</td>\n",
       "      <td>нет детей</td>\n",
       "    </tr>\n",
       "    <tr>\n",
       "      <th>21517</th>\n",
       "      <td>0</td>\n",
       "      <td>404.679034</td>\n",
       "      <td>42</td>\n",
       "      <td>высшее</td>\n",
       "      <td>0</td>\n",
       "      <td>гражданский брак</td>\n",
       "      <td>1</td>\n",
       "      <td>F</td>\n",
       "      <td>компаньон</td>\n",
       "      <td>0</td>\n",
       "      <td>178059</td>\n",
       "      <td>на покупку своего автомобиля</td>\n",
       "      <td>C</td>\n",
       "      <td>операции с автомобилем</td>\n",
       "      <td>нет детей</td>\n",
       "    </tr>\n",
       "    <tr>\n",
       "      <th>21518</th>\n",
       "      <td>0</td>\n",
       "      <td>373995.710838</td>\n",
       "      <td>59</td>\n",
       "      <td>среднее</td>\n",
       "      <td>1</td>\n",
       "      <td>женат / замужем</td>\n",
       "      <td>0</td>\n",
       "      <td>F</td>\n",
       "      <td>пенсионер</td>\n",
       "      <td>0</td>\n",
       "      <td>153864</td>\n",
       "      <td>сделка с автомобилем</td>\n",
       "      <td>C</td>\n",
       "      <td>операции с автомобилем</td>\n",
       "      <td>нет детей</td>\n",
       "    </tr>\n",
       "    <tr>\n",
       "      <th>21519</th>\n",
       "      <td>1</td>\n",
       "      <td>2351.431934</td>\n",
       "      <td>37</td>\n",
       "      <td>ученая степень</td>\n",
       "      <td>4</td>\n",
       "      <td>в разводе</td>\n",
       "      <td>3</td>\n",
       "      <td>M</td>\n",
       "      <td>сотрудник</td>\n",
       "      <td>0</td>\n",
       "      <td>115949</td>\n",
       "      <td>покупка коммерческой недвижимости</td>\n",
       "      <td>C</td>\n",
       "      <td>операции с недвижимостью</td>\n",
       "      <td>есть дети</td>\n",
       "    </tr>\n",
       "    <tr>\n",
       "      <th>21520</th>\n",
       "      <td>1</td>\n",
       "      <td>4529.316663</td>\n",
       "      <td>43</td>\n",
       "      <td>среднее</td>\n",
       "      <td>1</td>\n",
       "      <td>гражданский брак</td>\n",
       "      <td>1</td>\n",
       "      <td>F</td>\n",
       "      <td>компаньон</td>\n",
       "      <td>0</td>\n",
       "      <td>224791</td>\n",
       "      <td>операции с жильем</td>\n",
       "      <td>B</td>\n",
       "      <td>операции с недвижимостью</td>\n",
       "      <td>есть дети</td>\n",
       "    </tr>\n",
       "    <tr>\n",
       "      <th>21521</th>\n",
       "      <td>0</td>\n",
       "      <td>343937.404131</td>\n",
       "      <td>67</td>\n",
       "      <td>среднее</td>\n",
       "      <td>1</td>\n",
       "      <td>женат / замужем</td>\n",
       "      <td>0</td>\n",
       "      <td>F</td>\n",
       "      <td>пенсионер</td>\n",
       "      <td>0</td>\n",
       "      <td>155999</td>\n",
       "      <td>сделка с автомобилем</td>\n",
       "      <td>C</td>\n",
       "      <td>операции с автомобилем</td>\n",
       "      <td>нет детей</td>\n",
       "    </tr>\n",
       "    <tr>\n",
       "      <th>21522</th>\n",
       "      <td>1</td>\n",
       "      <td>2113.346888</td>\n",
       "      <td>38</td>\n",
       "      <td>среднее</td>\n",
       "      <td>1</td>\n",
       "      <td>гражданский брак</td>\n",
       "      <td>1</td>\n",
       "      <td>M</td>\n",
       "      <td>сотрудник</td>\n",
       "      <td>1</td>\n",
       "      <td>89672</td>\n",
       "      <td>недвижимость</td>\n",
       "      <td>C</td>\n",
       "      <td>операции с недвижимостью</td>\n",
       "      <td>есть дети</td>\n",
       "    </tr>\n",
       "    <tr>\n",
       "      <th>21523</th>\n",
       "      <td>3</td>\n",
       "      <td>3112.481705</td>\n",
       "      <td>38</td>\n",
       "      <td>среднее</td>\n",
       "      <td>1</td>\n",
       "      <td>женат / замужем</td>\n",
       "      <td>0</td>\n",
       "      <td>M</td>\n",
       "      <td>сотрудник</td>\n",
       "      <td>1</td>\n",
       "      <td>244093</td>\n",
       "      <td>на покупку своего автомобиля</td>\n",
       "      <td>B</td>\n",
       "      <td>операции с автомобилем</td>\n",
       "      <td>многодетный</td>\n",
       "    </tr>\n",
       "    <tr>\n",
       "      <th>21524</th>\n",
       "      <td>2</td>\n",
       "      <td>1984.507589</td>\n",
       "      <td>40</td>\n",
       "      <td>среднее</td>\n",
       "      <td>1</td>\n",
       "      <td>женат / замужем</td>\n",
       "      <td>0</td>\n",
       "      <td>F</td>\n",
       "      <td>сотрудник</td>\n",
       "      <td>0</td>\n",
       "      <td>82047</td>\n",
       "      <td>на покупку автомобиля</td>\n",
       "      <td>C</td>\n",
       "      <td>операции с автомобилем</td>\n",
       "      <td>есть дети</td>\n",
       "    </tr>\n",
       "  </tbody>\n",
       "</table>\n",
       "</div>"
      ],
      "text/plain": [
       "       children  days_employed  dob_years       education  education_id  \\\n",
       "21515         1     467.685130         28         среднее             1   \n",
       "21516         0     914.391429         42          высшее             0   \n",
       "21517         0     404.679034         42          высшее             0   \n",
       "21518         0  373995.710838         59         среднее             1   \n",
       "21519         1    2351.431934         37  ученая степень             4   \n",
       "21520         1    4529.316663         43         среднее             1   \n",
       "21521         0  343937.404131         67         среднее             1   \n",
       "21522         1    2113.346888         38         среднее             1   \n",
       "21523         3    3112.481705         38         среднее             1   \n",
       "21524         2    1984.507589         40         среднее             1   \n",
       "\n",
       "          family_status  family_status_id gender income_type  debt  \\\n",
       "21515   женат / замужем                 0      F   сотрудник     1   \n",
       "21516   женат / замужем                 0      F   компаньон     0   \n",
       "21517  гражданский брак                 1      F   компаньон     0   \n",
       "21518   женат / замужем                 0      F   пенсионер     0   \n",
       "21519         в разводе                 3      M   сотрудник     0   \n",
       "21520  гражданский брак                 1      F   компаньон     0   \n",
       "21521   женат / замужем                 0      F   пенсионер     0   \n",
       "21522  гражданский брак                 1      M   сотрудник     1   \n",
       "21523   женат / замужем                 0      M   сотрудник     1   \n",
       "21524   женат / замужем                 0      F   сотрудник     0   \n",
       "\n",
       "       total_income                            purpose total_income_category  \\\n",
       "21515        109486              заняться образованием                     C   \n",
       "21516        322807               покупка своего жилья                     B   \n",
       "21517        178059       на покупку своего автомобиля                     C   \n",
       "21518        153864               сделка с автомобилем                     C   \n",
       "21519        115949  покупка коммерческой недвижимости                     C   \n",
       "21520        224791                  операции с жильем                     B   \n",
       "21521        155999               сделка с автомобилем                     C   \n",
       "21522         89672                       недвижимость                     C   \n",
       "21523        244093       на покупку своего автомобиля                     B   \n",
       "21524         82047              на покупку автомобиля                     C   \n",
       "\n",
       "               purpose_category children_rank  \n",
       "21515     получение образования     есть дети  \n",
       "21516  операции с недвижимостью     нет детей  \n",
       "21517    операции с автомобилем     нет детей  \n",
       "21518    операции с автомобилем     нет детей  \n",
       "21519  операции с недвижимостью     есть дети  \n",
       "21520  операции с недвижимостью     есть дети  \n",
       "21521    операции с автомобилем     нет детей  \n",
       "21522  операции с недвижимостью     есть дети  \n",
       "21523    операции с автомобилем   многодетный  \n",
       "21524    операции с автомобилем     есть дети  "
      ]
     },
     "execution_count": 31,
     "metadata": {},
     "output_type": "execute_result"
    }
   ],
   "source": [
    "data.tail(10)"
   ]
  },
  {
   "cell_type": "markdown",
   "id": "1b43b9ce",
   "metadata": {},
   "source": [
    "Категоризация по уровню дохода из первой части проекта\\\n",
    "0–30000 — 'E';\\\n",
    "30001–50000 — 'D';\\\n",
    "50001–200000 — 'C';\\\n",
    "200001–1000000 — 'B';\\\n",
    "1000001 и выше — 'A'."
   ]
  },
  {
   "cell_type": "code",
   "execution_count": 32,
   "id": "8787f44a",
   "metadata": {
    "deletable": false,
    "id": "8787f44a"
   },
   "outputs": [
    {
     "data": {
      "text/html": [
       "<div>\n",
       "<style scoped>\n",
       "    .dataframe tbody tr th:only-of-type {\n",
       "        vertical-align: middle;\n",
       "    }\n",
       "\n",
       "    .dataframe tbody tr th {\n",
       "        vertical-align: top;\n",
       "    }\n",
       "\n",
       "    .dataframe thead th {\n",
       "        text-align: right;\n",
       "    }\n",
       "</style>\n",
       "<table border=\"1\" class=\"dataframe\">\n",
       "  <thead>\n",
       "    <tr style=\"text-align: right;\">\n",
       "      <th></th>\n",
       "      <th>no_debt</th>\n",
       "      <th>debt</th>\n",
       "      <th>share_of_debtors</th>\n",
       "    </tr>\n",
       "    <tr>\n",
       "      <th>total_income_category</th>\n",
       "      <th></th>\n",
       "      <th></th>\n",
       "      <th></th>\n",
       "    </tr>\n",
       "  </thead>\n",
       "  <tbody>\n",
       "    <tr>\n",
       "      <th>E</th>\n",
       "      <td>20</td>\n",
       "      <td>2</td>\n",
       "      <td>9.1%</td>\n",
       "    </tr>\n",
       "    <tr>\n",
       "      <th>C</th>\n",
       "      <td>14568</td>\n",
       "      <td>1353</td>\n",
       "      <td>8.5%</td>\n",
       "    </tr>\n",
       "    <tr>\n",
       "      <th>A</th>\n",
       "      <td>23</td>\n",
       "      <td>2</td>\n",
       "      <td>8.0%</td>\n",
       "    </tr>\n",
       "    <tr>\n",
       "      <th>B</th>\n",
       "      <td>4660</td>\n",
       "      <td>354</td>\n",
       "      <td>7.1%</td>\n",
       "    </tr>\n",
       "    <tr>\n",
       "      <th>D</th>\n",
       "      <td>328</td>\n",
       "      <td>21</td>\n",
       "      <td>6.0%</td>\n",
       "    </tr>\n",
       "  </tbody>\n",
       "</table>\n",
       "</div>"
      ],
      "text/plain": [
       "                       no_debt  debt share_of_debtors\n",
       "total_income_category                                \n",
       "E                           20     2             9.1%\n",
       "C                        14568  1353             8.5%\n",
       "A                           23     2             8.0%\n",
       "B                         4660   354             7.1%\n",
       "D                          328    21             6.0%"
      ]
     },
     "execution_count": 32,
     "metadata": {},
     "output_type": "execute_result"
    }
   ],
   "source": [
    "# Создаем таблицу методом pivot()\n",
    "debt_total_income = data.pivot_table(index='total_income_category', columns='debt', values='gender', aggfunc='count')\n",
    "# Создаем столбцы\n",
    "debt_total_income.columns = ['no_debt', 'debt']\n",
    "# Считаем долю должников\n",
    "debt_total_income['share_of_debtors'] = debt_total_income['debt'] / (debt_total_income['debt'] + debt_total_income['no_debt'])\n",
    "# Переводим значения в столбце доля дожников в проценты\n",
    "debt_total_income['share_of_debtors'] = debt_total_income['share_of_debtors'].map('{:.1%}'.format)\n",
    "# Сортируем по столбцу доля лолжников по убыванию\n",
    "debt_total_income.sort_values(by='share_of_debtors', ascending=False)# Ваш код будет здесь. Вы можете создавать новые ячейки."
   ]
  },
  {
   "cell_type": "markdown",
   "id": "6dd14b57",
   "metadata": {
    "deletable": false,
    "id": "6dd14b57"
   },
   "source": [
    "**Вывод:** Категория граждан С со средним доходом больше подвержены риску стать должниками. Категории \"E\" и \"A\" можно не брать в расчет из-за маленькой выборки (т.е. они не репрезентативные).Выводы делаем опираясь на категории C, B, D. Сравнивая эти категории делаем вывод, что наибольший риск стать должниками у категории C, а наименьший у категории D."
   ]
  },
  {
   "cell_type": "markdown",
   "id": "1dcc9b12",
   "metadata": {
    "deletable": false,
    "editable": false,
    "id": "1dcc9b12"
   },
   "source": [
    "#### 3.4 Как разные цели кредита влияют на его возврат в срок?"
   ]
  },
  {
   "cell_type": "code",
   "execution_count": 33,
   "id": "c602bc8b",
   "metadata": {
    "deletable": false,
    "id": "c602bc8b"
   },
   "outputs": [
    {
     "data": {
      "text/html": [
       "<div>\n",
       "<style scoped>\n",
       "    .dataframe tbody tr th:only-of-type {\n",
       "        vertical-align: middle;\n",
       "    }\n",
       "\n",
       "    .dataframe tbody tr th {\n",
       "        vertical-align: top;\n",
       "    }\n",
       "\n",
       "    .dataframe thead th {\n",
       "        text-align: right;\n",
       "    }\n",
       "</style>\n",
       "<table border=\"1\" class=\"dataframe\">\n",
       "  <thead>\n",
       "    <tr style=\"text-align: right;\">\n",
       "      <th></th>\n",
       "      <th>children</th>\n",
       "      <th>days_employed</th>\n",
       "      <th>dob_years</th>\n",
       "      <th>education</th>\n",
       "      <th>education_id</th>\n",
       "      <th>family_status</th>\n",
       "      <th>family_status_id</th>\n",
       "      <th>gender</th>\n",
       "      <th>income_type</th>\n",
       "      <th>debt</th>\n",
       "      <th>total_income</th>\n",
       "      <th>purpose</th>\n",
       "      <th>total_income_category</th>\n",
       "      <th>purpose_category</th>\n",
       "      <th>children_rank</th>\n",
       "    </tr>\n",
       "  </thead>\n",
       "  <tbody>\n",
       "    <tr>\n",
       "      <th>21515</th>\n",
       "      <td>1</td>\n",
       "      <td>467.685130</td>\n",
       "      <td>28</td>\n",
       "      <td>среднее</td>\n",
       "      <td>1</td>\n",
       "      <td>женат / замужем</td>\n",
       "      <td>0</td>\n",
       "      <td>F</td>\n",
       "      <td>сотрудник</td>\n",
       "      <td>1</td>\n",
       "      <td>109486</td>\n",
       "      <td>заняться образованием</td>\n",
       "      <td>C</td>\n",
       "      <td>получение образования</td>\n",
       "      <td>есть дети</td>\n",
       "    </tr>\n",
       "    <tr>\n",
       "      <th>21516</th>\n",
       "      <td>0</td>\n",
       "      <td>914.391429</td>\n",
       "      <td>42</td>\n",
       "      <td>высшее</td>\n",
       "      <td>0</td>\n",
       "      <td>женат / замужем</td>\n",
       "      <td>0</td>\n",
       "      <td>F</td>\n",
       "      <td>компаньон</td>\n",
       "      <td>0</td>\n",
       "      <td>322807</td>\n",
       "      <td>покупка своего жилья</td>\n",
       "      <td>B</td>\n",
       "      <td>операции с недвижимостью</td>\n",
       "      <td>нет детей</td>\n",
       "    </tr>\n",
       "    <tr>\n",
       "      <th>21517</th>\n",
       "      <td>0</td>\n",
       "      <td>404.679034</td>\n",
       "      <td>42</td>\n",
       "      <td>высшее</td>\n",
       "      <td>0</td>\n",
       "      <td>гражданский брак</td>\n",
       "      <td>1</td>\n",
       "      <td>F</td>\n",
       "      <td>компаньон</td>\n",
       "      <td>0</td>\n",
       "      <td>178059</td>\n",
       "      <td>на покупку своего автомобиля</td>\n",
       "      <td>C</td>\n",
       "      <td>операции с автомобилем</td>\n",
       "      <td>нет детей</td>\n",
       "    </tr>\n",
       "    <tr>\n",
       "      <th>21518</th>\n",
       "      <td>0</td>\n",
       "      <td>373995.710838</td>\n",
       "      <td>59</td>\n",
       "      <td>среднее</td>\n",
       "      <td>1</td>\n",
       "      <td>женат / замужем</td>\n",
       "      <td>0</td>\n",
       "      <td>F</td>\n",
       "      <td>пенсионер</td>\n",
       "      <td>0</td>\n",
       "      <td>153864</td>\n",
       "      <td>сделка с автомобилем</td>\n",
       "      <td>C</td>\n",
       "      <td>операции с автомобилем</td>\n",
       "      <td>нет детей</td>\n",
       "    </tr>\n",
       "    <tr>\n",
       "      <th>21519</th>\n",
       "      <td>1</td>\n",
       "      <td>2351.431934</td>\n",
       "      <td>37</td>\n",
       "      <td>ученая степень</td>\n",
       "      <td>4</td>\n",
       "      <td>в разводе</td>\n",
       "      <td>3</td>\n",
       "      <td>M</td>\n",
       "      <td>сотрудник</td>\n",
       "      <td>0</td>\n",
       "      <td>115949</td>\n",
       "      <td>покупка коммерческой недвижимости</td>\n",
       "      <td>C</td>\n",
       "      <td>операции с недвижимостью</td>\n",
       "      <td>есть дети</td>\n",
       "    </tr>\n",
       "    <tr>\n",
       "      <th>21520</th>\n",
       "      <td>1</td>\n",
       "      <td>4529.316663</td>\n",
       "      <td>43</td>\n",
       "      <td>среднее</td>\n",
       "      <td>1</td>\n",
       "      <td>гражданский брак</td>\n",
       "      <td>1</td>\n",
       "      <td>F</td>\n",
       "      <td>компаньон</td>\n",
       "      <td>0</td>\n",
       "      <td>224791</td>\n",
       "      <td>операции с жильем</td>\n",
       "      <td>B</td>\n",
       "      <td>операции с недвижимостью</td>\n",
       "      <td>есть дети</td>\n",
       "    </tr>\n",
       "    <tr>\n",
       "      <th>21521</th>\n",
       "      <td>0</td>\n",
       "      <td>343937.404131</td>\n",
       "      <td>67</td>\n",
       "      <td>среднее</td>\n",
       "      <td>1</td>\n",
       "      <td>женат / замужем</td>\n",
       "      <td>0</td>\n",
       "      <td>F</td>\n",
       "      <td>пенсионер</td>\n",
       "      <td>0</td>\n",
       "      <td>155999</td>\n",
       "      <td>сделка с автомобилем</td>\n",
       "      <td>C</td>\n",
       "      <td>операции с автомобилем</td>\n",
       "      <td>нет детей</td>\n",
       "    </tr>\n",
       "    <tr>\n",
       "      <th>21522</th>\n",
       "      <td>1</td>\n",
       "      <td>2113.346888</td>\n",
       "      <td>38</td>\n",
       "      <td>среднее</td>\n",
       "      <td>1</td>\n",
       "      <td>гражданский брак</td>\n",
       "      <td>1</td>\n",
       "      <td>M</td>\n",
       "      <td>сотрудник</td>\n",
       "      <td>1</td>\n",
       "      <td>89672</td>\n",
       "      <td>недвижимость</td>\n",
       "      <td>C</td>\n",
       "      <td>операции с недвижимостью</td>\n",
       "      <td>есть дети</td>\n",
       "    </tr>\n",
       "    <tr>\n",
       "      <th>21523</th>\n",
       "      <td>3</td>\n",
       "      <td>3112.481705</td>\n",
       "      <td>38</td>\n",
       "      <td>среднее</td>\n",
       "      <td>1</td>\n",
       "      <td>женат / замужем</td>\n",
       "      <td>0</td>\n",
       "      <td>M</td>\n",
       "      <td>сотрудник</td>\n",
       "      <td>1</td>\n",
       "      <td>244093</td>\n",
       "      <td>на покупку своего автомобиля</td>\n",
       "      <td>B</td>\n",
       "      <td>операции с автомобилем</td>\n",
       "      <td>многодетный</td>\n",
       "    </tr>\n",
       "    <tr>\n",
       "      <th>21524</th>\n",
       "      <td>2</td>\n",
       "      <td>1984.507589</td>\n",
       "      <td>40</td>\n",
       "      <td>среднее</td>\n",
       "      <td>1</td>\n",
       "      <td>женат / замужем</td>\n",
       "      <td>0</td>\n",
       "      <td>F</td>\n",
       "      <td>сотрудник</td>\n",
       "      <td>0</td>\n",
       "      <td>82047</td>\n",
       "      <td>на покупку автомобиля</td>\n",
       "      <td>C</td>\n",
       "      <td>операции с автомобилем</td>\n",
       "      <td>есть дети</td>\n",
       "    </tr>\n",
       "  </tbody>\n",
       "</table>\n",
       "</div>"
      ],
      "text/plain": [
       "       children  days_employed  dob_years       education  education_id  \\\n",
       "21515         1     467.685130         28         среднее             1   \n",
       "21516         0     914.391429         42          высшее             0   \n",
       "21517         0     404.679034         42          высшее             0   \n",
       "21518         0  373995.710838         59         среднее             1   \n",
       "21519         1    2351.431934         37  ученая степень             4   \n",
       "21520         1    4529.316663         43         среднее             1   \n",
       "21521         0  343937.404131         67         среднее             1   \n",
       "21522         1    2113.346888         38         среднее             1   \n",
       "21523         3    3112.481705         38         среднее             1   \n",
       "21524         2    1984.507589         40         среднее             1   \n",
       "\n",
       "          family_status  family_status_id gender income_type  debt  \\\n",
       "21515   женат / замужем                 0      F   сотрудник     1   \n",
       "21516   женат / замужем                 0      F   компаньон     0   \n",
       "21517  гражданский брак                 1      F   компаньон     0   \n",
       "21518   женат / замужем                 0      F   пенсионер     0   \n",
       "21519         в разводе                 3      M   сотрудник     0   \n",
       "21520  гражданский брак                 1      F   компаньон     0   \n",
       "21521   женат / замужем                 0      F   пенсионер     0   \n",
       "21522  гражданский брак                 1      M   сотрудник     1   \n",
       "21523   женат / замужем                 0      M   сотрудник     1   \n",
       "21524   женат / замужем                 0      F   сотрудник     0   \n",
       "\n",
       "       total_income                            purpose total_income_category  \\\n",
       "21515        109486              заняться образованием                     C   \n",
       "21516        322807               покупка своего жилья                     B   \n",
       "21517        178059       на покупку своего автомобиля                     C   \n",
       "21518        153864               сделка с автомобилем                     C   \n",
       "21519        115949  покупка коммерческой недвижимости                     C   \n",
       "21520        224791                  операции с жильем                     B   \n",
       "21521        155999               сделка с автомобилем                     C   \n",
       "21522         89672                       недвижимость                     C   \n",
       "21523        244093       на покупку своего автомобиля                     B   \n",
       "21524         82047              на покупку автомобиля                     C   \n",
       "\n",
       "               purpose_category children_rank  \n",
       "21515     получение образования     есть дети  \n",
       "21516  операции с недвижимостью     нет детей  \n",
       "21517    операции с автомобилем     нет детей  \n",
       "21518    операции с автомобилем     нет детей  \n",
       "21519  операции с недвижимостью     есть дети  \n",
       "21520  операции с недвижимостью     есть дети  \n",
       "21521    операции с автомобилем     нет детей  \n",
       "21522  операции с недвижимостью     есть дети  \n",
       "21523    операции с автомобилем   многодетный  \n",
       "21524    операции с автомобилем     есть дети  "
      ]
     },
     "execution_count": 33,
     "metadata": {},
     "output_type": "execute_result"
    }
   ],
   "source": [
    "data.tail(10)"
   ]
  },
  {
   "cell_type": "code",
   "execution_count": 34,
   "id": "adee6f33",
   "metadata": {},
   "outputs": [
    {
     "data": {
      "text/html": [
       "<div>\n",
       "<style scoped>\n",
       "    .dataframe tbody tr th:only-of-type {\n",
       "        vertical-align: middle;\n",
       "    }\n",
       "\n",
       "    .dataframe tbody tr th {\n",
       "        vertical-align: top;\n",
       "    }\n",
       "\n",
       "    .dataframe thead th {\n",
       "        text-align: right;\n",
       "    }\n",
       "</style>\n",
       "<table border=\"1\" class=\"dataframe\">\n",
       "  <thead>\n",
       "    <tr style=\"text-align: right;\">\n",
       "      <th></th>\n",
       "      <th>no_debt</th>\n",
       "      <th>debt</th>\n",
       "      <th>share_of_debtors</th>\n",
       "    </tr>\n",
       "    <tr>\n",
       "      <th>purpose_category</th>\n",
       "      <th></th>\n",
       "      <th></th>\n",
       "      <th></th>\n",
       "    </tr>\n",
       "  </thead>\n",
       "  <tbody>\n",
       "    <tr>\n",
       "      <th>операции с автомобилем</th>\n",
       "      <td>3879</td>\n",
       "      <td>400</td>\n",
       "      <td>9.3%</td>\n",
       "    </tr>\n",
       "    <tr>\n",
       "      <th>получение образования</th>\n",
       "      <td>3619</td>\n",
       "      <td>369</td>\n",
       "      <td>9.3%</td>\n",
       "    </tr>\n",
       "    <tr>\n",
       "      <th>проведение свадьбы</th>\n",
       "      <td>2130</td>\n",
       "      <td>183</td>\n",
       "      <td>7.9%</td>\n",
       "    </tr>\n",
       "    <tr>\n",
       "      <th>операции с недвижимостью</th>\n",
       "      <td>9971</td>\n",
       "      <td>780</td>\n",
       "      <td>7.3%</td>\n",
       "    </tr>\n",
       "  </tbody>\n",
       "</table>\n",
       "</div>"
      ],
      "text/plain": [
       "                          no_debt  debt share_of_debtors\n",
       "purpose_category                                        \n",
       "операции с автомобилем       3879   400             9.3%\n",
       "получение образования        3619   369             9.3%\n",
       "проведение свадьбы           2130   183             7.9%\n",
       "операции с недвижимостью     9971   780             7.3%"
      ]
     },
     "execution_count": 34,
     "metadata": {},
     "output_type": "execute_result"
    }
   ],
   "source": [
    "# Создаем таблицу методом pivot_table()\n",
    "debt_purpose_category = data.pivot_table(index='purpose_category', columns='debt', values='gender', aggfunc='count')\n",
    "# Создаем столбцы\n",
    "debt_purpose_category.columns = ['no_debt', 'debt']\n",
    "# Считаем долю должников\n",
    "debt_purpose_category['share_of_debtors'] = debt_purpose_category['debt'] / (debt_purpose_category['debt'] + debt_purpose_category['no_debt'])\n",
    "# Переводим значения в столбце доля дожников в проценты\n",
    "debt_purpose_category['share_of_debtors'] = debt_purpose_category['share_of_debtors'].map('{:.1%}'.format)\n",
    "# Сортируем по столбцу доля лолжников по убыванию\n",
    "debt_purpose_category.sort_values(by='share_of_debtors', ascending=False)"
   ]
  },
  {
   "cell_type": "markdown",
   "id": "cf05ed63",
   "metadata": {
    "deletable": false,
    "id": "cf05ed63"
   },
   "source": [
    "**Вывод:** Люди, берущие кредиты на получение образования и операции с автомобилем больше подвержены риску стать должниками. Данные категории имеют одинаковый процент должников (9.3%). Клиенты берущие кредит для проведения операций с недвижимостью Граждане, которые берут кредит для проведения операций с недвижимостью более надежные заемщики."
   ]
  },
  {
   "cell_type": "markdown",
   "id": "46c1f10b",
   "metadata": {
    "deletable": false,
    "editable": false,
    "id": "46c1f10b"
   },
   "source": [
    "#### 3.5 Приведите возможные причины появления пропусков в исходных данных."
   ]
  },
  {
   "cell_type": "markdown",
   "id": "3697d2a9",
   "metadata": {
    "deletable": false,
    "id": "3697d2a9"
   },
   "source": [
    "*Ответ:* Причины: технические проблемы, неверный ввод данных,  повреждение файла данных при сохранении, сокрытие информации."
   ]
  },
  {
   "cell_type": "markdown",
   "id": "3137d257",
   "metadata": {
    "deletable": false,
    "editable": false,
    "id": "3137d257"
   },
   "source": [
    "#### 3.6 Объясните, почему заполнить пропуски медианным значением — лучшее решение для количественных переменных."
   ]
  },
  {
   "cell_type": "markdown",
   "id": "cf40012a",
   "metadata": {
    "deletable": false,
    "id": "cf40012a"
   },
   "source": [
    "*Ответ:* Медиана более устойчива к выбросам и аномальным значениям."
   ]
  },
  {
   "cell_type": "markdown",
   "id": "57bc304e",
   "metadata": {
    "deletable": false,
    "editable": false,
    "id": "57bc304e"
   },
   "source": [
    "### Шаг 4: общий вывод."
   ]
  },
  {
   "cell_type": "markdown",
   "id": "1ab75d1c",
   "metadata": {
    "deletable": false,
    "id": "1ab75d1c"
   },
   "source": [
    "~ Наличие детей повышает вероятность задолжености.\\\n",
    "~ Холостые и живущие в граждансокм браке пары больше подвержены риску стать должниками.\\\n",
    "~ Категория граждан со средним доходом (50001–200000) больше подвержены риску стать должниками.\\\n",
    "~ Граждане, берущие кредиты на получение образования и операции с автомобилем больше подвержены риску могут стать должниками.\n"
   ]
  },
  {
   "cell_type": "code",
   "execution_count": null,
   "id": "63f65068",
   "metadata": {},
   "outputs": [],
   "source": []
  }
 ],
 "metadata": {
  "ExecuteTimeLog": [
   {
    "duration": 51,
    "start_time": "2023-02-12T16:49:34.290Z"
   },
   {
    "duration": 485,
    "start_time": "2023-02-12T16:50:04.455Z"
   },
   {
    "duration": 21,
    "start_time": "2023-02-12T16:50:04.942Z"
   },
   {
    "duration": 27,
    "start_time": "2023-02-12T16:50:04.965Z"
   },
   {
    "duration": 16,
    "start_time": "2023-02-12T16:50:04.996Z"
   },
   {
    "duration": 62,
    "start_time": "2023-02-12T16:50:05.014Z"
   },
   {
    "duration": 4,
    "start_time": "2023-02-12T16:50:05.078Z"
   },
   {
    "duration": 33,
    "start_time": "2023-02-12T16:50:05.083Z"
   },
   {
    "duration": 17,
    "start_time": "2023-02-12T16:50:05.118Z"
   },
   {
    "duration": 8,
    "start_time": "2023-02-12T16:50:05.137Z"
   },
   {
    "duration": 5,
    "start_time": "2023-02-12T16:50:05.146Z"
   },
   {
    "duration": 34,
    "start_time": "2023-02-12T16:50:05.153Z"
   },
   {
    "duration": 17,
    "start_time": "2023-02-12T16:50:05.189Z"
   },
   {
    "duration": 17,
    "start_time": "2023-02-12T16:50:05.208Z"
   },
   {
    "duration": 17,
    "start_time": "2023-02-12T16:50:05.227Z"
   },
   {
    "duration": 28,
    "start_time": "2023-02-12T16:50:05.245Z"
   },
   {
    "duration": 26,
    "start_time": "2023-02-12T16:50:05.275Z"
   },
   {
    "duration": 4,
    "start_time": "2023-02-12T16:50:05.304Z"
   },
   {
    "duration": 14,
    "start_time": "2023-02-12T16:50:05.309Z"
   },
   {
    "duration": 5,
    "start_time": "2023-02-12T16:50:05.324Z"
   },
   {
    "duration": 3,
    "start_time": "2023-02-12T16:50:05.331Z"
   },
   {
    "duration": 11,
    "start_time": "2023-02-12T16:50:05.335Z"
   },
   {
    "duration": 15,
    "start_time": "2023-02-12T16:50:05.348Z"
   },
   {
    "duration": 4,
    "start_time": "2023-02-12T16:50:05.365Z"
   },
   {
    "duration": 22,
    "start_time": "2023-02-12T16:50:05.370Z"
   },
   {
    "duration": 18,
    "start_time": "2023-02-12T16:50:05.394Z"
   },
   {
    "duration": 16,
    "start_time": "2023-02-12T16:51:34.576Z"
   },
   {
    "duration": 15,
    "start_time": "2023-02-12T17:26:47.514Z"
   },
   {
    "duration": 4,
    "start_time": "2023-02-12T17:31:55.547Z"
   },
   {
    "duration": 67,
    "start_time": "2023-02-12T17:32:03.463Z"
   },
   {
    "duration": 14,
    "start_time": "2023-02-12T17:32:03.532Z"
   },
   {
    "duration": 33,
    "start_time": "2023-02-12T17:32:03.547Z"
   },
   {
    "duration": 10,
    "start_time": "2023-02-12T17:32:03.582Z"
   },
   {
    "duration": 30,
    "start_time": "2023-02-12T17:32:03.594Z"
   },
   {
    "duration": 3,
    "start_time": "2023-02-12T17:32:03.625Z"
   },
   {
    "duration": 12,
    "start_time": "2023-02-12T17:32:03.630Z"
   },
   {
    "duration": 7,
    "start_time": "2023-02-12T17:32:03.643Z"
   },
   {
    "duration": 8,
    "start_time": "2023-02-12T17:32:03.652Z"
   },
   {
    "duration": 7,
    "start_time": "2023-02-12T17:32:03.662Z"
   },
   {
    "duration": 33,
    "start_time": "2023-02-12T17:32:03.691Z"
   },
   {
    "duration": 9,
    "start_time": "2023-02-12T17:32:03.725Z"
   },
   {
    "duration": 4,
    "start_time": "2023-02-12T17:32:03.736Z"
   },
   {
    "duration": 16,
    "start_time": "2023-02-12T17:32:03.743Z"
   },
   {
    "duration": 39,
    "start_time": "2023-02-12T17:32:03.760Z"
   },
   {
    "duration": 18,
    "start_time": "2023-02-12T17:32:03.800Z"
   },
   {
    "duration": 4,
    "start_time": "2023-02-12T17:32:03.819Z"
   },
   {
    "duration": 23,
    "start_time": "2023-02-12T17:32:03.824Z"
   },
   {
    "duration": 9,
    "start_time": "2023-02-12T17:32:03.849Z"
   },
   {
    "duration": 7,
    "start_time": "2023-02-12T17:32:03.860Z"
   },
   {
    "duration": 23,
    "start_time": "2023-02-12T17:32:03.868Z"
   },
   {
    "duration": 4,
    "start_time": "2023-02-12T17:32:03.893Z"
   },
   {
    "duration": 14,
    "start_time": "2023-02-12T17:32:03.899Z"
   },
   {
    "duration": 12,
    "start_time": "2023-02-12T17:32:03.914Z"
   },
   {
    "duration": 6,
    "start_time": "2023-02-12T17:32:03.928Z"
   },
   {
    "duration": 71,
    "start_time": "2023-02-12T17:34:19.161Z"
   },
   {
    "duration": 14,
    "start_time": "2023-02-12T17:34:19.234Z"
   },
   {
    "duration": 16,
    "start_time": "2023-02-12T17:34:19.250Z"
   },
   {
    "duration": 24,
    "start_time": "2023-02-12T17:34:19.268Z"
   },
   {
    "duration": 32,
    "start_time": "2023-02-12T17:34:19.293Z"
   },
   {
    "duration": 3,
    "start_time": "2023-02-12T17:34:19.326Z"
   },
   {
    "duration": 14,
    "start_time": "2023-02-12T17:34:19.330Z"
   },
   {
    "duration": 4,
    "start_time": "2023-02-12T17:34:19.345Z"
   },
   {
    "duration": 8,
    "start_time": "2023-02-12T17:34:19.351Z"
   },
   {
    "duration": 4,
    "start_time": "2023-02-12T17:34:19.362Z"
   },
   {
    "duration": 57,
    "start_time": "2023-02-12T17:34:19.367Z"
   },
   {
    "duration": 9,
    "start_time": "2023-02-12T17:34:19.426Z"
   },
   {
    "duration": 4,
    "start_time": "2023-02-12T17:34:19.436Z"
   },
   {
    "duration": 13,
    "start_time": "2023-02-12T17:34:19.441Z"
   },
   {
    "duration": 42,
    "start_time": "2023-02-12T17:34:19.455Z"
   },
   {
    "duration": 16,
    "start_time": "2023-02-12T17:34:19.499Z"
   },
   {
    "duration": 4,
    "start_time": "2023-02-12T17:34:19.516Z"
   },
   {
    "duration": 12,
    "start_time": "2023-02-12T17:34:19.521Z"
   },
   {
    "duration": 6,
    "start_time": "2023-02-12T17:34:19.535Z"
   },
   {
    "duration": 3,
    "start_time": "2023-02-12T17:34:19.543Z"
   },
   {
    "duration": 11,
    "start_time": "2023-02-12T17:34:19.547Z"
   },
   {
    "duration": 37,
    "start_time": "2023-02-12T17:34:19.559Z"
   },
   {
    "duration": 12,
    "start_time": "2023-02-12T17:34:19.598Z"
   },
   {
    "duration": 6,
    "start_time": "2023-02-12T17:34:19.612Z"
   },
   {
    "duration": 5,
    "start_time": "2023-02-12T17:34:19.619Z"
   },
   {
    "duration": 69,
    "start_time": "2023-02-12T17:36:08.960Z"
   },
   {
    "duration": 14,
    "start_time": "2023-02-12T17:36:09.031Z"
   },
   {
    "duration": 16,
    "start_time": "2023-02-12T17:36:09.046Z"
   },
   {
    "duration": 10,
    "start_time": "2023-02-12T17:36:09.064Z"
   },
   {
    "duration": 46,
    "start_time": "2023-02-12T17:36:09.075Z"
   },
   {
    "duration": 3,
    "start_time": "2023-02-12T17:36:09.122Z"
   },
   {
    "duration": 11,
    "start_time": "2023-02-12T17:36:09.127Z"
   },
   {
    "duration": 4,
    "start_time": "2023-02-12T17:36:09.140Z"
   },
   {
    "duration": 8,
    "start_time": "2023-02-12T17:36:09.145Z"
   },
   {
    "duration": 3,
    "start_time": "2023-02-12T17:36:09.155Z"
   },
   {
    "duration": 58,
    "start_time": "2023-02-12T17:36:09.160Z"
   },
   {
    "duration": 10,
    "start_time": "2023-02-12T17:36:09.219Z"
   },
   {
    "duration": 5,
    "start_time": "2023-02-12T17:36:09.230Z"
   },
   {
    "duration": 13,
    "start_time": "2023-02-12T17:36:09.236Z"
   },
   {
    "duration": 19,
    "start_time": "2023-02-12T17:36:09.250Z"
   },
   {
    "duration": 35,
    "start_time": "2023-02-12T17:36:09.270Z"
   },
   {
    "duration": 3,
    "start_time": "2023-02-12T17:36:09.307Z"
   },
   {
    "duration": 12,
    "start_time": "2023-02-12T17:36:09.311Z"
   },
   {
    "duration": 8,
    "start_time": "2023-02-12T17:36:09.324Z"
   },
   {
    "duration": 3,
    "start_time": "2023-02-12T17:36:09.334Z"
   },
   {
    "duration": 10,
    "start_time": "2023-02-12T17:36:09.338Z"
   },
   {
    "duration": 25,
    "start_time": "2023-02-12T17:36:09.349Z"
   },
   {
    "duration": 16,
    "start_time": "2023-02-12T17:36:09.376Z"
   },
   {
    "duration": 4,
    "start_time": "2023-02-12T17:36:09.394Z"
   },
   {
    "duration": 23,
    "start_time": "2023-02-12T17:36:09.400Z"
   },
   {
    "duration": 70,
    "start_time": "2023-02-12T17:38:16.963Z"
   },
   {
    "duration": 14,
    "start_time": "2023-02-12T17:38:17.034Z"
   },
   {
    "duration": 16,
    "start_time": "2023-02-12T17:38:17.050Z"
   },
   {
    "duration": 28,
    "start_time": "2023-02-12T17:38:17.067Z"
   },
   {
    "duration": 35,
    "start_time": "2023-02-12T17:38:17.096Z"
   },
   {
    "duration": 4,
    "start_time": "2023-02-12T17:38:17.132Z"
   },
   {
    "duration": 10,
    "start_time": "2023-02-12T17:38:17.137Z"
   },
   {
    "duration": 4,
    "start_time": "2023-02-12T17:38:17.149Z"
   },
   {
    "duration": 10,
    "start_time": "2023-02-12T17:38:17.154Z"
   },
   {
    "duration": 28,
    "start_time": "2023-02-12T17:38:17.167Z"
   },
   {
    "duration": 38,
    "start_time": "2023-02-12T17:38:17.197Z"
   },
   {
    "duration": 9,
    "start_time": "2023-02-12T17:38:17.237Z"
   },
   {
    "duration": 4,
    "start_time": "2023-02-12T17:38:17.248Z"
   },
   {
    "duration": 12,
    "start_time": "2023-02-12T17:38:17.253Z"
   },
   {
    "duration": 41,
    "start_time": "2023-02-12T17:38:17.266Z"
   },
   {
    "duration": 18,
    "start_time": "2023-02-12T17:38:17.308Z"
   },
   {
    "duration": 4,
    "start_time": "2023-02-12T17:38:17.327Z"
   },
   {
    "duration": 12,
    "start_time": "2023-02-12T17:38:17.332Z"
   },
   {
    "duration": 4,
    "start_time": "2023-02-12T17:38:17.346Z"
   },
   {
    "duration": 4,
    "start_time": "2023-02-12T17:38:17.352Z"
   },
   {
    "duration": 36,
    "start_time": "2023-02-12T17:38:17.357Z"
   },
   {
    "duration": 32,
    "start_time": "2023-02-12T17:38:17.394Z"
   },
   {
    "duration": 3,
    "start_time": "2023-02-12T17:38:17.427Z"
   },
   {
    "duration": 6,
    "start_time": "2023-02-12T17:38:17.431Z"
   },
   {
    "duration": 5,
    "start_time": "2023-02-12T17:38:17.439Z"
   },
   {
    "duration": 19,
    "start_time": "2023-02-12T17:40:09.947Z"
   },
   {
    "duration": 28,
    "start_time": "2023-02-12T17:40:38.572Z"
   },
   {
    "duration": 23,
    "start_time": "2023-02-12T17:40:53.340Z"
   },
   {
    "duration": 24,
    "start_time": "2023-02-12T17:41:24.908Z"
   },
   {
    "duration": 26,
    "start_time": "2023-02-12T17:43:05.646Z"
   },
   {
    "duration": 27,
    "start_time": "2023-02-12T17:49:32.326Z"
   },
   {
    "duration": 85,
    "start_time": "2023-02-12T17:49:35.988Z"
   },
   {
    "duration": 15,
    "start_time": "2023-02-12T17:49:36.074Z"
   },
   {
    "duration": 19,
    "start_time": "2023-02-12T17:49:36.091Z"
   },
   {
    "duration": 9,
    "start_time": "2023-02-12T17:49:36.112Z"
   },
   {
    "duration": 46,
    "start_time": "2023-02-12T17:49:36.122Z"
   },
   {
    "duration": 4,
    "start_time": "2023-02-12T17:49:36.169Z"
   },
   {
    "duration": 17,
    "start_time": "2023-02-12T17:49:36.175Z"
   },
   {
    "duration": 5,
    "start_time": "2023-02-12T17:49:36.193Z"
   },
   {
    "duration": 11,
    "start_time": "2023-02-12T17:49:36.199Z"
   },
   {
    "duration": 9,
    "start_time": "2023-02-12T17:49:36.212Z"
   },
   {
    "duration": 51,
    "start_time": "2023-02-12T17:49:36.222Z"
   },
   {
    "duration": 11,
    "start_time": "2023-02-12T17:49:36.274Z"
   },
   {
    "duration": 18,
    "start_time": "2023-02-12T17:49:36.287Z"
   },
   {
    "duration": 35,
    "start_time": "2023-02-12T17:49:36.308Z"
   },
   {
    "duration": 32,
    "start_time": "2023-02-12T17:49:36.346Z"
   },
   {
    "duration": 23,
    "start_time": "2023-02-12T17:49:36.379Z"
   },
   {
    "duration": 7,
    "start_time": "2023-02-12T17:49:36.404Z"
   },
   {
    "duration": 19,
    "start_time": "2023-02-12T17:49:36.413Z"
   },
   {
    "duration": 17,
    "start_time": "2023-02-12T17:49:36.433Z"
   },
   {
    "duration": 10,
    "start_time": "2023-02-12T17:49:36.451Z"
   },
   {
    "duration": 21,
    "start_time": "2023-02-12T17:49:36.463Z"
   },
   {
    "duration": 40,
    "start_time": "2023-02-12T17:49:36.486Z"
   },
   {
    "duration": 2,
    "start_time": "2023-02-12T17:49:36.528Z"
   },
   {
    "duration": 7,
    "start_time": "2023-02-12T17:49:36.532Z"
   },
   {
    "duration": 8,
    "start_time": "2023-02-12T17:49:36.541Z"
   },
   {
    "duration": 25,
    "start_time": "2023-02-12T17:49:57.461Z"
   },
   {
    "duration": 22,
    "start_time": "2023-02-12T17:53:37.350Z"
   },
   {
    "duration": 26,
    "start_time": "2023-02-12T18:05:45.614Z"
   },
   {
    "duration": 14,
    "start_time": "2023-02-12T18:05:57.408Z"
   },
   {
    "duration": 79,
    "start_time": "2023-02-12T18:06:02.370Z"
   },
   {
    "duration": 15,
    "start_time": "2023-02-12T18:06:02.452Z"
   },
   {
    "duration": 28,
    "start_time": "2023-02-12T18:06:02.469Z"
   },
   {
    "duration": 12,
    "start_time": "2023-02-12T18:06:02.499Z"
   },
   {
    "duration": 47,
    "start_time": "2023-02-12T18:06:02.513Z"
   },
   {
    "duration": 4,
    "start_time": "2023-02-12T18:06:02.562Z"
   },
   {
    "duration": 24,
    "start_time": "2023-02-12T18:06:02.567Z"
   },
   {
    "duration": 7,
    "start_time": "2023-02-12T18:06:02.593Z"
   },
   {
    "duration": 18,
    "start_time": "2023-02-12T18:06:02.602Z"
   },
   {
    "duration": 4,
    "start_time": "2023-02-12T18:06:02.622Z"
   },
   {
    "duration": 55,
    "start_time": "2023-02-12T18:06:02.628Z"
   },
   {
    "duration": 10,
    "start_time": "2023-02-12T18:06:02.684Z"
   },
   {
    "duration": 17,
    "start_time": "2023-02-12T18:06:02.696Z"
   },
   {
    "duration": 15,
    "start_time": "2023-02-12T18:06:02.715Z"
   },
   {
    "duration": 18,
    "start_time": "2023-02-12T18:06:02.731Z"
   },
   {
    "duration": 40,
    "start_time": "2023-02-12T18:06:02.750Z"
   },
   {
    "duration": 4,
    "start_time": "2023-02-12T18:06:02.792Z"
   },
   {
    "duration": 21,
    "start_time": "2023-02-12T18:06:02.797Z"
   },
   {
    "duration": 20,
    "start_time": "2023-02-12T18:06:02.820Z"
   },
   {
    "duration": 6,
    "start_time": "2023-02-12T18:06:02.842Z"
   },
   {
    "duration": 11,
    "start_time": "2023-02-12T18:06:02.850Z"
   },
   {
    "duration": 14,
    "start_time": "2023-02-12T18:06:02.862Z"
   },
   {
    "duration": 65,
    "start_time": "2023-02-12T18:06:02.877Z"
   },
   {
    "duration": 26,
    "start_time": "2023-02-12T18:06:02.943Z"
   },
   {
    "duration": 2,
    "start_time": "2023-02-12T18:06:02.971Z"
   },
   {
    "duration": 37,
    "start_time": "2023-02-12T18:06:02.974Z"
   },
   {
    "duration": 19,
    "start_time": "2023-02-12T18:07:43.321Z"
   },
   {
    "duration": 16,
    "start_time": "2023-02-12T18:09:27.658Z"
   },
   {
    "duration": 15,
    "start_time": "2023-02-12T18:10:38.683Z"
   },
   {
    "duration": 18,
    "start_time": "2023-02-12T18:13:36.662Z"
   },
   {
    "duration": 8,
    "start_time": "2023-02-12T18:15:48.818Z"
   },
   {
    "duration": 9,
    "start_time": "2023-02-12T18:18:00.806Z"
   },
   {
    "duration": 4,
    "start_time": "2023-02-12T18:18:57.599Z"
   },
   {
    "duration": 334,
    "start_time": "2023-02-12T18:19:11.852Z"
   },
   {
    "duration": 66,
    "start_time": "2023-02-12T18:19:26.014Z"
   },
   {
    "duration": 17,
    "start_time": "2023-02-12T18:19:26.083Z"
   },
   {
    "duration": 16,
    "start_time": "2023-02-12T18:19:26.101Z"
   },
   {
    "duration": 10,
    "start_time": "2023-02-12T18:19:26.119Z"
   },
   {
    "duration": 35,
    "start_time": "2023-02-12T18:19:26.131Z"
   },
   {
    "duration": 4,
    "start_time": "2023-02-12T18:19:26.167Z"
   },
   {
    "duration": 7,
    "start_time": "2023-02-12T18:19:26.192Z"
   },
   {
    "duration": 11,
    "start_time": "2023-02-12T18:19:26.200Z"
   },
   {
    "duration": 10,
    "start_time": "2023-02-12T18:19:26.212Z"
   },
   {
    "duration": 7,
    "start_time": "2023-02-12T18:19:26.224Z"
   },
   {
    "duration": 67,
    "start_time": "2023-02-12T18:19:26.233Z"
   },
   {
    "duration": 14,
    "start_time": "2023-02-12T18:19:26.303Z"
   },
   {
    "duration": 5,
    "start_time": "2023-02-12T18:19:26.320Z"
   },
   {
    "duration": 16,
    "start_time": "2023-02-12T18:19:26.326Z"
   },
   {
    "duration": 48,
    "start_time": "2023-02-12T18:19:26.344Z"
   },
   {
    "duration": 28,
    "start_time": "2023-02-12T18:19:26.394Z"
   },
   {
    "duration": 4,
    "start_time": "2023-02-12T18:19:26.424Z"
   },
   {
    "duration": 27,
    "start_time": "2023-02-12T18:19:26.430Z"
   },
   {
    "duration": 21,
    "start_time": "2023-02-12T18:19:26.459Z"
   },
   {
    "duration": 11,
    "start_time": "2023-02-12T18:19:26.482Z"
   },
   {
    "duration": 11,
    "start_time": "2023-02-12T18:19:26.494Z"
   },
   {
    "duration": 15,
    "start_time": "2023-02-12T18:19:26.508Z"
   },
   {
    "duration": 5,
    "start_time": "2023-02-12T18:19:26.525Z"
   },
   {
    "duration": 69,
    "start_time": "2023-02-12T18:19:26.531Z"
   },
   {
    "duration": 22,
    "start_time": "2023-02-12T18:19:26.602Z"
   },
   {
    "duration": 7,
    "start_time": "2023-02-12T18:19:26.626Z"
   },
   {
    "duration": 14,
    "start_time": "2023-02-12T18:19:26.634Z"
   },
   {
    "duration": 15,
    "start_time": "2023-02-12T18:19:26.652Z"
   },
   {
    "duration": 33,
    "start_time": "2023-02-12T18:19:26.668Z"
   },
   {
    "duration": 25,
    "start_time": "2023-02-12T18:19:26.703Z"
   },
   {
    "duration": 13,
    "start_time": "2023-02-12T18:19:26.730Z"
   },
   {
    "duration": 23,
    "start_time": "2023-02-12T18:19:26.745Z"
   },
   {
    "duration": 22,
    "start_time": "2023-02-12T18:19:26.769Z"
   },
   {
    "duration": 8,
    "start_time": "2023-02-12T18:20:41.037Z"
   },
   {
    "duration": 21,
    "start_time": "2023-02-12T18:23:42.425Z"
   },
   {
    "duration": 74,
    "start_time": "2023-02-12T18:30:44.079Z"
   },
   {
    "duration": 16,
    "start_time": "2023-02-12T18:30:44.156Z"
   },
   {
    "duration": 42,
    "start_time": "2023-02-12T18:30:44.174Z"
   },
   {
    "duration": 15,
    "start_time": "2023-02-12T18:30:44.219Z"
   },
   {
    "duration": 55,
    "start_time": "2023-02-12T18:30:44.236Z"
   },
   {
    "duration": 4,
    "start_time": "2023-02-12T18:30:44.293Z"
   },
   {
    "duration": 12,
    "start_time": "2023-02-12T18:30:44.299Z"
   },
   {
    "duration": 6,
    "start_time": "2023-02-12T18:30:44.312Z"
   },
   {
    "duration": 8,
    "start_time": "2023-02-12T18:30:44.321Z"
   },
   {
    "duration": 6,
    "start_time": "2023-02-12T18:30:44.334Z"
   },
   {
    "duration": 71,
    "start_time": "2023-02-12T18:30:44.341Z"
   },
   {
    "duration": 10,
    "start_time": "2023-02-12T18:30:44.414Z"
   },
   {
    "duration": 5,
    "start_time": "2023-02-12T18:30:44.426Z"
   },
   {
    "duration": 13,
    "start_time": "2023-02-12T18:30:44.432Z"
   },
   {
    "duration": 44,
    "start_time": "2023-02-12T18:30:44.448Z"
   },
   {
    "duration": 20,
    "start_time": "2023-02-12T18:30:44.495Z"
   },
   {
    "duration": 4,
    "start_time": "2023-02-12T18:30:44.516Z"
   },
   {
    "duration": 18,
    "start_time": "2023-02-12T18:30:44.521Z"
   },
   {
    "duration": 6,
    "start_time": "2023-02-12T18:30:44.540Z"
   },
   {
    "duration": 7,
    "start_time": "2023-02-12T18:30:44.547Z"
   },
   {
    "duration": 35,
    "start_time": "2023-02-12T18:30:44.556Z"
   },
   {
    "duration": 15,
    "start_time": "2023-02-12T18:30:44.593Z"
   },
   {
    "duration": 7,
    "start_time": "2023-02-12T18:30:44.610Z"
   },
   {
    "duration": 26,
    "start_time": "2023-02-12T18:30:44.619Z"
   },
   {
    "duration": 45,
    "start_time": "2023-02-12T18:30:44.647Z"
   },
   {
    "duration": 64,
    "start_time": "2023-02-12T18:30:44.694Z"
   },
   {
    "duration": 17,
    "start_time": "2023-02-12T18:30:44.760Z"
   },
   {
    "duration": 12,
    "start_time": "2023-02-12T18:30:44.780Z"
   },
   {
    "duration": 12,
    "start_time": "2023-02-12T18:30:44.793Z"
   },
   {
    "duration": 15,
    "start_time": "2023-02-12T18:30:44.807Z"
   },
   {
    "duration": 22,
    "start_time": "2023-02-12T18:30:44.824Z"
   },
   {
    "duration": 13,
    "start_time": "2023-02-12T18:30:44.847Z"
   },
   {
    "duration": 5,
    "start_time": "2023-02-12T18:30:44.862Z"
   },
   {
    "duration": 42,
    "start_time": "2023-02-12T18:30:44.869Z"
   },
   {
    "duration": 13,
    "start_time": "2023-02-12T18:30:44.913Z"
   },
   {
    "duration": 21,
    "start_time": "2023-02-12T18:31:36.700Z"
   },
   {
    "duration": 55,
    "start_time": "2023-02-17T08:30:39.692Z"
   },
   {
    "duration": 47,
    "start_time": "2023-02-17T08:46:07.244Z"
   },
   {
    "duration": 7,
    "start_time": "2023-02-17T08:46:21.308Z"
   },
   {
    "duration": 485,
    "start_time": "2023-02-17T08:46:28.323Z"
   },
   {
    "duration": 22,
    "start_time": "2023-02-17T08:46:28.810Z"
   },
   {
    "duration": 20,
    "start_time": "2023-02-17T08:46:28.834Z"
   },
   {
    "duration": 12,
    "start_time": "2023-02-17T08:46:28.856Z"
   },
   {
    "duration": 39,
    "start_time": "2023-02-17T08:46:28.870Z"
   },
   {
    "duration": 3,
    "start_time": "2023-02-17T08:46:28.911Z"
   },
   {
    "duration": 19,
    "start_time": "2023-02-17T08:46:28.915Z"
   },
   {
    "duration": 7,
    "start_time": "2023-02-17T08:46:28.936Z"
   },
   {
    "duration": 7,
    "start_time": "2023-02-17T08:46:28.945Z"
   },
   {
    "duration": 4,
    "start_time": "2023-02-17T08:46:28.956Z"
   },
   {
    "duration": 35,
    "start_time": "2023-02-17T08:46:28.962Z"
   },
   {
    "duration": 30,
    "start_time": "2023-02-17T08:46:28.998Z"
   },
   {
    "duration": 4,
    "start_time": "2023-02-17T08:46:29.030Z"
   },
   {
    "duration": 16,
    "start_time": "2023-02-17T08:46:29.035Z"
   },
   {
    "duration": 23,
    "start_time": "2023-02-17T08:46:29.053Z"
   },
   {
    "duration": 16,
    "start_time": "2023-02-17T08:46:29.078Z"
   },
   {
    "duration": 3,
    "start_time": "2023-02-17T08:46:29.096Z"
   },
   {
    "duration": 33,
    "start_time": "2023-02-17T08:46:29.101Z"
   },
   {
    "duration": 17,
    "start_time": "2023-02-17T08:46:29.136Z"
   },
   {
    "duration": 8,
    "start_time": "2023-02-17T08:46:29.155Z"
   },
   {
    "duration": 12,
    "start_time": "2023-02-17T08:46:29.164Z"
   },
   {
    "duration": 18,
    "start_time": "2023-02-17T08:46:29.177Z"
   },
   {
    "duration": 33,
    "start_time": "2023-02-17T08:46:29.196Z"
   },
   {
    "duration": 25,
    "start_time": "2023-02-17T08:46:29.230Z"
   },
   {
    "duration": 6,
    "start_time": "2023-02-17T08:46:29.257Z"
   },
   {
    "duration": 10,
    "start_time": "2023-02-17T08:46:29.264Z"
   },
   {
    "duration": 14,
    "start_time": "2023-02-17T08:46:29.275Z"
   },
   {
    "duration": 36,
    "start_time": "2023-02-17T08:46:29.292Z"
   },
   {
    "duration": 30,
    "start_time": "2023-02-17T08:46:29.330Z"
   },
   {
    "duration": 31,
    "start_time": "2023-02-17T08:46:29.362Z"
   },
   {
    "duration": 15,
    "start_time": "2023-02-17T08:46:29.395Z"
   },
   {
    "duration": 20,
    "start_time": "2023-02-17T08:46:29.411Z"
   },
   {
    "duration": 41,
    "start_time": "2023-02-17T08:46:29.433Z"
   },
   {
    "duration": 15,
    "start_time": "2023-02-17T08:46:29.475Z"
   },
   {
    "duration": 28,
    "start_time": "2023-02-17T08:46:29.491Z"
   },
   {
    "duration": 13,
    "start_time": "2023-02-17T09:00:53.508Z"
   },
   {
    "duration": 21,
    "start_time": "2023-02-17T09:01:22.625Z"
   },
   {
    "duration": 78,
    "start_time": "2023-02-17T09:01:40.897Z"
   },
   {
    "duration": 18,
    "start_time": "2023-02-17T09:01:52.557Z"
   },
   {
    "duration": 545,
    "start_time": "2023-02-17T09:03:37.544Z"
   },
   {
    "duration": 549,
    "start_time": "2023-02-17T09:03:49.553Z"
   },
   {
    "duration": 467,
    "start_time": "2023-02-17T09:04:05.044Z"
   },
   {
    "duration": 27,
    "start_time": "2023-02-17T09:04:05.513Z"
   },
   {
    "duration": 21,
    "start_time": "2023-02-17T09:04:05.541Z"
   },
   {
    "duration": 8,
    "start_time": "2023-02-17T09:04:05.564Z"
   },
   {
    "duration": 31,
    "start_time": "2023-02-17T09:04:05.574Z"
   },
   {
    "duration": 4,
    "start_time": "2023-02-17T09:04:05.607Z"
   },
   {
    "duration": 9,
    "start_time": "2023-02-17T09:04:05.631Z"
   },
   {
    "duration": 8,
    "start_time": "2023-02-17T09:04:05.642Z"
   },
   {
    "duration": 31,
    "start_time": "2023-02-17T09:04:05.652Z"
   },
   {
    "duration": 5,
    "start_time": "2023-02-17T09:04:05.686Z"
   },
   {
    "duration": 49,
    "start_time": "2023-02-17T09:04:05.693Z"
   },
   {
    "duration": 9,
    "start_time": "2023-02-17T09:04:05.743Z"
   },
   {
    "duration": 29,
    "start_time": "2023-02-17T09:04:05.754Z"
   },
   {
    "duration": 21,
    "start_time": "2023-02-17T09:04:05.785Z"
   },
   {
    "duration": 27,
    "start_time": "2023-02-17T09:04:05.808Z"
   },
   {
    "duration": 18,
    "start_time": "2023-02-17T09:04:05.837Z"
   },
   {
    "duration": 3,
    "start_time": "2023-02-17T09:04:05.857Z"
   },
   {
    "duration": 25,
    "start_time": "2023-02-17T09:04:05.862Z"
   },
   {
    "duration": 6,
    "start_time": "2023-02-17T09:04:05.889Z"
   },
   {
    "duration": 3,
    "start_time": "2023-02-17T09:04:05.897Z"
   },
   {
    "duration": 14,
    "start_time": "2023-02-17T09:04:05.902Z"
   },
   {
    "duration": 23,
    "start_time": "2023-02-17T09:04:05.918Z"
   },
   {
    "duration": 22,
    "start_time": "2023-02-17T09:04:05.942Z"
   },
   {
    "duration": 23,
    "start_time": "2023-02-17T09:04:05.965Z"
   },
   {
    "duration": 6,
    "start_time": "2023-02-17T09:04:05.989Z"
   },
   {
    "duration": 33,
    "start_time": "2023-02-17T09:04:05.997Z"
   },
   {
    "duration": 20,
    "start_time": "2023-02-17T09:04:06.032Z"
   },
   {
    "duration": 11,
    "start_time": "2023-02-17T09:04:06.055Z"
   },
   {
    "duration": 20,
    "start_time": "2023-02-17T09:04:06.067Z"
   },
   {
    "duration": 28,
    "start_time": "2023-02-17T09:04:06.089Z"
   },
   {
    "duration": 22,
    "start_time": "2023-02-17T09:04:06.119Z"
   },
   {
    "duration": 11,
    "start_time": "2023-02-17T09:04:06.144Z"
   },
   {
    "duration": 29,
    "start_time": "2023-02-17T09:04:06.156Z"
   },
   {
    "duration": 14,
    "start_time": "2023-02-17T09:04:06.186Z"
   },
   {
    "duration": 42,
    "start_time": "2023-02-17T09:04:06.201Z"
   },
   {
    "duration": 242,
    "start_time": "2023-02-17T09:04:25.500Z"
   },
   {
    "duration": 466,
    "start_time": "2023-02-17T09:04:31.745Z"
   },
   {
    "duration": 22,
    "start_time": "2023-02-17T09:04:32.213Z"
   },
   {
    "duration": 35,
    "start_time": "2023-02-17T09:04:32.236Z"
   },
   {
    "duration": 9,
    "start_time": "2023-02-17T09:04:32.272Z"
   },
   {
    "duration": 33,
    "start_time": "2023-02-17T09:04:32.283Z"
   },
   {
    "duration": 4,
    "start_time": "2023-02-17T09:04:32.317Z"
   },
   {
    "duration": 29,
    "start_time": "2023-02-17T09:04:32.326Z"
   },
   {
    "duration": 17,
    "start_time": "2023-02-17T09:04:32.356Z"
   },
   {
    "duration": 16,
    "start_time": "2023-02-17T09:04:32.374Z"
   },
   {
    "duration": 11,
    "start_time": "2023-02-17T09:04:32.391Z"
   },
   {
    "duration": 40,
    "start_time": "2023-02-17T09:04:32.404Z"
   },
   {
    "duration": 11,
    "start_time": "2023-02-17T09:04:32.446Z"
   },
   {
    "duration": 14,
    "start_time": "2023-02-17T09:04:32.458Z"
   },
   {
    "duration": 19,
    "start_time": "2023-02-17T09:04:32.475Z"
   },
   {
    "duration": 18,
    "start_time": "2023-02-17T09:04:32.496Z"
   },
   {
    "duration": 25,
    "start_time": "2023-02-17T09:04:32.516Z"
   },
   {
    "duration": 8,
    "start_time": "2023-02-17T09:04:32.543Z"
   },
   {
    "duration": 25,
    "start_time": "2023-02-17T09:04:32.552Z"
   },
   {
    "duration": 10,
    "start_time": "2023-02-17T09:04:32.579Z"
   },
   {
    "duration": 6,
    "start_time": "2023-02-17T09:04:32.591Z"
   },
   {
    "duration": 18,
    "start_time": "2023-02-17T09:04:32.599Z"
   },
   {
    "duration": 19,
    "start_time": "2023-02-17T09:04:32.619Z"
   },
   {
    "duration": 27,
    "start_time": "2023-02-17T09:04:32.640Z"
   },
   {
    "duration": 23,
    "start_time": "2023-02-17T09:04:32.669Z"
   },
   {
    "duration": 7,
    "start_time": "2023-02-17T09:04:32.694Z"
   },
   {
    "duration": 33,
    "start_time": "2023-02-17T09:04:32.703Z"
   },
   {
    "duration": 13,
    "start_time": "2023-02-17T09:04:32.738Z"
   },
   {
    "duration": 9,
    "start_time": "2023-02-17T09:04:32.753Z"
   },
   {
    "duration": 20,
    "start_time": "2023-02-17T09:04:32.763Z"
   },
   {
    "duration": 27,
    "start_time": "2023-02-17T09:04:32.784Z"
   },
   {
    "duration": 24,
    "start_time": "2023-02-17T09:04:32.812Z"
   },
   {
    "duration": 14,
    "start_time": "2023-02-17T09:04:32.837Z"
   },
   {
    "duration": 35,
    "start_time": "2023-02-17T09:04:32.852Z"
   },
   {
    "duration": 14,
    "start_time": "2023-02-17T09:04:32.889Z"
   },
   {
    "duration": 24,
    "start_time": "2023-02-17T09:04:32.904Z"
   },
   {
    "duration": 65,
    "start_time": "2023-02-17T09:04:58.443Z"
   },
   {
    "duration": 15,
    "start_time": "2023-02-17T09:04:58.510Z"
   },
   {
    "duration": 25,
    "start_time": "2023-02-17T09:04:58.527Z"
   },
   {
    "duration": 10,
    "start_time": "2023-02-17T09:04:58.554Z"
   },
   {
    "duration": 31,
    "start_time": "2023-02-17T09:04:58.566Z"
   },
   {
    "duration": 3,
    "start_time": "2023-02-17T09:04:58.599Z"
   },
   {
    "duration": 12,
    "start_time": "2023-02-17T09:04:58.603Z"
   },
   {
    "duration": 5,
    "start_time": "2023-02-17T09:04:58.627Z"
   },
   {
    "duration": 17,
    "start_time": "2023-02-17T09:04:58.634Z"
   },
   {
    "duration": 6,
    "start_time": "2023-02-17T09:04:58.653Z"
   },
   {
    "duration": 43,
    "start_time": "2023-02-17T09:04:58.660Z"
   },
   {
    "duration": 10,
    "start_time": "2023-02-17T09:04:58.705Z"
   },
   {
    "duration": 12,
    "start_time": "2023-02-17T09:04:58.728Z"
   },
   {
    "duration": 18,
    "start_time": "2023-02-17T09:04:58.744Z"
   },
   {
    "duration": 23,
    "start_time": "2023-02-17T09:04:58.764Z"
   },
   {
    "duration": 17,
    "start_time": "2023-02-17T09:04:58.789Z"
   },
   {
    "duration": 4,
    "start_time": "2023-02-17T09:04:58.807Z"
   },
   {
    "duration": 28,
    "start_time": "2023-02-17T09:04:58.813Z"
   },
   {
    "duration": 16,
    "start_time": "2023-02-17T09:04:58.843Z"
   },
   {
    "duration": 4,
    "start_time": "2023-02-17T09:04:58.860Z"
   },
   {
    "duration": 11,
    "start_time": "2023-02-17T09:04:58.865Z"
   },
   {
    "duration": 35,
    "start_time": "2023-02-17T09:04:58.878Z"
   },
   {
    "duration": 31,
    "start_time": "2023-02-17T09:04:58.914Z"
   },
   {
    "duration": 25,
    "start_time": "2023-02-17T09:04:58.946Z"
   },
   {
    "duration": 7,
    "start_time": "2023-02-17T09:04:58.973Z"
   },
   {
    "duration": 19,
    "start_time": "2023-02-17T09:04:58.981Z"
   },
   {
    "duration": 11,
    "start_time": "2023-02-17T09:04:59.002Z"
   },
   {
    "duration": 20,
    "start_time": "2023-02-17T09:04:59.014Z"
   },
   {
    "duration": 22,
    "start_time": "2023-02-17T09:04:59.036Z"
   },
   {
    "duration": 35,
    "start_time": "2023-02-17T09:04:59.060Z"
   },
   {
    "duration": 13,
    "start_time": "2023-02-17T09:04:59.096Z"
   },
   {
    "duration": 16,
    "start_time": "2023-02-17T09:04:59.111Z"
   },
   {
    "duration": 39,
    "start_time": "2023-02-17T09:04:59.129Z"
   },
   {
    "duration": 13,
    "start_time": "2023-02-17T09:04:59.170Z"
   },
   {
    "duration": 29,
    "start_time": "2023-02-17T09:04:59.185Z"
   },
   {
    "duration": 58,
    "start_time": "2023-02-25T17:11:06.929Z"
   },
   {
    "duration": 52,
    "start_time": "2023-03-08T08:47:08.952Z"
   },
   {
    "duration": 872,
    "start_time": "2023-05-24T14:49:23.449Z"
   },
   {
    "duration": 25,
    "start_time": "2023-05-24T14:49:24.324Z"
   },
   {
    "duration": 16,
    "start_time": "2023-05-24T14:49:24.351Z"
   },
   {
    "duration": 11,
    "start_time": "2023-05-24T14:49:24.369Z"
   },
   {
    "duration": 35,
    "start_time": "2023-05-24T14:49:24.382Z"
   },
   {
    "duration": 4,
    "start_time": "2023-05-24T14:49:24.419Z"
   },
   {
    "duration": 12,
    "start_time": "2023-05-24T14:49:24.425Z"
   },
   {
    "duration": 35,
    "start_time": "2023-05-24T14:49:24.439Z"
   },
   {
    "duration": 16,
    "start_time": "2023-05-24T14:49:24.475Z"
   },
   {
    "duration": 5,
    "start_time": "2023-05-24T14:49:24.493Z"
   },
   {
    "duration": 37,
    "start_time": "2023-05-24T14:49:24.499Z"
   },
   {
    "duration": 11,
    "start_time": "2023-05-24T14:49:24.538Z"
   },
   {
    "duration": 5,
    "start_time": "2023-05-24T14:49:24.572Z"
   },
   {
    "duration": 14,
    "start_time": "2023-05-24T14:49:24.581Z"
   },
   {
    "duration": 24,
    "start_time": "2023-05-24T14:49:24.597Z"
   },
   {
    "duration": 48,
    "start_time": "2023-05-24T14:49:24.623Z"
   },
   {
    "duration": 4,
    "start_time": "2023-05-24T14:49:24.673Z"
   },
   {
    "duration": 14,
    "start_time": "2023-05-24T14:49:24.679Z"
   },
   {
    "duration": 10,
    "start_time": "2023-05-24T14:49:24.695Z"
   },
   {
    "duration": 5,
    "start_time": "2023-05-24T14:49:24.707Z"
   },
   {
    "duration": 27,
    "start_time": "2023-05-24T14:49:24.714Z"
   },
   {
    "duration": 26,
    "start_time": "2023-05-24T14:49:24.743Z"
   },
   {
    "duration": 23,
    "start_time": "2023-05-24T14:49:24.772Z"
   },
   {
    "duration": 27,
    "start_time": "2023-05-24T14:49:24.797Z"
   },
   {
    "duration": 7,
    "start_time": "2023-05-24T14:49:24.826Z"
   },
   {
    "duration": 39,
    "start_time": "2023-05-24T14:49:24.834Z"
   },
   {
    "duration": 14,
    "start_time": "2023-05-24T14:49:24.874Z"
   },
   {
    "duration": 14,
    "start_time": "2023-05-24T14:49:24.889Z"
   },
   {
    "duration": 29,
    "start_time": "2023-05-24T14:49:24.905Z"
   },
   {
    "duration": 25,
    "start_time": "2023-05-24T14:49:24.936Z"
   },
   {
    "duration": 16,
    "start_time": "2023-05-24T14:49:24.971Z"
   },
   {
    "duration": 26,
    "start_time": "2023-05-24T14:49:24.988Z"
   },
   {
    "duration": 17,
    "start_time": "2023-05-24T14:49:25.016Z"
   },
   {
    "duration": 48,
    "start_time": "2023-05-24T14:49:25.035Z"
   },
   {
    "duration": 590,
    "start_time": "2023-08-13T15:06:51.442Z"
   },
   {
    "duration": 26,
    "start_time": "2023-08-13T15:06:52.034Z"
   },
   {
    "duration": 57,
    "start_time": "2023-08-13T15:06:52.061Z"
   },
   {
    "duration": 26,
    "start_time": "2023-08-13T15:06:52.121Z"
   },
   {
    "duration": 52,
    "start_time": "2023-08-13T15:06:52.148Z"
   },
   {
    "duration": 4,
    "start_time": "2023-08-13T15:06:52.202Z"
   },
   {
    "duration": 52,
    "start_time": "2023-08-13T15:06:52.207Z"
   },
   {
    "duration": 103,
    "start_time": "2023-08-13T15:06:52.261Z"
   },
   {
    "duration": 43,
    "start_time": "2023-08-13T15:06:52.366Z"
   },
   {
    "duration": 5,
    "start_time": "2023-08-13T15:06:52.414Z"
   },
   {
    "duration": 33,
    "start_time": "2023-08-13T15:06:52.421Z"
   },
   {
    "duration": 10,
    "start_time": "2023-08-13T15:06:52.455Z"
   },
   {
    "duration": 4,
    "start_time": "2023-08-13T15:06:52.466Z"
   },
   {
    "duration": 19,
    "start_time": "2023-08-13T15:06:52.471Z"
   },
   {
    "duration": 18,
    "start_time": "2023-08-13T15:06:52.492Z"
   },
   {
    "duration": 18,
    "start_time": "2023-08-13T15:06:52.512Z"
   },
   {
    "duration": 4,
    "start_time": "2023-08-13T15:06:52.555Z"
   },
   {
    "duration": 25,
    "start_time": "2023-08-13T15:06:52.561Z"
   },
   {
    "duration": 12,
    "start_time": "2023-08-13T15:06:52.588Z"
   },
   {
    "duration": 4,
    "start_time": "2023-08-13T15:06:52.601Z"
   },
   {
    "duration": 14,
    "start_time": "2023-08-13T15:06:52.607Z"
   },
   {
    "duration": 35,
    "start_time": "2023-08-13T15:06:52.623Z"
   },
   {
    "duration": 25,
    "start_time": "2023-08-13T15:06:52.660Z"
   },
   {
    "duration": 23,
    "start_time": "2023-08-13T15:06:52.687Z"
   },
   {
    "duration": 6,
    "start_time": "2023-08-13T15:06:52.711Z"
   },
   {
    "duration": 11,
    "start_time": "2023-08-13T15:06:52.719Z"
   },
   {
    "duration": 10,
    "start_time": "2023-08-13T15:06:52.757Z"
   },
   {
    "duration": 10,
    "start_time": "2023-08-13T15:06:52.770Z"
   },
   {
    "duration": 21,
    "start_time": "2023-08-13T15:06:52.782Z"
   },
   {
    "duration": 51,
    "start_time": "2023-08-13T15:06:52.806Z"
   },
   {
    "duration": 15,
    "start_time": "2023-08-13T15:06:52.859Z"
   },
   {
    "duration": 35,
    "start_time": "2023-08-13T15:06:52.875Z"
   },
   {
    "duration": 16,
    "start_time": "2023-08-13T15:06:52.912Z"
   },
   {
    "duration": 37,
    "start_time": "2023-08-13T15:06:52.930Z"
   },
   {
    "duration": 847,
    "start_time": "2023-08-13T15:07:20.817Z"
   },
   {
    "duration": 16,
    "start_time": "2023-08-13T15:07:34.523Z"
   },
   {
    "duration": 18,
    "start_time": "2023-08-13T15:07:47.062Z"
   },
   {
    "duration": 21,
    "start_time": "2023-08-13T15:08:14.695Z"
   }
  ],
  "colab": {
   "provenance": []
  },
  "kernelspec": {
   "display_name": "Python 3 (ipykernel)",
   "language": "python",
   "name": "python3"
  },
  "language_info": {
   "codemirror_mode": {
    "name": "ipython",
    "version": 3
   },
   "file_extension": ".py",
   "mimetype": "text/x-python",
   "name": "python",
   "nbconvert_exporter": "python",
   "pygments_lexer": "ipython3",
   "version": "3.9.13"
  },
  "toc": {
   "base_numbering": 1,
   "nav_menu": {},
   "number_sections": true,
   "sideBar": true,
   "skip_h1_title": true,
   "title_cell": "Table of Contents",
   "title_sidebar": "Contents",
   "toc_cell": false,
   "toc_position": {},
   "toc_section_display": true,
   "toc_window_display": true
  }
 },
 "nbformat": 4,
 "nbformat_minor": 5
}
