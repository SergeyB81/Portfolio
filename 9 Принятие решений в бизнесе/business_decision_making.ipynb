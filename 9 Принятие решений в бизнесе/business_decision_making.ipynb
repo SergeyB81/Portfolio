{
 "cells": [
  {
   "cell_type": "markdown",
   "metadata": {},
   "source": [
    " <h2>Исследование продуктовых гипотез.<a class=\"tocSkip\"> </h2>"
   ]
  },
  {
   "cell_type": "markdown",
   "metadata": {},
   "source": [
    " <h3>Описание проекта:<a class=\"tocSkip\"> </h3>"
   ]
  },
  {
   "cell_type": "markdown",
   "metadata": {},
   "source": [
    "Используя данные интернет-магазина приоритезировать гипотезы, произвести оценку результатов A/B-тестирования различными методами."
   ]
  },
  {
   "cell_type": "markdown",
   "metadata": {},
   "source": [
    "<h3>Описание данных:<a class=\"tocSkip\"> </h3>"
   ]
  },
  {
   "cell_type": "markdown",
   "metadata": {},
   "source": [
    "В распоряжение три датасета:\n",
    "\n",
    "+ hypothesis.csv - 9 гипотез по увеличению выручки интернет-магазина с указанными параметрами Reach, Impact, Confidence, Effort.\n",
    "\n",
    "+ orders.csv и visitors.csv - в них находятся результаты A/B-теста.\n"
   ]
  },
  {
   "cell_type": "markdown",
   "metadata": {},
   "source": [
    "<h3>Цель исследования:<a class=\"tocSkip\"> </h3>"
   ]
  },
  {
   "cell_type": "markdown",
   "metadata": {},
   "source": [
    "1. Выяснить какая из гипотез приведет к наибольшему увеличению выручки.\n",
    "2. Принять решение по результатам А/В тетста."
   ]
  },
  {
   "cell_type": "markdown",
   "metadata": {},
   "source": [
    "<h3>План работы над проектом:<a class=\"tocSkip\"> </h3>"
   ]
  },
  {
   "cell_type": "markdown",
   "metadata": {},
   "source": [
    "1. Обзор данных.\n",
    "\n",
    "\n",
    "2. Предобработка данных.\n",
    "\n",
    "\n",
    "3. Приоритизация гипотез.\n",
    "\n",
    "\n",
    "4. Анализ A/B-теста, принятие решения по результатам теста и объясните его."
   ]
  },
  {
   "cell_type": "markdown",
   "metadata": {},
   "source": [
    "## Обзор данных"
   ]
  },
  {
   "cell_type": "code",
   "execution_count": 1,
   "metadata": {},
   "outputs": [],
   "source": [
    "# импорт библиотек\n",
    "import numpy as np\n",
    "import pandas as pd\n",
    "\n",
    "import seaborn as sns\n",
    "from matplotlib import pyplot as plt\n",
    "from IPython.display import display\n",
    "\n",
    "import scipy.stats as st\n",
    "import datetime as dt\n",
    "\n",
    "pd.set_option('display.max_colwidth', 0)\n",
    "\n"
   ]
  },
  {
   "cell_type": "code",
   "execution_count": 2,
   "metadata": {},
   "outputs": [],
   "source": [
    "# открываем и сохраняем как датафрейм файл с данными:\n",
    "try:\n",
    "    # personal path\n",
    "    hypothesis, orders, visitors = (\n",
    "                            pd.read_csv('hypothesis.csv'),\n",
    "                            pd.read_csv('orders.csv'),\n",
    "                            pd.read_csv('visitors.csv')\n",
    "                            )\n",
    "except:\n",
    "    # Yandex path\n",
    "    hypothesis, orders, visitors = (\n",
    "                            pd.read_csv('/datasets/hypothesis.csv'),\n",
    "                            pd.read_csv('/datasets/orders.csv'),\n",
    "                            pd.read_csv('/datasets/visitors.csv')\n",
    "                            )"
   ]
  },
  {
   "cell_type": "code",
   "execution_count": 3,
   "metadata": {},
   "outputs": [],
   "source": [
    "# Функция получения первичной информации о датафрейме\n",
    "def first_look (data):\n",
    "    print('---------Первые 10 строк-----------')\n",
    "    display(data.head(10))\n",
    "    \n",
    "   # print('---------Последние 5 строк---------')\n",
    "   # display(data.tail(5))\n",
    "    \n",
    "    print('---------Типы данных------------\\n')\n",
    "    display(data.info())\n",
    "    \n",
    "    print('---------Статистическая сводка-------------')\n",
    "    display(data.describe())\n",
    "    \n",
    "    print('---------Пропуски----------\\n')\n",
    "    display(data.isna().sum().sort_values(ascending=False))\n",
    "    \n",
    "    print('\\n---------Процент пропусков от всего датасета-----------')\n",
    "    display(data.isna().mean().sort_values(ascending=False)*100)"
   ]
  },
  {
   "cell_type": "markdown",
   "metadata": {},
   "source": [
    "### Таблица hypothesis - гипотезы"
   ]
  },
  {
   "cell_type": "code",
   "execution_count": 4,
   "metadata": {},
   "outputs": [
    {
     "name": "stdout",
     "output_type": "stream",
     "text": [
      "---------Первые 10 строк-----------\n"
     ]
    },
    {
     "data": {
      "text/html": [
       "<div>\n",
       "<style scoped>\n",
       "    .dataframe tbody tr th:only-of-type {\n",
       "        vertical-align: middle;\n",
       "    }\n",
       "\n",
       "    .dataframe tbody tr th {\n",
       "        vertical-align: top;\n",
       "    }\n",
       "\n",
       "    .dataframe thead th {\n",
       "        text-align: right;\n",
       "    }\n",
       "</style>\n",
       "<table border=\"1\" class=\"dataframe\">\n",
       "  <thead>\n",
       "    <tr style=\"text-align: right;\">\n",
       "      <th></th>\n",
       "      <th>Hypothesis</th>\n",
       "      <th>Reach</th>\n",
       "      <th>Impact</th>\n",
       "      <th>Confidence</th>\n",
       "      <th>Efforts</th>\n",
       "    </tr>\n",
       "  </thead>\n",
       "  <tbody>\n",
       "    <tr>\n",
       "      <th>0</th>\n",
       "      <td>Добавить два новых канала привлечения трафика, что позволит привлекать на 30% больше пользователей</td>\n",
       "      <td>3</td>\n",
       "      <td>10</td>\n",
       "      <td>8</td>\n",
       "      <td>6</td>\n",
       "    </tr>\n",
       "    <tr>\n",
       "      <th>1</th>\n",
       "      <td>Запустить собственную службу доставки, что сократит срок доставки заказов</td>\n",
       "      <td>2</td>\n",
       "      <td>5</td>\n",
       "      <td>4</td>\n",
       "      <td>10</td>\n",
       "    </tr>\n",
       "    <tr>\n",
       "      <th>2</th>\n",
       "      <td>Добавить блоки рекомендаций товаров на сайт интернет магазина, чтобы повысить конверсию и средний чек заказа</td>\n",
       "      <td>8</td>\n",
       "      <td>3</td>\n",
       "      <td>7</td>\n",
       "      <td>3</td>\n",
       "    </tr>\n",
       "    <tr>\n",
       "      <th>3</th>\n",
       "      <td>Изменить структура категорий, что увеличит конверсию, т.к. пользователи быстрее найдут нужный товар</td>\n",
       "      <td>8</td>\n",
       "      <td>3</td>\n",
       "      <td>3</td>\n",
       "      <td>8</td>\n",
       "    </tr>\n",
       "    <tr>\n",
       "      <th>4</th>\n",
       "      <td>Изменить цвет фона главной страницы, чтобы увеличить вовлеченность пользователей</td>\n",
       "      <td>3</td>\n",
       "      <td>1</td>\n",
       "      <td>1</td>\n",
       "      <td>1</td>\n",
       "    </tr>\n",
       "    <tr>\n",
       "      <th>5</th>\n",
       "      <td>Добавить страницу отзывов клиентов о магазине, что позволит увеличить количество заказов</td>\n",
       "      <td>3</td>\n",
       "      <td>2</td>\n",
       "      <td>2</td>\n",
       "      <td>3</td>\n",
       "    </tr>\n",
       "    <tr>\n",
       "      <th>6</th>\n",
       "      <td>Показать на главной странице баннеры с актуальными акциями и распродажами, чтобы увеличить конверсию</td>\n",
       "      <td>5</td>\n",
       "      <td>3</td>\n",
       "      <td>8</td>\n",
       "      <td>3</td>\n",
       "    </tr>\n",
       "    <tr>\n",
       "      <th>7</th>\n",
       "      <td>Добавить форму подписки на все основные страницы, чтобы собрать базу клиентов для email-рассылок</td>\n",
       "      <td>10</td>\n",
       "      <td>7</td>\n",
       "      <td>8</td>\n",
       "      <td>5</td>\n",
       "    </tr>\n",
       "    <tr>\n",
       "      <th>8</th>\n",
       "      <td>Запустить акцию, дающую скидку на товар в день рождения</td>\n",
       "      <td>1</td>\n",
       "      <td>9</td>\n",
       "      <td>9</td>\n",
       "      <td>5</td>\n",
       "    </tr>\n",
       "  </tbody>\n",
       "</table>\n",
       "</div>"
      ],
      "text/plain": [
       "                                                                                                     Hypothesis  \\\n",
       "0  Добавить два новых канала привлечения трафика, что позволит привлекать на 30% больше пользователей             \n",
       "1  Запустить собственную службу доставки, что сократит срок доставки заказов                                      \n",
       "2  Добавить блоки рекомендаций товаров на сайт интернет магазина, чтобы повысить конверсию и средний чек заказа   \n",
       "3  Изменить структура категорий, что увеличит конверсию, т.к. пользователи быстрее найдут нужный товар            \n",
       "4  Изменить цвет фона главной страницы, чтобы увеличить вовлеченность пользователей                               \n",
       "5  Добавить страницу отзывов клиентов о магазине, что позволит увеличить количество заказов                       \n",
       "6  Показать на главной странице баннеры с актуальными акциями и распродажами, чтобы увеличить конверсию           \n",
       "7  Добавить форму подписки на все основные страницы, чтобы собрать базу клиентов для email-рассылок               \n",
       "8  Запустить акцию, дающую скидку на товар в день рождения                                                        \n",
       "\n",
       "   Reach  Impact  Confidence  Efforts  \n",
       "0  3      10      8           6        \n",
       "1  2      5       4           10       \n",
       "2  8      3       7           3        \n",
       "3  8      3       3           8        \n",
       "4  3      1       1           1        \n",
       "5  3      2       2           3        \n",
       "6  5      3       8           3        \n",
       "7  10     7       8           5        \n",
       "8  1      9       9           5        "
      ]
     },
     "metadata": {},
     "output_type": "display_data"
    },
    {
     "name": "stdout",
     "output_type": "stream",
     "text": [
      "---------Типы данных------------\n",
      "\n",
      "<class 'pandas.core.frame.DataFrame'>\n",
      "RangeIndex: 9 entries, 0 to 8\n",
      "Data columns (total 5 columns):\n",
      " #   Column      Non-Null Count  Dtype \n",
      "---  ------      --------------  ----- \n",
      " 0   Hypothesis  9 non-null      object\n",
      " 1   Reach       9 non-null      int64 \n",
      " 2   Impact      9 non-null      int64 \n",
      " 3   Confidence  9 non-null      int64 \n",
      " 4   Efforts     9 non-null      int64 \n",
      "dtypes: int64(4), object(1)\n",
      "memory usage: 488.0+ bytes\n"
     ]
    },
    {
     "data": {
      "text/plain": [
       "None"
      ]
     },
     "metadata": {},
     "output_type": "display_data"
    },
    {
     "name": "stdout",
     "output_type": "stream",
     "text": [
      "---------Статистическая сводка-------------\n"
     ]
    },
    {
     "data": {
      "text/html": [
       "<div>\n",
       "<style scoped>\n",
       "    .dataframe tbody tr th:only-of-type {\n",
       "        vertical-align: middle;\n",
       "    }\n",
       "\n",
       "    .dataframe tbody tr th {\n",
       "        vertical-align: top;\n",
       "    }\n",
       "\n",
       "    .dataframe thead th {\n",
       "        text-align: right;\n",
       "    }\n",
       "</style>\n",
       "<table border=\"1\" class=\"dataframe\">\n",
       "  <thead>\n",
       "    <tr style=\"text-align: right;\">\n",
       "      <th></th>\n",
       "      <th>Reach</th>\n",
       "      <th>Impact</th>\n",
       "      <th>Confidence</th>\n",
       "      <th>Efforts</th>\n",
       "    </tr>\n",
       "  </thead>\n",
       "  <tbody>\n",
       "    <tr>\n",
       "      <th>count</th>\n",
       "      <td>9.000000</td>\n",
       "      <td>9.000000</td>\n",
       "      <td>9.000000</td>\n",
       "      <td>9.000000</td>\n",
       "    </tr>\n",
       "    <tr>\n",
       "      <th>mean</th>\n",
       "      <td>4.777778</td>\n",
       "      <td>4.777778</td>\n",
       "      <td>5.555556</td>\n",
       "      <td>4.888889</td>\n",
       "    </tr>\n",
       "    <tr>\n",
       "      <th>std</th>\n",
       "      <td>3.153481</td>\n",
       "      <td>3.192874</td>\n",
       "      <td>3.045944</td>\n",
       "      <td>2.803767</td>\n",
       "    </tr>\n",
       "    <tr>\n",
       "      <th>min</th>\n",
       "      <td>1.000000</td>\n",
       "      <td>1.000000</td>\n",
       "      <td>1.000000</td>\n",
       "      <td>1.000000</td>\n",
       "    </tr>\n",
       "    <tr>\n",
       "      <th>25%</th>\n",
       "      <td>3.000000</td>\n",
       "      <td>3.000000</td>\n",
       "      <td>3.000000</td>\n",
       "      <td>3.000000</td>\n",
       "    </tr>\n",
       "    <tr>\n",
       "      <th>50%</th>\n",
       "      <td>3.000000</td>\n",
       "      <td>3.000000</td>\n",
       "      <td>7.000000</td>\n",
       "      <td>5.000000</td>\n",
       "    </tr>\n",
       "    <tr>\n",
       "      <th>75%</th>\n",
       "      <td>8.000000</td>\n",
       "      <td>7.000000</td>\n",
       "      <td>8.000000</td>\n",
       "      <td>6.000000</td>\n",
       "    </tr>\n",
       "    <tr>\n",
       "      <th>max</th>\n",
       "      <td>10.000000</td>\n",
       "      <td>10.000000</td>\n",
       "      <td>9.000000</td>\n",
       "      <td>10.000000</td>\n",
       "    </tr>\n",
       "  </tbody>\n",
       "</table>\n",
       "</div>"
      ],
      "text/plain": [
       "           Reach     Impact  Confidence    Efforts\n",
       "count  9.000000   9.000000   9.000000    9.000000 \n",
       "mean   4.777778   4.777778   5.555556    4.888889 \n",
       "std    3.153481   3.192874   3.045944    2.803767 \n",
       "min    1.000000   1.000000   1.000000    1.000000 \n",
       "25%    3.000000   3.000000   3.000000    3.000000 \n",
       "50%    3.000000   3.000000   7.000000    5.000000 \n",
       "75%    8.000000   7.000000   8.000000    6.000000 \n",
       "max    10.000000  10.000000  9.000000    10.000000"
      ]
     },
     "metadata": {},
     "output_type": "display_data"
    },
    {
     "name": "stdout",
     "output_type": "stream",
     "text": [
      "---------Пропуски----------\n",
      "\n"
     ]
    },
    {
     "data": {
      "text/plain": [
       "Hypothesis    0\n",
       "Reach         0\n",
       "Impact        0\n",
       "Confidence    0\n",
       "Efforts       0\n",
       "dtype: int64"
      ]
     },
     "metadata": {},
     "output_type": "display_data"
    },
    {
     "name": "stdout",
     "output_type": "stream",
     "text": [
      "\n",
      "---------Процент пропусков от всего датасета-----------\n"
     ]
    },
    {
     "data": {
      "text/plain": [
       "Hypothesis    0.0\n",
       "Reach         0.0\n",
       "Impact        0.0\n",
       "Confidence    0.0\n",
       "Efforts       0.0\n",
       "dtype: float64"
      ]
     },
     "metadata": {},
     "output_type": "display_data"
    }
   ],
   "source": [
    "first_look (hypothesis)"
   ]
  },
  {
   "cell_type": "markdown",
   "metadata": {},
   "source": [
    "<b>Вывод:</b> \\\n",
    "В файле - 9 гипотез по увеличению выручки интернет-магазина с указанными параметрами Reach, Impact, Confidence, Effort.\n",
    "\n",
    "Таблица содержит 9 строк, пропуски отсутствуют.\n",
    "\n",
    "<b>Содержание данных:</b>\n",
    "\n",
    "+ Hypothesis — краткое описание гипотезы;\n",
    "+ Reach — охват пользователей по 10 балльной шкале;\n",
    "+ Impact — влияние на пользователей по 10-балльной шкале;\n",
    "+ Confidence — уверенность в гипотезе по 10-балльной шкале;\n",
    "+ Efforts — затраты ресурсов на проверку гипотезы по 10-балльной шкале. Чем больше значение Efforts, тем дороже проверка гипотезы.\n",
    "\n",
    "<b>Необходимые изменения:</b>\n",
    "\n",
    "+ привести наименования столбцов к единому стилю (нижний регистр)"
   ]
  },
  {
   "cell_type": "markdown",
   "metadata": {},
   "source": [
    "### Таблица orders - заказы"
   ]
  },
  {
   "cell_type": "code",
   "execution_count": 5,
   "metadata": {},
   "outputs": [
    {
     "name": "stdout",
     "output_type": "stream",
     "text": [
      "---------Первые 10 строк-----------\n"
     ]
    },
    {
     "data": {
      "text/html": [
       "<div>\n",
       "<style scoped>\n",
       "    .dataframe tbody tr th:only-of-type {\n",
       "        vertical-align: middle;\n",
       "    }\n",
       "\n",
       "    .dataframe tbody tr th {\n",
       "        vertical-align: top;\n",
       "    }\n",
       "\n",
       "    .dataframe thead th {\n",
       "        text-align: right;\n",
       "    }\n",
       "</style>\n",
       "<table border=\"1\" class=\"dataframe\">\n",
       "  <thead>\n",
       "    <tr style=\"text-align: right;\">\n",
       "      <th></th>\n",
       "      <th>transactionId</th>\n",
       "      <th>visitorId</th>\n",
       "      <th>date</th>\n",
       "      <th>revenue</th>\n",
       "      <th>group</th>\n",
       "    </tr>\n",
       "  </thead>\n",
       "  <tbody>\n",
       "    <tr>\n",
       "      <th>0</th>\n",
       "      <td>3667963787</td>\n",
       "      <td>3312258926</td>\n",
       "      <td>2019-08-15</td>\n",
       "      <td>1650</td>\n",
       "      <td>B</td>\n",
       "    </tr>\n",
       "    <tr>\n",
       "      <th>1</th>\n",
       "      <td>2804400009</td>\n",
       "      <td>3642806036</td>\n",
       "      <td>2019-08-15</td>\n",
       "      <td>730</td>\n",
       "      <td>B</td>\n",
       "    </tr>\n",
       "    <tr>\n",
       "      <th>2</th>\n",
       "      <td>2961555356</td>\n",
       "      <td>4069496402</td>\n",
       "      <td>2019-08-15</td>\n",
       "      <td>400</td>\n",
       "      <td>A</td>\n",
       "    </tr>\n",
       "    <tr>\n",
       "      <th>3</th>\n",
       "      <td>3797467345</td>\n",
       "      <td>1196621759</td>\n",
       "      <td>2019-08-15</td>\n",
       "      <td>9759</td>\n",
       "      <td>B</td>\n",
       "    </tr>\n",
       "    <tr>\n",
       "      <th>4</th>\n",
       "      <td>2282983706</td>\n",
       "      <td>2322279887</td>\n",
       "      <td>2019-08-15</td>\n",
       "      <td>2308</td>\n",
       "      <td>B</td>\n",
       "    </tr>\n",
       "    <tr>\n",
       "      <th>5</th>\n",
       "      <td>182168103</td>\n",
       "      <td>935554773</td>\n",
       "      <td>2019-08-15</td>\n",
       "      <td>2210</td>\n",
       "      <td>B</td>\n",
       "    </tr>\n",
       "    <tr>\n",
       "      <th>6</th>\n",
       "      <td>398296753</td>\n",
       "      <td>2900797465</td>\n",
       "      <td>2019-08-15</td>\n",
       "      <td>1860</td>\n",
       "      <td>B</td>\n",
       "    </tr>\n",
       "    <tr>\n",
       "      <th>7</th>\n",
       "      <td>2626614568</td>\n",
       "      <td>78758296</td>\n",
       "      <td>2019-08-15</td>\n",
       "      <td>1044</td>\n",
       "      <td>A</td>\n",
       "    </tr>\n",
       "    <tr>\n",
       "      <th>8</th>\n",
       "      <td>1576988021</td>\n",
       "      <td>295230930</td>\n",
       "      <td>2019-08-15</td>\n",
       "      <td>13710</td>\n",
       "      <td>A</td>\n",
       "    </tr>\n",
       "    <tr>\n",
       "      <th>9</th>\n",
       "      <td>1506739906</td>\n",
       "      <td>1882260405</td>\n",
       "      <td>2019-08-15</td>\n",
       "      <td>1855</td>\n",
       "      <td>B</td>\n",
       "    </tr>\n",
       "  </tbody>\n",
       "</table>\n",
       "</div>"
      ],
      "text/plain": [
       "   transactionId   visitorId        date  revenue group\n",
       "0  3667963787     3312258926  2019-08-15  1650     B   \n",
       "1  2804400009     3642806036  2019-08-15  730      B   \n",
       "2  2961555356     4069496402  2019-08-15  400      A   \n",
       "3  3797467345     1196621759  2019-08-15  9759     B   \n",
       "4  2282983706     2322279887  2019-08-15  2308     B   \n",
       "5  182168103      935554773   2019-08-15  2210     B   \n",
       "6  398296753      2900797465  2019-08-15  1860     B   \n",
       "7  2626614568     78758296    2019-08-15  1044     A   \n",
       "8  1576988021     295230930   2019-08-15  13710    A   \n",
       "9  1506739906     1882260405  2019-08-15  1855     B   "
      ]
     },
     "metadata": {},
     "output_type": "display_data"
    },
    {
     "name": "stdout",
     "output_type": "stream",
     "text": [
      "---------Типы данных------------\n",
      "\n",
      "<class 'pandas.core.frame.DataFrame'>\n",
      "RangeIndex: 1197 entries, 0 to 1196\n",
      "Data columns (total 5 columns):\n",
      " #   Column         Non-Null Count  Dtype \n",
      "---  ------         --------------  ----- \n",
      " 0   transactionId  1197 non-null   int64 \n",
      " 1   visitorId      1197 non-null   int64 \n",
      " 2   date           1197 non-null   object\n",
      " 3   revenue        1197 non-null   int64 \n",
      " 4   group          1197 non-null   object\n",
      "dtypes: int64(3), object(2)\n",
      "memory usage: 46.9+ KB\n"
     ]
    },
    {
     "data": {
      "text/plain": [
       "None"
      ]
     },
     "metadata": {},
     "output_type": "display_data"
    },
    {
     "name": "stdout",
     "output_type": "stream",
     "text": [
      "---------Статистическая сводка-------------\n"
     ]
    },
    {
     "data": {
      "text/html": [
       "<div>\n",
       "<style scoped>\n",
       "    .dataframe tbody tr th:only-of-type {\n",
       "        vertical-align: middle;\n",
       "    }\n",
       "\n",
       "    .dataframe tbody tr th {\n",
       "        vertical-align: top;\n",
       "    }\n",
       "\n",
       "    .dataframe thead th {\n",
       "        text-align: right;\n",
       "    }\n",
       "</style>\n",
       "<table border=\"1\" class=\"dataframe\">\n",
       "  <thead>\n",
       "    <tr style=\"text-align: right;\">\n",
       "      <th></th>\n",
       "      <th>transactionId</th>\n",
       "      <th>visitorId</th>\n",
       "      <th>revenue</th>\n",
       "    </tr>\n",
       "  </thead>\n",
       "  <tbody>\n",
       "    <tr>\n",
       "      <th>count</th>\n",
       "      <td>1.197000e+03</td>\n",
       "      <td>1.197000e+03</td>\n",
       "      <td>1.197000e+03</td>\n",
       "    </tr>\n",
       "    <tr>\n",
       "      <th>mean</th>\n",
       "      <td>2.155621e+09</td>\n",
       "      <td>2.165960e+09</td>\n",
       "      <td>8.348006e+03</td>\n",
       "    </tr>\n",
       "    <tr>\n",
       "      <th>std</th>\n",
       "      <td>1.229085e+09</td>\n",
       "      <td>1.236014e+09</td>\n",
       "      <td>3.919113e+04</td>\n",
       "    </tr>\n",
       "    <tr>\n",
       "      <th>min</th>\n",
       "      <td>1.062393e+06</td>\n",
       "      <td>5.114589e+06</td>\n",
       "      <td>5.000000e+01</td>\n",
       "    </tr>\n",
       "    <tr>\n",
       "      <th>25%</th>\n",
       "      <td>1.166776e+09</td>\n",
       "      <td>1.111826e+09</td>\n",
       "      <td>1.220000e+03</td>\n",
       "    </tr>\n",
       "    <tr>\n",
       "      <th>50%</th>\n",
       "      <td>2.145194e+09</td>\n",
       "      <td>2.217985e+09</td>\n",
       "      <td>2.978000e+03</td>\n",
       "    </tr>\n",
       "    <tr>\n",
       "      <th>75%</th>\n",
       "      <td>3.237740e+09</td>\n",
       "      <td>3.177606e+09</td>\n",
       "      <td>8.290000e+03</td>\n",
       "    </tr>\n",
       "    <tr>\n",
       "      <th>max</th>\n",
       "      <td>4.293856e+09</td>\n",
       "      <td>4.283872e+09</td>\n",
       "      <td>1.294500e+06</td>\n",
       "    </tr>\n",
       "  </tbody>\n",
       "</table>\n",
       "</div>"
      ],
      "text/plain": [
       "       transactionId     visitorId       revenue\n",
       "count  1.197000e+03   1.197000e+03  1.197000e+03\n",
       "mean   2.155621e+09   2.165960e+09  8.348006e+03\n",
       "std    1.229085e+09   1.236014e+09  3.919113e+04\n",
       "min    1.062393e+06   5.114589e+06  5.000000e+01\n",
       "25%    1.166776e+09   1.111826e+09  1.220000e+03\n",
       "50%    2.145194e+09   2.217985e+09  2.978000e+03\n",
       "75%    3.237740e+09   3.177606e+09  8.290000e+03\n",
       "max    4.293856e+09   4.283872e+09  1.294500e+06"
      ]
     },
     "metadata": {},
     "output_type": "display_data"
    },
    {
     "name": "stdout",
     "output_type": "stream",
     "text": [
      "---------Пропуски----------\n",
      "\n"
     ]
    },
    {
     "data": {
      "text/plain": [
       "transactionId    0\n",
       "visitorId        0\n",
       "date             0\n",
       "revenue          0\n",
       "group            0\n",
       "dtype: int64"
      ]
     },
     "metadata": {},
     "output_type": "display_data"
    },
    {
     "name": "stdout",
     "output_type": "stream",
     "text": [
      "\n",
      "---------Процент пропусков от всего датасета-----------\n"
     ]
    },
    {
     "data": {
      "text/plain": [
       "transactionId    0.0\n",
       "visitorId        0.0\n",
       "date             0.0\n",
       "revenue          0.0\n",
       "group            0.0\n",
       "dtype: float64"
      ]
     },
     "metadata": {},
     "output_type": "display_data"
    }
   ],
   "source": [
    "first_look (orders)"
   ]
  },
  {
   "cell_type": "code",
   "execution_count": 6,
   "metadata": {},
   "outputs": [
    {
     "name": "stdout",
     "output_type": "stream",
     "text": [
      "2019-08-01\n",
      "2019-08-31\n"
     ]
    }
   ],
   "source": [
    "#минимальная и максимальная дата \n",
    "print(orders['date'].min())\n",
    "print(orders['date'].max())"
   ]
  },
  {
   "cell_type": "markdown",
   "metadata": {},
   "source": [
    "<b>Вывод:</b>\n",
    "\n",
    "В файле - результаты проведения А/В теста за август 2019\n",
    "\n",
    "Таблица содержит 1197 строк, пропуски отсутствуют.\n",
    "\n",
    "<b>Содержание данных:</b>\n",
    "\n",
    "+ transactionId — идентификатор заказа;\n",
    "+ visitorId — идентификатор пользователя, совершившего заказ;\n",
    "+ date — дата, когда был совершён заказ;\n",
    "+ revenue — выручка заказа;\n",
    "+ group — группа A/B-теста, в которую попал заказ.\n",
    "\n",
    "<b>Необходимые изменения:</b>\n",
    "\n",
    "+ привести наименования столбцов к единому стилю (нижний регистр) и snake case;\n",
    "+ привести колонку date к формату datetime."
   ]
  },
  {
   "cell_type": "markdown",
   "metadata": {},
   "source": [
    "### Таблица visitors - посетители"
   ]
  },
  {
   "cell_type": "code",
   "execution_count": 7,
   "metadata": {},
   "outputs": [
    {
     "name": "stdout",
     "output_type": "stream",
     "text": [
      "---------Первые 10 строк-----------\n"
     ]
    },
    {
     "data": {
      "text/html": [
       "<div>\n",
       "<style scoped>\n",
       "    .dataframe tbody tr th:only-of-type {\n",
       "        vertical-align: middle;\n",
       "    }\n",
       "\n",
       "    .dataframe tbody tr th {\n",
       "        vertical-align: top;\n",
       "    }\n",
       "\n",
       "    .dataframe thead th {\n",
       "        text-align: right;\n",
       "    }\n",
       "</style>\n",
       "<table border=\"1\" class=\"dataframe\">\n",
       "  <thead>\n",
       "    <tr style=\"text-align: right;\">\n",
       "      <th></th>\n",
       "      <th>date</th>\n",
       "      <th>group</th>\n",
       "      <th>visitors</th>\n",
       "    </tr>\n",
       "  </thead>\n",
       "  <tbody>\n",
       "    <tr>\n",
       "      <th>0</th>\n",
       "      <td>2019-08-01</td>\n",
       "      <td>A</td>\n",
       "      <td>719</td>\n",
       "    </tr>\n",
       "    <tr>\n",
       "      <th>1</th>\n",
       "      <td>2019-08-02</td>\n",
       "      <td>A</td>\n",
       "      <td>619</td>\n",
       "    </tr>\n",
       "    <tr>\n",
       "      <th>2</th>\n",
       "      <td>2019-08-03</td>\n",
       "      <td>A</td>\n",
       "      <td>507</td>\n",
       "    </tr>\n",
       "    <tr>\n",
       "      <th>3</th>\n",
       "      <td>2019-08-04</td>\n",
       "      <td>A</td>\n",
       "      <td>717</td>\n",
       "    </tr>\n",
       "    <tr>\n",
       "      <th>4</th>\n",
       "      <td>2019-08-05</td>\n",
       "      <td>A</td>\n",
       "      <td>756</td>\n",
       "    </tr>\n",
       "    <tr>\n",
       "      <th>5</th>\n",
       "      <td>2019-08-06</td>\n",
       "      <td>A</td>\n",
       "      <td>667</td>\n",
       "    </tr>\n",
       "    <tr>\n",
       "      <th>6</th>\n",
       "      <td>2019-08-07</td>\n",
       "      <td>A</td>\n",
       "      <td>644</td>\n",
       "    </tr>\n",
       "    <tr>\n",
       "      <th>7</th>\n",
       "      <td>2019-08-08</td>\n",
       "      <td>A</td>\n",
       "      <td>610</td>\n",
       "    </tr>\n",
       "    <tr>\n",
       "      <th>8</th>\n",
       "      <td>2019-08-09</td>\n",
       "      <td>A</td>\n",
       "      <td>617</td>\n",
       "    </tr>\n",
       "    <tr>\n",
       "      <th>9</th>\n",
       "      <td>2019-08-10</td>\n",
       "      <td>A</td>\n",
       "      <td>406</td>\n",
       "    </tr>\n",
       "  </tbody>\n",
       "</table>\n",
       "</div>"
      ],
      "text/plain": [
       "         date group  visitors\n",
       "0  2019-08-01  A     719     \n",
       "1  2019-08-02  A     619     \n",
       "2  2019-08-03  A     507     \n",
       "3  2019-08-04  A     717     \n",
       "4  2019-08-05  A     756     \n",
       "5  2019-08-06  A     667     \n",
       "6  2019-08-07  A     644     \n",
       "7  2019-08-08  A     610     \n",
       "8  2019-08-09  A     617     \n",
       "9  2019-08-10  A     406     "
      ]
     },
     "metadata": {},
     "output_type": "display_data"
    },
    {
     "name": "stdout",
     "output_type": "stream",
     "text": [
      "---------Типы данных------------\n",
      "\n",
      "<class 'pandas.core.frame.DataFrame'>\n",
      "RangeIndex: 62 entries, 0 to 61\n",
      "Data columns (total 3 columns):\n",
      " #   Column    Non-Null Count  Dtype \n",
      "---  ------    --------------  ----- \n",
      " 0   date      62 non-null     object\n",
      " 1   group     62 non-null     object\n",
      " 2   visitors  62 non-null     int64 \n",
      "dtypes: int64(1), object(2)\n",
      "memory usage: 1.6+ KB\n"
     ]
    },
    {
     "data": {
      "text/plain": [
       "None"
      ]
     },
     "metadata": {},
     "output_type": "display_data"
    },
    {
     "name": "stdout",
     "output_type": "stream",
     "text": [
      "---------Статистическая сводка-------------\n"
     ]
    },
    {
     "data": {
      "text/html": [
       "<div>\n",
       "<style scoped>\n",
       "    .dataframe tbody tr th:only-of-type {\n",
       "        vertical-align: middle;\n",
       "    }\n",
       "\n",
       "    .dataframe tbody tr th {\n",
       "        vertical-align: top;\n",
       "    }\n",
       "\n",
       "    .dataframe thead th {\n",
       "        text-align: right;\n",
       "    }\n",
       "</style>\n",
       "<table border=\"1\" class=\"dataframe\">\n",
       "  <thead>\n",
       "    <tr style=\"text-align: right;\">\n",
       "      <th></th>\n",
       "      <th>visitors</th>\n",
       "    </tr>\n",
       "  </thead>\n",
       "  <tbody>\n",
       "    <tr>\n",
       "      <th>count</th>\n",
       "      <td>62.000000</td>\n",
       "    </tr>\n",
       "    <tr>\n",
       "      <th>mean</th>\n",
       "      <td>607.290323</td>\n",
       "    </tr>\n",
       "    <tr>\n",
       "      <th>std</th>\n",
       "      <td>114.400560</td>\n",
       "    </tr>\n",
       "    <tr>\n",
       "      <th>min</th>\n",
       "      <td>361.000000</td>\n",
       "    </tr>\n",
       "    <tr>\n",
       "      <th>25%</th>\n",
       "      <td>534.000000</td>\n",
       "    </tr>\n",
       "    <tr>\n",
       "      <th>50%</th>\n",
       "      <td>624.500000</td>\n",
       "    </tr>\n",
       "    <tr>\n",
       "      <th>75%</th>\n",
       "      <td>710.500000</td>\n",
       "    </tr>\n",
       "    <tr>\n",
       "      <th>max</th>\n",
       "      <td>770.000000</td>\n",
       "    </tr>\n",
       "  </tbody>\n",
       "</table>\n",
       "</div>"
      ],
      "text/plain": [
       "         visitors\n",
       "count  62.000000 \n",
       "mean   607.290323\n",
       "std    114.400560\n",
       "min    361.000000\n",
       "25%    534.000000\n",
       "50%    624.500000\n",
       "75%    710.500000\n",
       "max    770.000000"
      ]
     },
     "metadata": {},
     "output_type": "display_data"
    },
    {
     "name": "stdout",
     "output_type": "stream",
     "text": [
      "---------Пропуски----------\n",
      "\n"
     ]
    },
    {
     "data": {
      "text/plain": [
       "date        0\n",
       "group       0\n",
       "visitors    0\n",
       "dtype: int64"
      ]
     },
     "metadata": {},
     "output_type": "display_data"
    },
    {
     "name": "stdout",
     "output_type": "stream",
     "text": [
      "\n",
      "---------Процент пропусков от всего датасета-----------\n"
     ]
    },
    {
     "data": {
      "text/plain": [
       "date        0.0\n",
       "group       0.0\n",
       "visitors    0.0\n",
       "dtype: float64"
      ]
     },
     "metadata": {},
     "output_type": "display_data"
    }
   ],
   "source": [
    "first_look(visitors)"
   ]
  },
  {
   "cell_type": "code",
   "execution_count": 8,
   "metadata": {},
   "outputs": [
    {
     "name": "stdout",
     "output_type": "stream",
     "text": [
      "2019-08-01\n",
      "2019-08-31\n"
     ]
    }
   ],
   "source": [
    "#минимальная и максимальная дата \n",
    "print(visitors['date'].min())\n",
    "print(visitors['date'].max())"
   ]
  },
  {
   "cell_type": "markdown",
   "metadata": {},
   "source": [
    "<b>Вывод:</b>\n",
    "\n",
    "В файле - сводные данные по результатам проведения А/В теста за август 2019\n",
    "\n",
    "Таблица содержит 62 строки, пропуски отсутствуют.\n",
    "\n",
    "<b>Содержание данных:</b>\n",
    "\n",
    "+ date — дата;\n",
    "+ group — группа A/B-теста;\n",
    "+ visitors — количество пользователей в указанную дату в указанной группе A/B-теста\n",
    "\n",
    "<b>Необходимые изменения:</b>\n",
    "\n",
    "+ привести колонку date формату datetime"
   ]
  },
  {
   "cell_type": "markdown",
   "metadata": {},
   "source": [
    "### <b>Вывод по разделу 1</b> "
   ]
  },
  {
   "cell_type": "markdown",
   "metadata": {},
   "source": [
    "В представленных для анализа файлах - данные для приоритизации гипотез и результаты проведения А/В теста за период с 01.08.2019 по 31.08.2019. Предварительно данных достаточно для анализа.\n",
    "\n",
    "<b>Необходимые изменения:</b>\n",
    "\n",
    "+ Исправим нарушения стиля наименования колонок (не соблюден snake case, присутствуют прописные буквы в наименованиях столбцов)\n",
    "\n",
    "+ Устраним несоотвествие типа данных в столбцах, в которых обозначена дата: с типа object на datetime в столбцах date файлов orders и visitors"
   ]
  },
  {
   "cell_type": "markdown",
   "metadata": {},
   "source": [
    "## Предобработка данных"
   ]
  },
  {
   "cell_type": "markdown",
   "metadata": {},
   "source": [
    "### Нарушения стиля (приведение названия столбцов к нижнему регистру и snacke_case)"
   ]
  },
  {
   "cell_type": "code",
   "execution_count": 9,
   "metadata": {},
   "outputs": [
    {
     "name": "stdout",
     "output_type": "stream",
     "text": [
      "Index(['hypothesis', 'reach', 'impact', 'confidence', 'efforts'], dtype='object')\n",
      "Index(['transactionid', 'visitorid', 'date', 'revenue', 'group'], dtype='object')\n"
     ]
    }
   ],
   "source": [
    "# перевод в нижний регистр:\n",
    "files = [hypothesis, orders]\n",
    "for name in files:\n",
    "    name.columns = name.columns.str.lower()\n",
    "    print(name.columns) "
   ]
  },
  {
   "cell_type": "code",
   "execution_count": 10,
   "metadata": {},
   "outputs": [
    {
     "name": "stdout",
     "output_type": "stream",
     "text": [
      "Index(['transaction_id', 'visitor_id', 'date', 'revenue', 'group'], dtype='object')\n"
     ]
    }
   ],
   "source": [
    "# snacke_case:\n",
    "orders = orders.rename(columns={'transactionid':'transaction_id', 'visitorid':'visitor_id'})\n",
    "print(orders.columns)"
   ]
  },
  {
   "cell_type": "markdown",
   "metadata": {},
   "source": [
    "### Замена формата"
   ]
  },
  {
   "cell_type": "code",
   "execution_count": 11,
   "metadata": {},
   "outputs": [],
   "source": [
    "orders['date'] = pd.to_datetime(orders['date'])\n",
    "visitors['date'] = pd.to_datetime(visitors['date'])"
   ]
  },
  {
   "cell_type": "markdown",
   "metadata": {},
   "source": [
    "Проверим внесенные изменения:"
   ]
  },
  {
   "cell_type": "code",
   "execution_count": 12,
   "metadata": {},
   "outputs": [
    {
     "name": "stdout",
     "output_type": "stream",
     "text": [
      "<class 'pandas.core.frame.DataFrame'>\n",
      "RangeIndex: 1197 entries, 0 to 1196\n",
      "Data columns (total 5 columns):\n",
      " #   Column          Non-Null Count  Dtype         \n",
      "---  ------          --------------  -----         \n",
      " 0   transaction_id  1197 non-null   int64         \n",
      " 1   visitor_id      1197 non-null   int64         \n",
      " 2   date            1197 non-null   datetime64[ns]\n",
      " 3   revenue         1197 non-null   int64         \n",
      " 4   group           1197 non-null   object        \n",
      "dtypes: datetime64[ns](1), int64(3), object(1)\n",
      "memory usage: 46.9+ KB\n"
     ]
    }
   ],
   "source": [
    "orders.info()"
   ]
  },
  {
   "cell_type": "code",
   "execution_count": 13,
   "metadata": {},
   "outputs": [
    {
     "name": "stdout",
     "output_type": "stream",
     "text": [
      "<class 'pandas.core.frame.DataFrame'>\n",
      "RangeIndex: 62 entries, 0 to 61\n",
      "Data columns (total 3 columns):\n",
      " #   Column    Non-Null Count  Dtype         \n",
      "---  ------    --------------  -----         \n",
      " 0   date      62 non-null     datetime64[ns]\n",
      " 1   group     62 non-null     object        \n",
      " 2   visitors  62 non-null     int64         \n",
      "dtypes: datetime64[ns](1), int64(1), object(1)\n",
      "memory usage: 1.6+ KB\n"
     ]
    }
   ],
   "source": [
    "visitors.info()"
   ]
  },
  {
   "cell_type": "markdown",
   "metadata": {},
   "source": [
    "### Проверка на дубликаты"
   ]
  },
  {
   "cell_type": "code",
   "execution_count": 14,
   "metadata": {},
   "outputs": [
    {
     "name": "stdout",
     "output_type": "stream",
     "text": [
      "Количество дубликатов: 0 штук\n",
      "Количество дубликатов: 0 штук\n",
      "Количество дубликатов: 0 штук\n"
     ]
    }
   ],
   "source": [
    "#проверка файлов на дубликаты:\n",
    "files = [hypothesis, orders, visitors]\n",
    "\n",
    "for name in files:\n",
    "    print(f'Количество дубликатов: {name.duplicated().sum()} штук')\n",
    "        "
   ]
  },
  {
   "cell_type": "markdown",
   "metadata": {},
   "source": [
    "### <b>Вывод по разделу 2</b> "
   ]
  },
  {
   "cell_type": "markdown",
   "metadata": {},
   "source": [
    "В результате предобработки данных исправлены нарушения стиля в наименовании столбцов и устранено несоотвествие типа данных в столбцах, в которых обозначена дата: с типа object на datetime. Дубликаты отсутствуют. Данные готовы для анализа."
   ]
  },
  {
   "cell_type": "markdown",
   "metadata": {},
   "source": [
    "## Приоритизация гипотез"
   ]
  },
  {
   "cell_type": "markdown",
   "metadata": {},
   "source": [
    "### Приоритизация с помощью фреймворка ICE"
   ]
  },
  {
   "cell_type": "code",
   "execution_count": 15,
   "metadata": {},
   "outputs": [
    {
     "data": {
      "text/html": [
       "<div>\n",
       "<style scoped>\n",
       "    .dataframe tbody tr th:only-of-type {\n",
       "        vertical-align: middle;\n",
       "    }\n",
       "\n",
       "    .dataframe tbody tr th {\n",
       "        vertical-align: top;\n",
       "    }\n",
       "\n",
       "    .dataframe thead th {\n",
       "        text-align: right;\n",
       "    }\n",
       "</style>\n",
       "<table border=\"1\" class=\"dataframe\">\n",
       "  <thead>\n",
       "    <tr style=\"text-align: right;\">\n",
       "      <th></th>\n",
       "      <th>hypothesis</th>\n",
       "      <th>ice</th>\n",
       "    </tr>\n",
       "  </thead>\n",
       "  <tbody>\n",
       "    <tr>\n",
       "      <th>8</th>\n",
       "      <td>Запустить акцию, дающую скидку на товар в день рождения</td>\n",
       "      <td>16.0</td>\n",
       "    </tr>\n",
       "    <tr>\n",
       "      <th>0</th>\n",
       "      <td>Добавить два новых канала привлечения трафика, что позволит привлекать на 30% больше пользователей</td>\n",
       "      <td>13.0</td>\n",
       "    </tr>\n",
       "    <tr>\n",
       "      <th>7</th>\n",
       "      <td>Добавить форму подписки на все основные страницы, чтобы собрать базу клиентов для email-рассылок</td>\n",
       "      <td>11.0</td>\n",
       "    </tr>\n",
       "    <tr>\n",
       "      <th>6</th>\n",
       "      <td>Показать на главной странице баннеры с актуальными акциями и распродажами, чтобы увеличить конверсию</td>\n",
       "      <td>8.0</td>\n",
       "    </tr>\n",
       "    <tr>\n",
       "      <th>2</th>\n",
       "      <td>Добавить блоки рекомендаций товаров на сайт интернет магазина, чтобы повысить конверсию и средний чек заказа</td>\n",
       "      <td>7.0</td>\n",
       "    </tr>\n",
       "    <tr>\n",
       "      <th>1</th>\n",
       "      <td>Запустить собственную службу доставки, что сократит срок доставки заказов</td>\n",
       "      <td>2.0</td>\n",
       "    </tr>\n",
       "    <tr>\n",
       "      <th>5</th>\n",
       "      <td>Добавить страницу отзывов клиентов о магазине, что позволит увеличить количество заказов</td>\n",
       "      <td>1.0</td>\n",
       "    </tr>\n",
       "    <tr>\n",
       "      <th>3</th>\n",
       "      <td>Изменить структура категорий, что увеличит конверсию, т.к. пользователи быстрее найдут нужный товар</td>\n",
       "      <td>1.0</td>\n",
       "    </tr>\n",
       "    <tr>\n",
       "      <th>4</th>\n",
       "      <td>Изменить цвет фона главной страницы, чтобы увеличить вовлеченность пользователей</td>\n",
       "      <td>1.0</td>\n",
       "    </tr>\n",
       "  </tbody>\n",
       "</table>\n",
       "</div>"
      ],
      "text/plain": [
       "                                                                                                     hypothesis  \\\n",
       "8  Запустить акцию, дающую скидку на товар в день рождения                                                        \n",
       "0  Добавить два новых канала привлечения трафика, что позволит привлекать на 30% больше пользователей             \n",
       "7  Добавить форму подписки на все основные страницы, чтобы собрать базу клиентов для email-рассылок               \n",
       "6  Показать на главной странице баннеры с актуальными акциями и распродажами, чтобы увеличить конверсию           \n",
       "2  Добавить блоки рекомендаций товаров на сайт интернет магазина, чтобы повысить конверсию и средний чек заказа   \n",
       "1  Запустить собственную службу доставки, что сократит срок доставки заказов                                      \n",
       "5  Добавить страницу отзывов клиентов о магазине, что позволит увеличить количество заказов                       \n",
       "3  Изменить структура категорий, что увеличит конверсию, т.к. пользователи быстрее найдут нужный товар            \n",
       "4  Изменить цвет фона главной страницы, чтобы увеличить вовлеченность пользователей                               \n",
       "\n",
       "    ice  \n",
       "8  16.0  \n",
       "0  13.0  \n",
       "7  11.0  \n",
       "6  8.0   \n",
       "2  7.0   \n",
       "1  2.0   \n",
       "5  1.0   \n",
       "3  1.0   \n",
       "4  1.0   "
      ]
     },
     "metadata": {},
     "output_type": "display_data"
    },
    {
     "data": {
      "text/plain": [
       "2"
      ]
     },
     "metadata": {},
     "output_type": "display_data"
    }
   ],
   "source": [
    "# рассчитаем значение показателя ICE\n",
    "hypothesis['ice'] = (\n",
    "   hypothesis['impact'] * hypothesis['confidence'] / hypothesis['efforts']\n",
    ")\n",
    "\n",
    "# выведем данные, отсортированные по убыванию показателя ICE\n",
    "display(round(hypothesis[['hypothesis', 'ice']].sort_values(by='ice', ascending=False)), 2)"
   ]
  },
  {
   "cell_type": "markdown",
   "metadata": {},
   "source": [
    "### Приоритизация с помощью фреймворка RICE"
   ]
  },
  {
   "cell_type": "code",
   "execution_count": 16,
   "metadata": {},
   "outputs": [
    {
     "data": {
      "text/html": [
       "<div>\n",
       "<style scoped>\n",
       "    .dataframe tbody tr th:only-of-type {\n",
       "        vertical-align: middle;\n",
       "    }\n",
       "\n",
       "    .dataframe tbody tr th {\n",
       "        vertical-align: top;\n",
       "    }\n",
       "\n",
       "    .dataframe thead th {\n",
       "        text-align: right;\n",
       "    }\n",
       "</style>\n",
       "<table border=\"1\" class=\"dataframe\">\n",
       "  <thead>\n",
       "    <tr style=\"text-align: right;\">\n",
       "      <th></th>\n",
       "      <th>hypothesis</th>\n",
       "      <th>rice</th>\n",
       "    </tr>\n",
       "  </thead>\n",
       "  <tbody>\n",
       "    <tr>\n",
       "      <th>7</th>\n",
       "      <td>Добавить форму подписки на все основные страницы, чтобы собрать базу клиентов для email-рассылок</td>\n",
       "      <td>112.0</td>\n",
       "    </tr>\n",
       "    <tr>\n",
       "      <th>2</th>\n",
       "      <td>Добавить блоки рекомендаций товаров на сайт интернет магазина, чтобы повысить конверсию и средний чек заказа</td>\n",
       "      <td>56.0</td>\n",
       "    </tr>\n",
       "    <tr>\n",
       "      <th>0</th>\n",
       "      <td>Добавить два новых канала привлечения трафика, что позволит привлекать на 30% больше пользователей</td>\n",
       "      <td>40.0</td>\n",
       "    </tr>\n",
       "    <tr>\n",
       "      <th>6</th>\n",
       "      <td>Показать на главной странице баннеры с актуальными акциями и распродажами, чтобы увеличить конверсию</td>\n",
       "      <td>40.0</td>\n",
       "    </tr>\n",
       "    <tr>\n",
       "      <th>8</th>\n",
       "      <td>Запустить акцию, дающую скидку на товар в день рождения</td>\n",
       "      <td>16.2</td>\n",
       "    </tr>\n",
       "    <tr>\n",
       "      <th>3</th>\n",
       "      <td>Изменить структура категорий, что увеличит конверсию, т.к. пользователи быстрее найдут нужный товар</td>\n",
       "      <td>9.0</td>\n",
       "    </tr>\n",
       "    <tr>\n",
       "      <th>1</th>\n",
       "      <td>Запустить собственную службу доставки, что сократит срок доставки заказов</td>\n",
       "      <td>4.0</td>\n",
       "    </tr>\n",
       "    <tr>\n",
       "      <th>5</th>\n",
       "      <td>Добавить страницу отзывов клиентов о магазине, что позволит увеличить количество заказов</td>\n",
       "      <td>4.0</td>\n",
       "    </tr>\n",
       "    <tr>\n",
       "      <th>4</th>\n",
       "      <td>Изменить цвет фона главной страницы, чтобы увеличить вовлеченность пользователей</td>\n",
       "      <td>3.0</td>\n",
       "    </tr>\n",
       "  </tbody>\n",
       "</table>\n",
       "</div>"
      ],
      "text/plain": [
       "                                                                                                     hypothesis  \\\n",
       "7  Добавить форму подписки на все основные страницы, чтобы собрать базу клиентов для email-рассылок               \n",
       "2  Добавить блоки рекомендаций товаров на сайт интернет магазина, чтобы повысить конверсию и средний чек заказа   \n",
       "0  Добавить два новых канала привлечения трафика, что позволит привлекать на 30% больше пользователей             \n",
       "6  Показать на главной странице баннеры с актуальными акциями и распродажами, чтобы увеличить конверсию           \n",
       "8  Запустить акцию, дающую скидку на товар в день рождения                                                        \n",
       "3  Изменить структура категорий, что увеличит конверсию, т.к. пользователи быстрее найдут нужный товар            \n",
       "1  Запустить собственную службу доставки, что сократит срок доставки заказов                                      \n",
       "5  Добавить страницу отзывов клиентов о магазине, что позволит увеличить количество заказов                       \n",
       "4  Изменить цвет фона главной страницы, чтобы увеличить вовлеченность пользователей                               \n",
       "\n",
       "    rice  \n",
       "7  112.0  \n",
       "2  56.0   \n",
       "0  40.0   \n",
       "6  40.0   \n",
       "8  16.2   \n",
       "3  9.0    \n",
       "1  4.0    \n",
       "5  4.0    \n",
       "4  3.0    "
      ]
     },
     "metadata": {},
     "output_type": "display_data"
    }
   ],
   "source": [
    "# рассчитаем значение показателя RICE\n",
    "hypothesis['rice'] = (\n",
    "    hypothesis['reach'] * hypothesis['ice']\n",
    ")\n",
    "\n",
    "# выведем данные, отсортированные по убыванию показателя RICE\n",
    "display(hypothesis[['hypothesis', 'rice']].sort_values(by='rice', ascending=False))"
   ]
  },
  {
   "cell_type": "markdown",
   "metadata": {},
   "source": [
    "### Изменения в приоритизации гипотез при применении RICE вместо ICE"
   ]
  },
  {
   "cell_type": "code",
   "execution_count": 17,
   "metadata": {},
   "outputs": [
    {
     "data": {
      "text/html": [
       "<div>\n",
       "<style scoped>\n",
       "    .dataframe tbody tr th:only-of-type {\n",
       "        vertical-align: middle;\n",
       "    }\n",
       "\n",
       "    .dataframe tbody tr th {\n",
       "        vertical-align: top;\n",
       "    }\n",
       "\n",
       "    .dataframe thead th {\n",
       "        text-align: right;\n",
       "    }\n",
       "</style>\n",
       "<table border=\"1\" class=\"dataframe\">\n",
       "  <thead>\n",
       "    <tr style=\"text-align: right;\">\n",
       "      <th></th>\n",
       "      <th>hypothesis</th>\n",
       "      <th>ice</th>\n",
       "      <th>rice</th>\n",
       "      <th>reach</th>\n",
       "    </tr>\n",
       "  </thead>\n",
       "  <tbody>\n",
       "    <tr>\n",
       "      <th>8</th>\n",
       "      <td>Запустить акцию, дающую скидку на товар в день рождения</td>\n",
       "      <td>16.200000</td>\n",
       "      <td>16.2</td>\n",
       "      <td>1</td>\n",
       "    </tr>\n",
       "    <tr>\n",
       "      <th>0</th>\n",
       "      <td>Добавить два новых канала привлечения трафика, что позволит привлекать на 30% больше пользователей</td>\n",
       "      <td>13.333333</td>\n",
       "      <td>40.0</td>\n",
       "      <td>3</td>\n",
       "    </tr>\n",
       "    <tr>\n",
       "      <th>7</th>\n",
       "      <td>Добавить форму подписки на все основные страницы, чтобы собрать базу клиентов для email-рассылок</td>\n",
       "      <td>11.200000</td>\n",
       "      <td>112.0</td>\n",
       "      <td>10</td>\n",
       "    </tr>\n",
       "    <tr>\n",
       "      <th>6</th>\n",
       "      <td>Показать на главной странице баннеры с актуальными акциями и распродажами, чтобы увеличить конверсию</td>\n",
       "      <td>8.000000</td>\n",
       "      <td>40.0</td>\n",
       "      <td>5</td>\n",
       "    </tr>\n",
       "    <tr>\n",
       "      <th>2</th>\n",
       "      <td>Добавить блоки рекомендаций товаров на сайт интернет магазина, чтобы повысить конверсию и средний чек заказа</td>\n",
       "      <td>7.000000</td>\n",
       "      <td>56.0</td>\n",
       "      <td>8</td>\n",
       "    </tr>\n",
       "    <tr>\n",
       "      <th>1</th>\n",
       "      <td>Запустить собственную службу доставки, что сократит срок доставки заказов</td>\n",
       "      <td>2.000000</td>\n",
       "      <td>4.0</td>\n",
       "      <td>2</td>\n",
       "    </tr>\n",
       "    <tr>\n",
       "      <th>5</th>\n",
       "      <td>Добавить страницу отзывов клиентов о магазине, что позволит увеличить количество заказов</td>\n",
       "      <td>1.333333</td>\n",
       "      <td>4.0</td>\n",
       "      <td>3</td>\n",
       "    </tr>\n",
       "    <tr>\n",
       "      <th>3</th>\n",
       "      <td>Изменить структура категорий, что увеличит конверсию, т.к. пользователи быстрее найдут нужный товар</td>\n",
       "      <td>1.125000</td>\n",
       "      <td>9.0</td>\n",
       "      <td>8</td>\n",
       "    </tr>\n",
       "    <tr>\n",
       "      <th>4</th>\n",
       "      <td>Изменить цвет фона главной страницы, чтобы увеличить вовлеченность пользователей</td>\n",
       "      <td>1.000000</td>\n",
       "      <td>3.0</td>\n",
       "      <td>3</td>\n",
       "    </tr>\n",
       "  </tbody>\n",
       "</table>\n",
       "</div>"
      ],
      "text/plain": [
       "                                                                                                     hypothesis  \\\n",
       "8  Запустить акцию, дающую скидку на товар в день рождения                                                        \n",
       "0  Добавить два новых канала привлечения трафика, что позволит привлекать на 30% больше пользователей             \n",
       "7  Добавить форму подписки на все основные страницы, чтобы собрать базу клиентов для email-рассылок               \n",
       "6  Показать на главной странице баннеры с актуальными акциями и распродажами, чтобы увеличить конверсию           \n",
       "2  Добавить блоки рекомендаций товаров на сайт интернет магазина, чтобы повысить конверсию и средний чек заказа   \n",
       "1  Запустить собственную службу доставки, что сократит срок доставки заказов                                      \n",
       "5  Добавить страницу отзывов клиентов о магазине, что позволит увеличить количество заказов                       \n",
       "3  Изменить структура категорий, что увеличит конверсию, т.к. пользователи быстрее найдут нужный товар            \n",
       "4  Изменить цвет фона главной страницы, чтобы увеличить вовлеченность пользователей                               \n",
       "\n",
       "         ice   rice  reach  \n",
       "8  16.200000  16.2   1      \n",
       "0  13.333333  40.0   3      \n",
       "7  11.200000  112.0  10     \n",
       "6  8.000000   40.0   5      \n",
       "2  7.000000   56.0   8      \n",
       "1  2.000000   4.0    2      \n",
       "5  1.333333   4.0    3      \n",
       "3  1.125000   9.0    8      \n",
       "4  1.000000   3.0    3      "
      ]
     },
     "metadata": {},
     "output_type": "display_data"
    }
   ],
   "source": [
    "display(hypothesis[['hypothesis', 'ice', 'rice', 'reach']].sort_values(by='ice', ascending=False))"
   ]
  },
  {
   "cell_type": "markdown",
   "metadata": {},
   "source": [
    "### <b>Вывод по разделу 3</b> "
   ]
  },
  {
   "cell_type": "markdown",
   "metadata": {},
   "source": [
    "При обоих методах в лидерах гипотезы 7 и 0 - \"Добавить форму подписки на все основные страницы, чтобы собрать базу клиентов для email-рассылок\" и \"Добавить два новых канала привлечения трафика, что позволит привлекать на 30% больше пользователей\", при том, что форму подписки на основных страницах увидят почти все посетители сайта, а новые каналы трафика, вероятно, 30% пользователей.\n",
    "\n",
    "Гипотеза \"Запустить акцию, дающую скидку на товар в день рождения\", несмотря на то, что затрагивает вроде бы всех пользователей, затрагивает их не одномоментно, к тому же информацию о новой ации нужно еще до них донести. Поэтому при применении метода RICE вместо ICE эта гипотеза опускается с 1 на 5 место. \n",
    "\n",
    "Так как мы предполагаем, что блоки рекомендаций увидит очень большая доля пользователей, гипотеза 2 \"Добавить блоки рекомендаций товаров на сайт интернет магазина, чтобы повысить конверсию и средний чек заказа\" поднимается с пятого места до второго. "
   ]
  },
  {
   "cell_type": "markdown",
   "metadata": {},
   "source": [
    "В качестве наиболее приоритетной возьмем гипотезу 7 - 'Добавить форму подписки на все основные страницы, чтобы собрать базу клиентов для email-рассылок', выбранную с применением фреймворка RICE"
   ]
  },
  {
   "cell_type": "markdown",
   "metadata": {},
   "source": [
    "## Анализ A/B-теста"
   ]
  },
  {
   "cell_type": "markdown",
   "metadata": {},
   "source": [
    "Проведем анализ полученных результатов проведенного A/B-теста: сперва рассчитаем кумулятивные метрики, проанализируем, затем проведем А/В тестирование до и после удаления выбросов."
   ]
  },
  {
   "cell_type": "markdown",
   "metadata": {},
   "source": [
    "Предварительно проверим выборки на предмет пользователей, попавших в обе группы:"
   ]
  },
  {
   "cell_type": "code",
   "execution_count": 18,
   "metadata": {},
   "outputs": [
    {
     "data": {
      "text/html": [
       "<div>\n",
       "<style scoped>\n",
       "    .dataframe tbody tr th:only-of-type {\n",
       "        vertical-align: middle;\n",
       "    }\n",
       "\n",
       "    .dataframe tbody tr th {\n",
       "        vertical-align: top;\n",
       "    }\n",
       "\n",
       "    .dataframe thead th {\n",
       "        text-align: right;\n",
       "    }\n",
       "</style>\n",
       "<table border=\"1\" class=\"dataframe\">\n",
       "  <thead>\n",
       "    <tr style=\"text-align: right;\">\n",
       "      <th></th>\n",
       "      <th>groups</th>\n",
       "      <th>group_names</th>\n",
       "    </tr>\n",
       "    <tr>\n",
       "      <th>visitor_id</th>\n",
       "      <th></th>\n",
       "      <th></th>\n",
       "    </tr>\n",
       "  </thead>\n",
       "  <tbody>\n",
       "    <tr>\n",
       "      <th>8300375</th>\n",
       "      <td>2</td>\n",
       "      <td>[B, A]</td>\n",
       "    </tr>\n",
       "    <tr>\n",
       "      <th>199603092</th>\n",
       "      <td>2</td>\n",
       "      <td>[A, B]</td>\n",
       "    </tr>\n",
       "    <tr>\n",
       "      <th>232979603</th>\n",
       "      <td>2</td>\n",
       "      <td>[B, A]</td>\n",
       "    </tr>\n",
       "    <tr>\n",
       "      <th>237748145</th>\n",
       "      <td>2</td>\n",
       "      <td>[B, A]</td>\n",
       "    </tr>\n",
       "    <tr>\n",
       "      <th>276558944</th>\n",
       "      <td>2</td>\n",
       "      <td>[B, A]</td>\n",
       "    </tr>\n",
       "  </tbody>\n",
       "</table>\n",
       "</div>"
      ],
      "text/plain": [
       "            groups group_names\n",
       "visitor_id                    \n",
       "8300375     2       [B, A]    \n",
       "199603092   2       [A, B]    \n",
       "232979603   2       [B, A]    \n",
       "237748145   2       [B, A]    \n",
       "276558944   2       [B, A]    "
      ]
     },
     "metadata": {},
     "output_type": "display_data"
    },
    {
     "data": {
      "text/plain": [
       "58"
      ]
     },
     "execution_count": 18,
     "metadata": {},
     "output_type": "execute_result"
    }
   ],
   "source": [
    "#выборка пользователей, попавших в обе выборки\n",
    "duplicated_users = orders.groupby('visitor_id').agg({'group': ['nunique', 'unique']})\n",
    "duplicated_users.columns = ['groups', 'group_names']\n",
    "duplicated_users = duplicated_users.query('groups > 1')\n",
    "display(duplicated_users.head())\n",
    "len(duplicated_users)"
   ]
  },
  {
   "cell_type": "code",
   "execution_count": 44,
   "metadata": {},
   "outputs": [
    {
     "name": "stdout",
     "output_type": "stream",
     "text": [
      "Общее количество пользователей до удаления \"двойных\" пользователей - 1031\n",
      "количество пользователей в группе А - 503\n",
      "количество пользователей в группе В - 586\n"
     ]
    }
   ],
   "source": [
    "print('Общее количество пользователей до удаления \"двойных\" пользователей -', orders['visitor_id'].nunique())\n",
    "print('количество пользователей в группе А -', orders.query('group == \"A\"')['visitor_id'].nunique())\n",
    "print('количество пользователей в группе В -', orders.query('group == \"B\"')['visitor_id'].nunique())"
   ]
  },
  {
   "cell_type": "markdown",
   "metadata": {},
   "source": [
    "Пользователей попавших в обе группы - 58, это около 10% в каждой группе. Их участие сразу в обоих группах может исказить результаты, а также повлиять на расчет выбросов. Но поскольку нам известны только id пользователей, совершивших хоть один платеж, а \"неплатящие\" неизвестны, то удаление таких пользователей может также исказить результаты в сторону \"неплатящих\". Оставим их в данных, а результаты будем анализировать предварительно разделив данные по группам А и В.\n"
   ]
  },
  {
   "cell_type": "markdown",
   "metadata": {},
   "source": [
    "<h3>Расчет кумулятивных метрик, необходимых для анализа.<a class=\"tocSkip\"> </h3>"
   ]
  },
  {
   "cell_type": "markdown",
   "metadata": {},
   "source": [
    "Произведем расчет кумулятивных метрик в разрезе групп тестирования: суммарное число заказов, суммарную выручку, количество пользователей до выбранной даты включительно."
   ]
  },
  {
   "cell_type": "code",
   "execution_count": 20,
   "metadata": {},
   "outputs": [
    {
     "data": {
      "text/html": [
       "<div>\n",
       "<style scoped>\n",
       "    .dataframe tbody tr th:only-of-type {\n",
       "        vertical-align: middle;\n",
       "    }\n",
       "\n",
       "    .dataframe tbody tr th {\n",
       "        vertical-align: top;\n",
       "    }\n",
       "\n",
       "    .dataframe thead th {\n",
       "        text-align: right;\n",
       "    }\n",
       "</style>\n",
       "<table border=\"1\" class=\"dataframe\">\n",
       "  <thead>\n",
       "    <tr style=\"text-align: right;\">\n",
       "      <th></th>\n",
       "      <th>date</th>\n",
       "      <th>orders_per_date_a</th>\n",
       "      <th>revenue_per_date_a</th>\n",
       "      <th>orders_per_date_b</th>\n",
       "      <th>revenue_per_date_b</th>\n",
       "      <th>orders_cummulative_a</th>\n",
       "      <th>revenue_cummulative_a</th>\n",
       "      <th>orders_cummulative_b</th>\n",
       "      <th>revenue_cummulative_b</th>\n",
       "      <th>visitors_per_date_a</th>\n",
       "      <th>visitors_per_date_b</th>\n",
       "      <th>visitors_cummulative_a</th>\n",
       "      <th>visitors_cummulative_b</th>\n",
       "    </tr>\n",
       "  </thead>\n",
       "  <tbody>\n",
       "    <tr>\n",
       "      <th>26</th>\n",
       "      <td>2019-08-27</td>\n",
       "      <td>28</td>\n",
       "      <td>286780</td>\n",
       "      <td>16</td>\n",
       "      <td>147677</td>\n",
       "      <td>495</td>\n",
       "      <td>3514698</td>\n",
       "      <td>548</td>\n",
       "      <td>5232260</td>\n",
       "      <td>711</td>\n",
       "      <td>720</td>\n",
       "      <td>16376</td>\n",
       "      <td>16523</td>\n",
       "    </tr>\n",
       "    <tr>\n",
       "      <th>27</th>\n",
       "      <td>2019-08-28</td>\n",
       "      <td>17</td>\n",
       "      <td>101122</td>\n",
       "      <td>28</td>\n",
       "      <td>96008</td>\n",
       "      <td>512</td>\n",
       "      <td>3615820</td>\n",
       "      <td>576</td>\n",
       "      <td>5328268</td>\n",
       "      <td>594</td>\n",
       "      <td>654</td>\n",
       "      <td>16970</td>\n",
       "      <td>17177</td>\n",
       "    </tr>\n",
       "    <tr>\n",
       "      <th>28</th>\n",
       "      <td>2019-08-29</td>\n",
       "      <td>22</td>\n",
       "      <td>320690</td>\n",
       "      <td>20</td>\n",
       "      <td>231130</td>\n",
       "      <td>534</td>\n",
       "      <td>3936510</td>\n",
       "      <td>596</td>\n",
       "      <td>5559398</td>\n",
       "      <td>577</td>\n",
       "      <td>531</td>\n",
       "      <td>17547</td>\n",
       "      <td>17708</td>\n",
       "    </tr>\n",
       "    <tr>\n",
       "      <th>29</th>\n",
       "      <td>2019-08-30</td>\n",
       "      <td>11</td>\n",
       "      <td>86460</td>\n",
       "      <td>24</td>\n",
       "      <td>215233</td>\n",
       "      <td>545</td>\n",
       "      <td>4022970</td>\n",
       "      <td>620</td>\n",
       "      <td>5774631</td>\n",
       "      <td>490</td>\n",
       "      <td>490</td>\n",
       "      <td>18037</td>\n",
       "      <td>18198</td>\n",
       "    </tr>\n",
       "    <tr>\n",
       "      <th>30</th>\n",
       "      <td>2019-08-31</td>\n",
       "      <td>12</td>\n",
       "      <td>61833</td>\n",
       "      <td>20</td>\n",
       "      <td>133129</td>\n",
       "      <td>557</td>\n",
       "      <td>4084803</td>\n",
       "      <td>640</td>\n",
       "      <td>5907760</td>\n",
       "      <td>699</td>\n",
       "      <td>718</td>\n",
       "      <td>18736</td>\n",
       "      <td>18916</td>\n",
       "    </tr>\n",
       "  </tbody>\n",
       "</table>\n",
       "</div>"
      ],
      "text/plain": [
       "         date  orders_per_date_a  revenue_per_date_a  orders_per_date_b  \\\n",
       "26 2019-08-27  28                 286780              16                  \n",
       "27 2019-08-28  17                 101122              28                  \n",
       "28 2019-08-29  22                 320690              20                  \n",
       "29 2019-08-30  11                 86460               24                  \n",
       "30 2019-08-31  12                 61833               20                  \n",
       "\n",
       "    revenue_per_date_b  orders_cummulative_a  revenue_cummulative_a  \\\n",
       "26  147677              495                   3514698                 \n",
       "27  96008               512                   3615820                 \n",
       "28  231130              534                   3936510                 \n",
       "29  215233              545                   4022970                 \n",
       "30  133129              557                   4084803                 \n",
       "\n",
       "    orders_cummulative_b  revenue_cummulative_b  visitors_per_date_a  \\\n",
       "26  548                   5232260                711                   \n",
       "27  576                   5328268                594                   \n",
       "28  596                   5559398                577                   \n",
       "29  620                   5774631                490                   \n",
       "30  640                   5907760                699                   \n",
       "\n",
       "    visitors_per_date_b  visitors_cummulative_a  visitors_cummulative_b  \n",
       "26  720                  16376                   16523                   \n",
       "27  654                  16970                   17177                   \n",
       "28  531                  17547                   17708                   \n",
       "29  490                  18037                   18198                   \n",
       "30  718                  18736                   18916                   "
      ]
     },
     "metadata": {},
     "output_type": "display_data"
    }
   ],
   "source": [
    "# делим visitors по группам и считаем кумулятивные данные по датам\n",
    "\n",
    "# группа А\n",
    "visitors_a_daily = visitors[visitors['group'] == 'A'][['date', 'visitors']]\n",
    "visitors_a_daily.columns = ['date', 'visitors_per_date_a']\n",
    "\n",
    "visitors_a_cummulative = visitors_a_daily.apply(\n",
    "    lambda x: visitors_a_daily[visitors_a_daily['date'] <= x['date']].agg(\n",
    "        {'date': 'max', 'visitors_per_date_a': 'sum'}\n",
    "    ),\n",
    "    axis=1,\n",
    ")\n",
    "visitors_a_cummulative.columns = ['date', 'visitors_cummulative_a']\n",
    "\n",
    "# группа В\n",
    "visitors_b_daily = visitors[visitors['group'] == 'B'][['date', 'visitors']]\n",
    "visitors_b_daily.columns = ['date', 'visitors_per_date_b']\n",
    "\n",
    "visitors_b_cummulative = visitors_b_daily.apply(\n",
    "    lambda x: visitors_b_daily[visitors_b_daily['date'] <= x['date']].agg(\n",
    "        {'date': 'max', 'visitors_per_date_b': 'sum'}\n",
    "    ),\n",
    "    axis=1,\n",
    ")\n",
    "visitors_b_cummulative.columns = ['date', 'visitors_cummulative_b']\n",
    "\n",
    "\n",
    "#делим orders по группам и считаем кумулятивные данные по датам\n",
    "\n",
    "# группа А\n",
    "orders_a_daily = (\n",
    "    orders[orders['group'] == 'A'][['date', 'transaction_id', 'visitor_id', 'revenue']]\n",
    "    .groupby('date', as_index=False)\n",
    "    .agg({'transaction_id': pd.Series.nunique, 'revenue': 'sum'})\n",
    ")\n",
    "orders_a_daily.columns = ['date', 'orders_per_date_a', 'revenue_per_date_a']\n",
    "\n",
    "orders_a_cummulative = orders_a_daily.apply(\n",
    "    lambda x: orders_a_daily[orders_a_daily['date'] <= x['date']].agg(\n",
    "        {'date': 'max', 'orders_per_date_a': 'sum', 'revenue_per_date_a': 'sum'}\n",
    "    ),\n",
    "    axis=1,\n",
    ").sort_values(by=['date'])\n",
    "\n",
    "orders_a_cummulative.columns = [\n",
    "    'date',\n",
    "    'orders_cummulative_a',\n",
    "    'revenue_cummulative_a',\n",
    "]\n",
    "# группа В\n",
    "orders_b_daily = (\n",
    "    orders[orders['group'] == 'B'][['date', 'transaction_id', 'visitor_id', 'revenue']]\n",
    "    .groupby('date', as_index=False)\n",
    "    .agg({'transaction_id': pd.Series.nunique, 'revenue': 'sum'})\n",
    ")\n",
    "orders_b_daily.columns = ['date', 'orders_per_date_b', 'revenue_per_date_b']\n",
    "\n",
    "orders_b_cummulative = orders_b_daily.apply(\n",
    "    lambda x: orders_b_daily[orders_b_daily['date'] <= x['date']].agg(\n",
    "        {'date': 'max', 'orders_per_date_b': 'sum', 'revenue_per_date_b': 'sum'}\n",
    "    ),\n",
    "    axis=1,\n",
    ").sort_values(by=['date'])\n",
    "orders_b_cummulative.columns = [\n",
    "    'date',\n",
    "    'orders_cummulative_b',\n",
    "    'revenue_cummulative_b',\n",
    "]\n",
    "\n",
    "#собираем данные в единый фрейм\n",
    "data = (\n",
    "    orders_a_daily.merge(\n",
    "        orders_b_daily, left_on='date', right_on='date', how='left'\n",
    "    )\n",
    "    .merge(orders_a_cummulative, left_on='date', right_on='date', how='left')\n",
    "    .merge(orders_b_cummulative, left_on='date', right_on='date', how='left')\n",
    "    .merge(visitors_a_daily, left_on='date', right_on='date', how='left')\n",
    "    .merge(visitors_b_daily, left_on='date', right_on='date', how='left')\n",
    "    .merge(visitors_a_cummulative, left_on='date', right_on='date', how='left')\n",
    "    .merge(visitors_b_cummulative, left_on='date', right_on='date', how='left')\n",
    ")\n",
    "\n",
    "display(data.tail(5)) \n",
    "\n",
    "order_by_user_a = (\n",
    "    orders[orders['group'] == 'A']\n",
    "    .groupby('visitor_id', as_index=False)\n",
    "    .agg({'transaction_id': pd.Series.nunique})\n",
    ")\n",
    "order_by_user_a.columns = ['visitor_id', 'orders']"
   ]
  },
  {
   "cell_type": "markdown",
   "metadata": {},
   "source": [
    "Мы получили сводный датафрейм date со столбцами:\n",
    "\n",
    "+ orders_per_date_a — количество заказов в выбранную дату в группе A;\n",
    "+ revenue_per_date_a — суммарная выручка в выбранную дату в группе A;\n",
    "+ orders_per_date_b — количество заказов в выбранную дату в группе B;\n",
    "+ revenue_per_date_b — суммарная выручка в выбранную дату в группе B;\n",
    "+ orders_cummulative_a — суммарное число заказов до выбранной даты включительно в группе A;\n",
    "+ revenue_cummulative_a — суммарная выручка до выбранной даты включительно в группе A;\n",
    "+ orders_cummulative_b — суммарное количество заказов до выбранной даты включительно в группе B;\n",
    "+ revenue_cummulative_b — суммарная выручка до выбранной даты включительно в группе B;\n",
    "+ visitors_per_date_a — количество пользователей в выбранную дату в группе A;\n",
    "+ visitors_per_date_b — количество пользователей в выбранную дату в группе B;\n",
    "+ visitors_cummulative_a — количество пользователей до выбранной даты включительно в группе A;\n",
    "+ visitors_cummulative_b — количество пользователей до выбранной даты включительно в группе B."
   ]
  },
  {
   "cell_type": "markdown",
   "metadata": {},
   "source": [
    "### График кумулятивной выручки по группам."
   ]
  },
  {
   "cell_type": "code",
   "execution_count": 21,
   "metadata": {},
   "outputs": [
    {
     "data": {
      "image/png": "[encoded data removed]",
      "text/plain": [
       "<Figure size 432x288 with 1 Axes>"
      ]
     },
     "metadata": {
      "needs_background": "light"
     },
     "output_type": "display_data"
    }
   ],
   "source": [
    "data[['date','revenue_cummulative_a', 'revenue_cummulative_b']] .plot(x = 'date',\n",
    "                  grid=True,  title = \"Кумулятивная выручка\").set(\n",
    "                  xlabel = 'дата', ylabel = 'выручка');"
   ]
  },
  {
   "cell_type": "markdown",
   "metadata": {},
   "source": [
    "<b>Вывод:</b> \n",
    "\n",
    "\n",
    "По графику видим, что кумулятивная выручка в обеих группах равномерно увеличивается в течение всего теста, но кривая выручки группы B стабильно выше, чем аналогичный показатель группы А. На графике выручки группы B есть резкий скачок в районе 18-19 августа. Это может быть связано как со всплеском числа заказов в данной группе, так и с аномально крупными заказами. "
   ]
  },
  {
   "cell_type": "markdown",
   "metadata": {},
   "source": [
    "### График кумулятивного среднего чека по группам."
   ]
  },
  {
   "cell_type": "code",
   "execution_count": 22,
   "metadata": {},
   "outputs": [
    {
     "data": {
      "image/png": "[encoded data removed]",
      "text/plain": [
       "<Figure size 432x288 with 1 Axes>"
      ]
     },
     "metadata": {
      "needs_background": "light"
     },
     "output_type": "display_data"
    }
   ],
   "source": [
    "data['cumulative_average_check_A'] = data['revenue_cummulative_a'] / data['orders_cummulative_a']\n",
    "data['cumulative_average_check_B'] = data['revenue_cummulative_b'] / data['orders_cummulative_b']\n",
    "\n",
    "data[['date','cumulative_average_check_A', 'cumulative_average_check_B']] .plot(x = 'date',\n",
    "                  grid=True,  title = \"Кумулятивный средний чек\").set(\n",
    "                  xlabel = 'дата', ylabel = 'средний чек');"
   ]
  },
  {
   "cell_type": "markdown",
   "metadata": {},
   "source": [
    "<b>Вывод:</b>\n",
    "\n",
    "Средний чек в группе A за первые две недели подрос и стабилизировался, а в группе B резко подскочил 18-19 августа и стал плавно снижаться к концу теста.  С учётом того, что средний чек это выручка, делённая на число заказов, можно сделать вывод, что 18-19 августа всё же было не аномальное увеличение числа заказов, а заказы с аномальной сумммой."
   ]
  },
  {
   "cell_type": "markdown",
   "metadata": {},
   "source": [
    "### График относительного изменения кумулятивного среднего чека группы B к группе A."
   ]
  },
  {
   "cell_type": "code",
   "execution_count": 23,
   "metadata": {},
   "outputs": [
    {
     "data": {
      "image/png": "[encoded data removed]",
      "text/plain": [
       "<Figure size 432x288 with 1 Axes>"
      ]
     },
     "metadata": {
      "needs_background": "light"
     },
     "output_type": "display_data"
    }
   ],
   "source": [
    "data['cumulative_average_check'] = data['cumulative_average_check_B'] / data['cumulative_average_check_A']-1\n",
    "\n",
    "\n",
    "data[['date','cumulative_average_check']] .plot(x = 'date',\n",
    "                  grid=True,  \n",
    "                  title = \"Относительное изменение кумулятивного среднего чека\").set(\n",
    "                  xlabel = 'дата');\n",
    "plt.axhline(y=0, color='black', linestyle='--');"
   ]
  },
  {
   "cell_type": "markdown",
   "metadata": {},
   "source": [
    "<b>Вывод:</b>\n",
    "\n",
    "Относительное изменение кумулятивного среднего чека показывает, что практически на всём протяжении теста средний чек группы B превосходил средний чек группы A. С 18-19 августа отношение начинает равномерно снижаться. Блольшие скачки графика говорят о возможных выбросах."
   ]
  },
  {
   "cell_type": "markdown",
   "metadata": {},
   "source": [
    "### График кумулятивной конверсии"
   ]
  },
  {
   "cell_type": "code",
   "execution_count": 24,
   "metadata": {},
   "outputs": [
    {
     "data": {
      "image/png": "[encoded data removed]",
      "text/plain": [
       "<Figure size 432x288 with 1 Axes>"
      ]
     },
     "metadata": {
      "needs_background": "light"
     },
     "output_type": "display_data"
    }
   ],
   "source": [
    "data['cumulative_conversion_a'] = data['orders_cummulative_a'] / data['visitors_cummulative_a']\n",
    "data['cumulative_conversion_b'] = data['orders_cummulative_b'] / data['visitors_cummulative_b']\n",
    "\n",
    "data[['date','cumulative_conversion_a', 'cumulative_conversion_b']] .plot(x = 'date',\n",
    "                  grid=True,  \n",
    "                  title = \"Кумулятивная конверсия\").set(\n",
    "                  xlabel = 'дата');"
   ]
  },
  {
   "cell_type": "markdown",
   "metadata": {},
   "source": [
    "<b>Вывод:</b> \n",
    "\n",
    "До 6 августа конверсии колебались, затем группа A постепенно стала проседать, а группа B наоборот росла. После 12 августа конверсии стабилизировались, причем у гуппы В конверсия выше более чем на 10% ."
   ]
  },
  {
   "cell_type": "markdown",
   "metadata": {},
   "source": [
    "### График относительного изменения кумулятивной конверсии"
   ]
  },
  {
   "cell_type": "code",
   "execution_count": 25,
   "metadata": {},
   "outputs": [
    {
     "data": {
      "image/png": "[encoded data removed]",
      "text/plain": [
       "<Figure size 432x288 with 1 Axes>"
      ]
     },
     "metadata": {
      "needs_background": "light"
     },
     "output_type": "display_data"
    }
   ],
   "source": [
    "data['cumulative_conversion'] = data['cumulative_conversion_a'] / data['cumulative_conversion_b']-1\n",
    "\n",
    "\n",
    "data[['date','cumulative_conversion']] .plot(x = 'date',\n",
    "                  grid=True,  \n",
    "                  title = \"Относительное изменение кумулятивной конверсии группы B к группе A\").set(\n",
    "                  xlabel = 'дата');\n",
    "plt.axhline(y=0, color='black', linestyle='--');"
   ]
  },
  {
   "cell_type": "markdown",
   "metadata": {},
   "source": [
    "<b>Вывод:</b> \n",
    "\n",
    "В целом отношение конверсий стабилизировалось - причем группа A проигрывает группе B на протяжении почти всего теста."
   ]
  },
  {
   "cell_type": "markdown",
   "metadata": {},
   "source": [
    "### Точечный график количества заказов по пользователям."
   ]
  },
  {
   "cell_type": "markdown",
   "metadata": {},
   "source": [
    "Создадим переменную, в которой сформируем данные по пользователям и количеству заказов каждого (по тем, кто совершил хоть один заказ):"
   ]
  },
  {
   "cell_type": "code",
   "execution_count": 26,
   "metadata": {},
   "outputs": [
    {
     "name": "stdout",
     "output_type": "stream",
     "text": [
      "Минимальное количество заказов: 1\n",
      "Маскимальное количество заказов: 11\n",
      "Количество платящих пользователей: 1031\n",
      "Кoличество заказов: 1197\n"
     ]
    },
    {
     "data": {
      "text/html": [
       "<div>\n",
       "<style scoped>\n",
       "    .dataframe tbody tr th:only-of-type {\n",
       "        vertical-align: middle;\n",
       "    }\n",
       "\n",
       "    .dataframe tbody tr th {\n",
       "        vertical-align: top;\n",
       "    }\n",
       "\n",
       "    .dataframe thead th {\n",
       "        text-align: right;\n",
       "    }\n",
       "</style>\n",
       "<table border=\"1\" class=\"dataframe\">\n",
       "  <thead>\n",
       "    <tr style=\"text-align: right;\">\n",
       "      <th></th>\n",
       "      <th>visitor_id</th>\n",
       "      <th>order_count</th>\n",
       "    </tr>\n",
       "  </thead>\n",
       "  <tbody>\n",
       "    <tr>\n",
       "      <th>0</th>\n",
       "      <td>5114589</td>\n",
       "      <td>1</td>\n",
       "    </tr>\n",
       "    <tr>\n",
       "      <th>1</th>\n",
       "      <td>6958315</td>\n",
       "      <td>1</td>\n",
       "    </tr>\n",
       "    <tr>\n",
       "      <th>2</th>\n",
       "      <td>8300375</td>\n",
       "      <td>2</td>\n",
       "    </tr>\n",
       "    <tr>\n",
       "      <th>3</th>\n",
       "      <td>11685486</td>\n",
       "      <td>1</td>\n",
       "    </tr>\n",
       "    <tr>\n",
       "      <th>4</th>\n",
       "      <td>39475350</td>\n",
       "      <td>1</td>\n",
       "    </tr>\n",
       "  </tbody>\n",
       "</table>\n",
       "</div>"
      ],
      "text/plain": [
       "   visitor_id  order_count\n",
       "0  5114589     1          \n",
       "1  6958315     1          \n",
       "2  8300375     2          \n",
       "3  11685486    1          \n",
       "4  39475350    1          "
      ]
     },
     "metadata": {},
     "output_type": "display_data"
    }
   ],
   "source": [
    "orders_by_users = orders.groupby('visitor_id',as_index=False)['transaction_id'].count()\n",
    "orders_by_users.columns = ['visitor_id', 'order_count']\n",
    "\n",
    "print('Минимальное количество заказов:', orders_by_users['order_count'].min())\n",
    "print('Маскимальное количество заказов:', orders_by_users['order_count'].max())\n",
    "print('Количество платящих пользователей:', len(orders_by_users))\n",
    "print('Кoличество заказов:', orders_by_users['order_count'].sum())\n",
    "display(orders_by_users.head())"
   ]
  },
  {
   "cell_type": "code",
   "execution_count": 27,
   "metadata": {},
   "outputs": [
    {
     "data": {
      "image/png": "[encoded data removed]",
      "text/plain": [
       "<Figure size 864x360 with 1 Axes>"
      ]
     },
     "metadata": {
      "needs_background": "light"
     },
     "output_type": "display_data"
    }
   ],
   "source": [
    "plt.figure(figsize=(12,5))\n",
    "plt.grid()\n",
    "\n",
    "x_values = pd.Series(range(0,len(orders_by_users)))\n",
    "plt.scatter(x_values, orders_by_users['order_count']) \n",
    "plt.title(\"Количество заказов группы А \")\n",
    "plt.ylim(0,12)\n",
    "plt.show()"
   ]
  },
  {
   "cell_type": "markdown",
   "metadata": {},
   "source": [
    "<b>Вывод:</b> График показывает, что основная часть пользователей сделала по 1 заказу. Есть большая группа пользователей с 2 заказами, небольшая группа с 3 заказами и далее аномальные пользователи с 4-мя и более заказами."
   ]
  },
  {
   "cell_type": "markdown",
   "metadata": {},
   "source": [
    "### Расчет 95-й и 99-й перцентили количества заказов на пользователя. Определение границы для аномальных заказов."
   ]
  },
  {
   "cell_type": "code",
   "execution_count": 28,
   "metadata": {},
   "outputs": [
    {
     "name": "stdout",
     "output_type": "stream",
     "text": [
      "[2. 4.]\n"
     ]
    }
   ],
   "source": [
    "print(np.percentile(orders_by_users['order_count'], [95, 99]))"
   ]
  },
  {
   "cell_type": "markdown",
   "metadata": {},
   "source": [
    "<b>Вывод:</b>\n",
    "\n",
    "Итак, не более 5% пользователей оформляли более 2 заказов, и не более 1% оформляли более 4-х.\n",
    "\n",
    "Будем считать всех пользователей, сделавших более 2 заказов аномалиями."
   ]
  },
  {
   "cell_type": "markdown",
   "metadata": {},
   "source": [
    "### Точечный график стоимостей заказов. "
   ]
  },
  {
   "cell_type": "code",
   "execution_count": 29,
   "metadata": {},
   "outputs": [
    {
     "data": {
      "text/html": [
       "<div>\n",
       "<style scoped>\n",
       "    .dataframe tbody tr th:only-of-type {\n",
       "        vertical-align: middle;\n",
       "    }\n",
       "\n",
       "    .dataframe tbody tr th {\n",
       "        vertical-align: top;\n",
       "    }\n",
       "\n",
       "    .dataframe thead th {\n",
       "        text-align: right;\n",
       "    }\n",
       "</style>\n",
       "<table border=\"1\" class=\"dataframe\">\n",
       "  <thead>\n",
       "    <tr style=\"text-align: right;\">\n",
       "      <th></th>\n",
       "      <th>transaction_id</th>\n",
       "      <th>visitor_id</th>\n",
       "      <th>date</th>\n",
       "      <th>revenue</th>\n",
       "      <th>group</th>\n",
       "    </tr>\n",
       "  </thead>\n",
       "  <tbody>\n",
       "    <tr>\n",
       "      <th>425</th>\n",
       "      <td>590470918</td>\n",
       "      <td>1920142716</td>\n",
       "      <td>2019-08-19</td>\n",
       "      <td>1294500</td>\n",
       "      <td>B</td>\n",
       "    </tr>\n",
       "    <tr>\n",
       "      <th>1196</th>\n",
       "      <td>3936777065</td>\n",
       "      <td>2108080724</td>\n",
       "      <td>2019-08-15</td>\n",
       "      <td>202740</td>\n",
       "      <td>B</td>\n",
       "    </tr>\n",
       "  </tbody>\n",
       "</table>\n",
       "</div>"
      ],
      "text/plain": [
       "      transaction_id  visitor_id       date  revenue group\n",
       "425   590470918       1920142716 2019-08-19  1294500  B   \n",
       "1196  3936777065      2108080724 2019-08-15  202740   B   "
      ]
     },
     "metadata": {},
     "output_type": "display_data"
    },
    {
     "data": {
      "image/png": "[encoded data removed]",
      "text/plain": [
       "<Figure size 1080x360 with 1 Axes>"
      ]
     },
     "metadata": {
      "needs_background": "light"
     },
     "output_type": "display_data"
    }
   ],
   "source": [
    "revenue_per_orders = orders['revenue']\n",
    "\n",
    "plt.figure(figsize=(15,5))\n",
    "plt.grid()\n",
    "\n",
    "x_values = pd.Series(range(0,len(revenue_per_orders)))\n",
    "plt.scatter(x_values, revenue_per_orders) \n",
    "plt.title('Распределение стоимостей заказов')\n",
    "\n",
    "plt.ylim(0,1500000)\n",
    "\n",
    "display(orders.loc[orders['revenue'] > 200000])"
   ]
  },
  {
   "cell_type": "markdown",
   "metadata": {},
   "source": [
    "На графике присутствуют две ярких аномалии - заказ стоимостью более 1,2 млн. ₽ и заказ стоимостью более 200 000 от 19 и 15 августа соответственно. Основная часть заказов имеет стоимость ориентировочно не более 30000₽. \n",
    "\n",
    "Построим более наглядный график, уберем эти 2 выброса."
   ]
  },
  {
   "cell_type": "code",
   "execution_count": 30,
   "metadata": {},
   "outputs": [
    {
     "data": {
      "text/plain": [
       "(0.0, 100000.0)"
      ]
     },
     "execution_count": 30,
     "metadata": {},
     "output_type": "execute_result"
    },
    {
     "data": {
      "image/png": "[encoded data removed]",
      "text/plain": [
       "<Figure size 1080x360 with 1 Axes>"
      ]
     },
     "metadata": {
      "needs_background": "light"
     },
     "output_type": "display_data"
    }
   ],
   "source": [
    "plt.figure(figsize=(15,5))\n",
    "plt.grid()\n",
    "\n",
    "x_values = pd.Series(range(0,len(revenue_per_orders)))\n",
    "plt.scatter(x_values, revenue_per_orders) \n",
    "plt.title('Распределение стоимостей заказов')\n",
    "\n",
    "plt.ylim(0,100000)"
   ]
  },
  {
   "cell_type": "markdown",
   "metadata": {},
   "source": [
    "<b>Вывод:</b>\n",
    "\n",
    "У большинства пользователей сумма заказа не превышает 10 тыс. рублей, порог заказов не превышает 100 тыс руб. Можно заметить один аномально большой заказ от 19 августа на сумму 1 294 500р. Судя по всему это и есть причина резкого скачка кумулятивного среднего чека 19 августа. В остальном группы очень похожи между собой."
   ]
  },
  {
   "cell_type": "markdown",
   "metadata": {},
   "source": [
    "### Расчет 95-й и 99-й перцентили стоимости заказов. Определение границы для аномальных заказов."
   ]
  },
  {
   "cell_type": "code",
   "execution_count": 31,
   "metadata": {},
   "outputs": [
    {
     "name": "stdout",
     "output_type": "stream",
     "text": [
      "[28000.  58233.2]\n"
     ]
    }
   ],
   "source": [
    "print(np.percentile(revenue_per_orders, [95, 99])) "
   ]
  },
  {
   "cell_type": "markdown",
   "metadata": {},
   "source": [
    "<b>Вывод:</b>\n",
    "Большинство пользователей (95%) сделали заказы на сумму не более 28000₽. И лишь 1% пользователей делали заказы стоимостью выше 58233,2₽. Т.е. обе наши аномалии входят в этот 1%. \n",
    "\n",
    "Будем считать все заказы стоимостью более 28000 аномалиями."
   ]
  },
  {
   "cell_type": "markdown",
   "metadata": {},
   "source": [
    "### Расчет статистической значимости различий в конверсии между группами по «сырым» данным."
   ]
  },
  {
   "cell_type": "markdown",
   "metadata": {},
   "source": [
    "Создадим переменные по группам А и В , в которых сформируем данные по пользователям и количеству заказов каждого(по тем, кто совершил хоть один заказ):"
   ]
  },
  {
   "cell_type": "code",
   "execution_count": 32,
   "metadata": {},
   "outputs": [],
   "source": [
    "orders_by_users_a = orders.query('group == \"A\"').groupby('visitor_id',as_index=False)['transaction_id'].count()\n",
    "orders_by_users_a.columns = ['visitor_id', 'order_count']\n",
    "\n",
    "orders_by_users_b = orders.query('group == \"B\"').groupby('visitor_id',as_index=False)['transaction_id'].count()\n",
    "orders_by_users_b.columns = ['visitor_id', 'order_count']"
   ]
  },
  {
   "cell_type": "markdown",
   "metadata": {},
   "source": [
    "Объявим переменные sampleA и sampleB, в которых пользователям из разных групп будет соответствовать количество заказов. Тем, кто ничего не заказал, будут соответствовать нули. Это нужно, чтобы подготовить выборки к проверке критерием Манна-Уитни.\n",
    "\n",
    "Переменные sample_a(b) будут состоять из двух частей:\n",
    "\n",
    "+ Список с количеством заказов для каждого из пользователей: orders_by_users_a['orders'].\n",
    "\n",
    "+ Нули для пользователей, которые ничего не заказывали. Их количество равно разнице между суммой посетителей и количеством записей о заказах: data['visitors_per_date_a'].sum() - len(orders_by_users_a['orders']). Для этого создадим объект pd.Series нужной длины."
   ]
  },
  {
   "cell_type": "code",
   "execution_count": 33,
   "metadata": {},
   "outputs": [],
   "source": [
    "sample_a = pd.concat([\n",
    "                     orders_by_users_a['order_count'],\n",
    "                     pd.Series(0, index=np.arange(data['visitors_per_date_a'].sum() - len(orders_by_users_a['order_count'])),\n",
    "                     name='order_count')\n",
    "                     ],axis=0)\n",
    "\n",
    "sample_b = pd.concat([\n",
    "                     orders_by_users_b['order_count'],\n",
    "                     pd.Series(0, index=np.arange(data['visitors_per_date_b'].sum() - len(orders_by_users_b['order_count'])),\n",
    "                     name='order_count')\n",
    "                    ],axis=0)"
   ]
  },
  {
   "cell_type": "markdown",
   "metadata": {},
   "source": [
    "Сформулируем гипотезы:\n",
    "\n",
    "+ Н0 :статистически значимых различий в конверсии между группами нет.\n",
    "+ Н1 : статистически значимые различия в конверсии между группами есть.\n",
    "\n",
    "Для тестирования воспользуемся критерием Манна-Уитни, уровнем статистической значимости примем значение 0,05."
   ]
  },
  {
   "cell_type": "code",
   "execution_count": 34,
   "metadata": {},
   "outputs": [
    {
     "name": "stdout",
     "output_type": "stream",
     "text": [
      "p-value = 0.017\n",
      "Относительный показатель 'B' и 'A' = 0.138\n"
     ]
    }
   ],
   "source": [
    "# расчет p-value критерия Манна-Уитни\n",
    "print(\"p-value = {0:.3f}\".format(st.mannwhitneyu(sample_a, sample_b, True, 'two-sided')[1]))\n",
    "\n",
    "# расчет относительного изменения конверсии клиента группы В относительно группы А\n",
    "print(\"Относительный показатель 'B' и 'A' = {0:.3f}\".format(sample_b.mean() / sample_a.mean() - 1))\n"
   ]
  },
  {
   "cell_type": "markdown",
   "metadata": {},
   "source": [
    "Таким образом, по \"сырым\" данным значение p-value = 0.017, что меньше уровня статистической значимости, следовательно гипотезу о том, что различий в конверсии между группами нет, отвергаем. Относительная разница в конверсии между группами составила 13,8%(на столько конверсия группы В больше конверсии группы А)."
   ]
  },
  {
   "cell_type": "markdown",
   "metadata": {},
   "source": [
    "<b>Вывод:</b>\n",
    "\n",
    "Гипотеза, что различий в конверсии между группами в \"сырых\" данных нет, отвергнута. Относительная разница конверсии группы В на 13.8% больше, чем в группе А."
   ]
  },
  {
   "cell_type": "markdown",
   "metadata": {},
   "source": [
    "### Расчет статистической значимости различий в среднем чеке заказа между группами по «сырым» данным."
   ]
  },
  {
   "cell_type": "markdown",
   "metadata": {},
   "source": [
    "Чтобы рассчитать статистическую значимость различий в среднем чеке между сегментами, передадим критерию mannwhitneyu() данные о выручке с заказов, а также найдём относительные различия в среднем чеке между группами.\n",
    "\n",
    "Сформулируем гипотезы:\n",
    "\n",
    "Н0 :статистически значимых различий в среднем чеке заказа между группами нет. \\\n",
    "Н1 : статистически значимые различия в среднем чеке заказа между группами есть. \\\n",
    "Для тестирования воспользуемся тестом Манна-Уитни, уровнем статистической значимости примем значение 0,05"
   ]
  },
  {
   "cell_type": "code",
   "execution_count": 35,
   "metadata": {},
   "outputs": [
    {
     "name": "stdout",
     "output_type": "stream",
     "text": [
      "p-value = 0.729\n",
      "Относительный показатель 'B' и 'A' = 0.259\n"
     ]
    }
   ],
   "source": [
    "# расчет p-value критерия Манна-Уитни\n",
    "print(\"p-value = {0:.3f}\".format(st.mannwhitneyu(orders[orders['group']=='A']['revenue'], orders[orders['group']=='B']['revenue'], True, 'two-sided')[1]))\n",
    "\n",
    "# расчет относительного различия суммы среднего чека\n",
    "\n",
    "print(\"Относительный показатель 'B' и 'A' = {0:.3f}\".format(orders[orders['group']=='B']['revenue'].mean()/orders[orders['group']=='A']['revenue'].mean()-1)) "
   ]
  },
  {
   "cell_type": "markdown",
   "metadata": {},
   "source": [
    "\n",
    "По \"сырым данным \"P-value больше 0.05. Значит, причин отвергать нулевую гипотезу и считать, что в среднем чеке есть различия, нет. То есть средние чеки по \"сырым\" данным схожи. При этом относительный выигрыш в размере среднего чека группы \"B\" над \"A\" равен 25,9%."
   ]
  },
  {
   "cell_type": "markdown",
   "metadata": {},
   "source": [
    "<b>Вывод:</b>\n",
    "\n",
    "Гипотеза о том, что в \"сырых\" данных суммы среднего чека в обоих группах равны, с большой степенью вероятности не отвергнута. Но относительная разница суммы среднего чека между группами составила 25.9%. Возможно причина такого различия в выбросах."
   ]
  },
  {
   "cell_type": "markdown",
   "metadata": {},
   "source": [
    "### Расчет статистической значимости различий в конверсии между группами по «очищенным» данным."
   ]
  },
  {
   "cell_type": "markdown",
   "metadata": {},
   "source": [
    "Для того чтобы очистить данные от выбросов, сделаем следующее:\n",
    "\n",
    "Ранее мы определили за аномальных пользователей тех, кто совершил более 2  заказов или совершил заказ дороже                28000 рублей. \n",
    "+ Создадим срезы пользователей с числом заказов больше 2 — users_with_many_orders_a(b) и пользователей, совершивших заказы дороже 28000 рублей -  users_with_expensive_orders_a(b). \n",
    "+ Объединим их в таблице abnormal_users_a(b).\n",
    "\n",
    "Сделаем это для каждой группы."
   ]
  },
  {
   "cell_type": "code",
   "execution_count": 36,
   "metadata": {},
   "outputs": [
    {
     "name": "stdout",
     "output_type": "stream",
     "text": [
      "1099    148427295\n",
      "18      199603092\n",
      "928     204675465\n",
      "23      237748145\n",
      "684     358944393\n",
      "Name: visitor_id, dtype: int64\n",
      "количество аномальных пользователей группы A: (68,)\n"
     ]
    }
   ],
   "source": [
    "#для группы А\n",
    "users_with_many_orders_a = orders_by_users_a[orders_by_users_a['order_count'] > 2]['visitor_id']\n",
    "users_with_expensive_orders = orders[orders['revenue'] > np.percentile(revenue_per_orders, 95)]['visitor_id']\n",
    "\n",
    "abnormal_users_a = (\n",
    "    pd.concat([users_with_many_orders_a, users_with_expensive_orders], axis=0)\n",
    "    .drop_duplicates()\n",
    "    .sort_values()\n",
    ")\n",
    "print(abnormal_users_a.head(5))\n",
    "print('количество аномальных пользователей группы A:',abnormal_users_a.shape) "
   ]
  },
  {
   "cell_type": "code",
   "execution_count": 37,
   "metadata": {},
   "outputs": [
    {
     "name": "stdout",
     "output_type": "stream",
     "text": [
      "1099    148427295\n",
      "928     204675465\n",
      "37      249864742\n",
      "684     358944393\n",
      "648     382846391\n",
      "Name: visitor_id, dtype: int64\n",
      "количество аномальных пользователей группы B: (65,)\n"
     ]
    }
   ],
   "source": [
    "#для группы B\n",
    "users_with_many_orders_b = orders_by_users_b[orders_by_users_b['order_count'] >np.percentile(orders_by_users['order_count'], 95)]['visitor_id']\n",
    "  \n",
    "abnormal_users_b = (\n",
    "    pd.concat([users_with_many_orders_b, users_with_expensive_orders], axis=0)\n",
    "    .drop_duplicates()\n",
    "    .sort_values()\n",
    ")\n",
    "\n",
    "print(abnormal_users_b.head(5))\n",
    "print('количество аномальных пользователей группы B:', abnormal_users_b.shape) "
   ]
  },
  {
   "cell_type": "markdown",
   "metadata": {},
   "source": [
    "Посчитаем статистическую значимость различий в конверсии между группами теста по очищенным данным. Сначала подготовим выборки количества заказов по пользователям по группам теста:"
   ]
  },
  {
   "cell_type": "code",
   "execution_count": 38,
   "metadata": {},
   "outputs": [],
   "source": [
    "# группа A\n",
    "sample_a_filtered = pd.concat(\n",
    "    [orders_by_users_a[np.logical_not(orders_by_users_a['visitor_id'].isin(abnormal_users_a))]['order_count'],\n",
    "     pd.Series(0, index=np.arange(data['visitors_per_date_a'].sum() - len(orders_by_users_a['order_count'])),\n",
    "     name='order_count',),],\n",
    "     axis=0,\n",
    ")\n",
    "\n",
    "# группа B\n",
    "sample_b_filtered = pd.concat(\n",
    "    [\n",
    "        orders_by_users_b[\n",
    "            np.logical_not(orders_by_users_b['visitor_id'].isin(abnormal_users_b))\n",
    "        ]['order_count'],\n",
    "        pd.Series(\n",
    "            0,\n",
    "            index=np.arange(\n",
    "                data['visitors_per_date_b'].sum() - len(orders_by_users_b['order_count'])\n",
    "            ),\n",
    "            name='order_count',\n",
    "        ),\n",
    "    ],\n",
    "    axis=0,\n",
    ") "
   ]
  },
  {
   "cell_type": "markdown",
   "metadata": {},
   "source": [
    "Применим статистический критерий Манна-Уитни к полученным выборкам с \"очищенными\" от выбросов данными.\n",
    "\n",
    "Гипотезы:\n",
    "\n",
    "+ Н0 :статистически значимых  различий в конверсии между группами нет.\n",
    "+ Н1 : статистически значимые  различий в конверсии между группами есть. \n",
    "\n",
    "Уровнем статистической значимости примем значение 0,05"
   ]
  },
  {
   "cell_type": "code",
   "execution_count": 39,
   "metadata": {},
   "outputs": [
    {
     "name": "stdout",
     "output_type": "stream",
     "text": [
      "p-value = 0.013\n",
      "Относительный показатель 'B' и 'A' = 0.173\n"
     ]
    }
   ],
   "source": [
    "# расчет p-value критерия Манна-Уитни\n",
    "print(\"p-value = {0:.3f}\".format(st.mannwhitneyu(sample_a_filtered, sample_b_filtered, True, 'two-sided')[1]))\n",
    "\n",
    "# расчет относительного изменения конверсии клиента группы В относительно группы А\n",
    "print(\"Относительный показатель 'B' и 'A' = {0:.3f}\".format(sample_b_filtered.mean()/sample_a_filtered.mean()-1)) "
   ]
  },
  {
   "cell_type": "markdown",
   "metadata": {},
   "source": [
    "<b>Вывод:</b>\n",
    "\n",
    "p-value = 0.01 меньше 0.05, значит нулевую гипотезу о том, что статистически значимых различий в конверсии между группами нет, - отвергаем. Получается и по «очищенным» данным различия в конверсии групп A и B есть. Относительный выигрыш группы \"B\" над \"A\" равен 17,3% (выше, чем с «сырыми» данными - 13.8%) ."
   ]
  },
  {
   "cell_type": "markdown",
   "metadata": {},
   "source": [
    "### Расчет статистической значимости различий в среднем чеке заказа между группами по «очищенным» данным."
   ]
  },
  {
   "cell_type": "markdown",
   "metadata": {},
   "source": [
    "Теперь посмотрим произошло ли что-нибудь с результатами по среднему чеку с«очищенным» данными:\n",
    "    \n",
    "Сформулируем гипотезы:\n",
    "\n",
    "Н0 :статистически значимых различий в среднем чеке заказа между группами нет. \\\n",
    "Н1 : статистически значимые различия в среднем чеке заказа между группами есть. \\\n",
    "Уровнем статистической значимости примем значение 0,05"
   ]
  },
  {
   "cell_type": "code",
   "execution_count": 40,
   "metadata": {},
   "outputs": [
    {
     "name": "stdout",
     "output_type": "stream",
     "text": [
      "p-value = 0.869\n",
      "Относительный показатель 'B' и 'A' = -0.012\n"
     ]
    },
    {
     "data": {
      "text/html": [
       "<div>\n",
       "<style scoped>\n",
       "    .dataframe tbody tr th:only-of-type {\n",
       "        vertical-align: middle;\n",
       "    }\n",
       "\n",
       "    .dataframe tbody tr th {\n",
       "        vertical-align: top;\n",
       "    }\n",
       "\n",
       "    .dataframe thead th {\n",
       "        text-align: right;\n",
       "    }\n",
       "</style>\n",
       "<table border=\"1\" class=\"dataframe\">\n",
       "  <thead>\n",
       "    <tr style=\"text-align: right;\">\n",
       "      <th></th>\n",
       "      <th>transaction_id</th>\n",
       "      <th>visitor_id</th>\n",
       "      <th>date</th>\n",
       "      <th>revenue</th>\n",
       "      <th>group</th>\n",
       "    </tr>\n",
       "  </thead>\n",
       "  <tbody>\n",
       "    <tr>\n",
       "      <th>425</th>\n",
       "      <td>590470918</td>\n",
       "      <td>1920142716</td>\n",
       "      <td>2019-08-19</td>\n",
       "      <td>1294500</td>\n",
       "      <td>B</td>\n",
       "    </tr>\n",
       "  </tbody>\n",
       "</table>\n",
       "</div>"
      ],
      "text/plain": [
       "     transaction_id  visitor_id       date  revenue group\n",
       "425  590470918       1920142716 2019-08-19  1294500  B   "
      ]
     },
     "metadata": {},
     "output_type": "display_data"
    }
   ],
   "source": [
    "# p-value критерия Манна-Уитни\n",
    "print(\"p-value = {0:.3f}\".format(st.mannwhitneyu(\n",
    "    orders[np.logical_and(\n",
    "        orders['group']=='A',\n",
    "        np.logical_not(orders['visitor_id'].isin(abnormal_users_a)))]['revenue'],\n",
    "    orders[np.logical_and(\n",
    "        orders['group']=='B',\n",
    "        np.logical_not(orders['visitor_id'].isin(abnormal_users_b)))]['revenue'], alternative = 'two-sided')[1]))\n",
    "\n",
    "# относительные различия суммы среднего чека\n",
    "print(\"Относительный показатель 'B' и 'A' = {0:.3f}\".format(\n",
    "    orders[np.logical_and(orders['group']=='B',np.logical_not(orders['visitor_id'].isin(abnormal_users_b)))]['revenue'].mean()/\n",
    "    orders[np.logical_and(\n",
    "        orders['group']=='A',\n",
    "        np.logical_not(orders['visitor_id'].isin(abnormal_users_a)))]['revenue'].mean() - 1)) \n",
    "\n",
    "display(orders.loc[orders['revenue'] > 1000000])"
   ]
  },
  {
   "cell_type": "markdown",
   "metadata": {},
   "source": [
    "<b>Вывод:</b>\n",
    "\n",
    "p-value больше 0.05. Значит, причин отвергать нулевую гипотезу и считать, что в среднем чеке есть различия,тоже нет (как и с \"сырыми\" данными).\n",
    "\n",
    "А вот относительный выигрыш в размере среднего чека по \"очищенным\" данным в пользу группы А - 1,2%, тогда как по \"сырым\" данным он составлял 25,9% в пользу группы В. Причина в онамольно большом заказе в группе B 19 августа на сумму более 1,2млн рублей. \n"
   ]
  },
  {
   "cell_type": "markdown",
   "metadata": {},
   "source": [
    "### <b>Вывод по разделу 4</b> "
   ]
  },
  {
   "cell_type": "markdown",
   "metadata": {},
   "source": [
    "1. Данные для теста были подготовлены неудовлетворительно. В данных присутствует 58 посетителей, которые входят как в группу A так и в группу B.\n",
    "2. Кумулятивная выручка по обеим группам равномерно увеличивалась в течение теста. В группе B имеется аномальный скачок графика 19 августа.\n",
    "3. Средний чек в группе A за первые две недели подрос и стабилизировался, а в группе B резко подскочил 19 августа и стал плавно снижаться к концу теста. Так же в группе \n",
    "4. Относительное изменение кумулятивного среднего чека показывает, что практически на всём протяжении теста средний чек группы B превосходил средний чек группы A. С 19 августа отношение начинает равномерно снижаться.\n",
    "5. До 6 августа конверсии колебались, затем группа A постепенно стала проседать, а группа B наоборот росла. После 12 августа конверсии стабилизировались, причем у гуппы В конверсия гораздо выше.\n",
    "6. В целом отношение конверсий стабилизировалось - причем группа A проигрывает группе B на протяжении почти всего теста.\n",
    "7. Не более 5% пользователей оформляли более 2 заказов, и не более 1% оформляли более 4-х.\n",
    "8. Большинство пользователей (95%) сделали заказы на сумму не более 28000₽. И лишь 1% пользователей делали заказы стоимостью выше 58233,2₽\n",
    "10. Статистическая значимость различий между конверсиями групп по \"сырым\" данным подтверждена.\n",
    "11. Статистическая значимость различий между средними чеками групп по \"сырым\" данным отсутствует.\n",
    "12. Статистическая значимость различий между конверсиями групп по \"очищенным\" данным подтверждена.\n",
    "13. Статистическая значимость различий между средними чеками групп по \"очищенным\" данным отсутствует.\n"
   ]
  },
  {
   "cell_type": "markdown",
   "metadata": {},
   "source": [
    "## Общий вывод и решение"
   ]
  },
  {
   "cell_type": "markdown",
   "metadata": {},
   "source": [
    "1. Из представленных 9 гипотез с применением фреймворка RICE нами была выбрана как наиболее приоритетная гипотеза 7 - 'Добавить форму подписки на все основные страницы, чтобы собрать базу клиентов для email-рассылок'\n",
    "\n",
    "\n",
    "2. По результатам А/В-тестирования гипотезы были сделаны следующие выводы:\n",
    "+ кумулятивная выручка группы В стабильно выше выручки группы А;\n",
    "\n",
    "+ кумулятивный средний чек группы B практически на всём протяжении теста превосходил средний чек группы А, но 19 августа он резко вырос, а затем начинает равномерно снижаться. Это объясняется аномальнно большой покупкой в группе B 19 августа  на сумму 1 294 500 рублей;\n",
    "\n",
    "+ конверсии групп устоялись, причем в группе B она стабильно выше, чем в группе А;\n",
    "\n",
    "+ Статистическими тестами подтверждено наличие статистически значимых различий в конверсиях между группами. При этом, по \"очищенным\" данным относительный выигрыш группы B даже выше 17,3%;\n",
    "\n",
    "+ Статистическими тестами подтверждено отсутствие статистически значимых различий в средних чеках между группами. \n",
    "\n",
    "Получается, что покупательское поведение в группах одинаковое, но привлечение пользователей в группе B идёт лучше. Средний прирост конверсии в 17,3% это хороший показатель!\n",
    "\n",
    "<b>По результатам A/B теста принимаем решение тест остановить зафиксировать победу группы B.</b>\n",
    "\n",
    "\n"
   ]
  }
 ],
 "metadata": {
  "ExecuteTimeLog": [
   {
    "duration": 69,
    "start_time": "2023-07-20T20:06:46.209Z"
   },
   {
    "duration": 70,
    "start_time": "2023-07-20T20:09:17.049Z"
   },
   {
    "duration": 70,
    "start_time": "2023-07-20T20:16:51.664Z"
   },
   {
    "duration": 66,
    "start_time": "2023-07-20T20:19:34.944Z"
   },
   {
    "duration": 66,
    "start_time": "2023-07-20T20:27:56.185Z"
   },
   {
    "duration": 71,
    "start_time": "2023-07-20T20:30:27.989Z"
   },
   {
    "duration": 1369,
    "start_time": "2023-07-20T20:44:40.792Z"
   },
   {
    "duration": 312,
    "start_time": "2023-07-20T20:46:57.281Z"
   },
   {
    "duration": 3,
    "start_time": "2023-07-20T20:47:52.317Z"
   },
   {
    "duration": 107,
    "start_time": "2023-07-20T20:47:52.647Z"
   },
   {
    "duration": 5,
    "start_time": "2023-07-20T20:51:20.456Z"
   },
   {
    "duration": 75,
    "start_time": "2023-07-21T11:44:46.625Z"
   },
   {
    "duration": 147,
    "start_time": "2023-07-21T11:45:06.088Z"
   },
   {
    "duration": 1185,
    "start_time": "2023-07-21T11:45:13.681Z"
   },
   {
    "duration": 230,
    "start_time": "2023-07-21T11:45:14.868Z"
   },
   {
    "duration": 5,
    "start_time": "2023-07-21T11:45:15.100Z"
   },
   {
    "duration": 64,
    "start_time": "2023-07-21T11:45:15.107Z"
   },
   {
    "duration": 67,
    "start_time": "2023-07-21T11:46:17.463Z"
   },
   {
    "duration": 83,
    "start_time": "2023-07-21T11:46:52.504Z"
   },
   {
    "duration": 58,
    "start_time": "2023-07-21T11:47:31.549Z"
   },
   {
    "duration": 4,
    "start_time": "2023-07-21T11:52:04.354Z"
   },
   {
    "duration": 3,
    "start_time": "2023-07-21T11:52:08.650Z"
   },
   {
    "duration": 117,
    "start_time": "2023-07-21T11:52:08.654Z"
   },
   {
    "duration": 3,
    "start_time": "2023-07-21T11:52:08.773Z"
   },
   {
    "duration": 60,
    "start_time": "2023-07-21T11:52:08.777Z"
   },
   {
    "duration": 65,
    "start_time": "2023-07-21T11:52:08.839Z"
   },
   {
    "duration": 2,
    "start_time": "2023-07-21T11:53:36.015Z"
   },
   {
    "duration": 3,
    "start_time": "2023-07-21T11:57:29.251Z"
   },
   {
    "duration": 120,
    "start_time": "2023-07-21T11:57:29.256Z"
   },
   {
    "duration": 5,
    "start_time": "2023-07-21T11:57:29.377Z"
   },
   {
    "duration": 46,
    "start_time": "2023-07-21T11:57:29.383Z"
   },
   {
    "duration": 1031,
    "start_time": "2023-07-21T11:57:46.056Z"
   },
   {
    "duration": 109,
    "start_time": "2023-07-21T11:57:47.090Z"
   },
   {
    "duration": 4,
    "start_time": "2023-07-21T11:57:47.201Z"
   },
   {
    "duration": 65,
    "start_time": "2023-07-21T11:57:47.207Z"
   },
   {
    "duration": 4,
    "start_time": "2023-07-21T12:00:02.788Z"
   },
   {
    "duration": 114,
    "start_time": "2023-07-21T12:00:03.308Z"
   },
   {
    "duration": 4,
    "start_time": "2023-07-21T12:00:04.162Z"
   },
   {
    "duration": 39,
    "start_time": "2023-07-21T12:00:05.406Z"
   },
   {
    "duration": 1056,
    "start_time": "2023-07-21T12:01:10.122Z"
   },
   {
    "duration": 178,
    "start_time": "2023-07-21T12:01:11.179Z"
   },
   {
    "duration": 4,
    "start_time": "2023-07-21T12:01:11.358Z"
   },
   {
    "duration": 48,
    "start_time": "2023-07-21T12:01:11.364Z"
   },
   {
    "duration": 2,
    "start_time": "2023-07-21T12:04:24.476Z"
   },
   {
    "duration": 37,
    "start_time": "2023-07-21T12:04:54.263Z"
   },
   {
    "duration": 5,
    "start_time": "2023-07-21T12:07:02.655Z"
   },
   {
    "duration": 74,
    "start_time": "2023-07-21T12:08:28.250Z"
   },
   {
    "duration": 34,
    "start_time": "2023-07-21T12:14:38.839Z"
   },
   {
    "duration": 4,
    "start_time": "2023-07-21T12:16:24.708Z"
   },
   {
    "duration": 69,
    "start_time": "2023-07-21T12:17:36.207Z"
   },
   {
    "duration": 68,
    "start_time": "2023-07-21T12:22:10.360Z"
   },
   {
    "duration": 2,
    "start_time": "2023-07-21T12:25:43.123Z"
   },
   {
    "duration": 3,
    "start_time": "2023-07-21T12:26:59.778Z"
   },
   {
    "duration": 5,
    "start_time": "2023-07-21T12:28:00.026Z"
   },
   {
    "duration": 4,
    "start_time": "2023-07-21T12:28:16.193Z"
   },
   {
    "duration": 5,
    "start_time": "2023-07-21T12:30:20.251Z"
   },
   {
    "duration": 4,
    "start_time": "2023-07-21T12:31:37.986Z"
   },
   {
    "duration": 3,
    "start_time": "2023-07-21T12:31:38.541Z"
   },
   {
    "duration": 6,
    "start_time": "2023-07-21T12:32:09.274Z"
   },
   {
    "duration": 87,
    "start_time": "2023-07-21T12:33:05.531Z"
   },
   {
    "duration": 10,
    "start_time": "2023-07-21T12:33:38.963Z"
   },
   {
    "duration": 9,
    "start_time": "2023-07-21T12:33:55.344Z"
   },
   {
    "duration": 3,
    "start_time": "2023-07-21T12:34:37.530Z"
   },
   {
    "duration": 9,
    "start_time": "2023-07-21T12:35:15.949Z"
   },
   {
    "duration": 4,
    "start_time": "2023-07-21T12:35:32.739Z"
   },
   {
    "duration": 7,
    "start_time": "2023-07-21T12:36:01.691Z"
   },
   {
    "duration": 3,
    "start_time": "2023-07-21T12:44:52.383Z"
   },
   {
    "duration": 8,
    "start_time": "2023-07-21T12:46:08.240Z"
   },
   {
    "duration": 3,
    "start_time": "2023-07-21T18:11:49.742Z"
   },
   {
    "duration": 43,
    "start_time": "2023-07-21T18:12:24.743Z"
   },
   {
    "duration": 6,
    "start_time": "2023-07-21T18:14:00.696Z"
   },
   {
    "duration": 6,
    "start_time": "2023-07-21T18:14:21.230Z"
   },
   {
    "duration": 1368,
    "start_time": "2023-07-21T18:15:42.958Z"
   },
   {
    "duration": 249,
    "start_time": "2023-07-21T18:15:44.328Z"
   },
   {
    "duration": 4,
    "start_time": "2023-07-21T18:15:44.579Z"
   },
   {
    "duration": 57,
    "start_time": "2023-07-21T18:15:44.586Z"
   },
   {
    "duration": 41,
    "start_time": "2023-07-21T18:15:44.645Z"
   },
   {
    "duration": 5,
    "start_time": "2023-07-21T18:15:44.721Z"
   },
   {
    "duration": 38,
    "start_time": "2023-07-21T18:15:44.728Z"
   },
   {
    "duration": 4,
    "start_time": "2023-07-21T18:15:44.769Z"
   },
   {
    "duration": 10,
    "start_time": "2023-07-21T18:15:44.775Z"
   },
   {
    "duration": 5,
    "start_time": "2023-07-21T18:15:44.822Z"
   },
   {
    "duration": 18,
    "start_time": "2023-07-21T18:15:44.829Z"
   },
   {
    "duration": 21,
    "start_time": "2023-07-21T18:15:44.849Z"
   },
   {
    "duration": 17,
    "start_time": "2023-07-21T18:15:44.872Z"
   },
   {
    "duration": 21,
    "start_time": "2023-07-21T18:15:44.891Z"
   },
   {
    "duration": 125,
    "start_time": "2023-07-21T18:15:44.915Z"
   },
   {
    "duration": 10,
    "start_time": "2023-07-21T18:16:01.948Z"
   },
   {
    "duration": 3,
    "start_time": "2023-07-21T18:18:13.584Z"
   },
   {
    "duration": 10,
    "start_time": "2023-07-21T18:19:50.649Z"
   },
   {
    "duration": 19,
    "start_time": "2023-07-21T18:21:00.726Z"
   },
   {
    "duration": 9,
    "start_time": "2023-07-21T18:21:22.103Z"
   },
   {
    "duration": 13,
    "start_time": "2023-07-21T18:22:45.748Z"
   },
   {
    "duration": 119,
    "start_time": "2023-07-21T18:22:53.017Z"
   },
   {
    "duration": 124,
    "start_time": "2023-07-21T18:23:14.165Z"
   },
   {
    "duration": 9,
    "start_time": "2023-07-21T18:23:23.784Z"
   },
   {
    "duration": 14,
    "start_time": "2023-07-21T18:23:55.115Z"
   },
   {
    "duration": 2,
    "start_time": "2023-07-21T18:27:51.608Z"
   },
   {
    "duration": 2,
    "start_time": "2023-07-21T18:31:57.213Z"
   },
   {
    "duration": 48,
    "start_time": "2023-07-22T08:11:35.253Z"
   },
   {
    "duration": 1324,
    "start_time": "2023-07-22T08:11:50.275Z"
   },
   {
    "duration": 256,
    "start_time": "2023-07-22T08:11:51.601Z"
   },
   {
    "duration": 4,
    "start_time": "2023-07-22T08:11:51.859Z"
   },
   {
    "duration": 80,
    "start_time": "2023-07-22T08:11:51.865Z"
   },
   {
    "duration": 35,
    "start_time": "2023-07-22T08:11:51.946Z"
   },
   {
    "duration": 40,
    "start_time": "2023-07-22T08:11:51.982Z"
   },
   {
    "duration": 59,
    "start_time": "2023-07-22T08:11:52.023Z"
   },
   {
    "duration": 12,
    "start_time": "2023-07-22T08:11:52.084Z"
   },
   {
    "duration": 18,
    "start_time": "2023-07-22T08:11:52.098Z"
   },
   {
    "duration": 9,
    "start_time": "2023-07-22T08:11:52.118Z"
   },
   {
    "duration": 9,
    "start_time": "2023-07-22T08:11:52.128Z"
   },
   {
    "duration": 12,
    "start_time": "2023-07-22T08:11:52.139Z"
   },
   {
    "duration": 24,
    "start_time": "2023-07-22T08:11:52.153Z"
   },
   {
    "duration": 12,
    "start_time": "2023-07-22T08:11:52.179Z"
   },
   {
    "duration": 14,
    "start_time": "2023-07-22T08:11:52.192Z"
   },
   {
    "duration": 20,
    "start_time": "2023-07-22T08:11:52.207Z"
   },
   {
    "duration": 11,
    "start_time": "2023-07-22T08:11:52.229Z"
   },
   {
    "duration": 85,
    "start_time": "2023-07-22T08:11:52.241Z"
   },
   {
    "duration": 9,
    "start_time": "2023-07-22T08:12:06.502Z"
   },
   {
    "duration": 229,
    "start_time": "2023-07-22T08:15:14.207Z"
   },
   {
    "duration": 3,
    "start_time": "2023-07-22T08:17:05.433Z"
   },
   {
    "duration": 219,
    "start_time": "2023-07-22T08:17:33.052Z"
   },
   {
    "duration": 61,
    "start_time": "2023-07-22T08:24:37.890Z"
   },
   {
    "duration": 612,
    "start_time": "2023-07-22T08:25:59.877Z"
   },
   {
    "duration": 519,
    "start_time": "2023-07-22T08:26:09.782Z"
   },
   {
    "duration": 58,
    "start_time": "2023-07-22T08:26:57.967Z"
   },
   {
    "duration": 64,
    "start_time": "2023-07-22T08:28:27.626Z"
   },
   {
    "duration": 193,
    "start_time": "2023-07-22T08:28:33.439Z"
   },
   {
    "duration": 62,
    "start_time": "2023-07-22T08:28:38.266Z"
   },
   {
    "duration": 74,
    "start_time": "2023-07-22T08:28:56.982Z"
   },
   {
    "duration": 62,
    "start_time": "2023-07-22T08:29:05.097Z"
   },
   {
    "duration": 81,
    "start_time": "2023-07-22T08:33:15.956Z"
   },
   {
    "duration": 13,
    "start_time": "2023-07-22T08:35:10.553Z"
   },
   {
    "duration": 774,
    "start_time": "2023-07-22T08:40:34.916Z"
   },
   {
    "duration": 61,
    "start_time": "2023-07-22T08:41:39.497Z"
   },
   {
    "duration": 63,
    "start_time": "2023-07-22T08:42:33.773Z"
   },
   {
    "duration": 216,
    "start_time": "2023-07-22T08:46:29.805Z"
   },
   {
    "duration": 3,
    "start_time": "2023-07-22T09:05:19.355Z"
   },
   {
    "duration": 235,
    "start_time": "2023-07-22T09:05:25.356Z"
   },
   {
    "duration": 238,
    "start_time": "2023-07-22T09:05:59.043Z"
   },
   {
    "duration": 2,
    "start_time": "2023-07-22T09:13:18.460Z"
   },
   {
    "duration": 380,
    "start_time": "2023-07-22T09:13:39.494Z"
   },
   {
    "duration": 226,
    "start_time": "2023-07-22T09:20:07.444Z"
   },
   {
    "duration": 315,
    "start_time": "2023-07-22T09:31:06.551Z"
   },
   {
    "duration": 13,
    "start_time": "2023-07-22T15:54:56.636Z"
   },
   {
    "duration": 14,
    "start_time": "2023-07-22T15:55:20.281Z"
   },
   {
    "duration": 13,
    "start_time": "2023-07-22T15:56:06.157Z"
   },
   {
    "duration": 225,
    "start_time": "2023-07-22T15:59:31.567Z"
   },
   {
    "duration": 271,
    "start_time": "2023-07-22T15:59:43.188Z"
   },
   {
    "duration": 3,
    "start_time": "2023-07-22T16:03:03.668Z"
   },
   {
    "duration": 11,
    "start_time": "2023-07-22T16:09:40.567Z"
   },
   {
    "duration": 10,
    "start_time": "2023-07-22T16:10:23.116Z"
   },
   {
    "duration": 1063,
    "start_time": "2023-07-22T16:10:51.465Z"
   },
   {
    "duration": 135,
    "start_time": "2023-07-22T16:10:52.529Z"
   },
   {
    "duration": 4,
    "start_time": "2023-07-22T16:10:52.666Z"
   },
   {
    "duration": 96,
    "start_time": "2023-07-22T16:10:52.672Z"
   },
   {
    "duration": 81,
    "start_time": "2023-07-22T16:10:52.770Z"
   },
   {
    "duration": 28,
    "start_time": "2023-07-22T16:10:52.852Z"
   },
   {
    "duration": 93,
    "start_time": "2023-07-22T16:10:52.882Z"
   },
   {
    "duration": 22,
    "start_time": "2023-07-22T16:10:52.977Z"
   },
   {
    "duration": 73,
    "start_time": "2023-07-22T16:10:53.001Z"
   },
   {
    "duration": 60,
    "start_time": "2023-07-22T16:10:53.077Z"
   },
   {
    "duration": 96,
    "start_time": "2023-07-22T16:10:53.138Z"
   },
   {
    "duration": 42,
    "start_time": "2023-07-22T16:10:53.236Z"
   },
   {
    "duration": 15,
    "start_time": "2023-07-22T16:10:53.280Z"
   },
   {
    "duration": 44,
    "start_time": "2023-07-22T16:10:53.297Z"
   },
   {
    "duration": 31,
    "start_time": "2023-07-22T16:10:53.342Z"
   },
   {
    "duration": 22,
    "start_time": "2023-07-22T16:10:53.375Z"
   },
   {
    "duration": 32,
    "start_time": "2023-07-22T16:10:53.398Z"
   },
   {
    "duration": 94,
    "start_time": "2023-07-22T16:10:53.431Z"
   },
   {
    "duration": 9,
    "start_time": "2023-07-22T16:10:53.527Z"
   },
   {
    "duration": 241,
    "start_time": "2023-07-22T16:10:53.537Z"
   },
   {
    "duration": 216,
    "start_time": "2023-07-22T16:10:53.779Z"
   },
   {
    "duration": 202,
    "start_time": "2023-07-22T16:10:53.997Z"
   },
   {
    "duration": 306,
    "start_time": "2023-07-22T16:10:54.200Z"
   },
   {
    "duration": 211,
    "start_time": "2023-07-22T16:10:54.507Z"
   },
   {
    "duration": 349,
    "start_time": "2023-07-22T16:10:54.721Z"
   },
   {
    "duration": 111,
    "start_time": "2023-07-22T16:10:55.071Z"
   },
   {
    "duration": 0,
    "start_time": "2023-07-22T16:10:55.184Z"
   },
   {
    "duration": 0,
    "start_time": "2023-07-22T16:10:55.186Z"
   },
   {
    "duration": 11,
    "start_time": "2023-07-22T16:11:59.621Z"
   },
   {
    "duration": 13,
    "start_time": "2023-07-22T16:12:00.871Z"
   },
   {
    "duration": 13,
    "start_time": "2023-07-22T16:12:14.871Z"
   },
   {
    "duration": 12,
    "start_time": "2023-07-22T16:12:32.390Z"
   },
   {
    "duration": 11,
    "start_time": "2023-07-22T16:13:25.615Z"
   },
   {
    "duration": 99,
    "start_time": "2023-07-22T16:13:26.266Z"
   },
   {
    "duration": 11,
    "start_time": "2023-07-22T16:13:45.735Z"
   },
   {
    "duration": 12,
    "start_time": "2023-07-22T16:14:09.084Z"
   },
   {
    "duration": 177,
    "start_time": "2023-07-22T16:14:27.626Z"
   },
   {
    "duration": 138,
    "start_time": "2023-07-22T16:14:43.531Z"
   },
   {
    "duration": 129,
    "start_time": "2023-07-22T16:14:51.848Z"
   },
   {
    "duration": 2314,
    "start_time": "2023-07-22T16:15:30.709Z"
   },
   {
    "duration": 128,
    "start_time": "2023-07-22T16:15:55.961Z"
   },
   {
    "duration": 119,
    "start_time": "2023-07-22T16:16:08.514Z"
   },
   {
    "duration": 4,
    "start_time": "2023-07-22T16:16:10.652Z"
   },
   {
    "duration": 133,
    "start_time": "2023-07-22T16:17:11.595Z"
   },
   {
    "duration": 11,
    "start_time": "2023-07-22T16:24:58.760Z"
   },
   {
    "duration": 137,
    "start_time": "2023-07-22T16:25:06.132Z"
   },
   {
    "duration": 135,
    "start_time": "2023-07-22T16:25:49.930Z"
   },
   {
    "duration": 4,
    "start_time": "2023-07-22T16:26:53.570Z"
   },
   {
    "duration": 151,
    "start_time": "2023-07-22T16:27:28.558Z"
   },
   {
    "duration": 130,
    "start_time": "2023-07-22T16:27:51.905Z"
   },
   {
    "duration": 173,
    "start_time": "2023-07-22T16:28:01.049Z"
   },
   {
    "duration": 174,
    "start_time": "2023-07-22T16:29:02.089Z"
   },
   {
    "duration": 169,
    "start_time": "2023-07-22T16:29:33.377Z"
   },
   {
    "duration": 260,
    "start_time": "2023-07-22T16:29:43.475Z"
   },
   {
    "duration": 154,
    "start_time": "2023-07-22T16:29:51.266Z"
   },
   {
    "duration": 170,
    "start_time": "2023-07-22T16:30:13.465Z"
   },
   {
    "duration": 156,
    "start_time": "2023-07-22T16:33:30.957Z"
   },
   {
    "duration": 175,
    "start_time": "2023-07-22T16:35:54.771Z"
   },
   {
    "duration": 3,
    "start_time": "2023-07-22T16:38:17.921Z"
   },
   {
    "duration": 4,
    "start_time": "2023-07-22T16:39:24.322Z"
   },
   {
    "duration": 2,
    "start_time": "2023-07-22T16:45:37.321Z"
   },
   {
    "duration": 22,
    "start_time": "2023-07-22T16:51:51.935Z"
   },
   {
    "duration": 1155,
    "start_time": "2023-07-22T16:52:37.119Z"
   },
   {
    "duration": 140,
    "start_time": "2023-07-22T16:52:38.276Z"
   },
   {
    "duration": 4,
    "start_time": "2023-07-22T16:52:38.417Z"
   },
   {
    "duration": 55,
    "start_time": "2023-07-22T16:52:38.423Z"
   },
   {
    "duration": 72,
    "start_time": "2023-07-22T16:52:38.480Z"
   },
   {
    "duration": 4,
    "start_time": "2023-07-22T16:52:38.554Z"
   },
   {
    "duration": 69,
    "start_time": "2023-07-22T16:52:38.560Z"
   },
   {
    "duration": 5,
    "start_time": "2023-07-22T16:52:38.631Z"
   },
   {
    "duration": 14,
    "start_time": "2023-07-22T16:52:38.637Z"
   },
   {
    "duration": 16,
    "start_time": "2023-07-22T16:52:38.653Z"
   },
   {
    "duration": 23,
    "start_time": "2023-07-22T16:52:38.671Z"
   },
   {
    "duration": 14,
    "start_time": "2023-07-22T16:52:38.695Z"
   },
   {
    "duration": 24,
    "start_time": "2023-07-22T16:52:38.711Z"
   },
   {
    "duration": 17,
    "start_time": "2023-07-22T16:52:38.737Z"
   },
   {
    "duration": 20,
    "start_time": "2023-07-22T16:52:38.756Z"
   },
   {
    "duration": 24,
    "start_time": "2023-07-22T16:52:38.778Z"
   },
   {
    "duration": 26,
    "start_time": "2023-07-22T16:52:38.804Z"
   },
   {
    "duration": 102,
    "start_time": "2023-07-22T16:52:38.832Z"
   },
   {
    "duration": 9,
    "start_time": "2023-07-22T16:52:38.936Z"
   },
   {
    "duration": 273,
    "start_time": "2023-07-22T16:52:38.947Z"
   },
   {
    "duration": 264,
    "start_time": "2023-07-22T16:52:39.222Z"
   },
   {
    "duration": 232,
    "start_time": "2023-07-22T16:52:39.488Z"
   },
   {
    "duration": 314,
    "start_time": "2023-07-22T16:52:39.722Z"
   },
   {
    "duration": 246,
    "start_time": "2023-07-22T16:52:40.039Z"
   },
   {
    "duration": 372,
    "start_time": "2023-07-22T16:52:40.286Z"
   },
   {
    "duration": 14,
    "start_time": "2023-07-22T16:52:40.660Z"
   },
   {
    "duration": 190,
    "start_time": "2023-07-22T16:52:40.676Z"
   },
   {
    "duration": 4,
    "start_time": "2023-07-22T16:52:40.870Z"
   },
   {
    "duration": 199,
    "start_time": "2023-07-22T16:52:40.876Z"
   },
   {
    "duration": 188,
    "start_time": "2023-07-22T16:52:41.077Z"
   },
   {
    "duration": 4,
    "start_time": "2023-07-22T16:52:41.267Z"
   },
   {
    "duration": 207,
    "start_time": "2023-07-22T16:52:41.273Z"
   },
   {
    "duration": 16,
    "start_time": "2023-07-22T16:54:09.690Z"
   },
   {
    "duration": 119,
    "start_time": "2023-07-22T16:55:23.323Z"
   },
   {
    "duration": 114,
    "start_time": "2023-07-22T16:55:39.636Z"
   },
   {
    "duration": 2380,
    "start_time": "2023-07-22T16:56:41.576Z"
   },
   {
    "duration": 37,
    "start_time": "2023-07-22T17:10:12.853Z"
   },
   {
    "duration": 205,
    "start_time": "2023-07-22T17:11:03.592Z"
   },
   {
    "duration": 1146,
    "start_time": "2023-07-22T17:13:39.816Z"
   },
   {
    "duration": 144,
    "start_time": "2023-07-22T17:13:40.964Z"
   },
   {
    "duration": 4,
    "start_time": "2023-07-22T17:13:41.110Z"
   },
   {
    "duration": 58,
    "start_time": "2023-07-22T17:13:41.115Z"
   },
   {
    "duration": 58,
    "start_time": "2023-07-22T17:13:41.174Z"
   },
   {
    "duration": 5,
    "start_time": "2023-07-22T17:13:41.234Z"
   },
   {
    "duration": 37,
    "start_time": "2023-07-22T17:13:41.240Z"
   },
   {
    "duration": 4,
    "start_time": "2023-07-22T17:13:41.279Z"
   },
   {
    "duration": 37,
    "start_time": "2023-07-22T17:13:41.284Z"
   },
   {
    "duration": 12,
    "start_time": "2023-07-22T17:13:41.323Z"
   },
   {
    "duration": 9,
    "start_time": "2023-07-22T17:13:41.337Z"
   },
   {
    "duration": 14,
    "start_time": "2023-07-22T17:13:41.348Z"
   },
   {
    "duration": 25,
    "start_time": "2023-07-22T17:13:41.363Z"
   },
   {
    "duration": 13,
    "start_time": "2023-07-22T17:13:41.389Z"
   },
   {
    "duration": 21,
    "start_time": "2023-07-22T17:13:41.403Z"
   },
   {
    "duration": 16,
    "start_time": "2023-07-22T17:13:41.426Z"
   },
   {
    "duration": 18,
    "start_time": "2023-07-22T17:13:41.443Z"
   },
   {
    "duration": 90,
    "start_time": "2023-07-22T17:13:41.463Z"
   },
   {
    "duration": 12,
    "start_time": "2023-07-22T17:13:41.555Z"
   },
   {
    "duration": 234,
    "start_time": "2023-07-22T17:13:41.569Z"
   },
   {
    "duration": 103,
    "start_time": "2023-07-22T17:13:41.805Z"
   },
   {
    "duration": 0,
    "start_time": "2023-07-22T17:13:41.910Z"
   },
   {
    "duration": 0,
    "start_time": "2023-07-22T17:13:41.911Z"
   },
   {
    "duration": 0,
    "start_time": "2023-07-22T17:13:41.912Z"
   },
   {
    "duration": 0,
    "start_time": "2023-07-22T17:13:41.920Z"
   },
   {
    "duration": 0,
    "start_time": "2023-07-22T17:13:41.922Z"
   },
   {
    "duration": 0,
    "start_time": "2023-07-22T17:13:41.923Z"
   },
   {
    "duration": 0,
    "start_time": "2023-07-22T17:13:41.925Z"
   },
   {
    "duration": 0,
    "start_time": "2023-07-22T17:13:41.926Z"
   },
   {
    "duration": 0,
    "start_time": "2023-07-22T17:13:41.927Z"
   },
   {
    "duration": 0,
    "start_time": "2023-07-22T17:13:41.929Z"
   },
   {
    "duration": 1,
    "start_time": "2023-07-22T17:13:41.930Z"
   },
   {
    "duration": 0,
    "start_time": "2023-07-22T17:13:41.932Z"
   },
   {
    "duration": 227,
    "start_time": "2023-07-22T17:17:16.250Z"
   },
   {
    "duration": 222,
    "start_time": "2023-07-22T17:18:07.922Z"
   },
   {
    "duration": 293,
    "start_time": "2023-07-22T17:18:14.213Z"
   },
   {
    "duration": 238,
    "start_time": "2023-07-22T17:19:25.073Z"
   },
   {
    "duration": 316,
    "start_time": "2023-07-22T17:19:48.307Z"
   },
   {
    "duration": 12,
    "start_time": "2023-07-22T17:19:52.741Z"
   },
   {
    "duration": 138,
    "start_time": "2023-07-22T17:19:56.131Z"
   },
   {
    "duration": 4,
    "start_time": "2023-07-22T17:20:00.377Z"
   },
   {
    "duration": 155,
    "start_time": "2023-07-22T17:20:04.025Z"
   },
   {
    "duration": 150,
    "start_time": "2023-07-22T17:20:08.306Z"
   },
   {
    "duration": 4,
    "start_time": "2023-07-22T17:20:12.816Z"
   },
   {
    "duration": 163,
    "start_time": "2023-07-22T17:20:15.097Z"
   },
   {
    "duration": 7,
    "start_time": "2023-07-22T17:20:15.768Z"
   },
   {
    "duration": 10,
    "start_time": "2023-07-22T17:21:01.834Z"
   },
   {
    "duration": 10,
    "start_time": "2023-07-22T17:23:00.144Z"
   },
   {
    "duration": 88,
    "start_time": "2023-07-22T17:25:59.665Z"
   },
   {
    "duration": 9,
    "start_time": "2023-07-22T17:26:25.027Z"
   },
   {
    "duration": 3,
    "start_time": "2023-07-22T17:27:19.970Z"
   },
   {
    "duration": 132,
    "start_time": "2023-07-22T17:27:20.771Z"
   },
   {
    "duration": 1124,
    "start_time": "2023-07-22T17:27:27.049Z"
   },
   {
    "duration": 131,
    "start_time": "2023-07-22T17:27:28.175Z"
   },
   {
    "duration": 4,
    "start_time": "2023-07-22T17:27:28.308Z"
   },
   {
    "duration": 82,
    "start_time": "2023-07-22T17:27:28.315Z"
   },
   {
    "duration": 44,
    "start_time": "2023-07-22T17:27:28.399Z"
   },
   {
    "duration": 5,
    "start_time": "2023-07-22T17:27:28.445Z"
   },
   {
    "duration": 53,
    "start_time": "2023-07-22T17:27:28.452Z"
   },
   {
    "duration": 14,
    "start_time": "2023-07-22T17:27:28.506Z"
   },
   {
    "duration": 23,
    "start_time": "2023-07-22T17:27:28.522Z"
   },
   {
    "duration": 33,
    "start_time": "2023-07-22T17:27:28.548Z"
   },
   {
    "duration": 38,
    "start_time": "2023-07-22T17:27:28.582Z"
   },
   {
    "duration": 35,
    "start_time": "2023-07-22T17:27:28.621Z"
   },
   {
    "duration": 45,
    "start_time": "2023-07-22T17:27:28.657Z"
   },
   {
    "duration": 29,
    "start_time": "2023-07-22T17:27:28.703Z"
   },
   {
    "duration": 41,
    "start_time": "2023-07-22T17:27:28.734Z"
   },
   {
    "duration": 42,
    "start_time": "2023-07-22T17:27:28.777Z"
   },
   {
    "duration": 43,
    "start_time": "2023-07-22T17:27:28.821Z"
   },
   {
    "duration": 99,
    "start_time": "2023-07-22T17:27:28.866Z"
   },
   {
    "duration": 9,
    "start_time": "2023-07-22T17:27:28.966Z"
   },
   {
    "duration": 270,
    "start_time": "2023-07-22T17:27:28.976Z"
   },
   {
    "duration": 211,
    "start_time": "2023-07-22T17:27:29.247Z"
   },
   {
    "duration": 200,
    "start_time": "2023-07-22T17:27:29.460Z"
   },
   {
    "duration": 344,
    "start_time": "2023-07-22T17:27:29.662Z"
   },
   {
    "duration": 235,
    "start_time": "2023-07-22T17:27:30.007Z"
   },
   {
    "duration": 292,
    "start_time": "2023-07-22T17:27:30.244Z"
   },
   {
    "duration": 11,
    "start_time": "2023-07-22T17:27:30.537Z"
   },
   {
    "duration": 158,
    "start_time": "2023-07-22T17:27:30.550Z"
   },
   {
    "duration": 34,
    "start_time": "2023-07-22T17:27:30.711Z"
   },
   {
    "duration": 198,
    "start_time": "2023-07-22T17:27:30.747Z"
   },
   {
    "duration": 155,
    "start_time": "2023-07-22T17:27:30.946Z"
   },
   {
    "duration": 4,
    "start_time": "2023-07-22T17:27:31.103Z"
   },
   {
    "duration": 175,
    "start_time": "2023-07-22T17:27:31.120Z"
   },
   {
    "duration": 47,
    "start_time": "2023-07-22T17:27:31.297Z"
   },
   {
    "duration": 10,
    "start_time": "2023-07-22T17:28:17.963Z"
   },
   {
    "duration": 11,
    "start_time": "2023-07-22T17:31:32.156Z"
   },
   {
    "duration": 6,
    "start_time": "2023-07-22T17:31:32.626Z"
   },
   {
    "duration": 24,
    "start_time": "2023-07-22T17:31:33.419Z"
   },
   {
    "duration": 5,
    "start_time": "2023-07-22T17:33:13.102Z"
   },
   {
    "duration": 22,
    "start_time": "2023-07-22T17:33:13.458Z"
   },
   {
    "duration": 23,
    "start_time": "2023-07-22T17:34:00.213Z"
   },
   {
    "duration": 1859,
    "start_time": "2023-07-24T13:05:28.995Z"
   },
   {
    "duration": 411,
    "start_time": "2023-07-24T13:05:30.856Z"
   },
   {
    "duration": 4,
    "start_time": "2023-07-24T13:05:31.269Z"
   },
   {
    "duration": 122,
    "start_time": "2023-07-24T13:05:31.275Z"
   },
   {
    "duration": 82,
    "start_time": "2023-07-24T13:05:31.399Z"
   },
   {
    "duration": 47,
    "start_time": "2023-07-24T13:05:31.482Z"
   },
   {
    "duration": 111,
    "start_time": "2023-07-24T13:05:31.530Z"
   },
   {
    "duration": 49,
    "start_time": "2023-07-24T13:05:31.643Z"
   },
   {
    "duration": 111,
    "start_time": "2023-07-24T13:05:31.694Z"
   },
   {
    "duration": 154,
    "start_time": "2023-07-24T13:05:31.808Z"
   },
   {
    "duration": 35,
    "start_time": "2023-07-24T13:05:31.964Z"
   },
   {
    "duration": 95,
    "start_time": "2023-07-24T13:05:32.000Z"
   },
   {
    "duration": 86,
    "start_time": "2023-07-24T13:05:32.096Z"
   },
   {
    "duration": 89,
    "start_time": "2023-07-24T13:05:32.184Z"
   },
   {
    "duration": 36,
    "start_time": "2023-07-24T13:05:32.275Z"
   },
   {
    "duration": 72,
    "start_time": "2023-07-24T13:05:32.313Z"
   },
   {
    "duration": 31,
    "start_time": "2023-07-24T13:05:32.386Z"
   },
   {
    "duration": 197,
    "start_time": "2023-07-24T13:05:32.419Z"
   },
   {
    "duration": 13,
    "start_time": "2023-07-24T13:05:32.617Z"
   },
   {
    "duration": 400,
    "start_time": "2023-07-24T13:05:32.632Z"
   },
   {
    "duration": 312,
    "start_time": "2023-07-24T13:05:33.034Z"
   },
   {
    "duration": 291,
    "start_time": "2023-07-24T13:05:33.348Z"
   },
   {
    "duration": 392,
    "start_time": "2023-07-24T13:05:33.641Z"
   },
   {
    "duration": 335,
    "start_time": "2023-07-24T13:05:34.034Z"
   },
   {
    "duration": 470,
    "start_time": "2023-07-24T13:05:34.371Z"
   },
   {
    "duration": 18,
    "start_time": "2023-07-24T13:05:34.843Z"
   },
   {
    "duration": 237,
    "start_time": "2023-07-24T13:05:34.863Z"
   },
   {
    "duration": 7,
    "start_time": "2023-07-24T13:05:35.108Z"
   },
   {
    "duration": 269,
    "start_time": "2023-07-24T13:05:35.116Z"
   },
   {
    "duration": 215,
    "start_time": "2023-07-24T13:05:35.387Z"
   },
   {
    "duration": 6,
    "start_time": "2023-07-24T13:05:35.606Z"
   },
   {
    "duration": 64,
    "start_time": "2023-07-24T13:05:35.616Z"
   },
   {
    "duration": 6,
    "start_time": "2023-07-24T13:05:35.682Z"
   },
   {
    "duration": 61,
    "start_time": "2023-07-24T13:05:35.690Z"
   },
   {
    "duration": 8,
    "start_time": "2023-07-24T13:12:57.974Z"
   },
   {
    "duration": 7,
    "start_time": "2023-07-24T13:13:04.760Z"
   },
   {
    "duration": 27,
    "start_time": "2023-07-24T13:13:26.784Z"
   },
   {
    "duration": 15,
    "start_time": "2023-07-24T13:25:50.147Z"
   },
   {
    "duration": 26,
    "start_time": "2023-07-24T13:26:44.396Z"
   },
   {
    "duration": 5,
    "start_time": "2023-07-24T13:33:32.547Z"
   },
   {
    "duration": 14,
    "start_time": "2023-07-24T13:55:24.048Z"
   },
   {
    "duration": 10,
    "start_time": "2023-07-24T13:55:35.175Z"
   },
   {
    "duration": 9,
    "start_time": "2023-07-24T13:56:17.292Z"
   },
   {
    "duration": 8,
    "start_time": "2023-07-24T13:56:22.660Z"
   },
   {
    "duration": 20,
    "start_time": "2023-07-24T13:56:30.198Z"
   },
   {
    "duration": 8,
    "start_time": "2023-07-24T13:57:58.284Z"
   },
   {
    "duration": 5247,
    "start_time": "2023-07-24T14:01:20.552Z"
   },
   {
    "duration": 10,
    "start_time": "2023-07-24T14:41:53.279Z"
   },
   {
    "duration": 12,
    "start_time": "2023-07-24T14:42:22.534Z"
   },
   {
    "duration": 1330,
    "start_time": "2023-07-24T14:45:23.287Z"
   },
   {
    "duration": 349,
    "start_time": "2023-07-24T14:45:24.621Z"
   },
   {
    "duration": 5,
    "start_time": "2023-07-24T14:45:24.971Z"
   },
   {
    "duration": 75,
    "start_time": "2023-07-24T14:45:24.977Z"
   },
   {
    "duration": 61,
    "start_time": "2023-07-24T14:45:25.054Z"
   },
   {
    "duration": 6,
    "start_time": "2023-07-24T14:45:25.116Z"
   },
   {
    "duration": 72,
    "start_time": "2023-07-24T14:45:25.126Z"
   },
   {
    "duration": 7,
    "start_time": "2023-07-24T14:45:25.200Z"
   },
   {
    "duration": 49,
    "start_time": "2023-07-24T14:45:25.208Z"
   },
   {
    "duration": 8,
    "start_time": "2023-07-24T14:45:25.259Z"
   },
   {
    "duration": 11,
    "start_time": "2023-07-24T14:45:25.268Z"
   },
   {
    "duration": 21,
    "start_time": "2023-07-24T14:45:25.280Z"
   },
   {
    "duration": 58,
    "start_time": "2023-07-24T14:45:25.302Z"
   },
   {
    "duration": 8,
    "start_time": "2023-07-24T14:45:25.364Z"
   },
   {
    "duration": 11,
    "start_time": "2023-07-24T14:45:25.374Z"
   },
   {
    "duration": 27,
    "start_time": "2023-07-24T14:45:25.386Z"
   },
   {
    "duration": 37,
    "start_time": "2023-07-24T14:45:25.416Z"
   },
   {
    "duration": 91,
    "start_time": "2023-07-24T14:45:25.455Z"
   },
   {
    "duration": 10,
    "start_time": "2023-07-24T14:45:25.549Z"
   },
   {
    "duration": 354,
    "start_time": "2023-07-24T14:45:25.561Z"
   },
   {
    "duration": 269,
    "start_time": "2023-07-24T14:45:25.919Z"
   },
   {
    "duration": 261,
    "start_time": "2023-07-24T14:45:26.190Z"
   },
   {
    "duration": 415,
    "start_time": "2023-07-24T14:45:26.454Z"
   },
   {
    "duration": 298,
    "start_time": "2023-07-24T14:45:26.871Z"
   },
   {
    "duration": 375,
    "start_time": "2023-07-24T14:45:27.171Z"
   },
   {
    "duration": 14,
    "start_time": "2023-07-24T14:45:27.549Z"
   },
   {
    "duration": 160,
    "start_time": "2023-07-24T14:45:27.565Z"
   },
   {
    "duration": 21,
    "start_time": "2023-07-24T14:45:27.731Z"
   },
   {
    "duration": 204,
    "start_time": "2023-07-24T14:45:27.754Z"
   },
   {
    "duration": 196,
    "start_time": "2023-07-24T14:45:27.960Z"
   },
   {
    "duration": 5,
    "start_time": "2023-07-24T14:45:28.158Z"
   },
   {
    "duration": 54,
    "start_time": "2023-07-24T14:45:28.166Z"
   },
   {
    "duration": 29,
    "start_time": "2023-07-24T14:45:28.221Z"
   },
   {
    "duration": 36,
    "start_time": "2023-07-24T14:45:28.251Z"
   },
   {
    "duration": 10,
    "start_time": "2023-07-24T14:45:28.290Z"
   },
   {
    "duration": 51,
    "start_time": "2023-07-24T14:45:28.303Z"
   },
   {
    "duration": 107,
    "start_time": "2023-07-24T14:45:28.356Z"
   },
   {
    "duration": 11,
    "start_time": "2023-07-24T14:46:22.454Z"
   },
   {
    "duration": 10,
    "start_time": "2023-07-24T14:47:06.765Z"
   },
   {
    "duration": 13,
    "start_time": "2023-07-24T14:48:25.824Z"
   },
   {
    "duration": 11,
    "start_time": "2023-07-24T14:48:27.541Z"
   },
   {
    "duration": 17,
    "start_time": "2023-07-24T14:48:42.233Z"
   },
   {
    "duration": 9,
    "start_time": "2023-07-24T14:48:54.452Z"
   },
   {
    "duration": 14,
    "start_time": "2023-07-24T14:48:58.114Z"
   },
   {
    "duration": 14,
    "start_time": "2023-07-24T14:48:58.742Z"
   },
   {
    "duration": 54,
    "start_time": "2023-07-24T14:49:20.512Z"
   },
   {
    "duration": 201,
    "start_time": "2023-07-24T14:49:20.571Z"
   },
   {
    "duration": 5,
    "start_time": "2023-07-24T14:49:20.774Z"
   },
   {
    "duration": 74,
    "start_time": "2023-07-24T14:49:20.785Z"
   },
   {
    "duration": 55,
    "start_time": "2023-07-24T14:49:20.861Z"
   },
   {
    "duration": 7,
    "start_time": "2023-07-24T14:49:20.918Z"
   },
   {
    "duration": 64,
    "start_time": "2023-07-24T14:49:20.926Z"
   },
   {
    "duration": 4,
    "start_time": "2023-07-24T14:49:20.992Z"
   },
   {
    "duration": 72,
    "start_time": "2023-07-24T14:49:20.997Z"
   },
   {
    "duration": 23,
    "start_time": "2023-07-24T14:49:21.071Z"
   },
   {
    "duration": 56,
    "start_time": "2023-07-24T14:49:21.096Z"
   },
   {
    "duration": 18,
    "start_time": "2023-07-24T14:49:21.154Z"
   },
   {
    "duration": 59,
    "start_time": "2023-07-24T14:49:21.174Z"
   },
   {
    "duration": 28,
    "start_time": "2023-07-24T14:49:21.235Z"
   },
   {
    "duration": 13,
    "start_time": "2023-07-24T14:49:21.265Z"
   },
   {
    "duration": 39,
    "start_time": "2023-07-24T14:49:21.281Z"
   },
   {
    "duration": 40,
    "start_time": "2023-07-24T14:49:21.325Z"
   },
   {
    "duration": 93,
    "start_time": "2023-07-24T14:49:21.366Z"
   },
   {
    "duration": 10,
    "start_time": "2023-07-24T14:49:21.460Z"
   },
   {
    "duration": 317,
    "start_time": "2023-07-24T14:49:21.472Z"
   },
   {
    "duration": 264,
    "start_time": "2023-07-24T14:49:21.791Z"
   },
   {
    "duration": 259,
    "start_time": "2023-07-24T14:49:22.057Z"
   },
   {
    "duration": 376,
    "start_time": "2023-07-24T14:49:22.319Z"
   },
   {
    "duration": 291,
    "start_time": "2023-07-24T14:49:22.696Z"
   },
   {
    "duration": 342,
    "start_time": "2023-07-24T14:49:22.988Z"
   },
   {
    "duration": 22,
    "start_time": "2023-07-24T14:49:23.331Z"
   },
   {
    "duration": 169,
    "start_time": "2023-07-24T14:49:23.355Z"
   },
   {
    "duration": 4,
    "start_time": "2023-07-24T14:49:23.526Z"
   },
   {
    "duration": 202,
    "start_time": "2023-07-24T14:49:23.532Z"
   },
   {
    "duration": 181,
    "start_time": "2023-07-24T14:49:23.736Z"
   },
   {
    "duration": 4,
    "start_time": "2023-07-24T14:49:23.919Z"
   },
   {
    "duration": 41,
    "start_time": "2023-07-24T14:49:23.929Z"
   },
   {
    "duration": 20,
    "start_time": "2023-07-24T14:49:23.972Z"
   },
   {
    "duration": 78,
    "start_time": "2023-07-24T14:49:23.993Z"
   },
   {
    "duration": 10,
    "start_time": "2023-07-24T14:49:24.074Z"
   },
   {
    "duration": 10,
    "start_time": "2023-07-24T14:49:24.086Z"
   },
   {
    "duration": 64,
    "start_time": "2023-07-24T14:49:24.098Z"
   },
   {
    "duration": 11,
    "start_time": "2023-07-24T14:50:01.337Z"
   },
   {
    "duration": 9,
    "start_time": "2023-07-24T14:50:48.580Z"
   },
   {
    "duration": 147,
    "start_time": "2023-07-24T14:53:16.798Z"
   },
   {
    "duration": 10,
    "start_time": "2023-07-24T14:53:39.755Z"
   },
   {
    "duration": 11,
    "start_time": "2023-07-24T14:54:38.529Z"
   },
   {
    "duration": 9,
    "start_time": "2023-07-24T14:54:43.049Z"
   },
   {
    "duration": 8,
    "start_time": "2023-07-24T14:54:57.763Z"
   },
   {
    "duration": 9,
    "start_time": "2023-07-24T14:55:30.790Z"
   },
   {
    "duration": 14,
    "start_time": "2023-07-24T14:55:49.130Z"
   },
   {
    "duration": 8,
    "start_time": "2023-07-24T14:56:05.279Z"
   },
   {
    "duration": 9,
    "start_time": "2023-07-24T15:02:38.543Z"
   },
   {
    "duration": 30,
    "start_time": "2023-07-24T15:06:13.379Z"
   },
   {
    "duration": 24,
    "start_time": "2023-07-24T15:07:14.051Z"
   },
   {
    "duration": 22,
    "start_time": "2023-07-24T15:07:24.855Z"
   },
   {
    "duration": 3,
    "start_time": "2023-07-24T15:15:07.663Z"
   },
   {
    "duration": 27,
    "start_time": "2023-07-24T15:28:12.134Z"
   },
   {
    "duration": 24,
    "start_time": "2023-07-24T15:28:26.217Z"
   },
   {
    "duration": 17,
    "start_time": "2023-07-24T15:28:41.856Z"
   },
   {
    "duration": 14,
    "start_time": "2023-07-24T15:29:12.068Z"
   },
   {
    "duration": 16,
    "start_time": "2023-07-24T15:30:46.685Z"
   },
   {
    "duration": 17,
    "start_time": "2023-07-24T15:31:04.346Z"
   },
   {
    "duration": 47,
    "start_time": "2023-07-24T15:32:13.297Z"
   },
   {
    "duration": 17,
    "start_time": "2023-07-24T15:32:37.018Z"
   },
   {
    "duration": 27,
    "start_time": "2023-07-24T15:32:48.229Z"
   },
   {
    "duration": 4,
    "start_time": "2023-07-24T15:34:11.575Z"
   },
   {
    "duration": 64,
    "start_time": "2023-07-24T15:34:45.599Z"
   },
   {
    "duration": 18,
    "start_time": "2023-07-24T15:35:20.748Z"
   },
   {
    "duration": 16,
    "start_time": "2023-07-24T15:35:34.638Z"
   },
   {
    "duration": 41,
    "start_time": "2023-07-24T15:35:46.439Z"
   },
   {
    "duration": 21,
    "start_time": "2023-07-24T15:42:05.378Z"
   },
   {
    "duration": 208,
    "start_time": "2023-07-24T15:46:29.067Z"
   },
   {
    "duration": 215,
    "start_time": "2023-07-24T15:47:03.327Z"
   },
   {
    "duration": 298,
    "start_time": "2023-07-24T15:49:27.437Z"
   },
   {
    "duration": 225,
    "start_time": "2023-07-24T15:50:38.727Z"
   },
   {
    "duration": 132,
    "start_time": "2023-07-24T15:50:59.639Z"
   },
   {
    "duration": 204,
    "start_time": "2023-07-24T15:51:11.437Z"
   },
   {
    "duration": 186,
    "start_time": "2023-07-24T15:51:31.489Z"
   },
   {
    "duration": 179,
    "start_time": "2023-07-24T15:51:57.685Z"
   },
   {
    "duration": 37,
    "start_time": "2023-07-24T15:52:45.342Z"
   },
   {
    "duration": 28,
    "start_time": "2023-07-24T15:53:10.159Z"
   },
   {
    "duration": 57,
    "start_time": "2023-07-24T15:53:30.469Z"
   },
   {
    "duration": 197,
    "start_time": "2023-07-24T15:54:06.981Z"
   },
   {
    "duration": 34,
    "start_time": "2023-07-24T16:02:04.261Z"
   },
   {
    "duration": 38,
    "start_time": "2023-07-24T16:02:12.125Z"
   },
   {
    "duration": 33,
    "start_time": "2023-07-24T16:03:20.837Z"
   },
   {
    "duration": 3,
    "start_time": "2023-07-24T16:09:02.543Z"
   },
   {
    "duration": 3,
    "start_time": "2023-07-24T16:33:39.285Z"
   },
   {
    "duration": 1267,
    "start_time": "2023-07-24T17:13:50.693Z"
   },
   {
    "duration": 174,
    "start_time": "2023-07-24T17:13:51.962Z"
   },
   {
    "duration": 4,
    "start_time": "2023-07-24T17:13:52.138Z"
   },
   {
    "duration": 84,
    "start_time": "2023-07-24T17:13:52.143Z"
   },
   {
    "duration": 56,
    "start_time": "2023-07-24T17:13:52.231Z"
   },
   {
    "duration": 21,
    "start_time": "2023-07-24T17:13:52.288Z"
   },
   {
    "duration": 72,
    "start_time": "2023-07-24T17:13:52.313Z"
   },
   {
    "duration": 3,
    "start_time": "2023-07-24T17:13:52.387Z"
   },
   {
    "duration": 87,
    "start_time": "2023-07-24T17:13:52.392Z"
   },
   {
    "duration": 18,
    "start_time": "2023-07-24T17:13:52.481Z"
   },
   {
    "duration": 55,
    "start_time": "2023-07-24T17:13:52.501Z"
   },
   {
    "duration": 37,
    "start_time": "2023-07-24T17:13:52.558Z"
   },
   {
    "duration": 48,
    "start_time": "2023-07-24T17:13:52.596Z"
   },
   {
    "duration": 10,
    "start_time": "2023-07-24T17:13:52.647Z"
   },
   {
    "duration": 10,
    "start_time": "2023-07-24T17:13:52.659Z"
   },
   {
    "duration": 14,
    "start_time": "2023-07-24T17:13:52.670Z"
   },
   {
    "duration": 29,
    "start_time": "2023-07-24T17:13:52.685Z"
   },
   {
    "duration": 115,
    "start_time": "2023-07-24T17:13:52.716Z"
   },
   {
    "duration": 11,
    "start_time": "2023-07-24T17:13:52.833Z"
   },
   {
    "duration": 338,
    "start_time": "2023-07-24T17:13:52.846Z"
   },
   {
    "duration": 260,
    "start_time": "2023-07-24T17:13:53.186Z"
   },
   {
    "duration": 251,
    "start_time": "2023-07-24T17:13:53.447Z"
   },
   {
    "duration": 333,
    "start_time": "2023-07-24T17:13:53.699Z"
   },
   {
    "duration": 263,
    "start_time": "2023-07-24T17:13:54.033Z"
   },
   {
    "duration": 333,
    "start_time": "2023-07-24T17:13:54.298Z"
   },
   {
    "duration": 16,
    "start_time": "2023-07-24T17:13:54.633Z"
   },
   {
    "duration": 188,
    "start_time": "2023-07-24T17:13:54.651Z"
   },
   {
    "duration": 4,
    "start_time": "2023-07-24T17:13:54.841Z"
   },
   {
    "duration": 205,
    "start_time": "2023-07-24T17:13:54.846Z"
   },
   {
    "duration": 192,
    "start_time": "2023-07-24T17:13:55.053Z"
   },
   {
    "duration": 4,
    "start_time": "2023-07-24T17:13:55.247Z"
   },
   {
    "duration": 37,
    "start_time": "2023-07-24T17:13:55.252Z"
   },
   {
    "duration": 8,
    "start_time": "2023-07-24T17:13:55.291Z"
   },
   {
    "duration": 61,
    "start_time": "2023-07-24T17:13:55.306Z"
   },
   {
    "duration": 11,
    "start_time": "2023-07-24T17:13:55.368Z"
   },
   {
    "duration": 30,
    "start_time": "2023-07-24T17:13:55.381Z"
   },
   {
    "duration": 99,
    "start_time": "2023-07-24T17:13:55.412Z"
   },
   {
    "duration": 42,
    "start_time": "2023-07-24T17:13:55.514Z"
   },
   {
    "duration": 25,
    "start_time": "2023-07-24T17:13:55.558Z"
   },
   {
    "duration": 36,
    "start_time": "2023-07-24T17:13:55.585Z"
   },
   {
    "duration": 1132,
    "start_time": "2023-07-24T17:23:24.151Z"
   },
   {
    "duration": 179,
    "start_time": "2023-07-24T17:23:25.285Z"
   },
   {
    "duration": 4,
    "start_time": "2023-07-24T17:23:25.466Z"
   },
   {
    "duration": 68,
    "start_time": "2023-07-24T17:23:25.472Z"
   },
   {
    "duration": 37,
    "start_time": "2023-07-24T17:23:25.542Z"
   },
   {
    "duration": 13,
    "start_time": "2023-07-24T17:23:25.602Z"
   },
   {
    "duration": 49,
    "start_time": "2023-07-24T17:23:25.616Z"
   },
   {
    "duration": 5,
    "start_time": "2023-07-24T17:23:25.666Z"
   },
   {
    "duration": 9,
    "start_time": "2023-07-24T17:23:25.673Z"
   },
   {
    "duration": 13,
    "start_time": "2023-07-24T17:23:25.684Z"
   },
   {
    "duration": 33,
    "start_time": "2023-07-24T17:23:25.698Z"
   },
   {
    "duration": 13,
    "start_time": "2023-07-24T17:23:25.732Z"
   },
   {
    "duration": 21,
    "start_time": "2023-07-24T17:23:25.747Z"
   },
   {
    "duration": 13,
    "start_time": "2023-07-24T17:23:25.769Z"
   },
   {
    "duration": 19,
    "start_time": "2023-07-24T17:23:25.783Z"
   },
   {
    "duration": 40,
    "start_time": "2023-07-24T17:23:25.806Z"
   },
   {
    "duration": 12,
    "start_time": "2023-07-24T17:23:25.847Z"
   },
   {
    "duration": 74,
    "start_time": "2023-07-24T17:23:25.862Z"
   },
   {
    "duration": 8,
    "start_time": "2023-07-24T17:23:25.938Z"
   },
   {
    "duration": 315,
    "start_time": "2023-07-24T17:23:25.948Z"
   },
   {
    "duration": 251,
    "start_time": "2023-07-24T17:23:26.265Z"
   },
   {
    "duration": 239,
    "start_time": "2023-07-24T17:23:26.521Z"
   },
   {
    "duration": 369,
    "start_time": "2023-07-24T17:23:26.762Z"
   },
   {
    "duration": 255,
    "start_time": "2023-07-24T17:23:27.133Z"
   },
   {
    "duration": 331,
    "start_time": "2023-07-24T17:23:27.390Z"
   },
   {
    "duration": 16,
    "start_time": "2023-07-24T17:23:27.722Z"
   },
   {
    "duration": 153,
    "start_time": "2023-07-24T17:23:27.739Z"
   },
   {
    "duration": 4,
    "start_time": "2023-07-24T17:23:27.895Z"
   },
   {
    "duration": 178,
    "start_time": "2023-07-24T17:23:27.901Z"
   },
   {
    "duration": 174,
    "start_time": "2023-07-24T17:23:28.081Z"
   },
   {
    "duration": 4,
    "start_time": "2023-07-24T17:23:28.257Z"
   },
   {
    "duration": 17,
    "start_time": "2023-07-24T17:23:28.262Z"
   },
   {
    "duration": 8,
    "start_time": "2023-07-24T17:23:28.281Z"
   },
   {
    "duration": 40,
    "start_time": "2023-07-24T17:23:28.291Z"
   },
   {
    "duration": 17,
    "start_time": "2023-07-24T17:23:28.333Z"
   },
   {
    "duration": 9,
    "start_time": "2023-07-24T17:23:28.351Z"
   },
   {
    "duration": 12,
    "start_time": "2023-07-24T17:23:28.361Z"
   },
   {
    "duration": 111,
    "start_time": "2023-07-24T17:23:28.374Z"
   },
   {
    "duration": 43,
    "start_time": "2023-07-24T17:23:28.486Z"
   },
   {
    "duration": 21,
    "start_time": "2023-07-24T17:23:28.531Z"
   },
   {
    "duration": 63,
    "start_time": "2023-07-25T14:33:23.620Z"
   },
   {
    "duration": 1401,
    "start_time": "2023-07-25T14:33:52.532Z"
   },
   {
    "duration": 314,
    "start_time": "2023-07-25T14:33:53.935Z"
   },
   {
    "duration": 4,
    "start_time": "2023-07-25T14:33:54.250Z"
   },
   {
    "duration": 69,
    "start_time": "2023-07-25T14:33:54.256Z"
   },
   {
    "duration": 95,
    "start_time": "2023-07-25T14:33:54.327Z"
   },
   {
    "duration": 5,
    "start_time": "2023-07-25T14:33:54.423Z"
   },
   {
    "duration": 51,
    "start_time": "2023-07-25T14:33:54.429Z"
   },
   {
    "duration": 4,
    "start_time": "2023-07-25T14:33:54.482Z"
   },
   {
    "duration": 31,
    "start_time": "2023-07-25T14:33:54.488Z"
   },
   {
    "duration": 17,
    "start_time": "2023-07-25T14:33:54.521Z"
   },
   {
    "duration": 8,
    "start_time": "2023-07-25T14:33:54.540Z"
   },
   {
    "duration": 12,
    "start_time": "2023-07-25T14:33:54.550Z"
   },
   {
    "duration": 12,
    "start_time": "2023-07-25T14:33:54.564Z"
   },
   {
    "duration": 34,
    "start_time": "2023-07-25T14:33:54.580Z"
   },
   {
    "duration": 21,
    "start_time": "2023-07-25T14:33:54.616Z"
   },
   {
    "duration": 20,
    "start_time": "2023-07-25T14:33:54.638Z"
   },
   {
    "duration": 9,
    "start_time": "2023-07-25T14:33:54.660Z"
   },
   {
    "duration": 92,
    "start_time": "2023-07-25T14:33:54.671Z"
   },
   {
    "duration": 9,
    "start_time": "2023-07-25T14:33:54.765Z"
   },
   {
    "duration": 342,
    "start_time": "2023-07-25T14:33:54.775Z"
   },
   {
    "duration": 219,
    "start_time": "2023-07-25T14:33:55.118Z"
   },
   {
    "duration": 307,
    "start_time": "2023-07-25T14:33:55.339Z"
   },
   {
    "duration": 397,
    "start_time": "2023-07-25T14:33:55.648Z"
   },
   {
    "duration": 378,
    "start_time": "2023-07-25T14:33:56.048Z"
   },
   {
    "duration": 302,
    "start_time": "2023-07-25T14:33:56.428Z"
   },
   {
    "duration": 12,
    "start_time": "2023-07-25T14:33:56.733Z"
   },
   {
    "duration": 133,
    "start_time": "2023-07-25T14:33:56.747Z"
   },
   {
    "duration": 6,
    "start_time": "2023-07-25T14:33:56.899Z"
   },
   {
    "duration": 301,
    "start_time": "2023-07-25T14:33:56.920Z"
   },
   {
    "duration": 191,
    "start_time": "2023-07-25T14:33:57.226Z"
   },
   {
    "duration": 13,
    "start_time": "2023-07-25T14:33:57.418Z"
   },
   {
    "duration": 27,
    "start_time": "2023-07-25T14:33:57.433Z"
   },
   {
    "duration": 16,
    "start_time": "2023-07-25T14:33:57.462Z"
   },
   {
    "duration": 75,
    "start_time": "2023-07-25T14:33:57.480Z"
   },
   {
    "duration": 23,
    "start_time": "2023-07-25T14:33:57.556Z"
   },
   {
    "duration": 15,
    "start_time": "2023-07-25T14:33:57.581Z"
   },
   {
    "duration": 126,
    "start_time": "2023-07-25T14:33:57.599Z"
   },
   {
    "duration": 24,
    "start_time": "2023-07-25T14:33:57.726Z"
   },
   {
    "duration": 40,
    "start_time": "2023-07-25T14:33:57.752Z"
   },
   {
    "duration": 39,
    "start_time": "2023-07-25T14:33:57.798Z"
   },
   {
    "duration": 17,
    "start_time": "2023-07-25T14:34:27.342Z"
   },
   {
    "duration": 18,
    "start_time": "2023-07-25T14:34:38.315Z"
   },
   {
    "duration": 12,
    "start_time": "2023-07-25T14:34:50.330Z"
   },
   {
    "duration": 15,
    "start_time": "2023-07-25T14:35:09.619Z"
   },
   {
    "duration": 17,
    "start_time": "2023-07-25T14:35:41.941Z"
   },
   {
    "duration": 12,
    "start_time": "2023-07-25T14:35:58.619Z"
   },
   {
    "duration": 18,
    "start_time": "2023-07-25T14:36:15.816Z"
   },
   {
    "duration": 10,
    "start_time": "2023-07-25T14:40:51.217Z"
   },
   {
    "duration": 144,
    "start_time": "2023-07-25T14:41:11.725Z"
   },
   {
    "duration": 126,
    "start_time": "2023-07-25T14:43:50.327Z"
   },
   {
    "duration": 91,
    "start_time": "2023-07-25T15:03:56.187Z"
   },
   {
    "duration": 79,
    "start_time": "2023-07-25T15:04:06.074Z"
   },
   {
    "duration": 95,
    "start_time": "2023-07-25T15:04:27.352Z"
   },
   {
    "duration": 9,
    "start_time": "2023-07-25T15:05:04.319Z"
   },
   {
    "duration": 5,
    "start_time": "2023-07-25T15:05:55.221Z"
   },
   {
    "duration": 133,
    "start_time": "2023-07-25T15:06:16.058Z"
   },
   {
    "duration": 9,
    "start_time": "2023-07-25T15:06:28.725Z"
   },
   {
    "duration": 13,
    "start_time": "2023-07-25T15:07:25.532Z"
   },
   {
    "duration": 8,
    "start_time": "2023-07-25T15:07:47.218Z"
   },
   {
    "duration": 8,
    "start_time": "2023-07-25T15:08:41.467Z"
   },
   {
    "duration": 9,
    "start_time": "2023-07-25T15:09:07.023Z"
   },
   {
    "duration": 8,
    "start_time": "2023-07-25T15:10:27.747Z"
   },
   {
    "duration": 1285,
    "start_time": "2023-07-25T15:11:22.568Z"
   },
   {
    "duration": 128,
    "start_time": "2023-07-25T15:11:23.855Z"
   },
   {
    "duration": 3,
    "start_time": "2023-07-25T15:11:23.985Z"
   },
   {
    "duration": 125,
    "start_time": "2023-07-25T15:11:23.991Z"
   },
   {
    "duration": 47,
    "start_time": "2023-07-25T15:11:24.118Z"
   },
   {
    "duration": 35,
    "start_time": "2023-07-25T15:11:24.166Z"
   },
   {
    "duration": 76,
    "start_time": "2023-07-25T15:11:24.204Z"
   },
   {
    "duration": 4,
    "start_time": "2023-07-25T15:11:24.282Z"
   },
   {
    "duration": 32,
    "start_time": "2023-07-25T15:11:24.287Z"
   },
   {
    "duration": 11,
    "start_time": "2023-07-25T15:11:24.323Z"
   },
   {
    "duration": 29,
    "start_time": "2023-07-25T15:11:24.336Z"
   },
   {
    "duration": 31,
    "start_time": "2023-07-25T15:11:24.367Z"
   },
   {
    "duration": 31,
    "start_time": "2023-07-25T15:11:24.400Z"
   },
   {
    "duration": 11,
    "start_time": "2023-07-25T15:11:24.432Z"
   },
   {
    "duration": 22,
    "start_time": "2023-07-25T15:11:24.445Z"
   },
   {
    "duration": 18,
    "start_time": "2023-07-25T15:11:24.469Z"
   },
   {
    "duration": 23,
    "start_time": "2023-07-25T15:11:24.489Z"
   },
   {
    "duration": 80,
    "start_time": "2023-07-25T15:11:24.514Z"
   },
   {
    "duration": 10,
    "start_time": "2023-07-25T15:11:24.596Z"
   },
   {
    "duration": 309,
    "start_time": "2023-07-25T15:11:24.608Z"
   },
   {
    "duration": 222,
    "start_time": "2023-07-25T15:11:24.919Z"
   },
   {
    "duration": 233,
    "start_time": "2023-07-25T15:11:25.142Z"
   },
   {
    "duration": 325,
    "start_time": "2023-07-25T15:11:25.377Z"
   },
   {
    "duration": 235,
    "start_time": "2023-07-25T15:11:25.706Z"
   },
   {
    "duration": 382,
    "start_time": "2023-07-25T15:11:25.943Z"
   },
   {
    "duration": 16,
    "start_time": "2023-07-25T15:11:26.328Z"
   },
   {
    "duration": 169,
    "start_time": "2023-07-25T15:11:26.345Z"
   },
   {
    "duration": 5,
    "start_time": "2023-07-25T15:11:26.518Z"
   },
   {
    "duration": 181,
    "start_time": "2023-07-25T15:11:26.524Z"
   },
   {
    "duration": 184,
    "start_time": "2023-07-25T15:11:26.707Z"
   },
   {
    "duration": 9,
    "start_time": "2023-07-25T15:11:26.893Z"
   },
   {
    "duration": 33,
    "start_time": "2023-07-25T15:11:26.904Z"
   },
   {
    "duration": 15,
    "start_time": "2023-07-25T15:11:26.939Z"
   },
   {
    "duration": 35,
    "start_time": "2023-07-25T15:11:26.956Z"
   },
   {
    "duration": 15,
    "start_time": "2023-07-25T15:11:26.992Z"
   },
   {
    "duration": 38,
    "start_time": "2023-07-25T15:11:27.009Z"
   },
   {
    "duration": 80,
    "start_time": "2023-07-25T15:11:27.049Z"
   },
   {
    "duration": 22,
    "start_time": "2023-07-25T15:11:27.131Z"
   },
   {
    "duration": 40,
    "start_time": "2023-07-25T15:11:27.155Z"
   },
   {
    "duration": 41,
    "start_time": "2023-07-25T15:11:27.196Z"
   },
   {
    "duration": 227,
    "start_time": "2023-07-25T15:14:14.052Z"
   },
   {
    "duration": 60,
    "start_time": "2023-07-27T07:32:58.885Z"
   },
   {
    "duration": 7,
    "start_time": "2023-07-27T07:33:35.825Z"
   },
   {
    "duration": 10,
    "start_time": "2023-07-27T07:33:47.178Z"
   },
   {
    "duration": 1342,
    "start_time": "2023-07-27T07:33:55.358Z"
   },
   {
    "duration": 220,
    "start_time": "2023-07-27T07:33:56.703Z"
   },
   {
    "duration": 5,
    "start_time": "2023-07-27T07:33:56.925Z"
   },
   {
    "duration": 50,
    "start_time": "2023-07-27T07:33:56.932Z"
   },
   {
    "duration": 39,
    "start_time": "2023-07-27T07:33:56.983Z"
   },
   {
    "duration": 35,
    "start_time": "2023-07-27T07:33:57.023Z"
   },
   {
    "duration": 34,
    "start_time": "2023-07-27T07:33:57.060Z"
   },
   {
    "duration": 4,
    "start_time": "2023-07-27T07:33:57.096Z"
   },
   {
    "duration": 46,
    "start_time": "2023-07-27T07:33:57.102Z"
   },
   {
    "duration": 13,
    "start_time": "2023-07-27T07:33:57.151Z"
   },
   {
    "duration": 11,
    "start_time": "2023-07-27T07:33:57.165Z"
   },
   {
    "duration": 13,
    "start_time": "2023-07-27T07:33:57.178Z"
   },
   {
    "duration": 17,
    "start_time": "2023-07-27T07:33:57.193Z"
   },
   {
    "duration": 22,
    "start_time": "2023-07-27T07:33:57.212Z"
   },
   {
    "duration": 20,
    "start_time": "2023-07-27T07:33:57.237Z"
   },
   {
    "duration": 12,
    "start_time": "2023-07-27T07:33:57.259Z"
   },
   {
    "duration": 11,
    "start_time": "2023-07-27T07:33:57.273Z"
   },
   {
    "duration": 102,
    "start_time": "2023-07-27T07:33:57.286Z"
   },
   {
    "duration": 12,
    "start_time": "2023-07-27T07:33:57.390Z"
   },
   {
    "duration": 288,
    "start_time": "2023-07-27T07:33:57.404Z"
   },
   {
    "duration": 236,
    "start_time": "2023-07-27T07:33:57.694Z"
   },
   {
    "duration": 231,
    "start_time": "2023-07-27T07:33:57.931Z"
   },
   {
    "duration": 350,
    "start_time": "2023-07-27T07:33:58.164Z"
   },
   {
    "duration": 238,
    "start_time": "2023-07-27T07:33:58.516Z"
   },
   {
    "duration": 336,
    "start_time": "2023-07-27T07:33:58.756Z"
   },
   {
    "duration": 13,
    "start_time": "2023-07-27T07:33:59.094Z"
   },
   {
    "duration": 161,
    "start_time": "2023-07-27T07:33:59.109Z"
   },
   {
    "duration": 3,
    "start_time": "2023-07-27T07:33:59.273Z"
   },
   {
    "duration": 189,
    "start_time": "2023-07-27T07:33:59.278Z"
   },
   {
    "duration": 153,
    "start_time": "2023-07-27T07:33:59.469Z"
   },
   {
    "duration": 5,
    "start_time": "2023-07-27T07:33:59.624Z"
   },
   {
    "duration": 32,
    "start_time": "2023-07-27T07:33:59.630Z"
   },
   {
    "duration": 5,
    "start_time": "2023-07-27T07:33:59.664Z"
   },
   {
    "duration": 22,
    "start_time": "2023-07-27T07:33:59.671Z"
   },
   {
    "duration": 10,
    "start_time": "2023-07-27T07:33:59.695Z"
   },
   {
    "duration": 8,
    "start_time": "2023-07-27T07:33:59.706Z"
   },
   {
    "duration": 134,
    "start_time": "2023-07-27T07:33:59.715Z"
   },
   {
    "duration": 9,
    "start_time": "2023-07-27T07:33:59.850Z"
   },
   {
    "duration": 29,
    "start_time": "2023-07-27T07:33:59.861Z"
   },
   {
    "duration": 18,
    "start_time": "2023-07-27T07:33:59.891Z"
   },
   {
    "duration": 10,
    "start_time": "2023-07-27T07:34:23.354Z"
   },
   {
    "duration": 11,
    "start_time": "2023-07-27T07:34:49.706Z"
   },
   {
    "duration": 11,
    "start_time": "2023-07-27T07:34:55.588Z"
   },
   {
    "duration": 11,
    "start_time": "2023-07-27T07:35:06.119Z"
   }
  ],
  "kernelspec": {
   "display_name": "Python 3 (ipykernel)",
   "language": "python",
   "name": "python3"
  },
  "language_info": {
   "codemirror_mode": {
    "name": "ipython",
    "version": 3
   },
   "file_extension": ".py",
   "mimetype": "text/x-python",
   "name": "python",
   "nbconvert_exporter": "python",
   "pygments_lexer": "ipython3",
   "version": "3.9.13"
  },
  "toc": {
   "base_numbering": 1,
   "nav_menu": {},
   "number_sections": true,
   "sideBar": true,
   "skip_h1_title": true,
   "title_cell": "Table of Contents",
   "title_sidebar": "Contents",
   "toc_cell": false,
   "toc_position": {
    "height": "506.4px",
    "left": "27px",
    "top": "110.525px",
    "width": "283.5px"
   },
   "toc_section_display": true,
   "toc_window_display": true
  }
 },
 "nbformat": 4,
 "nbformat_minor": 2
}
