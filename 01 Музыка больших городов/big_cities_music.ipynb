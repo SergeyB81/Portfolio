{
 "cells": [
  {
   "cell_type": "markdown",
   "metadata": {
    "deletable": false,
    "editable": false,
    "id": "E0vqbgi9ay0H"
   },
   "source": [
    "# Яндекс.Музыка"
   ]
  },
  {
   "cell_type": "markdown",
   "metadata": {
    "deletable": false,
    "editable": false,
    "id": "VUC88oWjTJw2"
   },
   "source": [
    "Сравнение Москвы и Петербурга окружено мифами. Например:\n",
    " * Москва — мегаполис, подчинённый жёсткому ритму рабочей недели;\n",
    " * Петербург — культурная столица, со своими вкусами.\n",
    "\n",
    "На данных Яндекс Музыки вы сравните поведение пользователей двух столиц.\n",
    "\n",
    "**Цель исследования** — проверьте три гипотезы:\n",
    "1. Активность пользователей зависит от дня недели. Причём в Москве и Петербурге это проявляется по-разному.\n",
    "2. В понедельник утром в Москве преобладают одни жанры, а в Петербурге — другие. Так же и вечером пятницы преобладают разные жанры — в зависимости от города. \n",
    "3. Москва и Петербург предпочитают разные жанры музыки. В Москве чаще слушают поп-музыку, в Петербурге — русский рэп.\n",
    "\n",
    "**Ход исследования**\n",
    "\n",
    "Данные о поведении пользователей вы получите из файла `yandex_music_project.csv`. О качестве данных ничего не известно. Поэтому перед проверкой гипотез понадобится обзор данных. \n",
    "\n",
    "Вы проверите данные на ошибки и оцените их влияние на исследование. Затем, на этапе предобработки вы поищете возможность исправить самые критичные ошибки данных.\n",
    " \n",
    "Таким образом, исследование пройдёт в три этапа:\n",
    " 1. Обзор данных.\n",
    " 2. Предобработка данных.\n",
    " 3. Проверка гипотез.\n",
    "\n"
   ]
  },
  {
   "cell_type": "markdown",
   "metadata": {
    "deletable": false,
    "editable": false,
    "id": "Ml1hmfXC_Zcs"
   },
   "source": [
    "## Обзор данных\n",
    "\n",
    "Составьте первое представление о данных Яндекс Музыки.\n",
    "\n",
    "\n"
   ]
  },
  {
   "cell_type": "markdown",
   "metadata": {
    "deletable": false,
    "editable": false,
    "id": "57eAOGIz_Zcs",
    "tags": [
     "start_task"
    ]
   },
   "source": [
    "**Задание 1**\n",
    "\n",
    "Основной инструмент аналитика — `pandas`. Импортируйте эту библиотеку."
   ]
  },
  {
   "cell_type": "code",
   "execution_count": 1,
   "metadata": {
    "deletable": false,
    "id": "AXN7PHPN_Zcs"
   },
   "outputs": [],
   "source": [
    "# импорт библиотеки pandas\n",
    "import pandas as pd "
   ]
  },
  {
   "cell_type": "markdown",
   "metadata": {
    "deletable": false,
    "editable": false,
    "id": "SG23P8tt_Zcs",
    "tags": [
     "start_task"
    ]
   },
   "source": [
    "**Задание 2**\n",
    "\n",
    "Прочитайте файл `yandex_music_project.csv` из папки `/datasets` и сохраните его в переменной `df`:"
   ]
  },
  {
   "cell_type": "code",
   "execution_count": 2,
   "metadata": {
    "deletable": false,
    "id": "fFVu7vqh_Zct"
   },
   "outputs": [],
   "source": [
    "# чтение файла с данными и сохранение в df\n",
    "df = pd.read_csv(r'C:\\Users\\user\\Desktop\\Обучение\\Яндекс\\Проекты GitHub\\1 Музыка больших городов\\yandex_music_project.csv')\n",
    "#df.to_csv('dataset.csv')\n"
   ]
  },
  {
   "cell_type": "markdown",
   "metadata": {
    "deletable": false,
    "editable": false,
    "id": "rDoOMd3uTqnZ",
    "tags": [
     "start_task"
    ]
   },
   "source": [
    "**Задание 3**\n",
    "\n",
    "\n",
    "Выведите на экран первые десять строк таблицы:"
   ]
  },
  {
   "cell_type": "code",
   "execution_count": 3,
   "metadata": {
    "deletable": false,
    "id": "oWTVX3gW_Zct"
   },
   "outputs": [
    {
     "name": "stdout",
     "output_type": "stream",
     "text": [
      "     userID                        Track            artist   genre  \\\n",
      "0  FFB692EC            Kamigata To Boots  The Mass Missile    rock   \n",
      "1  55204538  Delayed Because of Accident  Andreas Rönnberg    rock   \n",
      "2    20EC38            Funiculì funiculà       Mario Lanza     pop   \n",
      "3  A3DD03C9        Dragons in the Sunset        Fire + Ice    folk   \n",
      "4  E2DC1FAE                  Soul People        Space Echo   dance   \n",
      "5  842029A1                    Преданная         IMPERVTOR  rusrap   \n",
      "6  4CB90AA5                         True      Roman Messer   dance   \n",
      "7  F03E1C1F             Feeling This Way   Polina Griffith   dance   \n",
      "8  8FA1D3BE     И вновь продолжается бой               NaN  ruspop   \n",
      "9  E772D5C0                    Pessimist               NaN   dance   \n",
      "\n",
      "             City        time        Day  \n",
      "0  Saint-Petersburg  20:28:33  Wednesday  \n",
      "1            Moscow  14:07:09     Friday  \n",
      "2  Saint-Petersburg  20:58:07  Wednesday  \n",
      "3  Saint-Petersburg  08:37:09     Monday  \n",
      "4            Moscow  08:34:34     Monday  \n",
      "5  Saint-Petersburg  13:09:41     Friday  \n",
      "6            Moscow  13:00:07  Wednesday  \n",
      "7            Moscow  20:47:49  Wednesday  \n",
      "8            Moscow  09:17:40     Friday  \n",
      "9  Saint-Petersburg  21:20:49  Wednesday  \n"
     ]
    }
   ],
   "source": [
    "# получение первых 10 строк таблицы df\n",
    "print(df.head(10))"
   ]
  },
  {
   "cell_type": "markdown",
   "metadata": {
    "deletable": false,
    "editable": false,
    "id": "EO73Kwic_Zct",
    "tags": [
     "start_task"
    ]
   },
   "source": [
    "**Задание 4**\n",
    "\n",
    "\n",
    "Одной командой получить общую информацию о таблице c помощью метода `info()`:"
   ]
  },
  {
   "cell_type": "code",
   "execution_count": 4,
   "metadata": {
    "deletable": false,
    "id": "DSf2kIb-_Zct"
   },
   "outputs": [
    {
     "name": "stdout",
     "output_type": "stream",
     "text": [
      "<class 'pandas.core.frame.DataFrame'>\n",
      "RangeIndex: 65079 entries, 0 to 65078\n",
      "Data columns (total 7 columns):\n",
      " #   Column    Non-Null Count  Dtype \n",
      "---  ------    --------------  ----- \n",
      " 0     userID  65079 non-null  object\n",
      " 1   Track     63848 non-null  object\n",
      " 2   artist    57876 non-null  object\n",
      " 3   genre     63881 non-null  object\n",
      " 4     City    65079 non-null  object\n",
      " 5   time      65079 non-null  object\n",
      " 6   Day       65079 non-null  object\n",
      "dtypes: object(7)\n",
      "memory usage: 3.5+ MB\n"
     ]
    }
   ],
   "source": [
    "# получение общей информации о данных в таблице df\n",
    "df.info()"
   ]
  },
  {
   "cell_type": "markdown",
   "metadata": {
    "deletable": false,
    "editable": false,
    "id": "TaQ2Iwbr_Zct"
   },
   "source": [
    "Итак, в таблице семь столбцов. Тип данных во всех столбцах — `object`.\n",
    "\n",
    "Согласно документации к данным:\n",
    "* `userID` — идентификатор пользователя;\n",
    "* `Track` — название трека;  \n",
    "* `artist` — имя исполнителя;\n",
    "* `genre` — название жанра;\n",
    "* `City` — город пользователя;\n",
    "* `time` — время начала прослушивания;\n",
    "* `Day` — день недели.\n",
    "\n",
    "Количество значений в столбцах различается. Значит, в данных есть пропущенные значения."
   ]
  },
  {
   "cell_type": "markdown",
   "metadata": {
    "deletable": false,
    "editable": false,
    "id": "4P0UCWzswgEm",
    "tags": [
     "start_task"
    ]
   },
   "source": [
    "**Задание 5**\n",
    "\n",
    "**Вопрос со свободной формой ответа**\n",
    "\n",
    "В названиях колонок видны три нарушения стиля:\n",
    "1. Строчные буквы сочетаются с прописными.\n",
    "2. Встречаются пробелы."
   ]
  },
  {
   "cell_type": "code",
   "execution_count": 5,
   "metadata": {
    "id": "c137-ZstwgEm"
   },
   "outputs": [],
   "source": [
    "# Заглавные буквы вначале слова. Не удаляйте символ #. Не меняйте тип этой ячейки на Markdown."
   ]
  },
  {
   "cell_type": "markdown",
   "metadata": {
    "deletable": false,
    "editable": false,
    "id": "MCB6-dXG_Zct"
   },
   "source": [
    "**Выводы**\n",
    "\n",
    "В каждой строке таблицы — данные о прослушанном треке. Часть колонок описывает саму композицию: название, исполнителя и жанр. Остальные данные рассказывают о пользователе: из какого он города, когда он слушал музыку. \n",
    "\n",
    "Предварительно можно утверждать, что, данных достаточно для проверки гипотез. Но встречаются пропуски в данных, а в названиях колонок — расхождения с хорошим стилем.\n",
    "\n",
    "Чтобы двигаться дальше, нужно устранить проблемы в данных."
   ]
  },
  {
   "cell_type": "markdown",
   "metadata": {
    "deletable": false,
    "editable": false,
    "id": "SjYF6Ub9_Zct"
   },
   "source": [
    "## Предобработка данных\n",
    "Исправьте стиль в заголовках столбцов, исключите пропуски. Затем проверьте данные на дубликаты."
   ]
  },
  {
   "cell_type": "markdown",
   "metadata": {
    "deletable": false,
    "editable": false,
    "id": "dIaKXr29_Zct",
    "tags": [
     "start_task"
    ]
   },
   "source": [
    "# Стиль заголовков\n",
    "\n",
    "**Задание 6**\n",
    "\n",
    "Выведите на экран названия столбцов:"
   ]
  },
  {
   "cell_type": "code",
   "execution_count": 6,
   "metadata": {
    "deletable": false,
    "id": "oKOTdF_Q_Zct"
   },
   "outputs": [
    {
     "name": "stdout",
     "output_type": "stream",
     "text": [
      "Index(['  userID', 'Track', 'artist', 'genre', '  City  ', 'time', 'Day'], dtype='object')\n"
     ]
    }
   ],
   "source": [
    "# перечень названий столбцов таблицы df\n",
    "print(df.columns)"
   ]
  },
  {
   "cell_type": "markdown",
   "metadata": {
    "deletable": false,
    "editable": false,
    "id": "zj5534cv_Zct",
    "tags": [
     "start_task"
    ]
   },
   "source": [
    "**Задание 7**\n",
    "\n",
    "\n",
    "Приведите названия в соответствие с хорошим стилем:\n",
    "* несколько слов в названии запишите в «змеином_регистре»,\n",
    "* все символы сделайте строчными,\n",
    "* устраните пробелы.\n",
    "\n",
    "Для этого переименуйте колонки так:\n",
    "* `'  userID'` → `'user_id'`;\n",
    "* `'Track'` → `'track'`;\n",
    "* `'  City  '` → `'city'`;\n",
    "* `'Day'` → `'day'`."
   ]
  },
  {
   "cell_type": "code",
   "execution_count": 7,
   "metadata": {
    "deletable": false,
    "id": "ISlFqs5y_Zct"
   },
   "outputs": [],
   "source": [
    "# переименование столбцов\n",
    "df = df.rename(columns={'  userID': 'user_id', 'Track': 'track', '  City  ': 'city', 'Day': 'day'}) "
   ]
  },
  {
   "cell_type": "markdown",
   "metadata": {
    "deletable": false,
    "editable": false,
    "id": "1dqbh00J_Zct",
    "tags": [
     "start_task"
    ]
   },
   "source": [
    "**Задание 8**\n",
    "\n",
    "\n",
    "Проверьте результат. Для этого ещё раз выведите на экран названия столбцов:"
   ]
  },
  {
   "cell_type": "code",
   "execution_count": 8,
   "metadata": {
    "deletable": false,
    "id": "d4NOAmTW_Zct"
   },
   "outputs": [
    {
     "name": "stdout",
     "output_type": "stream",
     "text": [
      "Index(['user_id', 'track', 'artist', 'genre', 'city', 'time', 'day'], dtype='object')\n"
     ]
    }
   ],
   "source": [
    "# проверка результатов - перечень названий столбцов\n",
    "print(df.columns) "
   ]
  },
  {
   "cell_type": "markdown",
   "metadata": {
    "deletable": false,
    "editable": false,
    "id": "5ISfbcfY_Zct",
    "tags": [
     "start_task"
    ]
   },
   "source": [
    "### Пропуски значений\n",
    "\n",
    "**Задание 9**\n",
    "\n",
    "Сначала посчитайте, сколько в таблице пропущенных значений. Для этого достаточно двух методов `pandas`:"
   ]
  },
  {
   "cell_type": "code",
   "execution_count": 9,
   "metadata": {
    "deletable": false,
    "id": "RskX29qr_Zct"
   },
   "outputs": [
    {
     "data": {
      "text/plain": [
       "user_id       0\n",
       "track      1231\n",
       "artist     7203\n",
       "genre      1198\n",
       "city          0\n",
       "time          0\n",
       "day           0\n",
       "dtype: int64"
      ]
     },
     "execution_count": 9,
     "metadata": {},
     "output_type": "execute_result"
    }
   ],
   "source": [
    "# подсчёт пропусков\n",
    "df.isna().sum()"
   ]
  },
  {
   "cell_type": "markdown",
   "metadata": {
    "deletable": false,
    "editable": false,
    "id": "qubhgnlO_Zct"
   },
   "source": [
    "Не все пропущенные значения влияют на исследование. Так в `track` и `artist` пропуски не важны для вашей работы. Достаточно заменить их явными обозначениями.\n",
    "\n",
    "Но пропуски в `genre` могут помешать сравнению музыкальных вкусов в Москве и Санкт-Петербурге. На практике было бы правильно установить причину пропусков и восстановить данные. Такой возможности нет в учебном проекте. Придётся:\n",
    "* заполнить и эти пропуски явными обозначениями,\n",
    "* оценить, насколько они повредят расчётам. "
   ]
  },
  {
   "cell_type": "markdown",
   "metadata": {
    "deletable": false,
    "editable": false,
    "id": "fSv2laPA_Zct",
    "tags": [
     "start_task"
    ]
   },
   "source": [
    "**Задание 10**\n",
    "\n",
    "Замените пропущенные значения в столбцах `track`, `artist` и `genre` на строку `'unknown'`. Для этого создайте список `columns_to_replace`, переберите его элементы циклом `for` и для каждого столбца выполните замену пропущенных значений:"
   ]
  },
  {
   "cell_type": "code",
   "execution_count": 10,
   "metadata": {
    "deletable": false,
    "id": "KplB5qWs_Zct"
   },
   "outputs": [],
   "source": [
    "# перебор названий столбцов в цикле и замена пропущенных значений на 'unknown'\n",
    "columns_to_replace = ['track', 'artist', 'genre']\n",
    "for column in columns_to_replace:\n",
    "    df[column] = df[column].fillna('unknown')\n"
   ]
  },
  {
   "cell_type": "markdown",
   "metadata": {
    "deletable": false,
    "editable": false,
    "id": "Ilsm-MZo_Zct",
    "tags": [
     "start_task"
    ]
   },
   "source": [
    "**Задание 11**\n",
    "\n",
    "Убедитесь, что в таблице не осталось пропусков. Для этого ещё раз посчитайте пропущенные значения."
   ]
  },
  {
   "cell_type": "code",
   "execution_count": 11,
   "metadata": {
    "deletable": false,
    "id": "Tq4nYRX4_Zct"
   },
   "outputs": [
    {
     "data": {
      "text/plain": [
       "user_id    0\n",
       "track      0\n",
       "artist     0\n",
       "genre      0\n",
       "city       0\n",
       "time       0\n",
       "day        0\n",
       "dtype: int64"
      ]
     },
     "execution_count": 11,
     "metadata": {},
     "output_type": "execute_result"
    }
   ],
   "source": [
    "# подсчёт пропусков\n",
    "df.isna().sum() "
   ]
  },
  {
   "cell_type": "markdown",
   "metadata": {
    "deletable": false,
    "editable": false,
    "id": "BWKRtBJ3_Zct",
    "tags": [
     "start_task"
    ]
   },
   "source": [
    "### Дубликаты\n",
    "\n",
    "**Задание 12**\n",
    "\n",
    "Посчитайте явные дубликаты в таблице одной командой:"
   ]
  },
  {
   "cell_type": "code",
   "execution_count": 12,
   "metadata": {
    "deletable": false,
    "id": "36eES_S0_Zct"
   },
   "outputs": [
    {
     "data": {
      "text/plain": [
       "3826"
      ]
     },
     "execution_count": 12,
     "metadata": {},
     "output_type": "execute_result"
    }
   ],
   "source": [
    "# подсчёт явных дубликатов\n",
    "df.duplicated().sum()"
   ]
  },
  {
   "cell_type": "markdown",
   "metadata": {
    "deletable": false,
    "editable": false,
    "id": "Ot25h6XR_Zct",
    "tags": [
     "start_task"
    ]
   },
   "source": [
    "**Задание 13**\n",
    "\n",
    "Вызовите специальный метод `pandas`, чтобы удалить явные дубликаты:"
   ]
  },
  {
   "cell_type": "code",
   "execution_count": 13,
   "metadata": {
    "deletable": false,
    "id": "exFHq6tt_Zct"
   },
   "outputs": [],
   "source": [
    "# удаление явных дубликатов (с удалением старых индексов и формированием новых)\n",
    "df = df.drop_duplicates() "
   ]
  },
  {
   "cell_type": "markdown",
   "metadata": {
    "deletable": false,
    "editable": false,
    "id": "Im2YwBEG_Zct",
    "tags": [
     "start_task"
    ]
   },
   "source": [
    "**Задание 14**\n",
    "\n",
    "Ещё раз посчитайте явные дубликаты в таблице — убедитесь, что полностью от них избавились:"
   ]
  },
  {
   "cell_type": "code",
   "execution_count": 14,
   "metadata": {
    "deletable": false,
    "id": "-8PuNWQ0_Zct"
   },
   "outputs": [
    {
     "data": {
      "text/plain": [
       "0"
      ]
     },
     "execution_count": 14,
     "metadata": {},
     "output_type": "execute_result"
    }
   ],
   "source": [
    "# проверка на отсутствие дубликатов\n",
    "df.duplicated().sum() "
   ]
  },
  {
   "cell_type": "markdown",
   "metadata": {
    "deletable": false,
    "editable": false,
    "id": "QlFBsxAr_Zct"
   },
   "source": [
    "Теперь избавьтесь от неявных дубликатов в колонке `genre`. Например, название одного и того же жанра может быть записано немного по-разному. Такие ошибки тоже повлияют на результат исследования."
   ]
  },
  {
   "cell_type": "markdown",
   "metadata": {
    "deletable": false,
    "editable": false,
    "id": "eSjWwsOh_Zct",
    "tags": [
     "start_task"
    ]
   },
   "source": [
    "**Задание 15**\n",
    "\n",
    "Выведите на экран список уникальных названий жанров, отсортированный в алфавитном порядке. Для этого:\n",
    "* извлеките нужный столбец датафрейма, \n",
    "* примените к нему метод сортировки,\n",
    "* для отсортированного столбца вызовите метод, который вернёт уникальные значения из столбца."
   ]
  },
  {
   "cell_type": "code",
   "execution_count": 15,
   "metadata": {
    "deletable": false,
    "id": "JIUcqzZN_Zct"
   },
   "outputs": [
    {
     "data": {
      "text/plain": [
       "array(['acid', 'acoustic', 'action', 'adult', 'africa', 'afrikaans',\n",
       "       'alternative', 'alternativepunk', 'ambient', 'americana',\n",
       "       'animated', 'anime', 'arabesk', 'arabic', 'arena',\n",
       "       'argentinetango', 'art', 'audiobook', 'author', 'avantgarde',\n",
       "       'axé', 'baile', 'balkan', 'beats', 'bigroom', 'black', 'bluegrass',\n",
       "       'blues', 'bollywood', 'bossa', 'brazilian', 'breakbeat', 'breaks',\n",
       "       'broadway', 'cantautori', 'cantopop', 'canzone', 'caribbean',\n",
       "       'caucasian', 'celtic', 'chamber', 'chanson', 'children', 'chill',\n",
       "       'chinese', 'choral', 'christian', 'christmas', 'classical',\n",
       "       'classicmetal', 'club', 'colombian', 'comedy', 'conjazz',\n",
       "       'contemporary', 'country', 'cuban', 'dance', 'dancehall',\n",
       "       'dancepop', 'dark', 'death', 'deep', 'deutschrock', 'deutschspr',\n",
       "       'dirty', 'disco', 'dnb', 'documentary', 'downbeat', 'downtempo',\n",
       "       'drum', 'dub', 'dubstep', 'eastern', 'easy', 'electronic',\n",
       "       'electropop', 'emo', 'entehno', 'epicmetal', 'estrada', 'ethnic',\n",
       "       'eurofolk', 'european', 'experimental', 'extrememetal', 'fado',\n",
       "       'fairytail', 'film', 'fitness', 'flamenco', 'folk', 'folklore',\n",
       "       'folkmetal', 'folkrock', 'folktronica', 'forró', 'frankreich',\n",
       "       'französisch', 'french', 'funk', 'future', 'gangsta', 'garage',\n",
       "       'german', 'ghazal', 'gitarre', 'glitch', 'gospel', 'gothic',\n",
       "       'grime', 'grunge', 'gypsy', 'handsup', \"hard'n'heavy\", 'hardcore',\n",
       "       'hardstyle', 'hardtechno', 'hip', 'hip-hop', 'hiphop',\n",
       "       'historisch', 'holiday', 'hop', 'horror', 'house', 'hymn', 'idm',\n",
       "       'independent', 'indian', 'indie', 'indipop', 'industrial',\n",
       "       'inspirational', 'instrumental', 'international', 'irish', 'jam',\n",
       "       'japanese', 'jazz', 'jewish', 'jpop', 'jungle', 'k-pop',\n",
       "       'karadeniz', 'karaoke', 'kayokyoku', 'korean', 'laiko', 'latin',\n",
       "       'latino', 'leftfield', 'local', 'lounge', 'loungeelectronic',\n",
       "       'lovers', 'malaysian', 'mandopop', 'marschmusik', 'meditative',\n",
       "       'mediterranean', 'melodic', 'metal', 'metalcore', 'mexican',\n",
       "       'middle', 'minimal', 'miscellaneous', 'modern', 'mood', 'mpb',\n",
       "       'muslim', 'native', 'neoklassik', 'neue', 'new', 'newage',\n",
       "       'newwave', 'nu', 'nujazz', 'numetal', 'oceania', 'old', 'opera',\n",
       "       'orchestral', 'other', 'piano', 'podcasts', 'pop', 'popdance',\n",
       "       'popelectronic', 'popeurodance', 'poprussian', 'post',\n",
       "       'posthardcore', 'postrock', 'power', 'progmetal', 'progressive',\n",
       "       'psychedelic', 'punjabi', 'punk', 'quebecois', 'ragga', 'ram',\n",
       "       'rancheras', 'rap', 'rave', 'reggae', 'reggaeton', 'regional',\n",
       "       'relax', 'religious', 'retro', 'rhythm', 'rnb', 'rnr', 'rock',\n",
       "       'rockabilly', 'rockalternative', 'rockindie', 'rockother',\n",
       "       'romance', 'roots', 'ruspop', 'rusrap', 'rusrock', 'russian',\n",
       "       'salsa', 'samba', 'scenic', 'schlager', 'self', 'sertanejo',\n",
       "       'shanson', 'shoegazing', 'showtunes', 'singer', 'ska', 'skarock',\n",
       "       'slow', 'smooth', 'soft', 'soul', 'soulful', 'sound', 'soundtrack',\n",
       "       'southern', 'specialty', 'speech', 'spiritual', 'sport',\n",
       "       'stonerrock', 'surf', 'swing', 'synthpop', 'synthrock',\n",
       "       'sängerportrait', 'tango', 'tanzorchester', 'taraftar', 'tatar',\n",
       "       'tech', 'techno', 'teen', 'thrash', 'top', 'traditional',\n",
       "       'tradjazz', 'trance', 'tribal', 'trip', 'triphop', 'tropical',\n",
       "       'türk', 'türkçe', 'ukrrock', 'unknown', 'urban', 'uzbek',\n",
       "       'variété', 'vi', 'videogame', 'vocal', 'western', 'world',\n",
       "       'worldbeat', 'ïîï', 'электроника'], dtype=object)"
      ]
     },
     "execution_count": 15,
     "metadata": {},
     "output_type": "execute_result"
    }
   ],
   "source": [
    "# Просмотр уникальных названий жанров\n",
    "df['genre'].sort_values().unique()"
   ]
  },
  {
   "cell_type": "markdown",
   "metadata": {
    "deletable": false,
    "editable": false,
    "id": "qej-Qmuo_Zct",
    "tags": [
     "start_task"
    ]
   },
   "source": [
    "**Задание 16**\n",
    "\n",
    "Просмотрите список и найдите неявные дубликаты названия `hiphop`. Это могут быть названия с ошибками или альтернативные названия того же жанра.\n",
    "\n",
    "Вы увидите следующие неявные дубликаты:\n",
    "* *hip*,\n",
    "* *hop*,\n",
    "* *hip-hop*.\n",
    "\n",
    "Чтобы очистить от них таблицу используйте метод `replace()` с двумя аргументами: списком строк-дубликатов (включащий *hip*, *hop* и *hip-hop*) и строкой с правильным значением. Вам нужно исправить колонку `genre` в таблице `df`: заменить каждое значение из списка дубликатов на верное. Вместо `hip`, `hop` и `hip-hop` в таблице должно быть значение `hiphop`:"
   ]
  },
  {
   "cell_type": "code",
   "execution_count": 16,
   "metadata": {
    "deletable": false,
    "id": "ErNDkmns_Zct"
   },
   "outputs": [],
   "source": [
    "# Устранение неявных дубликатов\n",
    "df['genre'] = df['genre'].replace('hip', 'hiphop')\n",
    "df['genre'] = df['genre'].replace('hop', 'hiphop')\n",
    "df['genre'] = df['genre'].replace('hip-hop', 'hiphop')"
   ]
  },
  {
   "cell_type": "markdown",
   "metadata": {
    "deletable": false,
    "editable": false,
    "id": "zQKF16_RG15m",
    "tags": [
     "start_task"
    ]
   },
   "source": [
    "**Задание 17**\n",
    "\n",
    "Проверьте, что заменили неправильные названия:\n",
    "\n",
    "*   hip\n",
    "*   hop\n",
    "*   hip-hop\n",
    "\n",
    "Выведите отсортированный список уникальных значений столбца `genre`:"
   ]
  },
  {
   "cell_type": "code",
   "execution_count": 17,
   "metadata": {
    "deletable": false,
    "id": "wvixALnFG15m"
   },
   "outputs": [
    {
     "data": {
      "text/plain": [
       "array(['acid', 'acoustic', 'action', 'adult', 'africa', 'afrikaans',\n",
       "       'alternative', 'alternativepunk', 'ambient', 'americana',\n",
       "       'animated', 'anime', 'arabesk', 'arabic', 'arena',\n",
       "       'argentinetango', 'art', 'audiobook', 'author', 'avantgarde',\n",
       "       'axé', 'baile', 'balkan', 'beats', 'bigroom', 'black', 'bluegrass',\n",
       "       'blues', 'bollywood', 'bossa', 'brazilian', 'breakbeat', 'breaks',\n",
       "       'broadway', 'cantautori', 'cantopop', 'canzone', 'caribbean',\n",
       "       'caucasian', 'celtic', 'chamber', 'chanson', 'children', 'chill',\n",
       "       'chinese', 'choral', 'christian', 'christmas', 'classical',\n",
       "       'classicmetal', 'club', 'colombian', 'comedy', 'conjazz',\n",
       "       'contemporary', 'country', 'cuban', 'dance', 'dancehall',\n",
       "       'dancepop', 'dark', 'death', 'deep', 'deutschrock', 'deutschspr',\n",
       "       'dirty', 'disco', 'dnb', 'documentary', 'downbeat', 'downtempo',\n",
       "       'drum', 'dub', 'dubstep', 'eastern', 'easy', 'electronic',\n",
       "       'electropop', 'emo', 'entehno', 'epicmetal', 'estrada', 'ethnic',\n",
       "       'eurofolk', 'european', 'experimental', 'extrememetal', 'fado',\n",
       "       'fairytail', 'film', 'fitness', 'flamenco', 'folk', 'folklore',\n",
       "       'folkmetal', 'folkrock', 'folktronica', 'forró', 'frankreich',\n",
       "       'französisch', 'french', 'funk', 'future', 'gangsta', 'garage',\n",
       "       'german', 'ghazal', 'gitarre', 'glitch', 'gospel', 'gothic',\n",
       "       'grime', 'grunge', 'gypsy', 'handsup', \"hard'n'heavy\", 'hardcore',\n",
       "       'hardstyle', 'hardtechno', 'hiphop', 'historisch', 'holiday',\n",
       "       'horror', 'house', 'hymn', 'idm', 'independent', 'indian', 'indie',\n",
       "       'indipop', 'industrial', 'inspirational', 'instrumental',\n",
       "       'international', 'irish', 'jam', 'japanese', 'jazz', 'jewish',\n",
       "       'jpop', 'jungle', 'k-pop', 'karadeniz', 'karaoke', 'kayokyoku',\n",
       "       'korean', 'laiko', 'latin', 'latino', 'leftfield', 'local',\n",
       "       'lounge', 'loungeelectronic', 'lovers', 'malaysian', 'mandopop',\n",
       "       'marschmusik', 'meditative', 'mediterranean', 'melodic', 'metal',\n",
       "       'metalcore', 'mexican', 'middle', 'minimal', 'miscellaneous',\n",
       "       'modern', 'mood', 'mpb', 'muslim', 'native', 'neoklassik', 'neue',\n",
       "       'new', 'newage', 'newwave', 'nu', 'nujazz', 'numetal', 'oceania',\n",
       "       'old', 'opera', 'orchestral', 'other', 'piano', 'podcasts', 'pop',\n",
       "       'popdance', 'popelectronic', 'popeurodance', 'poprussian', 'post',\n",
       "       'posthardcore', 'postrock', 'power', 'progmetal', 'progressive',\n",
       "       'psychedelic', 'punjabi', 'punk', 'quebecois', 'ragga', 'ram',\n",
       "       'rancheras', 'rap', 'rave', 'reggae', 'reggaeton', 'regional',\n",
       "       'relax', 'religious', 'retro', 'rhythm', 'rnb', 'rnr', 'rock',\n",
       "       'rockabilly', 'rockalternative', 'rockindie', 'rockother',\n",
       "       'romance', 'roots', 'ruspop', 'rusrap', 'rusrock', 'russian',\n",
       "       'salsa', 'samba', 'scenic', 'schlager', 'self', 'sertanejo',\n",
       "       'shanson', 'shoegazing', 'showtunes', 'singer', 'ska', 'skarock',\n",
       "       'slow', 'smooth', 'soft', 'soul', 'soulful', 'sound', 'soundtrack',\n",
       "       'southern', 'specialty', 'speech', 'spiritual', 'sport',\n",
       "       'stonerrock', 'surf', 'swing', 'synthpop', 'synthrock',\n",
       "       'sängerportrait', 'tango', 'tanzorchester', 'taraftar', 'tatar',\n",
       "       'tech', 'techno', 'teen', 'thrash', 'top', 'traditional',\n",
       "       'tradjazz', 'trance', 'tribal', 'trip', 'triphop', 'tropical',\n",
       "       'türk', 'türkçe', 'ukrrock', 'unknown', 'urban', 'uzbek',\n",
       "       'variété', 'vi', 'videogame', 'vocal', 'western', 'world',\n",
       "       'worldbeat', 'ïîï', 'электроника'], dtype=object)"
      ]
     },
     "execution_count": 17,
     "metadata": {},
     "output_type": "execute_result"
    }
   ],
   "source": [
    "# Проверка на неявные дубликаты\n",
    "df['genre'].sort_values().unique() "
   ]
  },
  {
   "cell_type": "markdown",
   "metadata": {
    "deletable": false,
    "editable": false,
    "id": "jz6a9-7HQUDd"
   },
   "source": [
    "**Выводы**\n",
    "\n",
    "Предобработка обнаружила три проблемы в данных:\n",
    "\n",
    "- нарушения в стиле заголовков,\n",
    "- пропущенные значения,\n",
    "- дубликаты — явные и неявные.\n",
    "\n",
    "Вы исправили заголовки, чтобы упростить работу с таблицей. Без дубликатов исследование станет более точным.\n",
    "\n",
    "Пропущенные значения вы заменили на `'unknown'`. Ещё предстоит увидеть, не повредят ли исследованию пропуски в колонке `genre`.\n",
    "\n",
    "Теперь можно перейти к проверке гипотез. "
   ]
  },
  {
   "cell_type": "markdown",
   "metadata": {
    "deletable": false,
    "editable": false,
    "id": "WttZHXH0SqKk"
   },
   "source": [
    "## Проверка гипотез"
   ]
  },
  {
   "cell_type": "markdown",
   "metadata": {
    "deletable": false,
    "editable": false,
    "id": "Im936VVi_Zcu"
   },
   "source": [
    "### Сравнение поведения пользователей двух столиц"
   ]
  },
  {
   "cell_type": "markdown",
   "metadata": {
    "deletable": false,
    "editable": false,
    "id": "nwt_MuaL_Zcu"
   },
   "source": [
    "Первая гипотеза утверждает, что пользователи по-разному слушают музыку в Москве и Санкт-Петербурге. Проверьте это предположение по данным о трёх днях недели — понедельнике, среде и пятнице. Для этого:\n",
    "\n",
    "* Разделите пользователей Москвы и Санкт-Петербурга\n",
    "* Сравните, сколько треков послушала каждая группа пользователей в понедельник, среду и пятницу.\n"
   ]
  },
  {
   "cell_type": "markdown",
   "metadata": {
    "deletable": false,
    "editable": false,
    "id": "8Dw_YMmT_Zcu",
    "tags": [
     "start_task"
    ]
   },
   "source": [
    "**Задание 18**\n",
    "\n",
    "Для тренировки сначала выполните каждый из расчётов по отдельности. \n",
    "\n",
    "Оцените активность пользователей в каждом городе. Сгруппируйте данные по городу и посчитайте прослушивания в каждой группе.\n",
    "\n"
   ]
  },
  {
   "cell_type": "code",
   "execution_count": 18,
   "metadata": {
    "deletable": false,
    "id": "0_Qs96oh_Zcu"
   },
   "outputs": [
    {
     "data": {
      "text/plain": [
       "city\n",
       "Moscow              42741\n",
       "Saint-Petersburg    18512\n",
       "Name: user_id, dtype: int64"
      ]
     },
     "execution_count": 18,
     "metadata": {},
     "output_type": "execute_result"
    }
   ],
   "source": [
    "# Подсчёт прослушиваний в каждом городе\n",
    "df.groupby('city')['user_id'].count() "
   ]
  },
  {
   "cell_type": "markdown",
   "metadata": {
    "deletable": false,
    "editable": false,
    "id": "dzli3w8o_Zcu",
    "tags": [
     "start_task"
    ]
   },
   "source": [
    "В Москве прослушиваний больше, чем в Петербурге. Из этого не следует, что московские пользователи чаще слушают музыку. Просто самих пользователей в Москве больше.\n",
    "\n",
    "**Задание 19**\n",
    "\n",
    "Теперь сгруппируйте данные по дню недели и подсчитайте прослушивания в понедельник, среду и пятницу. Учтите, что в данных есть информация только о прослушиваниях только за эти дни.\n"
   ]
  },
  {
   "cell_type": "code",
   "execution_count": 19,
   "metadata": {
    "deletable": false,
    "id": "uZMKjiJz_Zcu"
   },
   "outputs": [
    {
     "data": {
      "text/plain": [
       "day\n",
       "Friday       21840\n",
       "Monday       21354\n",
       "Wednesday    18059\n",
       "Name: user_id, dtype: int64"
      ]
     },
     "execution_count": 19,
     "metadata": {},
     "output_type": "execute_result"
    }
   ],
   "source": [
    "# Подсчёт прослушиваний в каждый из трёх дней\n",
    "df.groupby('day')['user_id'].count()"
   ]
  },
  {
   "cell_type": "markdown",
   "metadata": {
    "deletable": false,
    "editable": false,
    "id": "cC2tNrlL_Zcu"
   },
   "source": [
    "В среднем пользователи из двух городов менее активны по средам. Но картина может измениться, если рассмотреть каждый город в отдельности."
   ]
  },
  {
   "cell_type": "markdown",
   "metadata": {
    "deletable": false,
    "editable": false,
    "id": "POzs8bGa_Zcu",
    "tags": [
     "start_task"
    ]
   },
   "source": [
    "**Задание 20**\n",
    "\n",
    "\n",
    "Вы видели, как работает группировка по городу и по дням недели. Теперь напишите функцию, которая объединит два эти расчёта.\n",
    "\n",
    "Создайте функцию `number_tracks()`, которая посчитает прослушивания для заданного дня и города. Ей понадобятся два параметра:\n",
    "* день недели,\n",
    "* название города.\n",
    "\n",
    "В функции сохраните в переменную строки исходной таблицы, у которых значение:\n",
    "  * в колонке `day` равно параметру `day`,\n",
    "  * в колонке `city` равно параметру `city`.\n",
    "\n",
    "Для этого примените последовательную фильтрацию с логической индексацией (или сложные логические выражения в одну строку, если вы уже знакомы с ними).\n",
    "\n",
    "Затем посчитайте значения в столбце `user_id` получившейся таблицы. Результат сохраните в новую переменную. Верните эту переменную из функции."
   ]
  },
  {
   "cell_type": "code",
   "execution_count": 20,
   "metadata": {
    "deletable": false,
    "id": "Nz3GdQB1_Zcu"
   },
   "outputs": [],
   "source": [
    "# Функция для подсчёта прослушиваний для конкретного города и дня.\n",
    "# С помощью последовательной фильтрации с логической индексацией она \n",
    "# сначала получит из исходной таблицы строки с нужным днём,\n",
    "# затем из результата отфильтрует строки с нужным городом,\n",
    "# методом count() посчитает количество значений в колонке user_id. \n",
    "# Это количество функция вернёт в качестве результата\n",
    "\n",
    "# Объявляется функция с двумя параметрами: day, city.    \n",
    "def number_tracks(day, city):\n",
    "    track_list = df[(df['day'] == day) & (df['city'] == city)]\n",
    "    track_list_count = track_list['user_id'].count() \n",
    "    return track_list_count\n",
    "\n",
    "# В переменной track_list сохраняются те строки таблицы df, для которых \n",
    "# значение в столбце 'day' равно параметру day и одновременно значение\n",
    "# в столбце 'city' равно параметру city (используйте последовательную фильтрацию\n",
    "# с помощью логической индексации или сложные логические выражения в одну строку, если вы уже знакомы с ними).\n",
    "# В переменной track_list_count сохраняется число значений столбца 'user_id',\n",
    "# рассчитанное методом count() для таблицы track_list.\n",
    "# Функция возвращает число - значение track_list_count.\n",
    "\n"
   ]
  },
  {
   "cell_type": "markdown",
   "metadata": {
    "deletable": false,
    "editable": false,
    "id": "ytf7xFrFJQ2r",
    "tags": [
     "start_task"
    ]
   },
   "source": [
    "**Задание 21**\n",
    "\n",
    "Вызовите `number_tracks()` шесть раз, меняя значение параметров — так, чтобы получить данные для каждого города в каждый из трёх дней."
   ]
  },
  {
   "cell_type": "code",
   "execution_count": 21,
   "metadata": {
    "deletable": false,
    "id": "rJcRATNQ_Zcu"
   },
   "outputs": [
    {
     "data": {
      "text/plain": [
       "15740"
      ]
     },
     "execution_count": 21,
     "metadata": {},
     "output_type": "execute_result"
    }
   ],
   "source": [
    "# количество прослушиваний в Москве по понедельникам\n",
    "number_tracks('Monday', 'Moscow')"
   ]
  },
  {
   "cell_type": "code",
   "execution_count": 22,
   "metadata": {
    "deletable": false,
    "id": "hq_ncZ5T_Zcu"
   },
   "outputs": [
    {
     "data": {
      "text/plain": [
       "5614"
      ]
     },
     "execution_count": 22,
     "metadata": {},
     "output_type": "execute_result"
    }
   ],
   "source": [
    "# количество прослушиваний в Санкт-Петербурге по понедельникам\n",
    "number_tracks('Monday', 'Saint-Petersburg')"
   ]
  },
  {
   "cell_type": "code",
   "execution_count": 23,
   "metadata": {
    "deletable": false,
    "id": "_NTy2VPU_Zcu"
   },
   "outputs": [
    {
     "data": {
      "text/plain": [
       "11056"
      ]
     },
     "execution_count": 23,
     "metadata": {},
     "output_type": "execute_result"
    }
   ],
   "source": [
    "# количество прослушиваний в Москве по средам\n",
    "number_tracks('Wednesday', 'Moscow')"
   ]
  },
  {
   "cell_type": "code",
   "execution_count": 24,
   "metadata": {
    "deletable": false,
    "id": "j2y3TAwo_Zcu"
   },
   "outputs": [
    {
     "data": {
      "text/plain": [
       "7003"
      ]
     },
     "execution_count": 24,
     "metadata": {},
     "output_type": "execute_result"
    }
   ],
   "source": [
    "# количество прослушиваний в Санкт-Петербурге по средам\n",
    "number_tracks('Wednesday', 'Saint-Petersburg')"
   ]
  },
  {
   "cell_type": "code",
   "execution_count": 25,
   "metadata": {
    "deletable": false,
    "id": "vYDw5u_K_Zcu"
   },
   "outputs": [
    {
     "data": {
      "text/plain": [
       "15945"
      ]
     },
     "execution_count": 25,
     "metadata": {},
     "output_type": "execute_result"
    }
   ],
   "source": [
    "# количество прослушиваний в Москве по пятницам\n",
    "number_tracks('Friday', 'Moscow')"
   ]
  },
  {
   "cell_type": "code",
   "execution_count": 26,
   "metadata": {
    "deletable": false,
    "id": "8_yzFtW3_Zcu"
   },
   "outputs": [
    {
     "data": {
      "text/plain": [
       "5895"
      ]
     },
     "execution_count": 26,
     "metadata": {},
     "output_type": "execute_result"
    }
   ],
   "source": [
    "# количество прослушиваний в Санкт-Петербурге по пятницам\n",
    "number_tracks('Friday', 'Saint-Petersburg')"
   ]
  },
  {
   "cell_type": "markdown",
   "metadata": {
    "deletable": false,
    "editable": false,
    "id": "7QXffbO-_Zcu",
    "tags": [
     "start_task"
    ]
   },
   "source": [
    "**Задание 22**\n",
    "\n",
    "Создайте c помощью конструктора `pd.DataFrame` таблицу, где\n",
    "* названия колонок — `['city', 'monday', 'wednesday', 'friday']`;\n",
    "* данные — результаты, которые вы получили с помощью `number_tracks`."
   ]
  },
  {
   "cell_type": "code",
   "execution_count": 27,
   "metadata": {
    "deletable": false,
    "id": "APAcLpOr_Zcu"
   },
   "outputs": [
    {
     "data": {
      "text/html": [
       "<div>\n",
       "<style scoped>\n",
       "    .dataframe tbody tr th:only-of-type {\n",
       "        vertical-align: middle;\n",
       "    }\n",
       "\n",
       "    .dataframe tbody tr th {\n",
       "        vertical-align: top;\n",
       "    }\n",
       "\n",
       "    .dataframe thead th {\n",
       "        text-align: right;\n",
       "    }\n",
       "</style>\n",
       "<table border=\"1\" class=\"dataframe\">\n",
       "  <thead>\n",
       "    <tr style=\"text-align: right;\">\n",
       "      <th></th>\n",
       "      <th>city</th>\n",
       "      <th>monday</th>\n",
       "      <th>wednesday</th>\n",
       "      <th>friday</th>\n",
       "    </tr>\n",
       "  </thead>\n",
       "  <tbody>\n",
       "    <tr>\n",
       "      <th>0</th>\n",
       "      <td>Moscow</td>\n",
       "      <td>15740</td>\n",
       "      <td>11056</td>\n",
       "      <td>15495</td>\n",
       "    </tr>\n",
       "    <tr>\n",
       "      <th>1</th>\n",
       "      <td>Saint-Petersburg</td>\n",
       "      <td>5614</td>\n",
       "      <td>7003</td>\n",
       "      <td>5895</td>\n",
       "    </tr>\n",
       "  </tbody>\n",
       "</table>\n",
       "</div>"
      ],
      "text/plain": [
       "               city  monday  wednesday  friday\n",
       "0            Moscow   15740      11056   15495\n",
       "1  Saint-Petersburg    5614       7003    5895"
      ]
     },
     "execution_count": 27,
     "metadata": {},
     "output_type": "execute_result"
    }
   ],
   "source": [
    "# Таблица с результатами\n",
    "data = [['Moscow', 15740, 11056, 15495],\n",
    "       ['Saint-Petersburg', 5614, 7003, 5895]]\n",
    "columns = ['city','monday','wednesday','friday']\n",
    "info = pd.DataFrame(data = data, columns = columns) \n",
    "info"
   ]
  },
  {
   "cell_type": "markdown",
   "metadata": {
    "deletable": false,
    "editable": false,
    "id": "-EgPIHYu_Zcu"
   },
   "source": [
    "**Выводы**\n",
    "\n",
    "Данные показывают разницу поведения пользователей:\n",
    "\n",
    "- В Москве пик прослушиваний приходится на понедельник и пятницу, а в среду заметен спад.\n",
    "- В Петербурге, наоборот, больше слушают музыку по средам. Активность в понедельник и пятницу здесь почти в равной мере уступает среде.\n",
    "\n",
    "Значит, данные говорят в пользу первой гипотезы."
   ]
  },
  {
   "cell_type": "markdown",
   "metadata": {
    "deletable": false,
    "editable": false,
    "id": "atZAxtq4_Zcu"
   },
   "source": [
    "### Музыка в начале и в конце недели"
   ]
  },
  {
   "cell_type": "markdown",
   "metadata": {
    "deletable": false,
    "editable": false,
    "id": "eXrQqXFH_Zcu"
   },
   "source": [
    "Согласно второй гипотезе, утром в понедельник в Москве преобладают одни жанры, а в Петербурге — другие. Так же и вечером пятницы преобладают разные жанры — в зависимости от города."
   ]
  },
  {
   "cell_type": "markdown",
   "metadata": {
    "deletable": false,
    "editable": false,
    "id": "S8UcW6Hw_Zcu",
    "tags": [
     "start_task"
    ]
   },
   "source": [
    "**Задание 23**\n",
    "\n",
    "Сохраните таблицы с данными в две переменные:\n",
    "* по Москве — в `moscow_general`;\n",
    "* по Санкт-Петербургу — в `spb_general`."
   ]
  },
  {
   "cell_type": "code",
   "execution_count": 28,
   "metadata": {
    "deletable": false,
    "id": "qeaFfM_P_Zcu"
   },
   "outputs": [],
   "source": [
    "# получение таблицы moscow_general из тех строк таблицы df, \n",
    "# для которых значение в столбце 'city' равно 'Moscow'\n",
    "moscow_general = df[df['city'] == 'Moscow'] "
   ]
  },
  {
   "cell_type": "code",
   "execution_count": 29,
   "metadata": {
    "deletable": false,
    "id": "ORaVRKto_Zcu"
   },
   "outputs": [],
   "source": [
    "# получение таблицы spb_general из тех строк таблицы df,\n",
    "# для которых значение в столбце 'city' равно 'Saint-Petersburg'\n",
    "spb_general = df[df['city'] == 'Saint-Petersburg']\n"
   ]
  },
  {
   "cell_type": "markdown",
   "metadata": {
    "deletable": false,
    "id": "MEJV-CX2_Zcu",
    "tags": [
     "start_task"
    ]
   },
   "source": [
    "**Задание 24**\n",
    "\n",
    "Создайте функцию `genre_weekday()` с четырьмя параметрами:\n",
    "* таблица (датафрейм) с данными,\n",
    "* день недели,\n",
    "* начальная временная метка в формате 'hh:mm', \n",
    "* последняя временная метка в формате 'hh:mm'.\n",
    "\n",
    "Функция должна вернуть информацию о топ-10 жанров тех треков, которые прослушивали в указанный день, в промежутке между двумя отметками времени."
   ]
  },
  {
   "cell_type": "code",
   "execution_count": 30,
   "metadata": {
    "deletable": false,
    "id": "laJT9BYl_Zcu"
   },
   "outputs": [],
   "source": [
    "# Объявление функции genre_weekday() с параметрами table, day, time1, time2,\n",
    "# которая возвращает информацию о самых популярных жанрах в указанный день в\n",
    "# заданное время:\n",
    "# 1) в переменную genre_df сохраняются те строки переданного датафрейма table, для\n",
    "#    которых одновременно:\n",
    "#    - значение в столбце day равно значению аргумента day\n",
    "#    - значение в столбце time больше значения аргумента time1\n",
    "#    - значение в столбце time меньше значения аргумента time2\n",
    "#    Используйте последовательную фильтрацию с помощью логической индексации.\n",
    "# 2) сгруппировать датафрейм genre_df по столбцу genre, взять один из его\n",
    "#    столбцов и посчитать методом count() количество записей для каждого из\n",
    "#    присутствующих жанров, получившийся Series записать в переменную\n",
    "#    genre_df_grouped\n",
    "# 3) отсортировать genre_df_grouped по убыванию встречаемости и сохранить\n",
    "#    в переменную genre_df_sorted\n",
    "# 4) вернуть Series из 10 первых значений genre_df_sorted, это будут топ-10\n",
    "#    популярных жанров (в указанный день, в заданное время)\n",
    "\n",
    "def genre_weekday(df, day, time1, time2):\n",
    "    # последовательная фильтрация\n",
    "    # оставляем в genre_df только те строки df, у которых день равен day\n",
    "    # ваш код здесь\n",
    "    genre_df = df[df['day'] == day]\n",
    "    # оставляем в genre_df только те строки genre_df, у которых время меньше time2\n",
    "    # ваш код здесь\n",
    "    genre_df = genre_df[genre_df['time'] < time2]\n",
    "    # оставляем в genre_df только те строки genre_df, у которых время больше time1\n",
    "    # ваш код здесь\n",
    "    genre_df = genre_df[genre_df['time'] > time1]\n",
    "    # сгруппируем отфильтрованный датафрейм по столбцу с названиями жанров, возьмём столбец genre и посчитаем кол-во строк для каждого жанра методом count()\n",
    "    # ваш код здесь\n",
    "    genre_df_grouped = genre_df.groupby('genre')['genre'].count()\n",
    "    # отсортируем результат по убыванию (чтобы в начале Series оказались самые популярные жанры)\n",
    "    # ваш код здесь\n",
    "    genre_df_sorted = genre_df_grouped.sort_values(ascending = False)\n",
    "    # вернём Series с 10 самыми популярными жанрами в указанный отрезок времени заданного дня\n",
    "    return genre_df_sorted[:10]"
   ]
  },
  {
   "cell_type": "markdown",
   "metadata": {
    "deletable": false,
    "editable": false,
    "id": "la2s2_PF_Zcu",
    "tags": [
     "start_task"
    ]
   },
   "source": [
    "**Задание 25**\n",
    "\n",
    "\n",
    "Cравните результаты функции `genre_weekday()` для Москвы и Санкт-Петербурга в понедельник утром (с 7:00 до 11:00) и в пятницу вечером (с 17:00 до 23:00):"
   ]
  },
  {
   "cell_type": "code",
   "execution_count": 31,
   "metadata": {
    "deletable": false,
    "id": "yz7itPUQ_Zcu"
   },
   "outputs": [
    {
     "data": {
      "text/plain": [
       "genre\n",
       "pop            781\n",
       "dance          549\n",
       "electronic     480\n",
       "rock           474\n",
       "hiphop         286\n",
       "ruspop         186\n",
       "world          181\n",
       "rusrap         175\n",
       "alternative    164\n",
       "unknown        161\n",
       "Name: genre, dtype: int64"
      ]
     },
     "execution_count": 31,
     "metadata": {},
     "output_type": "execute_result"
    }
   ],
   "source": [
    "# вызов функции для утра понедельника в Москве (вместо df — таблица moscow_general)\n",
    "# объекты, хранящие время, являются строками и сравниваются как строки\n",
    "# пример вызова: genre_weekday(moscow_general, 'Monday', '07:00', '11:00')\n",
    "genre_weekday(moscow_general, 'Monday', '07:00', '11:00')"
   ]
  },
  {
   "cell_type": "code",
   "execution_count": 32,
   "metadata": {
    "deletable": false,
    "id": "kwUcHPdy_Zcu"
   },
   "outputs": [
    {
     "data": {
      "text/plain": [
       "genre\n",
       "pop            218\n",
       "dance          182\n",
       "rock           162\n",
       "electronic     147\n",
       "hiphop          80\n",
       "ruspop          64\n",
       "alternative     58\n",
       "rusrap          55\n",
       "jazz            44\n",
       "classical       40\n",
       "Name: genre, dtype: int64"
      ]
     },
     "execution_count": 32,
     "metadata": {},
     "output_type": "execute_result"
    }
   ],
   "source": [
    "# вызов функции для утра понедельника в Петербурге (вместо df — таблица spb_general)\n",
    "genre_weekday(spb_general, 'Monday', '07:00', '11:00')"
   ]
  },
  {
   "cell_type": "code",
   "execution_count": 33,
   "metadata": {
    "deletable": false,
    "id": "EzXVRE1o_Zcu"
   },
   "outputs": [
    {
     "data": {
      "text/plain": [
       "genre\n",
       "pop            713\n",
       "rock           517\n",
       "dance          495\n",
       "electronic     482\n",
       "hiphop         273\n",
       "world          208\n",
       "ruspop         170\n",
       "alternative    163\n",
       "classical      163\n",
       "rusrap         142\n",
       "Name: genre, dtype: int64"
      ]
     },
     "execution_count": 33,
     "metadata": {},
     "output_type": "execute_result"
    }
   ],
   "source": [
    "# вызов функции для вечера пятницы в Москве\n",
    "genre_weekday(moscow_general, 'Friday', '17:00', '23:00')"
   ]
  },
  {
   "cell_type": "code",
   "execution_count": 34,
   "metadata": {
    "deletable": false,
    "id": "JZaEKu5v_Zcu"
   },
   "outputs": [
    {
     "data": {
      "text/plain": [
       "genre\n",
       "pop            256\n",
       "electronic     216\n",
       "rock           216\n",
       "dance          210\n",
       "hiphop          97\n",
       "alternative     63\n",
       "jazz            61\n",
       "classical       60\n",
       "rusrap          59\n",
       "world           54\n",
       "Name: genre, dtype: int64"
      ]
     },
     "execution_count": 34,
     "metadata": {},
     "output_type": "execute_result"
    }
   ],
   "source": [
    "# вызов функции для вечера пятницы в Петербурге\n",
    "genre_weekday(spb_general, 'Friday', '17:00', '23:00')"
   ]
  },
  {
   "cell_type": "markdown",
   "metadata": {
    "deletable": false,
    "editable": false,
    "id": "wrCe4MNX_Zcu"
   },
   "source": [
    "**Выводы**\n",
    "\n",
    "Если сравнить топ-10 жанров в понедельник утром, можно сделать такие выводы:\n",
    "\n",
    "1. В Москве и Петербурге слушают похожую музыку. Единственное отличие — в московский рейтинг вошёл жанр “world”, а в петербургский — джаз и классика.\n",
    "\n",
    "2. В Москве пропущенных значений оказалось так много, что значение `'unknown'` заняло десятое место среди самых популярных жанров. Значит, пропущенные значения занимают существенную долю в данных и угрожают достоверности исследования.\n",
    "\n",
    "Вечер пятницы не меняет эту картину. Некоторые жанры поднимаются немного выше, другие спускаются, но в целом топ-10 остаётся тем же самым.\n",
    "\n",
    "Таким образом, вторая гипотеза подтвердилась лишь частично:\n",
    "* Пользователи слушают похожую музыку в начале недели и в конце.\n",
    "* Разница между Москвой и Петербургом не слишком выражена. В Москве чаще слушают русскую популярную музыку, в Петербурге — джаз.\n",
    "\n",
    "Однако пропуски в данных ставят под сомнение этот результат. В Москве их так много, что рейтинг топ-10 мог бы выглядеть иначе, если бы не утерянные  данные о жанрах."
   ]
  },
  {
   "cell_type": "markdown",
   "metadata": {
    "deletable": false,
    "editable": false,
    "id": "JolODAqr_Zcu"
   },
   "source": [
    "### Жанровые предпочтения в Москве и Петербурге\n",
    "\n",
    "Гипотеза: Петербург — столица рэпа, музыку этого жанра там слушают чаще, чем в Москве.  А Москва — город контрастов, в котором, тем не менее, преобладает поп-музыка."
   ]
  },
  {
   "cell_type": "markdown",
   "metadata": {
    "deletable": false,
    "editable": false,
    "id": "DlegSvaT_Zcu",
    "tags": [
     "start_task"
    ]
   },
   "source": [
    "**Задание 26**\n",
    "\n",
    "Сгруппируйте таблицу `moscow_general` по жанру и посчитайте прослушивания треков каждого жанра методом `count()`. Затем отсортируйте результат в порядке убывания и сохраните его в таблице `moscow_genres`."
   ]
  },
  {
   "cell_type": "code",
   "execution_count": 35,
   "metadata": {
    "deletable": false,
    "id": "r19lIPke_Zcu"
   },
   "outputs": [],
   "source": [
    "# одной строкой: группировка таблицы moscow_general по столбцу 'genre', \n",
    "# подсчёт числа значений 'genre' в этой группировке методом count(), \n",
    "# сортировка получившегося Series в порядке убывания и сохранение в moscow_genres\n",
    "moscow_genres = moscow_general.groupby('genre')['genre'].count().sort_values(ascending=False)\n"
   ]
  },
  {
   "cell_type": "markdown",
   "metadata": {
    "deletable": false,
    "editable": false,
    "id": "6kMuomxTiIr8",
    "tags": [
     "start_task"
    ]
   },
   "source": [
    "**Задание 27**\n",
    "\n",
    "Выведите на экран первые десять строк `moscow_genres`:"
   ]
  },
  {
   "cell_type": "code",
   "execution_count": 36,
   "metadata": {
    "deletable": false,
    "id": "WhCSooF8_Zcv"
   },
   "outputs": [
    {
     "data": {
      "text/plain": [
       "genre\n",
       "pop            5892\n",
       "dance          4435\n",
       "rock           3965\n",
       "electronic     3786\n",
       "hiphop         2096\n",
       "classical      1616\n",
       "world          1432\n",
       "alternative    1379\n",
       "ruspop         1372\n",
       "rusrap         1161\n",
       "Name: genre, dtype: int64"
      ]
     },
     "execution_count": 36,
     "metadata": {},
     "output_type": "execute_result"
    }
   ],
   "source": [
    "# просмотр первых 10 строк moscow_genres\n",
    "moscow_genres.head(10) "
   ]
  },
  {
   "cell_type": "markdown",
   "metadata": {
    "deletable": false,
    "editable": false,
    "id": "cnPG2vnN_Zcv",
    "tags": [
     "start_task"
    ]
   },
   "source": [
    "**Задание 28**\n",
    "\n",
    "\n",
    "Теперь повторите то же и для Петербурга.\n",
    "\n",
    "Сгруппируйте таблицу `spb_general` по жанру. Посчитайте прослушивания треков каждого жанра. Результат отсортируйте в порядке убывания и сохраните в таблице `spb_genres`:\n"
   ]
  },
  {
   "cell_type": "code",
   "execution_count": 37,
   "metadata": {
    "deletable": false,
    "id": "gluLIpE7_Zcv"
   },
   "outputs": [],
   "source": [
    "# одной строкой: группировка таблицы spb_general по столбцу 'genre', \n",
    "# подсчёт числа значений 'genre' в этой группировке методом count(), \n",
    "# сортировка получившегося Series в порядке убывания и сохранение в spb_genres\n",
    "spb_genres = spb_general.groupby('genre')['genre'].count().sort_values(ascending=False)"
   ]
  },
  {
   "cell_type": "markdown",
   "metadata": {
    "deletable": false,
    "editable": false,
    "id": "5Doha_ODgyQ8",
    "tags": [
     "start_task"
    ]
   },
   "source": [
    "**Задание 29**\n",
    "\n",
    "Выведите на экран первые десять строк `spb_genres`:"
   ]
  },
  {
   "cell_type": "code",
   "execution_count": 38,
   "metadata": {
    "deletable": false,
    "id": "uaGJHjVU_Zcv"
   },
   "outputs": [
    {
     "data": {
      "text/plain": [
       "genre\n",
       "pop            2431\n",
       "dance          1932\n",
       "rock           1879\n",
       "electronic     1736\n",
       "hiphop          960\n",
       "alternative     649\n",
       "classical       646\n",
       "rusrap          564\n",
       "ruspop          538\n",
       "world           515\n",
       "Name: genre, dtype: int64"
      ]
     },
     "execution_count": 38,
     "metadata": {},
     "output_type": "execute_result"
    }
   ],
   "source": [
    "# просмотр первых 10 строк spb_genres\n",
    "spb_genres.head(10) "
   ]
  },
  {
   "cell_type": "markdown",
   "metadata": {
    "deletable": false,
    "editable": false,
    "id": "RY51YJYu_Zcv"
   },
   "source": [
    "**Выводы**"
   ]
  },
  {
   "cell_type": "markdown",
   "metadata": {
    "deletable": false,
    "editable": false,
    "id": "nVhnJEm__Zcv"
   },
   "source": [
    "Гипотеза частично подтвердилась:\n",
    "* Поп-музыка — самый популярный жанр в Москве, как и предполагала гипотеза. Более того, в топ-10 жанров встречается близкий жанр — русская популярная музыка.\n",
    "* Вопреки ожиданиям, рэп одинаково популярен в Москве и Петербурге. \n"
   ]
  },
  {
   "cell_type": "markdown",
   "metadata": {
    "deletable": false,
    "editable": false,
    "id": "ykKQ0N65_Zcv"
   },
   "source": [
    "## Итоги исследования"
   ]
  },
  {
   "cell_type": "markdown",
   "metadata": {
    "deletable": false,
    "editable": false,
    "id": "tjUwbHb3_Zcv"
   },
   "source": [
    "Вы проверили три гипотезы и установили:\n",
    "\n",
    "1. День недели по-разному влияет на активность пользователей в Москве и Петербурге. \n",
    "\n",
    "Первая гипотеза полностью подтвердилась.\n",
    "\n",
    "2. Музыкальные предпочтения не сильно меняются в течение недели — будь то Москва или Петербург. Небольшие различия заметны в начале недели, по понедельникам:\n",
    "* в Москве слушают музыку жанра “world”,\n",
    "* в Петербурге — джаз и классику.\n",
    "\n",
    "Таким образом, вторая гипотеза подтвердилась лишь отчасти. Этот результат мог оказаться иным, если бы не пропуски в данных.\n",
    "\n",
    "3. Во вкусах пользователей Москвы и Петербурга больше общего чем различий. Вопреки ожиданиям, предпочтения жанров в Петербурге напоминают московские.\n",
    "\n",
    "Третья гипотеза не подтвердилась. Если различия в предпочтениях и существуют, на основной массе пользователей они незаметны.\n",
    "\n",
    "**На практике исследования содержат проверки статистических гипотез.**\n",
    "Из данных одного сервиса не всегда можно сделать вывод о всех жителях города.\n",
    "Проверки статистических гипотез покажут, насколько они достоверны, исходя из имеющихся данных. \n",
    "С методами проверок гипотез вы ещё познакомитесь в следующих темах."
   ]
  }
 ],
 "metadata": {
  "ExecuteTimeLog": [
   {
    "duration": 447,
    "start_time": "2023-01-29T20:33:35.525Z"
   },
   {
    "duration": 458,
    "start_time": "2023-01-29T20:33:35.974Z"
   },
   {
    "duration": 9,
    "start_time": "2023-01-29T20:33:36.434Z"
   },
   {
    "duration": 44,
    "start_time": "2023-01-29T20:33:36.445Z"
   },
   {
    "duration": 15,
    "start_time": "2023-01-29T20:33:36.492Z"
   },
   {
    "duration": 23,
    "start_time": "2023-01-29T20:33:36.509Z"
   },
   {
    "duration": 44,
    "start_time": "2023-01-29T20:33:36.534Z"
   },
   {
    "duration": 24,
    "start_time": "2023-01-29T20:33:36.580Z"
   },
   {
    "duration": 68,
    "start_time": "2023-01-29T20:33:36.607Z"
   },
   {
    "duration": 58,
    "start_time": "2023-01-29T20:33:36.677Z"
   },
   {
    "duration": 56,
    "start_time": "2023-01-29T20:33:36.738Z"
   },
   {
    "duration": 96,
    "start_time": "2023-01-29T20:33:36.796Z"
   },
   {
    "duration": 93,
    "start_time": "2023-01-29T20:33:36.894Z"
   },
   {
    "duration": 107,
    "start_time": "2023-01-29T20:33:36.990Z"
   },
   {
    "duration": 51,
    "start_time": "2023-01-29T20:33:37.099Z"
   },
   {
    "duration": 13,
    "start_time": "2023-01-29T20:33:37.152Z"
   },
   {
    "duration": 59,
    "start_time": "2023-01-29T20:33:37.166Z"
   },
   {
    "duration": 44,
    "start_time": "2023-01-29T20:33:37.227Z"
   },
   {
    "duration": 3,
    "start_time": "2023-01-29T20:33:37.273Z"
   },
   {
    "duration": 29,
    "start_time": "2023-01-29T20:33:37.278Z"
   },
   {
    "duration": 59,
    "start_time": "2023-01-29T20:33:37.309Z"
   },
   {
    "duration": 54,
    "start_time": "2023-01-29T20:33:37.370Z"
   },
   {
    "duration": 57,
    "start_time": "2023-01-29T20:33:37.425Z"
   },
   {
    "duration": 48,
    "start_time": "2023-01-29T20:33:37.484Z"
   },
   {
    "duration": 62,
    "start_time": "2023-01-29T20:33:37.534Z"
   },
   {
    "duration": 46,
    "start_time": "2023-01-29T20:33:37.598Z"
   },
   {
    "duration": 25,
    "start_time": "2023-01-29T20:33:37.646Z"
   },
   {
    "duration": 41,
    "start_time": "2023-01-29T20:33:37.673Z"
   },
   {
    "duration": 38,
    "start_time": "2023-01-29T20:33:37.716Z"
   },
   {
    "duration": 71,
    "start_time": "2023-01-29T20:33:37.757Z"
   },
   {
    "duration": 0,
    "start_time": "2023-01-29T20:33:37.830Z"
   },
   {
    "duration": 0,
    "start_time": "2023-01-29T20:33:37.831Z"
   },
   {
    "duration": 0,
    "start_time": "2023-01-29T20:33:37.833Z"
   },
   {
    "duration": 0,
    "start_time": "2023-01-29T20:33:37.833Z"
   },
   {
    "duration": 0,
    "start_time": "2023-01-29T20:33:37.835Z"
   },
   {
    "duration": 0,
    "start_time": "2023-01-29T20:33:37.837Z"
   },
   {
    "duration": 0,
    "start_time": "2023-01-29T20:33:37.838Z"
   },
   {
    "duration": 0,
    "start_time": "2023-01-29T20:33:37.840Z"
   },
   {
    "duration": 74,
    "start_time": "2023-01-29T20:35:43.510Z"
   },
   {
    "duration": 4,
    "start_time": "2023-01-29T20:37:40.067Z"
   },
   {
    "duration": 202,
    "start_time": "2023-01-29T20:37:40.074Z"
   },
   {
    "duration": 7,
    "start_time": "2023-01-29T20:37:40.277Z"
   },
   {
    "duration": 61,
    "start_time": "2023-01-29T20:37:40.285Z"
   },
   {
    "duration": 22,
    "start_time": "2023-01-29T20:37:40.348Z"
   },
   {
    "duration": 15,
    "start_time": "2023-01-29T20:37:40.372Z"
   },
   {
    "duration": 20,
    "start_time": "2023-01-29T20:37:40.388Z"
   },
   {
    "duration": 10,
    "start_time": "2023-01-29T20:37:40.410Z"
   },
   {
    "duration": 35,
    "start_time": "2023-01-29T20:37:40.422Z"
   },
   {
    "duration": 32,
    "start_time": "2023-01-29T20:37:40.458Z"
   },
   {
    "duration": 35,
    "start_time": "2023-01-29T20:37:40.491Z"
   },
   {
    "duration": 80,
    "start_time": "2023-01-29T20:37:40.528Z"
   },
   {
    "duration": 70,
    "start_time": "2023-01-29T20:37:40.610Z"
   },
   {
    "duration": 70,
    "start_time": "2023-01-29T20:37:40.682Z"
   },
   {
    "duration": 42,
    "start_time": "2023-01-29T20:37:40.754Z"
   },
   {
    "duration": 12,
    "start_time": "2023-01-29T20:37:40.798Z"
   },
   {
    "duration": 64,
    "start_time": "2023-01-29T20:37:40.811Z"
   },
   {
    "duration": 35,
    "start_time": "2023-01-29T20:37:40.876Z"
   },
   {
    "duration": 2,
    "start_time": "2023-01-29T20:37:40.913Z"
   },
   {
    "duration": 30,
    "start_time": "2023-01-29T20:37:40.917Z"
   },
   {
    "duration": 13,
    "start_time": "2023-01-29T20:37:40.949Z"
   },
   {
    "duration": 11,
    "start_time": "2023-01-29T20:37:40.964Z"
   },
   {
    "duration": 18,
    "start_time": "2023-01-29T20:37:40.977Z"
   },
   {
    "duration": 21,
    "start_time": "2023-01-29T20:37:40.999Z"
   },
   {
    "duration": 14,
    "start_time": "2023-01-29T20:37:41.022Z"
   },
   {
    "duration": 19,
    "start_time": "2023-01-29T20:37:41.038Z"
   },
   {
    "duration": 10,
    "start_time": "2023-01-29T20:37:41.059Z"
   },
   {
    "duration": 13,
    "start_time": "2023-01-29T20:37:41.071Z"
   },
   {
    "duration": 14,
    "start_time": "2023-01-29T20:37:41.086Z"
   },
   {
    "duration": 74,
    "start_time": "2023-01-29T20:37:41.102Z"
   },
   {
    "duration": 0,
    "start_time": "2023-01-29T20:37:41.178Z"
   },
   {
    "duration": 0,
    "start_time": "2023-01-29T20:37:41.179Z"
   },
   {
    "duration": 0,
    "start_time": "2023-01-29T20:37:41.180Z"
   },
   {
    "duration": 0,
    "start_time": "2023-01-29T20:37:41.182Z"
   },
   {
    "duration": 0,
    "start_time": "2023-01-29T20:37:41.183Z"
   },
   {
    "duration": 0,
    "start_time": "2023-01-29T20:37:41.184Z"
   },
   {
    "duration": 0,
    "start_time": "2023-01-29T20:37:41.185Z"
   },
   {
    "duration": 0,
    "start_time": "2023-01-29T20:37:41.186Z"
   },
   {
    "duration": 3,
    "start_time": "2023-01-29T20:37:51.001Z"
   },
   {
    "duration": 192,
    "start_time": "2023-01-29T20:37:51.006Z"
   },
   {
    "duration": 7,
    "start_time": "2023-01-29T20:37:51.200Z"
   },
   {
    "duration": 42,
    "start_time": "2023-01-29T20:37:51.209Z"
   },
   {
    "duration": 8,
    "start_time": "2023-01-29T20:37:51.253Z"
   },
   {
    "duration": 15,
    "start_time": "2023-01-29T20:37:51.262Z"
   },
   {
    "duration": 16,
    "start_time": "2023-01-29T20:37:51.279Z"
   },
   {
    "duration": 4,
    "start_time": "2023-01-29T20:37:51.297Z"
   },
   {
    "duration": 35,
    "start_time": "2023-01-29T20:37:51.303Z"
   },
   {
    "duration": 17,
    "start_time": "2023-01-29T20:37:51.340Z"
   },
   {
    "duration": 31,
    "start_time": "2023-01-29T20:37:51.360Z"
   },
   {
    "duration": 91,
    "start_time": "2023-01-29T20:37:51.394Z"
   },
   {
    "duration": 79,
    "start_time": "2023-01-29T20:37:51.487Z"
   },
   {
    "duration": 59,
    "start_time": "2023-01-29T20:37:51.568Z"
   },
   {
    "duration": 52,
    "start_time": "2023-01-29T20:37:51.629Z"
   },
   {
    "duration": 10,
    "start_time": "2023-01-29T20:37:51.682Z"
   },
   {
    "duration": 64,
    "start_time": "2023-01-29T20:37:51.694Z"
   },
   {
    "duration": 35,
    "start_time": "2023-01-29T20:37:51.759Z"
   },
   {
    "duration": 2,
    "start_time": "2023-01-29T20:37:51.796Z"
   },
   {
    "duration": 19,
    "start_time": "2023-01-29T20:37:51.800Z"
   },
   {
    "duration": 13,
    "start_time": "2023-01-29T20:37:51.821Z"
   },
   {
    "duration": 13,
    "start_time": "2023-01-29T20:37:51.836Z"
   },
   {
    "duration": 16,
    "start_time": "2023-01-29T20:37:51.851Z"
   },
   {
    "duration": 14,
    "start_time": "2023-01-29T20:37:51.868Z"
   },
   {
    "duration": 14,
    "start_time": "2023-01-29T20:37:51.883Z"
   },
   {
    "duration": 14,
    "start_time": "2023-01-29T20:37:51.899Z"
   },
   {
    "duration": 21,
    "start_time": "2023-01-29T20:37:51.915Z"
   },
   {
    "duration": 18,
    "start_time": "2023-01-29T20:37:51.938Z"
   },
   {
    "duration": 11,
    "start_time": "2023-01-29T20:37:51.960Z"
   },
   {
    "duration": 73,
    "start_time": "2023-01-29T20:37:51.973Z"
   },
   {
    "duration": 0,
    "start_time": "2023-01-29T20:37:52.048Z"
   },
   {
    "duration": 0,
    "start_time": "2023-01-29T20:37:52.049Z"
   },
   {
    "duration": 0,
    "start_time": "2023-01-29T20:37:52.051Z"
   },
   {
    "duration": 0,
    "start_time": "2023-01-29T20:37:52.052Z"
   },
   {
    "duration": 0,
    "start_time": "2023-01-29T20:37:52.053Z"
   },
   {
    "duration": 0,
    "start_time": "2023-01-29T20:37:52.055Z"
   },
   {
    "duration": 0,
    "start_time": "2023-01-29T20:37:52.056Z"
   },
   {
    "duration": 0,
    "start_time": "2023-01-29T20:37:52.057Z"
   },
   {
    "duration": 67,
    "start_time": "2023-01-29T20:40:28.055Z"
   },
   {
    "duration": 3,
    "start_time": "2023-01-29T20:44:12.398Z"
   },
   {
    "duration": 258,
    "start_time": "2023-01-29T20:44:12.403Z"
   },
   {
    "duration": 8,
    "start_time": "2023-01-29T20:44:12.663Z"
   },
   {
    "duration": 57,
    "start_time": "2023-01-29T20:44:12.674Z"
   },
   {
    "duration": 3,
    "start_time": "2023-01-29T20:44:12.732Z"
   },
   {
    "duration": 34,
    "start_time": "2023-01-29T20:44:12.738Z"
   },
   {
    "duration": 21,
    "start_time": "2023-01-29T20:44:12.774Z"
   },
   {
    "duration": 8,
    "start_time": "2023-01-29T20:44:12.798Z"
   },
   {
    "duration": 41,
    "start_time": "2023-01-29T20:44:12.808Z"
   },
   {
    "duration": 28,
    "start_time": "2023-01-29T20:44:12.854Z"
   },
   {
    "duration": 30,
    "start_time": "2023-01-29T20:44:12.885Z"
   },
   {
    "duration": 83,
    "start_time": "2023-01-29T20:44:12.916Z"
   },
   {
    "duration": 87,
    "start_time": "2023-01-29T20:44:13.000Z"
   },
   {
    "duration": 74,
    "start_time": "2023-01-29T20:44:13.088Z"
   },
   {
    "duration": 41,
    "start_time": "2023-01-29T20:44:13.164Z"
   },
   {
    "duration": 30,
    "start_time": "2023-01-29T20:44:13.208Z"
   },
   {
    "duration": 49,
    "start_time": "2023-01-29T20:44:13.240Z"
   },
   {
    "duration": 2,
    "start_time": "2023-01-29T20:44:13.291Z"
   },
   {
    "duration": 11,
    "start_time": "2023-01-29T20:44:13.295Z"
   },
   {
    "duration": 8,
    "start_time": "2023-01-29T20:44:13.308Z"
   },
   {
    "duration": 10,
    "start_time": "2023-01-29T20:44:13.317Z"
   },
   {
    "duration": 3,
    "start_time": "2023-01-29T20:44:13.337Z"
   },
   {
    "duration": 23,
    "start_time": "2023-01-29T20:44:13.342Z"
   },
   {
    "duration": 10,
    "start_time": "2023-01-29T20:44:13.367Z"
   },
   {
    "duration": 9,
    "start_time": "2023-01-29T20:44:13.379Z"
   },
   {
    "duration": 7,
    "start_time": "2023-01-29T20:44:13.392Z"
   },
   {
    "duration": 8,
    "start_time": "2023-01-29T20:44:13.401Z"
   },
   {
    "duration": 11,
    "start_time": "2023-01-29T20:44:13.413Z"
   },
   {
    "duration": 99,
    "start_time": "2023-01-29T20:44:13.426Z"
   },
   {
    "duration": 0,
    "start_time": "2023-01-29T20:44:13.528Z"
   },
   {
    "duration": 0,
    "start_time": "2023-01-29T20:44:13.530Z"
   },
   {
    "duration": 0,
    "start_time": "2023-01-29T20:44:13.531Z"
   },
   {
    "duration": 0,
    "start_time": "2023-01-29T20:44:13.533Z"
   },
   {
    "duration": 0,
    "start_time": "2023-01-29T20:44:13.535Z"
   },
   {
    "duration": 0,
    "start_time": "2023-01-29T20:44:13.537Z"
   },
   {
    "duration": 0,
    "start_time": "2023-01-29T20:44:13.538Z"
   },
   {
    "duration": 0,
    "start_time": "2023-01-29T20:44:13.540Z"
   },
   {
    "duration": 10,
    "start_time": "2023-01-29T20:48:18.285Z"
   },
   {
    "duration": 5,
    "start_time": "2023-01-29T20:51:08.198Z"
   },
   {
    "duration": 8,
    "start_time": "2023-01-29T20:51:53.953Z"
   },
   {
    "duration": 5,
    "start_time": "2023-01-29T20:51:56.911Z"
   },
   {
    "duration": 26,
    "start_time": "2023-01-29T20:52:00.020Z"
   },
   {
    "duration": 18,
    "start_time": "2023-01-29T20:52:01.443Z"
   },
   {
    "duration": 41,
    "start_time": "2023-01-29T20:52:02.379Z"
   },
   {
    "duration": 57,
    "start_time": "2023-01-29T20:52:03.227Z"
   },
   {
    "duration": 67,
    "start_time": "2023-01-29T20:52:04.151Z"
   },
   {
    "duration": 63,
    "start_time": "2023-01-29T20:52:05.064Z"
   },
   {
    "duration": 43,
    "start_time": "2023-01-29T20:52:06.434Z"
   },
   {
    "duration": 10,
    "start_time": "2023-01-29T20:52:09.245Z"
   },
   {
    "duration": 40,
    "start_time": "2023-01-29T20:52:11.448Z"
   },
   {
    "duration": 41,
    "start_time": "2023-01-29T20:53:02.287Z"
   },
   {
    "duration": 16,
    "start_time": "2023-01-29T20:58:19.376Z"
   },
   {
    "duration": 16,
    "start_time": "2023-01-29T21:00:23.968Z"
   },
   {
    "duration": 79,
    "start_time": "2023-01-30T13:28:03.027Z"
   },
   {
    "duration": 74,
    "start_time": "2023-01-30T13:28:43.671Z"
   },
   {
    "duration": 4,
    "start_time": "2023-01-30T13:29:35.057Z"
   },
   {
    "duration": 3,
    "start_time": "2023-01-30T13:30:05.983Z"
   },
   {
    "duration": 3,
    "start_time": "2023-01-30T13:30:11.629Z"
   },
   {
    "duration": 2,
    "start_time": "2023-01-30T13:30:14.505Z"
   },
   {
    "duration": 6,
    "start_time": "2023-01-30T13:30:15.501Z"
   },
   {
    "duration": 2,
    "start_time": "2023-01-30T13:30:15.910Z"
   },
   {
    "duration": 43,
    "start_time": "2023-01-30T13:33:51.999Z"
   },
   {
    "duration": 8,
    "start_time": "2023-01-30T13:35:52.159Z"
   },
   {
    "duration": 6,
    "start_time": "2023-01-30T13:41:15.100Z"
   },
   {
    "duration": 439,
    "start_time": "2023-01-30T13:41:49.947Z"
   },
   {
    "duration": 537,
    "start_time": "2023-01-30T13:41:50.388Z"
   },
   {
    "duration": 8,
    "start_time": "2023-01-30T13:41:50.927Z"
   },
   {
    "duration": 40,
    "start_time": "2023-01-30T13:41:50.937Z"
   },
   {
    "duration": 7,
    "start_time": "2023-01-30T13:41:50.980Z"
   },
   {
    "duration": 6,
    "start_time": "2023-01-30T13:41:50.988Z"
   },
   {
    "duration": 41,
    "start_time": "2023-01-30T13:41:50.995Z"
   },
   {
    "duration": 7,
    "start_time": "2023-01-30T13:41:51.038Z"
   },
   {
    "duration": 48,
    "start_time": "2023-01-30T13:41:51.046Z"
   },
   {
    "duration": 16,
    "start_time": "2023-01-30T13:41:51.098Z"
   },
   {
    "duration": 28,
    "start_time": "2023-01-30T13:41:51.116Z"
   },
   {
    "duration": 91,
    "start_time": "2023-01-30T13:41:51.145Z"
   },
   {
    "duration": 88,
    "start_time": "2023-01-30T13:41:51.237Z"
   },
   {
    "duration": 81,
    "start_time": "2023-01-30T13:41:51.327Z"
   },
   {
    "duration": 43,
    "start_time": "2023-01-30T13:41:51.410Z"
   },
   {
    "duration": 24,
    "start_time": "2023-01-30T13:41:51.455Z"
   },
   {
    "duration": 48,
    "start_time": "2023-01-30T13:41:51.481Z"
   },
   {
    "duration": 12,
    "start_time": "2023-01-30T13:41:51.530Z"
   },
   {
    "duration": 38,
    "start_time": "2023-01-30T13:41:51.544Z"
   },
   {
    "duration": 11,
    "start_time": "2023-01-30T13:41:51.585Z"
   },
   {
    "duration": 37,
    "start_time": "2023-01-30T13:41:51.597Z"
   },
   {
    "duration": 0,
    "start_time": "2023-01-30T13:41:51.636Z"
   },
   {
    "duration": 0,
    "start_time": "2023-01-30T13:41:51.637Z"
   },
   {
    "duration": 1,
    "start_time": "2023-01-30T13:41:51.638Z"
   },
   {
    "duration": 0,
    "start_time": "2023-01-30T13:41:51.640Z"
   },
   {
    "duration": 1,
    "start_time": "2023-01-30T13:41:51.641Z"
   },
   {
    "duration": 0,
    "start_time": "2023-01-30T13:41:51.644Z"
   },
   {
    "duration": 0,
    "start_time": "2023-01-30T13:41:51.645Z"
   },
   {
    "duration": 0,
    "start_time": "2023-01-30T13:41:51.647Z"
   },
   {
    "duration": 0,
    "start_time": "2023-01-30T13:41:51.668Z"
   },
   {
    "duration": 0,
    "start_time": "2023-01-30T13:41:51.669Z"
   },
   {
    "duration": 0,
    "start_time": "2023-01-30T13:41:51.671Z"
   },
   {
    "duration": 0,
    "start_time": "2023-01-30T13:41:51.672Z"
   },
   {
    "duration": 0,
    "start_time": "2023-01-30T13:41:51.674Z"
   },
   {
    "duration": 0,
    "start_time": "2023-01-30T13:41:51.675Z"
   },
   {
    "duration": 0,
    "start_time": "2023-01-30T13:41:51.677Z"
   },
   {
    "duration": 0,
    "start_time": "2023-01-30T13:41:51.678Z"
   },
   {
    "duration": 0,
    "start_time": "2023-01-30T13:41:51.679Z"
   },
   {
    "duration": 3,
    "start_time": "2023-01-30T13:42:57.104Z"
   },
   {
    "duration": 23,
    "start_time": "2023-01-30T13:44:15.261Z"
   },
   {
    "duration": 14,
    "start_time": "2023-01-30T13:44:18.585Z"
   },
   {
    "duration": 14,
    "start_time": "2023-01-30T13:44:19.205Z"
   },
   {
    "duration": 15,
    "start_time": "2023-01-30T13:44:19.672Z"
   },
   {
    "duration": 15,
    "start_time": "2023-01-30T13:44:20.054Z"
   },
   {
    "duration": 13,
    "start_time": "2023-01-30T13:44:21.858Z"
   },
   {
    "duration": 12,
    "start_time": "2023-01-30T14:00:26.445Z"
   },
   {
    "duration": 71,
    "start_time": "2023-01-30T14:07:18.699Z"
   },
   {
    "duration": 10,
    "start_time": "2023-01-30T14:08:08.930Z"
   },
   {
    "duration": 5,
    "start_time": "2023-01-30T16:49:41.555Z"
   },
   {
    "duration": 5,
    "start_time": "2023-01-30T16:54:21.272Z"
   },
   {
    "duration": 4,
    "start_time": "2023-01-30T16:56:18.626Z"
   },
   {
    "duration": 435,
    "start_time": "2023-01-30T16:56:52.514Z"
   },
   {
    "duration": 459,
    "start_time": "2023-01-30T16:56:52.951Z"
   },
   {
    "duration": 10,
    "start_time": "2023-01-30T16:56:53.412Z"
   },
   {
    "duration": 32,
    "start_time": "2023-01-30T16:56:53.424Z"
   },
   {
    "duration": 12,
    "start_time": "2023-01-30T16:56:53.458Z"
   },
   {
    "duration": 10,
    "start_time": "2023-01-30T16:56:53.472Z"
   },
   {
    "duration": 18,
    "start_time": "2023-01-30T16:56:53.485Z"
   },
   {
    "duration": 8,
    "start_time": "2023-01-30T16:56:53.505Z"
   },
   {
    "duration": 45,
    "start_time": "2023-01-30T16:56:53.515Z"
   },
   {
    "duration": 23,
    "start_time": "2023-01-30T16:56:53.563Z"
   },
   {
    "duration": 25,
    "start_time": "2023-01-30T16:56:53.588Z"
   },
   {
    "duration": 87,
    "start_time": "2023-01-30T16:56:53.615Z"
   },
   {
    "duration": 81,
    "start_time": "2023-01-30T16:56:53.703Z"
   },
   {
    "duration": 72,
    "start_time": "2023-01-30T16:56:53.786Z"
   },
   {
    "duration": 37,
    "start_time": "2023-01-30T16:56:53.860Z"
   },
   {
    "duration": 9,
    "start_time": "2023-01-30T16:56:53.899Z"
   },
   {
    "duration": 61,
    "start_time": "2023-01-30T16:56:53.910Z"
   },
   {
    "duration": 13,
    "start_time": "2023-01-30T16:56:53.972Z"
   },
   {
    "duration": 15,
    "start_time": "2023-01-30T16:56:53.986Z"
   },
   {
    "duration": 5,
    "start_time": "2023-01-30T16:56:54.002Z"
   },
   {
    "duration": 61,
    "start_time": "2023-01-30T16:56:54.009Z"
   },
   {
    "duration": 16,
    "start_time": "2023-01-30T16:56:54.073Z"
   },
   {
    "duration": 19,
    "start_time": "2023-01-30T16:56:54.090Z"
   },
   {
    "duration": 14,
    "start_time": "2023-01-30T16:56:54.110Z"
   },
   {
    "duration": 22,
    "start_time": "2023-01-30T16:56:54.126Z"
   },
   {
    "duration": 41,
    "start_time": "2023-01-30T16:56:54.150Z"
   },
   {
    "duration": 39,
    "start_time": "2023-01-30T16:56:54.193Z"
   },
   {
    "duration": 20,
    "start_time": "2023-01-30T16:56:54.235Z"
   },
   {
    "duration": 34,
    "start_time": "2023-01-30T16:56:54.257Z"
   },
   {
    "duration": 24,
    "start_time": "2023-01-30T16:56:54.293Z"
   },
   {
    "duration": 28,
    "start_time": "2023-01-30T16:56:54.319Z"
   },
   {
    "duration": 32,
    "start_time": "2023-01-30T16:56:54.349Z"
   },
   {
    "duration": 31,
    "start_time": "2023-01-30T16:56:54.384Z"
   },
   {
    "duration": 19,
    "start_time": "2023-01-30T16:56:54.418Z"
   },
   {
    "duration": 30,
    "start_time": "2023-01-30T16:56:54.439Z"
   },
   {
    "duration": 27,
    "start_time": "2023-01-30T16:56:54.471Z"
   },
   {
    "duration": 26,
    "start_time": "2023-01-30T16:56:54.500Z"
   },
   {
    "duration": 40,
    "start_time": "2023-01-30T16:56:54.528Z"
   },
   {
    "duration": 5,
    "start_time": "2023-01-30T16:58:36.317Z"
   },
   {
    "duration": 5,
    "start_time": "2023-01-30T16:59:47.994Z"
   },
   {
    "duration": 4,
    "start_time": "2023-01-30T17:00:06.165Z"
   },
   {
    "duration": 238,
    "start_time": "2023-01-30T17:00:06.171Z"
   },
   {
    "duration": 8,
    "start_time": "2023-01-30T17:00:06.411Z"
   },
   {
    "duration": 56,
    "start_time": "2023-01-30T17:00:06.422Z"
   },
   {
    "duration": 3,
    "start_time": "2023-01-30T17:00:06.480Z"
   },
   {
    "duration": 15,
    "start_time": "2023-01-30T17:00:06.485Z"
   },
   {
    "duration": 33,
    "start_time": "2023-01-30T17:00:06.502Z"
   },
   {
    "duration": 4,
    "start_time": "2023-01-30T17:00:06.538Z"
   },
   {
    "duration": 36,
    "start_time": "2023-01-30T17:00:06.544Z"
   },
   {
    "duration": 22,
    "start_time": "2023-01-30T17:00:06.583Z"
   },
   {
    "duration": 51,
    "start_time": "2023-01-30T17:00:06.607Z"
   },
   {
    "duration": 89,
    "start_time": "2023-01-30T17:00:06.660Z"
   },
   {
    "duration": 85,
    "start_time": "2023-01-30T17:00:06.751Z"
   },
   {
    "duration": 73,
    "start_time": "2023-01-30T17:00:06.839Z"
   },
   {
    "duration": 60,
    "start_time": "2023-01-30T17:00:06.915Z"
   },
   {
    "duration": 11,
    "start_time": "2023-01-30T17:00:06.977Z"
   },
   {
    "duration": 59,
    "start_time": "2023-01-30T17:00:06.990Z"
   },
   {
    "duration": 15,
    "start_time": "2023-01-30T17:00:07.052Z"
   },
   {
    "duration": 15,
    "start_time": "2023-01-30T17:00:07.069Z"
   },
   {
    "duration": 5,
    "start_time": "2023-01-30T17:00:07.086Z"
   },
   {
    "duration": 52,
    "start_time": "2023-01-30T17:00:07.094Z"
   },
   {
    "duration": 26,
    "start_time": "2023-01-30T17:00:07.148Z"
   },
   {
    "duration": 22,
    "start_time": "2023-01-30T17:00:07.176Z"
   },
   {
    "duration": 19,
    "start_time": "2023-01-30T17:00:07.201Z"
   },
   {
    "duration": 39,
    "start_time": "2023-01-30T17:00:07.222Z"
   },
   {
    "duration": 17,
    "start_time": "2023-01-30T17:00:07.263Z"
   },
   {
    "duration": 17,
    "start_time": "2023-01-30T17:00:07.284Z"
   },
   {
    "duration": 38,
    "start_time": "2023-01-30T17:00:07.307Z"
   },
   {
    "duration": 14,
    "start_time": "2023-01-30T17:00:07.347Z"
   },
   {
    "duration": 10,
    "start_time": "2023-01-30T17:00:07.363Z"
   },
   {
    "duration": 7,
    "start_time": "2023-01-30T17:00:07.376Z"
   },
   {
    "duration": 9,
    "start_time": "2023-01-30T17:00:07.385Z"
   },
   {
    "duration": 17,
    "start_time": "2023-01-30T17:00:07.396Z"
   },
   {
    "duration": 8,
    "start_time": "2023-01-30T17:00:07.415Z"
   },
   {
    "duration": 18,
    "start_time": "2023-01-30T17:00:07.425Z"
   },
   {
    "duration": 7,
    "start_time": "2023-01-30T17:00:07.446Z"
   },
   {
    "duration": 39,
    "start_time": "2023-01-30T17:00:07.456Z"
   },
   {
    "duration": 10,
    "start_time": "2023-01-30T17:00:07.498Z"
   },
   {
    "duration": 3,
    "start_time": "2023-01-30T17:00:18.536Z"
   },
   {
    "duration": 192,
    "start_time": "2023-01-30T17:00:18.541Z"
   },
   {
    "duration": 10,
    "start_time": "2023-01-30T17:00:18.736Z"
   },
   {
    "duration": 35,
    "start_time": "2023-01-30T17:00:18.748Z"
   },
   {
    "duration": 3,
    "start_time": "2023-01-30T17:00:18.787Z"
   },
   {
    "duration": 7,
    "start_time": "2023-01-30T17:00:18.791Z"
   },
   {
    "duration": 13,
    "start_time": "2023-01-30T17:00:18.800Z"
   },
   {
    "duration": 4,
    "start_time": "2023-01-30T17:00:18.836Z"
   },
   {
    "duration": 29,
    "start_time": "2023-01-30T17:00:18.842Z"
   },
   {
    "duration": 19,
    "start_time": "2023-01-30T17:00:18.873Z"
   },
   {
    "duration": 50,
    "start_time": "2023-01-30T17:00:18.894Z"
   },
   {
    "duration": 75,
    "start_time": "2023-01-30T17:00:18.945Z"
   },
   {
    "duration": 81,
    "start_time": "2023-01-30T17:00:19.022Z"
   },
   {
    "duration": 72,
    "start_time": "2023-01-30T17:00:19.107Z"
   },
   {
    "duration": 37,
    "start_time": "2023-01-30T17:00:19.181Z"
   },
   {
    "duration": 24,
    "start_time": "2023-01-30T17:00:19.220Z"
   },
   {
    "duration": 55,
    "start_time": "2023-01-30T17:00:19.245Z"
   },
   {
    "duration": 15,
    "start_time": "2023-01-30T17:00:19.302Z"
   },
   {
    "duration": 24,
    "start_time": "2023-01-30T17:00:19.319Z"
   },
   {
    "duration": 5,
    "start_time": "2023-01-30T17:00:19.345Z"
   },
   {
    "duration": 27,
    "start_time": "2023-01-30T17:00:19.353Z"
   },
   {
    "duration": 17,
    "start_time": "2023-01-30T17:00:19.382Z"
   },
   {
    "duration": 40,
    "start_time": "2023-01-30T17:00:19.400Z"
   },
   {
    "duration": 20,
    "start_time": "2023-01-30T17:00:19.442Z"
   },
   {
    "duration": 20,
    "start_time": "2023-01-30T17:00:19.463Z"
   },
   {
    "duration": 14,
    "start_time": "2023-01-30T17:00:19.484Z"
   },
   {
    "duration": 37,
    "start_time": "2023-01-30T17:00:19.499Z"
   },
   {
    "duration": 16,
    "start_time": "2023-01-30T17:00:19.538Z"
   },
   {
    "duration": 15,
    "start_time": "2023-01-30T17:00:19.555Z"
   },
   {
    "duration": 5,
    "start_time": "2023-01-30T17:00:19.572Z"
   },
   {
    "duration": 8,
    "start_time": "2023-01-30T17:00:19.579Z"
   },
   {
    "duration": 5,
    "start_time": "2023-01-30T17:00:19.589Z"
   },
   {
    "duration": 6,
    "start_time": "2023-01-30T17:00:19.596Z"
   },
   {
    "duration": 8,
    "start_time": "2023-01-30T17:00:19.604Z"
   },
   {
    "duration": 7,
    "start_time": "2023-01-30T17:00:19.614Z"
   },
   {
    "duration": 9,
    "start_time": "2023-01-30T17:00:19.637Z"
   },
   {
    "duration": 9,
    "start_time": "2023-01-30T17:00:19.648Z"
   },
   {
    "duration": 6,
    "start_time": "2023-01-30T17:00:19.659Z"
   },
   {
    "duration": 74,
    "start_time": "2023-01-30T17:05:58.618Z"
   },
   {
    "duration": 20,
    "start_time": "2023-01-30T17:06:59.301Z"
   },
   {
    "duration": 16,
    "start_time": "2023-01-30T17:06:59.339Z"
   },
   {
    "duration": 20,
    "start_time": "2023-01-30T17:07:02.136Z"
   },
   {
    "duration": 3,
    "start_time": "2023-01-30T17:08:19.042Z"
   },
   {
    "duration": 166,
    "start_time": "2023-01-30T17:08:19.047Z"
   },
   {
    "duration": 7,
    "start_time": "2023-01-30T17:08:19.215Z"
   },
   {
    "duration": 27,
    "start_time": "2023-01-30T17:08:19.237Z"
   },
   {
    "duration": 3,
    "start_time": "2023-01-30T17:08:19.265Z"
   },
   {
    "duration": 8,
    "start_time": "2023-01-30T17:08:19.269Z"
   },
   {
    "duration": 13,
    "start_time": "2023-01-30T17:08:19.278Z"
   },
   {
    "duration": 3,
    "start_time": "2023-01-30T17:08:19.293Z"
   },
   {
    "duration": 47,
    "start_time": "2023-01-30T17:08:19.298Z"
   },
   {
    "duration": 24,
    "start_time": "2023-01-30T17:08:19.351Z"
   },
   {
    "duration": 25,
    "start_time": "2023-01-30T17:08:19.378Z"
   },
   {
    "duration": 87,
    "start_time": "2023-01-30T17:08:19.405Z"
   },
   {
    "duration": 76,
    "start_time": "2023-01-30T17:08:19.494Z"
   },
   {
    "duration": 65,
    "start_time": "2023-01-30T17:08:19.572Z"
   },
   {
    "duration": 36,
    "start_time": "2023-01-30T17:08:19.639Z"
   },
   {
    "duration": 9,
    "start_time": "2023-01-30T17:08:19.677Z"
   },
   {
    "duration": 56,
    "start_time": "2023-01-30T17:08:19.688Z"
   },
   {
    "duration": 15,
    "start_time": "2023-01-30T17:08:19.746Z"
   },
   {
    "duration": 13,
    "start_time": "2023-01-30T17:08:19.763Z"
   },
   {
    "duration": 12,
    "start_time": "2023-01-30T17:08:19.777Z"
   },
   {
    "duration": 19,
    "start_time": "2023-01-30T17:08:19.791Z"
   },
   {
    "duration": 33,
    "start_time": "2023-01-30T17:08:19.811Z"
   },
   {
    "duration": 15,
    "start_time": "2023-01-30T17:08:19.846Z"
   },
   {
    "duration": 13,
    "start_time": "2023-01-30T17:08:19.862Z"
   },
   {
    "duration": 15,
    "start_time": "2023-01-30T17:08:19.877Z"
   },
   {
    "duration": 13,
    "start_time": "2023-01-30T17:08:19.893Z"
   },
   {
    "duration": 9,
    "start_time": "2023-01-30T17:08:19.937Z"
   },
   {
    "duration": 12,
    "start_time": "2023-01-30T17:08:19.949Z"
   },
   {
    "duration": 12,
    "start_time": "2023-01-30T17:08:19.962Z"
   },
   {
    "duration": 4,
    "start_time": "2023-01-30T17:08:19.976Z"
   },
   {
    "duration": 23,
    "start_time": "2023-01-30T17:08:19.982Z"
   },
   {
    "duration": 41,
    "start_time": "2023-01-30T17:08:20.007Z"
   },
   {
    "duration": 22,
    "start_time": "2023-01-30T17:08:20.050Z"
   },
   {
    "duration": 15,
    "start_time": "2023-01-30T17:08:20.074Z"
   },
   {
    "duration": 3,
    "start_time": "2023-01-30T17:08:20.091Z"
   },
   {
    "duration": 5,
    "start_time": "2023-01-30T17:08:20.096Z"
   },
   {
    "duration": 41,
    "start_time": "2023-01-30T17:08:20.103Z"
   },
   {
    "duration": 7,
    "start_time": "2023-01-30T17:08:20.146Z"
   },
   {
    "duration": 12,
    "start_time": "2023-01-30T17:17:31.483Z"
   },
   {
    "duration": 8,
    "start_time": "2023-01-30T17:19:17.645Z"
   },
   {
    "duration": 2,
    "start_time": "2023-01-30T17:19:24.051Z"
   },
   {
    "duration": 202,
    "start_time": "2023-01-30T17:19:24.055Z"
   },
   {
    "duration": 7,
    "start_time": "2023-01-30T17:19:24.259Z"
   },
   {
    "duration": 57,
    "start_time": "2023-01-30T17:19:24.268Z"
   },
   {
    "duration": 10,
    "start_time": "2023-01-30T17:19:24.327Z"
   },
   {
    "duration": 41,
    "start_time": "2023-01-30T17:19:24.338Z"
   },
   {
    "duration": 46,
    "start_time": "2023-01-30T17:19:24.381Z"
   },
   {
    "duration": 22,
    "start_time": "2023-01-30T17:19:24.429Z"
   },
   {
    "duration": 54,
    "start_time": "2023-01-30T17:19:24.453Z"
   },
   {
    "duration": 36,
    "start_time": "2023-01-30T17:19:24.509Z"
   },
   {
    "duration": 46,
    "start_time": "2023-01-30T17:19:24.547Z"
   },
   {
    "duration": 82,
    "start_time": "2023-01-30T17:19:24.595Z"
   },
   {
    "duration": 83,
    "start_time": "2023-01-30T17:19:24.679Z"
   },
   {
    "duration": 76,
    "start_time": "2023-01-30T17:19:24.764Z"
   },
   {
    "duration": 35,
    "start_time": "2023-01-30T17:19:24.841Z"
   },
   {
    "duration": 9,
    "start_time": "2023-01-30T17:19:24.878Z"
   },
   {
    "duration": 66,
    "start_time": "2023-01-30T17:19:24.889Z"
   },
   {
    "duration": 15,
    "start_time": "2023-01-30T17:19:24.956Z"
   },
   {
    "duration": 35,
    "start_time": "2023-01-30T17:19:24.973Z"
   },
   {
    "duration": 22,
    "start_time": "2023-01-30T17:19:25.010Z"
   },
   {
    "duration": 66,
    "start_time": "2023-01-30T17:19:25.034Z"
   },
   {
    "duration": 42,
    "start_time": "2023-01-30T17:19:25.102Z"
   },
   {
    "duration": 59,
    "start_time": "2023-01-30T17:19:25.145Z"
   },
   {
    "duration": 38,
    "start_time": "2023-01-30T17:19:25.206Z"
   },
   {
    "duration": 46,
    "start_time": "2023-01-30T17:19:25.246Z"
   },
   {
    "duration": 30,
    "start_time": "2023-01-30T17:19:25.294Z"
   },
   {
    "duration": 28,
    "start_time": "2023-01-30T17:19:25.326Z"
   },
   {
    "duration": 38,
    "start_time": "2023-01-30T17:19:25.357Z"
   },
   {
    "duration": 38,
    "start_time": "2023-01-30T17:19:25.397Z"
   },
   {
    "duration": 45,
    "start_time": "2023-01-30T17:19:25.437Z"
   },
   {
    "duration": 83,
    "start_time": "2023-01-30T17:19:25.484Z"
   },
   {
    "duration": 18,
    "start_time": "2023-01-30T17:19:25.569Z"
   },
   {
    "duration": 41,
    "start_time": "2023-01-30T17:19:25.589Z"
   },
   {
    "duration": 30,
    "start_time": "2023-01-30T17:19:25.632Z"
   },
   {
    "duration": 30,
    "start_time": "2023-01-30T17:19:25.664Z"
   },
   {
    "duration": 21,
    "start_time": "2023-01-30T17:19:25.696Z"
   },
   {
    "duration": 23,
    "start_time": "2023-01-30T17:19:25.719Z"
   },
   {
    "duration": 25,
    "start_time": "2023-01-30T17:19:25.743Z"
   },
   {
    "duration": 7,
    "start_time": "2023-01-30T17:20:30.788Z"
   },
   {
    "duration": 5,
    "start_time": "2023-01-30T17:21:22.100Z"
   },
   {
    "duration": 43,
    "start_time": "2023-02-09T14:02:11.558Z"
   },
   {
    "duration": 339,
    "start_time": "2023-02-09T14:02:30.409Z"
   },
   {
    "duration": 7,
    "start_time": "2023-02-16T08:29:32.410Z"
   },
   {
    "duration": 738,
    "start_time": "2023-02-16T08:29:32.419Z"
   },
   {
    "duration": 7,
    "start_time": "2023-02-16T08:29:33.158Z"
   },
   {
    "duration": 37,
    "start_time": "2023-02-16T08:29:33.167Z"
   },
   {
    "duration": 4,
    "start_time": "2023-02-16T08:29:33.205Z"
   },
   {
    "duration": 15,
    "start_time": "2023-02-16T08:29:33.210Z"
   },
   {
    "duration": 14,
    "start_time": "2023-02-16T08:29:33.226Z"
   },
   {
    "duration": 18,
    "start_time": "2023-02-16T08:29:33.241Z"
   },
   {
    "duration": 30,
    "start_time": "2023-02-16T08:29:33.261Z"
   },
   {
    "duration": 24,
    "start_time": "2023-02-16T08:29:33.293Z"
   },
   {
    "duration": 26,
    "start_time": "2023-02-16T08:29:33.319Z"
   },
   {
    "duration": 76,
    "start_time": "2023-02-16T08:29:33.347Z"
   },
   {
    "duration": 82,
    "start_time": "2023-02-16T08:29:33.425Z"
   },
   {
    "duration": 66,
    "start_time": "2023-02-16T08:29:33.509Z"
   },
   {
    "duration": 62,
    "start_time": "2023-02-16T08:29:33.576Z"
   },
   {
    "duration": 10,
    "start_time": "2023-02-16T08:29:33.640Z"
   },
   {
    "duration": 54,
    "start_time": "2023-02-16T08:29:33.651Z"
   },
   {
    "duration": 12,
    "start_time": "2023-02-16T08:29:33.706Z"
   },
   {
    "duration": 11,
    "start_time": "2023-02-16T08:29:33.719Z"
   },
   {
    "duration": 4,
    "start_time": "2023-02-16T08:29:33.731Z"
   },
   {
    "duration": 19,
    "start_time": "2023-02-16T08:29:33.736Z"
   },
   {
    "duration": 13,
    "start_time": "2023-02-16T08:29:33.757Z"
   },
   {
    "duration": 40,
    "start_time": "2023-02-16T08:29:33.771Z"
   },
   {
    "duration": 13,
    "start_time": "2023-02-16T08:29:33.812Z"
   },
   {
    "duration": 16,
    "start_time": "2023-02-16T08:29:33.827Z"
   },
   {
    "duration": 19,
    "start_time": "2023-02-16T08:29:33.845Z"
   },
   {
    "duration": 39,
    "start_time": "2023-02-16T08:29:33.865Z"
   },
   {
    "duration": 15,
    "start_time": "2023-02-16T08:29:33.906Z"
   },
   {
    "duration": 12,
    "start_time": "2023-02-16T08:29:33.923Z"
   },
   {
    "duration": 5,
    "start_time": "2023-02-16T08:29:33.936Z"
   },
   {
    "duration": 21,
    "start_time": "2023-02-16T08:29:33.943Z"
   },
   {
    "duration": 39,
    "start_time": "2023-02-16T08:29:33.965Z"
   },
   {
    "duration": 17,
    "start_time": "2023-02-16T08:29:34.005Z"
   },
   {
    "duration": 12,
    "start_time": "2023-02-16T08:29:34.024Z"
   },
   {
    "duration": 11,
    "start_time": "2023-02-16T08:29:34.038Z"
   },
   {
    "duration": 4,
    "start_time": "2023-02-16T08:29:34.051Z"
   },
   {
    "duration": 8,
    "start_time": "2023-02-16T08:29:34.056Z"
   },
   {
    "duration": 6,
    "start_time": "2023-02-16T08:29:34.065Z"
   },
   {
    "duration": 442,
    "start_time": "2023-02-16T08:30:29.879Z"
   },
   {
    "duration": 683,
    "start_time": "2023-02-16T08:30:30.323Z"
   },
   {
    "duration": 9,
    "start_time": "2023-02-16T08:30:31.008Z"
   },
   {
    "duration": 96,
    "start_time": "2023-02-16T08:30:31.019Z"
   },
   {
    "duration": 52,
    "start_time": "2023-02-16T08:30:31.116Z"
   },
   {
    "duration": 41,
    "start_time": "2023-02-16T08:30:31.171Z"
   },
   {
    "duration": 48,
    "start_time": "2023-02-16T08:30:31.214Z"
   },
   {
    "duration": 21,
    "start_time": "2023-02-16T08:30:31.264Z"
   },
   {
    "duration": 54,
    "start_time": "2023-02-16T08:30:31.287Z"
   },
   {
    "duration": 20,
    "start_time": "2023-02-16T08:30:31.344Z"
   },
   {
    "duration": 33,
    "start_time": "2023-02-16T08:30:31.366Z"
   },
   {
    "duration": 85,
    "start_time": "2023-02-16T08:30:31.401Z"
   },
   {
    "duration": 71,
    "start_time": "2023-02-16T08:30:31.488Z"
   },
   {
    "duration": 65,
    "start_time": "2023-02-16T08:30:31.560Z"
   },
   {
    "duration": 41,
    "start_time": "2023-02-16T08:30:31.626Z"
   },
   {
    "duration": 10,
    "start_time": "2023-02-16T08:30:31.669Z"
   },
   {
    "duration": 57,
    "start_time": "2023-02-16T08:30:31.681Z"
   },
   {
    "duration": 14,
    "start_time": "2023-02-16T08:30:31.740Z"
   },
   {
    "duration": 19,
    "start_time": "2023-02-16T08:30:31.755Z"
   },
   {
    "duration": 12,
    "start_time": "2023-02-16T08:30:31.776Z"
   },
   {
    "duration": 54,
    "start_time": "2023-02-16T08:30:31.790Z"
   },
   {
    "duration": 19,
    "start_time": "2023-02-16T08:30:31.846Z"
   },
   {
    "duration": 23,
    "start_time": "2023-02-16T08:30:31.868Z"
   },
   {
    "duration": 15,
    "start_time": "2023-02-16T08:30:31.893Z"
   },
   {
    "duration": 26,
    "start_time": "2023-02-16T08:30:31.909Z"
   },
   {
    "duration": 23,
    "start_time": "2023-02-16T08:30:31.937Z"
   },
   {
    "duration": 19,
    "start_time": "2023-02-16T08:30:31.962Z"
   },
   {
    "duration": 15,
    "start_time": "2023-02-16T08:30:31.984Z"
   },
   {
    "duration": 13,
    "start_time": "2023-02-16T08:30:32.001Z"
   },
   {
    "duration": 6,
    "start_time": "2023-02-16T08:30:32.016Z"
   },
   {
    "duration": 33,
    "start_time": "2023-02-16T08:30:32.024Z"
   },
   {
    "duration": 15,
    "start_time": "2023-02-16T08:30:32.059Z"
   },
   {
    "duration": 43,
    "start_time": "2023-02-16T08:30:32.076Z"
   },
   {
    "duration": 13,
    "start_time": "2023-02-16T08:30:32.120Z"
   },
   {
    "duration": 37,
    "start_time": "2023-02-16T08:30:32.135Z"
   },
   {
    "duration": 16,
    "start_time": "2023-02-16T08:30:32.174Z"
   },
   {
    "duration": 37,
    "start_time": "2023-02-16T08:30:32.192Z"
   },
   {
    "duration": 12,
    "start_time": "2023-02-16T08:30:32.231Z"
   },
   {
    "duration": 412,
    "start_time": "2023-02-16T08:30:40.863Z"
   },
   {
    "duration": 763,
    "start_time": "2023-02-16T08:30:41.278Z"
   },
   {
    "duration": 8,
    "start_time": "2023-02-16T08:30:42.043Z"
   },
   {
    "duration": 35,
    "start_time": "2023-02-16T08:30:42.052Z"
   },
   {
    "duration": 3,
    "start_time": "2023-02-16T08:30:42.090Z"
   },
   {
    "duration": 7,
    "start_time": "2023-02-16T08:30:42.095Z"
   },
   {
    "duration": 15,
    "start_time": "2023-02-16T08:30:42.104Z"
   },
   {
    "duration": 8,
    "start_time": "2023-02-16T08:30:42.121Z"
   },
   {
    "duration": 32,
    "start_time": "2023-02-16T08:30:42.131Z"
   },
   {
    "duration": 18,
    "start_time": "2023-02-16T08:30:42.165Z"
   },
   {
    "duration": 40,
    "start_time": "2023-02-16T08:30:42.184Z"
   },
   {
    "duration": 64,
    "start_time": "2023-02-16T08:30:42.225Z"
   },
   {
    "duration": 65,
    "start_time": "2023-02-16T08:30:42.304Z"
   },
   {
    "duration": 88,
    "start_time": "2023-02-16T08:30:42.373Z"
   },
   {
    "duration": 50,
    "start_time": "2023-02-16T08:30:42.463Z"
   },
   {
    "duration": 19,
    "start_time": "2023-02-16T08:30:42.515Z"
   },
   {
    "duration": 41,
    "start_time": "2023-02-16T08:30:42.536Z"
   },
   {
    "duration": 13,
    "start_time": "2023-02-16T08:30:42.579Z"
   },
   {
    "duration": 12,
    "start_time": "2023-02-16T08:30:42.604Z"
   },
   {
    "duration": 4,
    "start_time": "2023-02-16T08:30:42.617Z"
   },
   {
    "duration": 18,
    "start_time": "2023-02-16T08:30:42.623Z"
   },
   {
    "duration": 14,
    "start_time": "2023-02-16T08:30:42.643Z"
   },
   {
    "duration": 15,
    "start_time": "2023-02-16T08:30:42.659Z"
   },
   {
    "duration": 14,
    "start_time": "2023-02-16T08:30:42.704Z"
   },
   {
    "duration": 14,
    "start_time": "2023-02-16T08:30:42.720Z"
   },
   {
    "duration": 13,
    "start_time": "2023-02-16T08:30:42.736Z"
   },
   {
    "duration": 9,
    "start_time": "2023-02-16T08:30:42.750Z"
   },
   {
    "duration": 11,
    "start_time": "2023-02-16T08:30:42.760Z"
   },
   {
    "duration": 38,
    "start_time": "2023-02-16T08:30:42.772Z"
   },
   {
    "duration": 4,
    "start_time": "2023-02-16T08:30:42.812Z"
   },
   {
    "duration": 23,
    "start_time": "2023-02-16T08:30:42.818Z"
   },
   {
    "duration": 11,
    "start_time": "2023-02-16T08:30:42.842Z"
   },
   {
    "duration": 16,
    "start_time": "2023-02-16T08:30:42.855Z"
   },
   {
    "duration": 36,
    "start_time": "2023-02-16T08:30:42.872Z"
   },
   {
    "duration": 7,
    "start_time": "2023-02-16T08:30:42.910Z"
   },
   {
    "duration": 4,
    "start_time": "2023-02-16T08:30:42.919Z"
   },
   {
    "duration": 8,
    "start_time": "2023-02-16T08:30:42.924Z"
   },
   {
    "duration": 5,
    "start_time": "2023-02-16T08:30:42.933Z"
   },
   {
    "duration": 10,
    "start_time": "2023-02-16T08:41:12.325Z"
   },
   {
    "duration": 432,
    "start_time": "2023-02-16T08:50:24.582Z"
   },
   {
    "duration": 996,
    "start_time": "2023-02-16T08:50:25.016Z"
   },
   {
    "duration": 8,
    "start_time": "2023-02-16T08:50:26.014Z"
   },
   {
    "duration": 49,
    "start_time": "2023-02-16T08:50:26.025Z"
   },
   {
    "duration": 3,
    "start_time": "2023-02-16T08:50:26.076Z"
   },
   {
    "duration": 22,
    "start_time": "2023-02-16T08:50:26.081Z"
   },
   {
    "duration": 25,
    "start_time": "2023-02-16T08:50:26.104Z"
   },
   {
    "duration": 21,
    "start_time": "2023-02-16T08:50:26.131Z"
   },
   {
    "duration": 57,
    "start_time": "2023-02-16T08:50:26.153Z"
   },
   {
    "duration": 63,
    "start_time": "2023-02-16T08:50:26.214Z"
   },
   {
    "duration": 0,
    "start_time": "2023-02-16T08:50:26.280Z"
   },
   {
    "duration": 0,
    "start_time": "2023-02-16T08:50:26.281Z"
   },
   {
    "duration": 0,
    "start_time": "2023-02-16T08:50:26.282Z"
   },
   {
    "duration": 0,
    "start_time": "2023-02-16T08:50:26.304Z"
   },
   {
    "duration": 0,
    "start_time": "2023-02-16T08:50:26.305Z"
   },
   {
    "duration": 0,
    "start_time": "2023-02-16T08:50:26.306Z"
   },
   {
    "duration": 0,
    "start_time": "2023-02-16T08:50:26.307Z"
   },
   {
    "duration": 0,
    "start_time": "2023-02-16T08:50:26.308Z"
   },
   {
    "duration": 0,
    "start_time": "2023-02-16T08:50:26.309Z"
   },
   {
    "duration": 0,
    "start_time": "2023-02-16T08:50:26.311Z"
   },
   {
    "duration": 0,
    "start_time": "2023-02-16T08:50:26.311Z"
   },
   {
    "duration": 0,
    "start_time": "2023-02-16T08:50:26.312Z"
   },
   {
    "duration": 1,
    "start_time": "2023-02-16T08:50:26.313Z"
   },
   {
    "duration": 0,
    "start_time": "2023-02-16T08:50:26.315Z"
   },
   {
    "duration": 0,
    "start_time": "2023-02-16T08:50:26.316Z"
   },
   {
    "duration": 0,
    "start_time": "2023-02-16T08:50:26.318Z"
   },
   {
    "duration": 0,
    "start_time": "2023-02-16T08:50:26.319Z"
   },
   {
    "duration": 0,
    "start_time": "2023-02-16T08:50:26.320Z"
   },
   {
    "duration": 0,
    "start_time": "2023-02-16T08:50:26.322Z"
   },
   {
    "duration": 0,
    "start_time": "2023-02-16T08:50:26.323Z"
   },
   {
    "duration": 0,
    "start_time": "2023-02-16T08:50:26.324Z"
   },
   {
    "duration": 0,
    "start_time": "2023-02-16T08:50:26.326Z"
   },
   {
    "duration": 0,
    "start_time": "2023-02-16T08:50:26.328Z"
   },
   {
    "duration": 0,
    "start_time": "2023-02-16T08:50:26.329Z"
   },
   {
    "duration": 0,
    "start_time": "2023-02-16T08:50:26.331Z"
   },
   {
    "duration": 0,
    "start_time": "2023-02-16T08:50:26.332Z"
   },
   {
    "duration": 0,
    "start_time": "2023-02-16T08:50:26.333Z"
   },
   {
    "duration": 0,
    "start_time": "2023-02-16T08:50:26.335Z"
   },
   {
    "duration": 409,
    "start_time": "2023-02-16T08:51:15.517Z"
   },
   {
    "duration": 616,
    "start_time": "2023-02-16T08:51:15.928Z"
   },
   {
    "duration": 8,
    "start_time": "2023-02-16T08:51:16.546Z"
   },
   {
    "duration": 40,
    "start_time": "2023-02-16T08:51:16.556Z"
   },
   {
    "duration": 2,
    "start_time": "2023-02-16T08:51:16.599Z"
   },
   {
    "duration": 8,
    "start_time": "2023-02-16T08:51:16.602Z"
   },
   {
    "duration": 19,
    "start_time": "2023-02-16T08:51:16.611Z"
   },
   {
    "duration": 16,
    "start_time": "2023-02-16T08:51:16.632Z"
   },
   {
    "duration": 50,
    "start_time": "2023-02-16T08:51:16.650Z"
   },
   {
    "duration": 22,
    "start_time": "2023-02-16T08:51:16.703Z"
   },
   {
    "duration": 43,
    "start_time": "2023-02-16T08:51:16.727Z"
   },
   {
    "duration": 103,
    "start_time": "2023-02-16T08:51:16.772Z"
   },
   {
    "duration": 93,
    "start_time": "2023-02-16T08:51:16.879Z"
   },
   {
    "duration": 69,
    "start_time": "2023-02-16T08:51:16.974Z"
   },
   {
    "duration": 42,
    "start_time": "2023-02-16T08:51:17.045Z"
   },
   {
    "duration": 13,
    "start_time": "2023-02-16T08:51:17.103Z"
   },
   {
    "duration": 40,
    "start_time": "2023-02-16T08:51:17.118Z"
   },
   {
    "duration": 12,
    "start_time": "2023-02-16T08:51:17.160Z"
   },
   {
    "duration": 37,
    "start_time": "2023-02-16T08:51:17.173Z"
   },
   {
    "duration": 4,
    "start_time": "2023-02-16T08:51:17.211Z"
   },
   {
    "duration": 22,
    "start_time": "2023-02-16T08:51:17.216Z"
   },
   {
    "duration": 13,
    "start_time": "2023-02-16T08:51:17.240Z"
   },
   {
    "duration": 14,
    "start_time": "2023-02-16T08:51:17.255Z"
   },
   {
    "duration": 40,
    "start_time": "2023-02-16T08:51:17.271Z"
   },
   {
    "duration": 17,
    "start_time": "2023-02-16T08:51:17.313Z"
   },
   {
    "duration": 13,
    "start_time": "2023-02-16T08:51:17.332Z"
   },
   {
    "duration": 10,
    "start_time": "2023-02-16T08:51:17.347Z"
   },
   {
    "duration": 44,
    "start_time": "2023-02-16T08:51:17.361Z"
   },
   {
    "duration": 11,
    "start_time": "2023-02-16T08:51:17.407Z"
   },
   {
    "duration": 5,
    "start_time": "2023-02-16T08:51:17.420Z"
   },
   {
    "duration": 28,
    "start_time": "2023-02-16T08:51:17.427Z"
   },
   {
    "duration": 12,
    "start_time": "2023-02-16T08:51:17.456Z"
   },
   {
    "duration": 47,
    "start_time": "2023-02-16T08:51:17.469Z"
   },
   {
    "duration": 10,
    "start_time": "2023-02-16T08:51:17.518Z"
   },
   {
    "duration": 18,
    "start_time": "2023-02-16T08:51:17.530Z"
   },
   {
    "duration": 11,
    "start_time": "2023-02-16T08:51:17.550Z"
   },
   {
    "duration": 12,
    "start_time": "2023-02-16T08:51:17.563Z"
   },
   {
    "duration": 14,
    "start_time": "2023-02-16T08:51:17.576Z"
   },
   {
    "duration": 364,
    "start_time": "2023-02-16T09:09:02.746Z"
   },
   {
    "duration": 676,
    "start_time": "2023-02-16T09:09:03.115Z"
   },
   {
    "duration": 9,
    "start_time": "2023-02-16T09:09:03.792Z"
   },
   {
    "duration": 51,
    "start_time": "2023-02-16T09:09:03.802Z"
   },
   {
    "duration": 3,
    "start_time": "2023-02-16T09:09:03.855Z"
   },
   {
    "duration": 8,
    "start_time": "2023-02-16T09:09:03.859Z"
   },
   {
    "duration": 15,
    "start_time": "2023-02-16T09:09:03.869Z"
   },
   {
    "duration": 11,
    "start_time": "2023-02-16T09:09:03.885Z"
   },
   {
    "duration": 50,
    "start_time": "2023-02-16T09:09:03.897Z"
   },
   {
    "duration": 23,
    "start_time": "2023-02-16T09:09:03.948Z"
   },
   {
    "duration": 38,
    "start_time": "2023-02-16T09:09:03.972Z"
   },
   {
    "duration": 66,
    "start_time": "2023-02-16T09:09:04.017Z"
   },
   {
    "duration": 69,
    "start_time": "2023-02-16T09:09:04.085Z"
   },
   {
    "duration": 64,
    "start_time": "2023-02-16T09:09:04.156Z"
   },
   {
    "duration": 39,
    "start_time": "2023-02-16T09:09:04.222Z"
   },
   {
    "duration": 10,
    "start_time": "2023-02-16T09:09:04.263Z"
   },
   {
    "duration": 73,
    "start_time": "2023-02-16T09:09:04.275Z"
   },
   {
    "duration": 13,
    "start_time": "2023-02-16T09:09:04.350Z"
   },
   {
    "duration": 15,
    "start_time": "2023-02-16T09:09:04.365Z"
   },
   {
    "duration": 6,
    "start_time": "2023-02-16T09:09:04.382Z"
   },
   {
    "duration": 64,
    "start_time": "2023-02-16T09:09:04.389Z"
   },
   {
    "duration": 19,
    "start_time": "2023-02-16T09:09:04.455Z"
   },
   {
    "duration": 33,
    "start_time": "2023-02-16T09:09:04.476Z"
   },
   {
    "duration": 18,
    "start_time": "2023-02-16T09:09:04.519Z"
   },
   {
    "duration": 18,
    "start_time": "2023-02-16T09:09:04.538Z"
   },
   {
    "duration": 19,
    "start_time": "2023-02-16T09:09:04.557Z"
   },
   {
    "duration": 18,
    "start_time": "2023-02-16T09:09:04.577Z"
   },
   {
    "duration": 26,
    "start_time": "2023-02-16T09:09:04.597Z"
   },
   {
    "duration": 31,
    "start_time": "2023-02-16T09:09:04.626Z"
   },
   {
    "duration": 9,
    "start_time": "2023-02-16T09:09:04.659Z"
   },
   {
    "duration": 44,
    "start_time": "2023-02-16T09:09:04.670Z"
   },
   {
    "duration": 18,
    "start_time": "2023-02-16T09:09:04.716Z"
   },
   {
    "duration": 25,
    "start_time": "2023-02-16T09:09:04.735Z"
   },
   {
    "duration": 13,
    "start_time": "2023-02-16T09:09:04.762Z"
   },
   {
    "duration": 16,
    "start_time": "2023-02-16T09:09:04.777Z"
   },
   {
    "duration": 17,
    "start_time": "2023-02-16T09:09:04.794Z"
   },
   {
    "duration": 15,
    "start_time": "2023-02-16T09:09:04.812Z"
   },
   {
    "duration": 5,
    "start_time": "2023-02-16T09:09:04.828Z"
   },
   {
    "duration": 51,
    "start_time": "2023-02-19T12:40:34.679Z"
   },
   {
    "duration": 441,
    "start_time": "2023-02-19T12:40:45.370Z"
   },
   {
    "duration": 1291,
    "start_time": "2023-02-19T12:40:45.814Z"
   },
   {
    "duration": 8,
    "start_time": "2023-02-19T12:40:47.106Z"
   },
   {
    "duration": 33,
    "start_time": "2023-02-19T12:40:47.116Z"
   },
   {
    "duration": 3,
    "start_time": "2023-02-19T12:40:47.151Z"
   },
   {
    "duration": 10,
    "start_time": "2023-02-19T12:40:47.155Z"
   },
   {
    "duration": 41,
    "start_time": "2023-02-19T12:40:47.167Z"
   },
   {
    "duration": 37,
    "start_time": "2023-02-19T12:40:47.210Z"
   },
   {
    "duration": 69,
    "start_time": "2023-02-19T12:40:47.248Z"
   },
   {
    "duration": 35,
    "start_time": "2023-02-19T12:40:47.318Z"
   },
   {
    "duration": 30,
    "start_time": "2023-02-19T12:40:47.355Z"
   },
   {
    "duration": 95,
    "start_time": "2023-02-19T12:40:47.387Z"
   },
   {
    "duration": 71,
    "start_time": "2023-02-19T12:40:47.483Z"
   },
   {
    "duration": 60,
    "start_time": "2023-02-19T12:40:47.556Z"
   },
   {
    "duration": 53,
    "start_time": "2023-02-19T12:40:47.617Z"
   },
   {
    "duration": 9,
    "start_time": "2023-02-19T12:40:47.672Z"
   },
   {
    "duration": 58,
    "start_time": "2023-02-19T12:40:47.682Z"
   },
   {
    "duration": 12,
    "start_time": "2023-02-19T12:40:47.742Z"
   },
   {
    "duration": 12,
    "start_time": "2023-02-19T12:40:47.755Z"
   },
   {
    "duration": 21,
    "start_time": "2023-02-19T12:40:47.768Z"
   },
   {
    "duration": 37,
    "start_time": "2023-02-19T12:40:47.791Z"
   },
   {
    "duration": 30,
    "start_time": "2023-02-19T12:40:47.830Z"
   },
   {
    "duration": 41,
    "start_time": "2023-02-19T12:40:47.862Z"
   },
   {
    "duration": 52,
    "start_time": "2023-02-19T12:40:47.905Z"
   },
   {
    "duration": 18,
    "start_time": "2023-02-19T12:40:47.959Z"
   },
   {
    "duration": 27,
    "start_time": "2023-02-19T12:40:47.980Z"
   },
   {
    "duration": 18,
    "start_time": "2023-02-19T12:40:48.009Z"
   },
   {
    "duration": 52,
    "start_time": "2023-02-19T12:40:48.029Z"
   },
   {
    "duration": 22,
    "start_time": "2023-02-19T12:40:48.083Z"
   },
   {
    "duration": 10,
    "start_time": "2023-02-19T12:40:48.107Z"
   },
   {
    "duration": 49,
    "start_time": "2023-02-19T12:40:48.119Z"
   },
   {
    "duration": 30,
    "start_time": "2023-02-19T12:40:48.170Z"
   },
   {
    "duration": 41,
    "start_time": "2023-02-19T12:40:48.202Z"
   },
   {
    "duration": 36,
    "start_time": "2023-02-19T12:40:48.244Z"
   },
   {
    "duration": 42,
    "start_time": "2023-02-19T12:40:48.282Z"
   },
   {
    "duration": 5,
    "start_time": "2023-02-19T12:40:48.325Z"
   },
   {
    "duration": 36,
    "start_time": "2023-02-19T12:40:48.331Z"
   },
   {
    "duration": 30,
    "start_time": "2023-02-19T12:40:48.368Z"
   },
   {
    "duration": 31,
    "start_time": "2023-02-19T12:41:35.382Z"
   },
   {
    "duration": 41,
    "start_time": "2023-02-19T12:42:22.396Z"
   },
   {
    "duration": 744,
    "start_time": "2023-02-19T12:42:22.438Z"
   },
   {
    "duration": 7,
    "start_time": "2023-02-19T12:42:23.184Z"
   },
   {
    "duration": 60,
    "start_time": "2023-02-19T12:42:23.193Z"
   },
   {
    "duration": 23,
    "start_time": "2023-02-19T12:42:23.255Z"
   },
   {
    "duration": 41,
    "start_time": "2023-02-19T12:42:23.280Z"
   },
   {
    "duration": 47,
    "start_time": "2023-02-19T12:42:23.323Z"
   },
   {
    "duration": 33,
    "start_time": "2023-02-19T12:42:23.372Z"
   },
   {
    "duration": 48,
    "start_time": "2023-02-19T12:42:23.407Z"
   },
   {
    "duration": 66,
    "start_time": "2023-02-19T12:42:23.457Z"
   },
   {
    "duration": 48,
    "start_time": "2023-02-19T12:42:23.525Z"
   },
   {
    "duration": 99,
    "start_time": "2023-02-19T12:42:23.575Z"
   },
   {
    "duration": 72,
    "start_time": "2023-02-19T12:42:23.676Z"
   },
   {
    "duration": 58,
    "start_time": "2023-02-19T12:42:23.750Z"
   },
   {
    "duration": 56,
    "start_time": "2023-02-19T12:42:23.810Z"
   },
   {
    "duration": 12,
    "start_time": "2023-02-19T12:42:23.867Z"
   },
   {
    "duration": 83,
    "start_time": "2023-02-19T12:42:23.881Z"
   },
   {
    "duration": 12,
    "start_time": "2023-02-19T12:42:23.965Z"
   },
   {
    "duration": 28,
    "start_time": "2023-02-19T12:42:23.979Z"
   },
   {
    "duration": 33,
    "start_time": "2023-02-19T12:42:24.009Z"
   },
   {
    "duration": 60,
    "start_time": "2023-02-19T12:42:24.043Z"
   },
   {
    "duration": 76,
    "start_time": "2023-02-19T12:42:24.106Z"
   },
   {
    "duration": 56,
    "start_time": "2023-02-19T12:42:24.184Z"
   },
   {
    "duration": 42,
    "start_time": "2023-02-19T12:42:24.242Z"
   },
   {
    "duration": 41,
    "start_time": "2023-02-19T12:42:24.286Z"
   },
   {
    "duration": 33,
    "start_time": "2023-02-19T12:42:24.329Z"
   },
   {
    "duration": 38,
    "start_time": "2023-02-19T12:42:24.364Z"
   },
   {
    "duration": 35,
    "start_time": "2023-02-19T12:42:24.404Z"
   },
   {
    "duration": 51,
    "start_time": "2023-02-19T12:42:24.441Z"
   },
   {
    "duration": 45,
    "start_time": "2023-02-19T12:42:24.494Z"
   },
   {
    "duration": 90,
    "start_time": "2023-02-19T12:42:24.543Z"
   },
   {
    "duration": 39,
    "start_time": "2023-02-19T12:42:24.635Z"
   },
   {
    "duration": 59,
    "start_time": "2023-02-19T12:42:24.676Z"
   },
   {
    "duration": 11,
    "start_time": "2023-02-19T12:42:24.737Z"
   },
   {
    "duration": 54,
    "start_time": "2023-02-19T12:42:24.750Z"
   },
   {
    "duration": 43,
    "start_time": "2023-02-19T12:42:24.806Z"
   },
   {
    "duration": 40,
    "start_time": "2023-02-19T12:42:24.850Z"
   },
   {
    "duration": 26,
    "start_time": "2023-02-19T12:42:24.892Z"
   },
   {
    "duration": 70,
    "start_time": "2023-02-19T12:42:46.015Z"
   },
   {
    "duration": 57,
    "start_time": "2023-02-19T12:43:02.673Z"
   },
   {
    "duration": 416,
    "start_time": "2023-02-19T12:43:13.860Z"
   },
   {
    "duration": 666,
    "start_time": "2023-02-19T12:43:14.278Z"
   },
   {
    "duration": 8,
    "start_time": "2023-02-19T12:43:14.946Z"
   },
   {
    "duration": 37,
    "start_time": "2023-02-19T12:43:14.956Z"
   },
   {
    "duration": 4,
    "start_time": "2023-02-19T12:43:14.995Z"
   },
   {
    "duration": 6,
    "start_time": "2023-02-19T12:43:15.001Z"
   },
   {
    "duration": 39,
    "start_time": "2023-02-19T12:43:15.008Z"
   },
   {
    "duration": 6,
    "start_time": "2023-02-19T12:43:15.049Z"
   },
   {
    "duration": 40,
    "start_time": "2023-02-19T12:43:15.056Z"
   },
   {
    "duration": 17,
    "start_time": "2023-02-19T12:43:15.097Z"
   },
   {
    "duration": 40,
    "start_time": "2023-02-19T12:43:15.116Z"
   },
   {
    "duration": 68,
    "start_time": "2023-02-19T12:43:15.157Z"
   },
   {
    "duration": 109,
    "start_time": "2023-02-19T12:43:15.227Z"
   },
   {
    "duration": 84,
    "start_time": "2023-02-19T12:43:15.341Z"
   },
   {
    "duration": 68,
    "start_time": "2023-02-19T12:43:15.427Z"
   },
   {
    "duration": 11,
    "start_time": "2023-02-19T12:43:15.498Z"
   },
   {
    "duration": 63,
    "start_time": "2023-02-19T12:43:15.511Z"
   },
   {
    "duration": 17,
    "start_time": "2023-02-19T12:43:15.576Z"
   },
   {
    "duration": 17,
    "start_time": "2023-02-19T12:43:15.595Z"
   },
   {
    "duration": 5,
    "start_time": "2023-02-19T12:43:15.614Z"
   },
   {
    "duration": 41,
    "start_time": "2023-02-19T12:43:15.621Z"
   },
   {
    "duration": 15,
    "start_time": "2023-02-19T12:43:15.664Z"
   },
   {
    "duration": 16,
    "start_time": "2023-02-19T12:43:15.681Z"
   },
   {
    "duration": 13,
    "start_time": "2023-02-19T12:43:15.699Z"
   },
   {
    "duration": 42,
    "start_time": "2023-02-19T12:43:15.714Z"
   },
   {
    "duration": 14,
    "start_time": "2023-02-19T12:43:15.758Z"
   },
   {
    "duration": 10,
    "start_time": "2023-02-19T12:43:15.774Z"
   },
   {
    "duration": 14,
    "start_time": "2023-02-19T12:43:15.785Z"
   },
   {
    "duration": 10,
    "start_time": "2023-02-19T12:43:15.800Z"
   },
   {
    "duration": 37,
    "start_time": "2023-02-19T12:43:15.812Z"
   },
   {
    "duration": 23,
    "start_time": "2023-02-19T12:43:15.850Z"
   },
   {
    "duration": 12,
    "start_time": "2023-02-19T12:43:15.874Z"
   },
   {
    "duration": 19,
    "start_time": "2023-02-19T12:43:15.888Z"
   },
   {
    "duration": 40,
    "start_time": "2023-02-19T12:43:15.909Z"
   },
   {
    "duration": 8,
    "start_time": "2023-02-19T12:43:15.951Z"
   },
   {
    "duration": 4,
    "start_time": "2023-02-19T12:43:15.961Z"
   },
   {
    "duration": 12,
    "start_time": "2023-02-19T12:43:15.967Z"
   },
   {
    "duration": 6,
    "start_time": "2023-02-19T12:43:15.981Z"
   },
   {
    "duration": 3,
    "start_time": "2023-05-02T17:07:32.541Z"
   },
   {
    "duration": 44,
    "start_time": "2023-05-02T17:11:39.161Z"
   },
   {
    "duration": 362,
    "start_time": "2023-05-02T17:11:50.528Z"
   },
   {
    "duration": 683,
    "start_time": "2023-05-02T17:11:50.892Z"
   },
   {
    "duration": 8,
    "start_time": "2023-05-02T17:11:51.577Z"
   },
   {
    "duration": 37,
    "start_time": "2023-05-02T17:11:51.586Z"
   },
   {
    "duration": 3,
    "start_time": "2023-05-02T17:11:51.625Z"
   },
   {
    "duration": 14,
    "start_time": "2023-05-02T17:11:51.629Z"
   },
   {
    "duration": 23,
    "start_time": "2023-05-02T17:11:51.644Z"
   },
   {
    "duration": 7,
    "start_time": "2023-05-02T17:11:51.669Z"
   },
   {
    "duration": 39,
    "start_time": "2023-05-02T17:11:51.678Z"
   },
   {
    "duration": 16,
    "start_time": "2023-05-02T17:11:51.718Z"
   },
   {
    "duration": 35,
    "start_time": "2023-05-02T17:11:51.736Z"
   },
   {
    "duration": 79,
    "start_time": "2023-05-02T17:11:51.772Z"
   },
   {
    "duration": 79,
    "start_time": "2023-05-02T17:11:51.852Z"
   },
   {
    "duration": 66,
    "start_time": "2023-05-02T17:11:51.934Z"
   },
   {
    "duration": 35,
    "start_time": "2023-05-02T17:11:52.002Z"
   },
   {
    "duration": 9,
    "start_time": "2023-05-02T17:11:52.039Z"
   },
   {
    "duration": 51,
    "start_time": "2023-05-02T17:11:52.049Z"
   },
   {
    "duration": 11,
    "start_time": "2023-05-02T17:11:52.102Z"
   },
   {
    "duration": 17,
    "start_time": "2023-05-02T17:11:52.114Z"
   },
   {
    "duration": 13,
    "start_time": "2023-05-02T17:11:52.132Z"
   },
   {
    "duration": 22,
    "start_time": "2023-05-02T17:11:52.147Z"
   },
   {
    "duration": 25,
    "start_time": "2023-05-02T17:11:52.171Z"
   },
   {
    "duration": 16,
    "start_time": "2023-05-02T17:11:52.198Z"
   },
   {
    "duration": 17,
    "start_time": "2023-05-02T17:11:52.215Z"
   },
   {
    "duration": 21,
    "start_time": "2023-05-02T17:11:52.234Z"
   },
   {
    "duration": 22,
    "start_time": "2023-05-02T17:11:52.256Z"
   },
   {
    "duration": 10,
    "start_time": "2023-05-02T17:11:52.291Z"
   },
   {
    "duration": 30,
    "start_time": "2023-05-02T17:11:52.302Z"
   },
   {
    "duration": 28,
    "start_time": "2023-05-02T17:11:52.334Z"
   },
   {
    "duration": 11,
    "start_time": "2023-05-02T17:11:52.364Z"
   },
   {
    "duration": 46,
    "start_time": "2023-05-02T17:11:52.377Z"
   },
   {
    "duration": 13,
    "start_time": "2023-05-02T17:11:52.425Z"
   },
   {
    "duration": 22,
    "start_time": "2023-05-02T17:11:52.440Z"
   },
   {
    "duration": 13,
    "start_time": "2023-05-02T17:11:52.464Z"
   },
   {
    "duration": 20,
    "start_time": "2023-05-02T17:11:52.478Z"
   },
   {
    "duration": 5,
    "start_time": "2023-05-02T17:11:52.500Z"
   },
   {
    "duration": 6,
    "start_time": "2023-05-02T17:11:52.507Z"
   },
   {
    "duration": 6,
    "start_time": "2023-05-02T17:11:52.515Z"
   },
   {
    "duration": 22,
    "start_time": "2023-05-02T17:12:44.339Z"
   },
   {
    "duration": 2,
    "start_time": "2023-05-02T17:13:03.707Z"
   },
   {
    "duration": 601,
    "start_time": "2023-05-02T17:13:03.711Z"
   },
   {
    "duration": 7,
    "start_time": "2023-05-02T17:13:04.314Z"
   },
   {
    "duration": 35,
    "start_time": "2023-05-02T17:13:04.322Z"
   },
   {
    "duration": 3,
    "start_time": "2023-05-02T17:13:04.359Z"
   },
   {
    "duration": 5,
    "start_time": "2023-05-02T17:13:04.363Z"
   },
   {
    "duration": 11,
    "start_time": "2023-05-02T17:13:04.369Z"
   },
   {
    "duration": 10,
    "start_time": "2023-05-02T17:13:04.382Z"
   },
   {
    "duration": 25,
    "start_time": "2023-05-02T17:13:04.393Z"
   },
   {
    "duration": 21,
    "start_time": "2023-05-02T17:13:04.420Z"
   },
   {
    "duration": 22,
    "start_time": "2023-05-02T17:13:04.442Z"
   },
   {
    "duration": 98,
    "start_time": "2023-05-02T17:13:04.466Z"
   },
   {
    "duration": 76,
    "start_time": "2023-05-02T17:13:04.565Z"
   },
   {
    "duration": 67,
    "start_time": "2023-05-02T17:13:04.644Z"
   },
   {
    "duration": 38,
    "start_time": "2023-05-02T17:13:04.713Z"
   },
   {
    "duration": 10,
    "start_time": "2023-05-02T17:13:04.753Z"
   },
   {
    "duration": 57,
    "start_time": "2023-05-02T17:13:04.765Z"
   },
   {
    "duration": 11,
    "start_time": "2023-05-02T17:13:04.824Z"
   },
   {
    "duration": 11,
    "start_time": "2023-05-02T17:13:04.837Z"
   },
   {
    "duration": 3,
    "start_time": "2023-05-02T17:13:04.849Z"
   },
   {
    "duration": 39,
    "start_time": "2023-05-02T17:13:04.854Z"
   },
   {
    "duration": 14,
    "start_time": "2023-05-02T17:13:04.895Z"
   },
   {
    "duration": 16,
    "start_time": "2023-05-02T17:13:04.910Z"
   },
   {
    "duration": 14,
    "start_time": "2023-05-02T17:13:04.927Z"
   },
   {
    "duration": 18,
    "start_time": "2023-05-02T17:13:04.942Z"
   },
   {
    "duration": 42,
    "start_time": "2023-05-02T17:13:04.961Z"
   },
   {
    "duration": 8,
    "start_time": "2023-05-02T17:13:05.005Z"
   },
   {
    "duration": 17,
    "start_time": "2023-05-02T17:13:05.015Z"
   },
   {
    "duration": 13,
    "start_time": "2023-05-02T17:13:05.034Z"
   },
   {
    "duration": 5,
    "start_time": "2023-05-02T17:13:05.049Z"
   },
   {
    "duration": 49,
    "start_time": "2023-05-02T17:13:05.056Z"
   },
   {
    "duration": 12,
    "start_time": "2023-05-02T17:13:05.108Z"
   },
   {
    "duration": 18,
    "start_time": "2023-05-02T17:13:05.122Z"
   },
   {
    "duration": 12,
    "start_time": "2023-05-02T17:13:05.142Z"
   },
   {
    "duration": 37,
    "start_time": "2023-05-02T17:13:05.156Z"
   },
   {
    "duration": 5,
    "start_time": "2023-05-02T17:13:05.195Z"
   },
   {
    "duration": 7,
    "start_time": "2023-05-02T17:13:05.202Z"
   },
   {
    "duration": 5,
    "start_time": "2023-05-02T17:13:05.210Z"
   },
   {
    "duration": 22,
    "start_time": "2023-05-02T17:13:25.836Z"
   },
   {
    "duration": 3,
    "start_time": "2023-05-02T17:13:33.641Z"
   },
   {
    "duration": 21,
    "start_time": "2023-05-02T17:13:35.900Z"
   },
   {
    "duration": 2,
    "start_time": "2023-05-02T17:13:49.957Z"
   },
   {
    "duration": 575,
    "start_time": "2023-05-02T17:13:49.961Z"
   },
   {
    "duration": 6,
    "start_time": "2023-05-02T17:13:50.538Z"
   },
   {
    "duration": 32,
    "start_time": "2023-05-02T17:13:50.546Z"
   },
   {
    "duration": 2,
    "start_time": "2023-05-02T17:13:50.580Z"
   },
   {
    "duration": 11,
    "start_time": "2023-05-02T17:13:50.583Z"
   },
   {
    "duration": 9,
    "start_time": "2023-05-02T17:13:50.596Z"
   },
   {
    "duration": 3,
    "start_time": "2023-05-02T17:13:50.607Z"
   },
   {
    "duration": 25,
    "start_time": "2023-05-02T17:13:50.611Z"
   },
   {
    "duration": 18,
    "start_time": "2023-05-02T17:13:50.638Z"
   },
   {
    "duration": 44,
    "start_time": "2023-05-02T17:13:50.658Z"
   },
   {
    "duration": 64,
    "start_time": "2023-05-02T17:13:50.704Z"
   },
   {
    "duration": 82,
    "start_time": "2023-05-02T17:13:50.770Z"
   },
   {
    "duration": 68,
    "start_time": "2023-05-02T17:13:50.854Z"
   },
   {
    "duration": 33,
    "start_time": "2023-05-02T17:13:50.924Z"
   },
   {
    "duration": 9,
    "start_time": "2023-05-02T17:13:50.959Z"
   },
   {
    "duration": 57,
    "start_time": "2023-05-02T17:13:50.969Z"
   },
   {
    "duration": 13,
    "start_time": "2023-05-02T17:13:51.027Z"
   },
   {
    "duration": 15,
    "start_time": "2023-05-02T17:13:51.042Z"
   },
   {
    "duration": 4,
    "start_time": "2023-05-02T17:13:51.059Z"
   },
   {
    "duration": 42,
    "start_time": "2023-05-02T17:13:51.064Z"
   },
   {
    "duration": 13,
    "start_time": "2023-05-02T17:13:51.108Z"
   },
   {
    "duration": 19,
    "start_time": "2023-05-02T17:13:51.123Z"
   },
   {
    "duration": 14,
    "start_time": "2023-05-02T17:13:51.144Z"
   },
   {
    "duration": 41,
    "start_time": "2023-05-02T17:13:51.160Z"
   },
   {
    "duration": 15,
    "start_time": "2023-05-02T17:13:51.202Z"
   },
   {
    "duration": 10,
    "start_time": "2023-05-02T17:13:51.219Z"
   },
   {
    "duration": 15,
    "start_time": "2023-05-02T17:13:51.232Z"
   },
   {
    "duration": 14,
    "start_time": "2023-05-02T17:13:51.248Z"
   },
   {
    "duration": 29,
    "start_time": "2023-05-02T17:13:51.264Z"
   },
   {
    "duration": 29,
    "start_time": "2023-05-02T17:13:51.294Z"
   },
   {
    "duration": 13,
    "start_time": "2023-05-02T17:13:51.324Z"
   },
   {
    "duration": 20,
    "start_time": "2023-05-02T17:13:51.338Z"
   },
   {
    "duration": 38,
    "start_time": "2023-05-02T17:13:51.360Z"
   },
   {
    "duration": 7,
    "start_time": "2023-05-02T17:13:51.400Z"
   },
   {
    "duration": 14,
    "start_time": "2023-05-02T17:13:51.409Z"
   },
   {
    "duration": 9,
    "start_time": "2023-05-02T17:13:51.425Z"
   },
   {
    "duration": 12,
    "start_time": "2023-05-02T17:13:51.435Z"
   },
   {
    "duration": 389,
    "start_time": "2023-08-01T07:58:57.171Z"
   },
   {
    "duration": 666,
    "start_time": "2023-08-01T07:58:57.562Z"
   },
   {
    "duration": 8,
    "start_time": "2023-08-01T07:58:58.230Z"
   },
   {
    "duration": 40,
    "start_time": "2023-08-01T07:58:58.240Z"
   },
   {
    "duration": 3,
    "start_time": "2023-08-01T07:58:58.282Z"
   },
   {
    "duration": 19,
    "start_time": "2023-08-01T07:58:58.286Z"
   },
   {
    "duration": 26,
    "start_time": "2023-08-01T07:58:58.306Z"
   },
   {
    "duration": 26,
    "start_time": "2023-08-01T07:58:58.333Z"
   },
   {
    "duration": 45,
    "start_time": "2023-08-01T07:58:58.361Z"
   },
   {
    "duration": 23,
    "start_time": "2023-08-01T07:58:58.408Z"
   },
   {
    "duration": 20,
    "start_time": "2023-08-01T07:58:58.432Z"
   },
   {
    "duration": 74,
    "start_time": "2023-08-01T07:58:58.454Z"
   },
   {
    "duration": 69,
    "start_time": "2023-08-01T07:58:58.529Z"
   },
   {
    "duration": 71,
    "start_time": "2023-08-01T07:58:58.599Z"
   },
   {
    "duration": 38,
    "start_time": "2023-08-01T07:58:58.671Z"
   },
   {
    "duration": 11,
    "start_time": "2023-08-01T07:58:58.720Z"
   },
   {
    "duration": 45,
    "start_time": "2023-08-01T07:58:58.733Z"
   },
   {
    "duration": 12,
    "start_time": "2023-08-01T07:58:58.779Z"
   },
   {
    "duration": 29,
    "start_time": "2023-08-01T07:58:58.792Z"
   },
   {
    "duration": 3,
    "start_time": "2023-08-01T07:58:58.822Z"
   },
   {
    "duration": 21,
    "start_time": "2023-08-01T07:58:58.826Z"
   },
   {
    "duration": 13,
    "start_time": "2023-08-01T07:58:58.849Z"
   },
   {
    "duration": 20,
    "start_time": "2023-08-01T07:58:58.863Z"
   },
   {
    "duration": 14,
    "start_time": "2023-08-01T07:58:58.884Z"
   },
   {
    "duration": 33,
    "start_time": "2023-08-01T07:58:58.900Z"
   },
   {
    "duration": 15,
    "start_time": "2023-08-01T07:58:58.934Z"
   },
   {
    "duration": 11,
    "start_time": "2023-08-01T07:58:58.950Z"
   },
   {
    "duration": 13,
    "start_time": "2023-08-01T07:58:58.964Z"
   },
   {
    "duration": 9,
    "start_time": "2023-08-01T07:58:58.979Z"
   },
   {
    "duration": 4,
    "start_time": "2023-08-01T07:58:58.990Z"
   },
   {
    "duration": 44,
    "start_time": "2023-08-01T07:58:58.995Z"
   },
   {
    "duration": 23,
    "start_time": "2023-08-01T07:58:59.040Z"
   },
   {
    "duration": 17,
    "start_time": "2023-08-01T07:58:59.064Z"
   },
   {
    "duration": 11,
    "start_time": "2023-08-01T07:58:59.082Z"
   },
   {
    "duration": 17,
    "start_time": "2023-08-01T07:58:59.094Z"
   },
   {
    "duration": 17,
    "start_time": "2023-08-01T07:58:59.113Z"
   },
   {
    "duration": 8,
    "start_time": "2023-08-01T07:58:59.132Z"
   },
   {
    "duration": 12,
    "start_time": "2023-08-01T07:58:59.141Z"
   },
   {
    "duration": 18,
    "start_time": "2023-08-01T07:59:40.348Z"
   },
   {
    "duration": 50,
    "start_time": "2023-11-08T06:46:22.181Z"
   },
   {
    "duration": 421,
    "start_time": "2023-11-08T06:46:38.231Z"
   },
   {
    "duration": 892,
    "start_time": "2023-11-08T06:46:38.654Z"
   },
   {
    "duration": 9,
    "start_time": "2023-11-08T06:46:39.548Z"
   },
   {
    "duration": 47,
    "start_time": "2023-11-08T06:46:39.559Z"
   },
   {
    "duration": 4,
    "start_time": "2023-11-08T06:46:39.609Z"
   },
   {
    "duration": 7,
    "start_time": "2023-11-08T06:46:39.615Z"
   },
   {
    "duration": 28,
    "start_time": "2023-11-08T06:46:39.624Z"
   },
   {
    "duration": 34,
    "start_time": "2023-11-08T06:46:39.654Z"
   },
   {
    "duration": 35,
    "start_time": "2023-11-08T06:46:39.690Z"
   },
   {
    "duration": 27,
    "start_time": "2023-11-08T06:46:39.726Z"
   },
   {
    "duration": 57,
    "start_time": "2023-11-08T06:46:39.755Z"
   },
   {
    "duration": 72,
    "start_time": "2023-11-08T06:46:39.813Z"
   },
   {
    "duration": 73,
    "start_time": "2023-11-08T06:46:39.902Z"
   },
   {
    "duration": 84,
    "start_time": "2023-11-08T06:46:39.979Z"
   },
   {
    "duration": 70,
    "start_time": "2023-11-08T06:46:40.065Z"
   },
   {
    "duration": 11,
    "start_time": "2023-11-08T06:46:40.136Z"
   },
   {
    "duration": 49,
    "start_time": "2023-11-08T06:46:40.149Z"
   },
   {
    "duration": 13,
    "start_time": "2023-11-08T06:46:40.199Z"
   },
   {
    "duration": 20,
    "start_time": "2023-11-08T06:46:40.214Z"
   },
   {
    "duration": 5,
    "start_time": "2023-11-08T06:46:40.236Z"
   },
   {
    "duration": 22,
    "start_time": "2023-11-08T06:46:40.243Z"
   },
   {
    "duration": 40,
    "start_time": "2023-11-08T06:46:40.267Z"
   },
   {
    "duration": 27,
    "start_time": "2023-11-08T06:46:40.309Z"
   },
   {
    "duration": 14,
    "start_time": "2023-11-08T06:46:40.337Z"
   },
   {
    "duration": 17,
    "start_time": "2023-11-08T06:46:40.353Z"
   },
   {
    "duration": 34,
    "start_time": "2023-11-08T06:46:40.372Z"
   },
   {
    "duration": 11,
    "start_time": "2023-11-08T06:46:40.408Z"
   },
   {
    "duration": 11,
    "start_time": "2023-11-08T06:46:40.420Z"
   },
   {
    "duration": 21,
    "start_time": "2023-11-08T06:46:40.433Z"
   },
   {
    "duration": 5,
    "start_time": "2023-11-08T06:46:40.456Z"
   },
   {
    "duration": 45,
    "start_time": "2023-11-08T06:46:40.463Z"
   },
   {
    "duration": 22,
    "start_time": "2023-11-08T06:46:40.511Z"
   },
   {
    "duration": 23,
    "start_time": "2023-11-08T06:46:40.535Z"
   },
   {
    "duration": 12,
    "start_time": "2023-11-08T06:46:40.560Z"
   },
   {
    "duration": 34,
    "start_time": "2023-11-08T06:46:40.574Z"
   },
   {
    "duration": 11,
    "start_time": "2023-11-08T06:46:40.610Z"
   },
   {
    "duration": 7,
    "start_time": "2023-11-08T06:46:40.623Z"
   },
   {
    "duration": 8,
    "start_time": "2023-11-08T06:46:40.632Z"
   },
   {
    "duration": 50,
    "start_time": "2023-11-08T06:51:19.683Z"
   },
   {
    "duration": 45,
    "start_time": "2023-11-08T06:51:26.501Z"
   }
  ],
  "colab": {
   "collapsed_sections": [
    "E0vqbgi9ay0H",
    "VUC88oWjTJw2"
   ],
   "provenance": []
  },
  "kernelspec": {
   "display_name": "Python 3 (ipykernel)",
   "language": "python",
   "name": "python3"
  },
  "language_info": {
   "codemirror_mode": {
    "name": "ipython",
    "version": 3
   },
   "file_extension": ".py",
   "mimetype": "text/x-python",
   "name": "python",
   "nbconvert_exporter": "python",
   "pygments_lexer": "ipython3",
   "version": "3.9.13"
  },
  "toc": {
   "base_numbering": 1,
   "nav_menu": {
    "height": "215px",
    "width": "403px"
   },
   "number_sections": true,
   "sideBar": true,
   "skip_h1_title": true,
   "title_cell": "Table of Contents",
   "title_sidebar": "Contents",
   "toc_cell": false,
   "toc_position": {
    "height": "calc(100% - 180px)",
    "left": "10px",
    "top": "150px",
    "width": "285.825px"
   },
   "toc_section_display": true,
   "toc_window_display": false
  }
 },
 "nbformat": 4,
 "nbformat_minor": 1
}
